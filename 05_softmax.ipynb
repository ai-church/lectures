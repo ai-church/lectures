{
 "cells": [
  {
   "cell_type": "code",
   "execution_count": 1,
   "metadata": {},
   "outputs": [
    {
     "name": "stdout",
     "output_type": "stream",
     "text": [
      "0.011656 0.031685 0.086129 0.234122 0.636409\n",
      "4.451941567662194\n"
     ]
    }
   ],
   "source": [
    "import math\n",
    "import matplotlib.pyplot as plt\n",
    "import numpy as np\n",
    "\n",
    "def softmax(values):\n",
    "    # e^x[i]/sum(e^x[j])\n",
    "    s = np.sum(np.exp(values))\n",
    "    return np.exp(values) / s\n",
    "\n",
    "data = np.array([1, 2, 3, 4, 5])\n",
    "print(\" \".join(map(lambda x: \"{:4f}\".format(x), softmax(data))))\n",
    "print(np.sum(data * softmax(data)))"
   ]
  },
  {
   "cell_type": "code",
   "execution_count": 2,
   "metadata": {},
   "outputs": [
    {
     "name": "stdout",
     "output_type": "stream",
     "text": [
      "0.017846 0.006565 0.974373 0.000889 0.000327\n",
      "-2.886954048382224\n"
     ]
    }
   ],
   "source": [
    "def softmin(values):\n",
    "    s = np.sum(np.exp(-values))\n",
    "    return np.exp(-values) / s\n",
    "\n",
    "data = np.array([1, 2, -3, 4, 5])\n",
    "print(\" \".join(map(lambda x: \"{:4f}\".format(x), softmin(data))))\n",
    "print(np.sum(data * softmin(data)))"
   ]
  },
  {
   "cell_type": "code",
   "execution_count": 3,
   "metadata": {},
   "outputs": [
    {
     "data": {
      "image/png": "[encoded data removed]",
      "text/plain": [
       "<Figure size 640x480 with 1 Axes>"
      ]
     },
     "metadata": {},
     "output_type": "display_data"
    }
   ],
   "source": [
    "args = []\n",
    "values = []\n",
    "# sigmoid: 1 / (1 + e^x)\n",
    "# softmax: e^x[i] / (sum(e^x[j])) = 1 / (sum(e^(x[j]-x[i])))\n",
    "for i in range(-100, 100):\n",
    "    args.append(i / 10)\n",
    "    data = np.array([1, 2, i / 10, 4, 5])\n",
    "    values.append(np.sum(data * softmax(data)))\n",
    "    # values.append(softmax(data)[2])\n",
    "#plt.plot(args)\n",
    "plt.plot(values)\n",
    "plt.show()"
   ]
  },
  {
   "cell_type": "code",
   "execution_count": 4,
   "metadata": {},
   "outputs": [
    {
     "name": "stdout",
     "output_type": "stream",
     "text": [
      "0.000 0.060 0.164 0.164 0.447 0.164\n",
      "[1.23887354 1.5071523  2.10399619]\n"
     ]
    }
   ],
   "source": [
    "scores = np.array([-5, 1, 2, 2, 3, 2])\n",
    "probs = softmax(scores)\n",
    "print(\" \".join(map(lambda x: \"{:.3f}\".format(x), probs)))\n",
    "values = np.array([\n",
    "    [1, 2, 3],\n",
    "    [3, 2, 1],\n",
    "    [0, 0, 0],\n",
    "    [-1, -1, -1],\n",
    "    [2, 2, 2],\n",
    "    [2, 4, 8],\n",
    "])\n",
    "avg = np.sum(values.T * probs, axis = 1)\n",
    "print(avg)"
   ]
  },
  {
   "cell_type": "code",
   "execution_count": null,
   "metadata": {},
   "outputs": [],
   "source": []
  }
 ],
 "metadata": {
  "kernelspec": {
   "display_name": "Python 3 (ipykernel)",
   "language": "python",
   "name": "python3"
  },
  "language_info": {
   "codemirror_mode": {
    "name": "ipython",
    "version": 3
   },
   "file_extension": ".py",
   "mimetype": "text/x-python",
   "name": "python",
   "nbconvert_exporter": "python",
   "pygments_lexer": "ipython3",
   "version": "3.10.12"
  }
 },
 "nbformat": 4,
 "nbformat_minor": 4
}
