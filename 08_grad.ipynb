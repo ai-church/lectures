{
 "cells": [
  {
   "cell_type": "code",
   "execution_count": 1,
   "metadata": {},
   "outputs": [],
   "source": [
    "import torch\n",
    "\n",
    "\"\"\"\n",
    " y = sum(a[i]*x[i])\n",
    " X - input signals, shape is (n, )\n",
    " y - output\n",
    " A - coefficients, shape is (n, )\n",
    "\"\"\"\n",
    "class Linear(torch.nn.Module):\n",
    "    def __init__(self, input_size):\n",
    "        super(Linear, self).__init__()\n",
    "        self.coeffs = torch.nn.Parameter(torch.rand(input_size, requires_grad = True))\n",
    "\n",
    "    def forward(self, x):\n",
    "        return torch.matmul(self.coeffs, x)"
   ]
  },
  {
   "cell_type": "code",
   "execution_count": 2,
   "metadata": {},
   "outputs": [
    {
     "data": {
      "text/plain": [
       "[Parameter containing:\n",
       " tensor([0.7297, 0.8068, 0.6318, 0.8962, 0.9281], requires_grad=True)]"
      ]
     },
     "execution_count": 2,
     "metadata": {},
     "output_type": "execute_result"
    }
   ],
   "source": [
    "model = Linear(5)\n",
    "\n",
    "list(model.parameters())"
   ]
  },
  {
   "cell_type": "code",
   "execution_count": 3,
   "metadata": {},
   "outputs": [
    {
     "data": {
      "text/plain": [
       "tensor(3.6492, grad_fn=<DotBackward0>)"
      ]
     },
     "execution_count": 3,
     "metadata": {},
     "output_type": "execute_result"
    }
   ],
   "source": [
    "\"\"\"\n",
    "   (f(x) - y)**2\n",
    "   L = dot(A, X)\n",
    "   if L > 0: A = -A => L => -L\n",
    "   if L < 0: A = 10 * A\n",
    "   \n",
    "   f(X) = a1*x1 + a2*x2 + ...\n",
    "   df/da = (x1, x2, ...)\n",
    "\"\"\"\n",
    "\n",
    "loss = model(torch.tensor([-0.1, 2.3, -1.5, 3.14, 0.0]))\n",
    "\n",
    "loss.backward()\n",
    "\n",
    "loss"
   ]
  },
  {
   "cell_type": "code",
   "execution_count": 4,
   "metadata": {},
   "outputs": [
    {
     "name": "stdout",
     "output_type": "stream",
     "text": [
      "Parameter containing:\n",
      "tensor([0.7297, 0.8068, 0.6318, 0.8962, 0.9281], requires_grad=True)\n",
      "tensor([-0.1000,  2.3000, -1.5000,  3.1400,  0.0000])\n"
     ]
    }
   ],
   "source": [
    "for param in model.parameters():\n",
    "    print(param)\n",
    "    print(param.grad)"
   ]
  },
  {
   "cell_type": "code",
   "execution_count": 5,
   "metadata": {},
   "outputs": [
    {
     "data": {
      "text/plain": [
       "1.2764520000000001"
      ]
     },
     "execution_count": 5,
     "metadata": {},
     "output_type": "execute_result"
    }
   ],
   "source": [
    "a = [0.0225, 0.0147, 0.8035, 0.7803, 0.2380]\n",
    "x = [-0.1, 2.3, -1.5, 3.14, 0.0]\n",
    "sum([a[i] * x[i] for i in range(len(a))])"
   ]
  },
  {
   "cell_type": "code",
   "execution_count": 7,
   "metadata": {},
   "outputs": [
    {
     "name": "stdout",
     "output_type": "stream",
     "text": [
      "-1737.31201171875\n",
      "-1754.7215576171875\n",
      "-1772.1312255859375\n",
      "-1789.541015625\n",
      "-1806.9505615234375\n",
      "-1824.3602294921875\n",
      "-1841.77001953125\n",
      "-1859.1795654296875\n",
      "-1876.589111328125\n",
      "-1893.998779296875\n",
      "-1911.408447265625\n",
      "-1928.8182373046875\n",
      "-1946.227783203125\n",
      "-1963.637451171875\n",
      "-1981.046875\n",
      "-1998.4566650390625\n",
      "-2015.8662109375\n",
      "-2033.27587890625\n",
      "-2050.685546875\n",
      "-2068.094970703125\n",
      "-2085.5048828125\n",
      "-2102.914306640625\n",
      "-2120.323974609375\n",
      "-2137.733642578125\n",
      "-2155.143310546875\n",
      "-2172.552734375\n",
      "-2189.96240234375\n",
      "-2207.3720703125\n",
      "-2224.78173828125\n",
      "-2242.19140625\n",
      "-2259.60107421875\n",
      "-2277.010498046875\n",
      "-2294.420166015625\n",
      "-2311.829833984375\n",
      "-2329.2392578125\n",
      "-2346.64892578125\n",
      "-2364.05859375\n",
      "-2381.46826171875\n",
      "-2398.8779296875\n",
      "-2416.28759765625\n",
      "-2433.697021484375\n",
      "-2451.106689453125\n",
      "-2468.516357421875\n",
      "-2485.926025390625\n",
      "-2503.33544921875\n",
      "-2520.7451171875\n",
      "-2538.15478515625\n",
      "-2555.564453125\n",
      "-2572.97412109375\n",
      "-2590.3837890625\n",
      "-2607.793212890625\n",
      "-2625.202880859375\n",
      "-2642.612548828125\n",
      "-2660.022216796875\n",
      "-2677.431640625\n",
      "-2694.84130859375\n",
      "-2712.2509765625\n",
      "-2729.66064453125\n",
      "-2747.0703125\n",
      "-2764.479736328125\n",
      "-2781.8896484375\n",
      "-2799.299072265625\n",
      "-2816.708740234375\n",
      "-2834.1181640625\n",
      "-2851.52783203125\n",
      "-2868.9375\n",
      "-2886.34716796875\n",
      "-2903.756591796875\n",
      "-2921.16650390625\n",
      "-2938.575927734375\n",
      "-2955.9853515625\n",
      "-2973.39501953125\n",
      "-2990.804931640625\n",
      "-3008.21435546875\n",
      "-3025.6240234375\n",
      "-3043.03369140625\n",
      "-3060.443115234375\n",
      "-3077.85302734375\n",
      "-3095.262451171875\n",
      "-3112.67236328125\n",
      "-3130.08154296875\n",
      "-3147.491455078125\n",
      "-3164.90087890625\n",
      "-3182.310546875\n",
      "-3199.72021484375\n",
      "-3217.1298828125\n",
      "-3234.53955078125\n",
      "-3251.948974609375\n",
      "-3269.35888671875\n",
      "-3286.76806640625\n",
      "-3304.177978515625\n",
      "-3321.587646484375\n",
      "-3338.9970703125\n",
      "-3356.40673828125\n",
      "-3373.81640625\n",
      "-3391.22607421875\n",
      "-3408.635498046875\n",
      "-3426.04541015625\n",
      "-3443.45458984375\n",
      "-3460.864501953125\n",
      "Parameter containing:\n",
      "tensor([  20.7297, -459.1923,  300.6318, -627.1054,    0.9281],\n",
      "       requires_grad=True)\n",
      "tensor([-0.1000,  2.3000, -1.5000,  3.1400,  0.0000])\n"
     ]
    }
   ],
   "source": [
    "for _ in range(100):\n",
    "    model.zero_grad()\n",
    "    loss = model(torch.tensor([-0.1, 2.3, -1.5, 3.14, 0.0]))\n",
    "    print(loss.item())\n",
    "    loss.backward()\n",
    "    for param in model.parameters():\n",
    "        param.data -= param.grad\n",
    "for param in model.parameters():\n",
    "    print(param)\n",
    "    print(param.grad)"
   ]
  },
  {
   "cell_type": "code",
   "execution_count": null,
   "metadata": {},
   "outputs": [],
   "source": []
  }
 ],
 "metadata": {
  "kernelspec": {
   "display_name": "Python 3",
   "language": "python",
   "name": "python3"
  },
  "language_info": {
   "codemirror_mode": {
    "name": "ipython",
    "version": 3
   },
   "file_extension": ".py",
   "mimetype": "text/x-python",
   "name": "python",
   "nbconvert_exporter": "python",
   "pygments_lexer": "ipython3",
   "version": "3.8.10"
  }
 },
 "nbformat": 4,
 "nbformat_minor": 5
}
