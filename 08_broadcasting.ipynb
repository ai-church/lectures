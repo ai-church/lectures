{
 "cells": [
  {
   "cell_type": "code",
   "execution_count": 6,
   "metadata": {},
   "outputs": [
    {
     "name": "stdout",
     "output_type": "stream",
     "text": [
      "tensor([[[ 1.,  2.],\n",
      "         [ 2.,  1.]],\n",
      "\n",
      "        [[ 1.,  0.],\n",
      "         [ 0.,  1.]],\n",
      "\n",
      "        [[ 1., -1.],\n",
      "         [ 2., -1.]]])\n",
      "torch.Size([3, 2, 2])\n",
      "\n",
      "tensor([[1., 2.],\n",
      "        [2., 1.]])\n",
      "torch.Size([2, 2])\n"
     ]
    }
   ],
   "source": [
    "import torch\n",
    "\n",
    "a = torch.tensor([\n",
    "    [[1, 2], [2, 1]],\n",
    "    [[1, 0], [0, 1]],\n",
    "    [[1, -1], [2, -1]],\n",
    "], dtype = torch.float32)\n",
    "\n",
    "b = torch.tensor(\n",
    "    [[1, 2], [2, 1]],\n",
    "    dtype = torch.float32\n",
    ")\n",
    "\n",
    "print(a)\n",
    "print(a.shape)\n",
    "print(\"\")\n",
    "\n",
    "print(b)\n",
    "print(b.shape)"
   ]
  },
  {
   "cell_type": "code",
   "execution_count": 7,
   "metadata": {},
   "outputs": [
    {
     "data": {
      "text/plain": [
       "tensor([[5., 4.],\n",
       "        [4., 5.]])"
      ]
     },
     "execution_count": 7,
     "metadata": {},
     "output_type": "execute_result"
    }
   ],
   "source": [
    "a[0] @ b"
   ]
  },
  {
   "cell_type": "code",
   "execution_count": 9,
   "metadata": {},
   "outputs": [
    {
     "data": {
      "text/plain": [
       "tensor([[-1.,  1.],\n",
       "        [ 0.,  3.]])"
      ]
     },
     "execution_count": 9,
     "metadata": {},
     "output_type": "execute_result"
    }
   ],
   "source": [
    "torch.matmul(a[2], b)"
   ]
  },
  {
   "cell_type": "code",
   "execution_count": 10,
   "metadata": {},
   "outputs": [
    {
     "data": {
      "text/plain": [
       "tensor([[[ 5.,  4.],\n",
       "         [ 4.,  5.]],\n",
       "\n",
       "        [[ 1.,  2.],\n",
       "         [ 2.,  1.]],\n",
       "\n",
       "        [[-1.,  1.],\n",
       "         [ 0.,  3.]]])"
      ]
     },
     "execution_count": 10,
     "metadata": {},
     "output_type": "execute_result"
    }
   ],
   "source": [
    "a @ b"
   ]
  },
  {
   "cell_type": "code",
   "execution_count": null,
   "metadata": {},
   "outputs": [],
   "source": []
  }
 ],
 "metadata": {
  "kernelspec": {
   "display_name": "Python 3",
   "language": "python",
   "name": "python3"
  },
  "language_info": {
   "codemirror_mode": {
    "name": "ipython",
    "version": 3
   },
   "file_extension": ".py",
   "mimetype": "text/x-python",
   "name": "python",
   "nbconvert_exporter": "python",
   "pygments_lexer": "ipython3",
   "version": "3.8.10"
  }
 },
 "nbformat": 4,
 "nbformat_minor": 5
}
