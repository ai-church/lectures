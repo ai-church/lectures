{
 "cells": [
  {
   "cell_type": "code",
   "execution_count": 1,
   "metadata": {},
   "outputs": [],
   "source": [
    "import math\n",
    "import matplotlib.pyplot as plt\n",
    "import numpy as np"
   ]
  },
  {
   "cell_type": "code",
   "execution_count": 2,
   "metadata": {},
   "outputs": [
    {
     "name": "stdout",
     "output_type": "stream",
     "text": [
      "[0.01165623 0.03168492 0.08612854 0.23412166 0.63640865]\n",
      "4.451941567662194\n"
     ]
    }
   ],
   "source": [
    "def softmax(values):\n",
    "    s = np.sum(np.exp(values))\n",
    "    return np.exp(values) / s\n",
    "\n",
    "data = np.array([1, 2, 3, 4, 5])\n",
    "print(softmax(data))\n",
    "print(np.sum(data * softmax(data)))"
   ]
  },
  {
   "cell_type": "code",
   "execution_count": 3,
   "metadata": {},
   "outputs": [
    {
     "name": "stdout",
     "output_type": "stream",
     "text": [
      "[4. 9.]\n",
      "0.007 0.993\n",
      "[1.48326787 1.51003928 2.47657502]\n",
      "\n",
      "[10. -6.]\n",
      "1.000 0.000\n",
      "[-0.99999972  2.99999983 -0.99999961]\n"
     ]
    }
   ],
   "source": [
    "def attention(query, keys, values):\n",
    "    scores = query * keys    # per-component multiplication\n",
    "    #print(query.shape)\n",
    "    #print(keys.shape)\n",
    "    #print(scores)\n",
    "    scores = np.sum(scores, axis = 1)   # dot product\n",
    "    #print(scores.shape)\n",
    "    print(scores)\n",
    "    probs = softmax(scores)\n",
    "    print(\" \".join(map(lambda x: \"{:.3f}\".format(x), probs)))\n",
    "    result = (values.T * probs).T\n",
    "    #print(result)\n",
    "    return np.sum(result, axis = 0)\n",
    "\n",
    "print(attention(\n",
    "    np.array([-1, 2, 3]),\n",
    "    np.array([\n",
    "        [-1, 3, -1],\n",
    "        [1.5, 1.5, 2.5],\n",
    "    ]),\n",
    "    np.array([\n",
    "        [-1, 3, -1],\n",
    "        [1.5, 1.5, 2.5]\n",
    "    ])\n",
    "))\n",
    "print(\"\")\n",
    "print(attention(\n",
    "    np.array([-1, 2, -3]),\n",
    "    np.array([\n",
    "        [-1, 3, -1],\n",
    "        [1.5, 1.5, 2.5],\n",
    "    ]),\n",
    "    np.array([\n",
    "        [-1, 3, -1],\n",
    "        [1.5, 1.5, 2.5]\n",
    "    ])\n",
    "))\n"
   ]
  },
  {
   "cell_type": "code",
   "execution_count": null,
   "metadata": {},
   "outputs": [],
   "source": []
  }
 ],
 "metadata": {
  "kernelspec": {
   "display_name": "Python 3 (ipykernel)",
   "language": "python",
   "name": "python3"
  },
  "language_info": {
   "codemirror_mode": {
    "name": "ipython",
    "version": 3
   },
   "file_extension": ".py",
   "mimetype": "text/x-python",
   "name": "python",
   "nbconvert_exporter": "python",
   "pygments_lexer": "ipython3",
   "version": "3.10.12"
  }
 },
 "nbformat": 4,
 "nbformat_minor": 4
}
