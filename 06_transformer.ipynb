{
 "cells": [
  {
   "cell_type": "code",
   "execution_count": 1,
   "metadata": {},
   "outputs": [],
   "source": [
    "import math\n",
    "import torch\n",
    "\n",
    "device = torch.device(\"cuda\")\n",
    "\n",
    "max_seq_len = 64\n"
   ]
  },
  {
   "cell_type": "code",
   "execution_count": 2,
   "metadata": {},
   "outputs": [],
   "source": [
    "class Embedding(torch.nn.Module):\n",
    "    def __init__(self, vocab_size, embed_dim):\n",
    "        super(Embedding, self).__init__()\n",
    "        self.embed = nn.Embedding(vocab_size, embed_dim)\n",
    "    def forward(self, x):\n",
    "        out = self.embed(x)\n",
    "        return out"
   ]
  },
  {
   "cell_type": "code",
   "execution_count": 3,
   "metadata": {},
   "outputs": [],
   "source": [
    "class PositionalEncoding(torch.nn.Module):\n",
    "    def __init__(self, embed_dim, max_seq_len):\n",
    "        super(PositionalEncoding, self).__init__()\n",
    "        self.embed_dim = embed_dim\n",
    "        pe = torch.zeros(max_seq_len, self.embed_dim)\n",
    "        for pos in range(max_seq_len):\n",
    "            for i in range(0, self.embed_dim, 2):\n",
    "                pe[pos, i] = math.sin(pos / (10000 ** (2 * i / self.embed_dim)))\n",
    "                pe[pos, i + 1] = math.cos(pos / (10000 ** (2 * (i + 1) / self.embed_dim)))\n",
    "        pe = pe.unsqueeze(0)\n",
    "        self.register_buffer('pe', pe)       # pre-calculate and freeze\n",
    "\n",
    "    def forward(self, x):\n",
    "        seq_len = x.size(1)\n",
    "        return x * math.sqrt(self.embed_dim) + torch.autograd.Variable(self.pe[:,:seq_len], requires_grad=False)\n",
    "        # return x + torch.autograd.Variable(self.pe[:,:seq_len], requires_grad=False)"
   ]
  },
  {
   "cell_type": "code",
   "execution_count": 4,
   "metadata": {},
   "outputs": [],
   "source": [
    "class MultiHeadAttention(torch.nn.Module):\n",
    "    def __init__(self, embed_dim, num_heads):\n",
    "        super(MultiHeadAttention, self).__init__()\n",
    "        self.embed_dim = embed_dim\n",
    "        self.num_heads = num_heads\n",
    "        self.single_head_dim = self.embed_dim // self.num_heads   # 512 / 8 = 64, every head takes its part of the input\n",
    "        self.query_matrix = torch.nn.Linear(self.embed_dim, self.embed_dim, bias=False)  # a big matrix for the whole input\n",
    "        self.key_matrix = torch.nn.Linear(self.embed_dim, self.embed_dim, bias=False)    # we will split the heads later on\n",
    "        self.value_matrix = torch.nn.Linear(self.embed_dim, self.embed_dim, bias=False)\n",
    "        self.mixer = torch.nn.Linear(self.embed_dim, self.embed_dim)\n",
    "\n",
    "    def scaled_dot_product_attention(self, Q, K, V, mask=None):\n",
    "        # Q, K, V shapes are (batch x length x single_head_dim) == (32 x 10 x 64)\n",
    "        scores = torch.matmul(Q, K.transpose(-2, -1)) / math.sqrt(self.single_head_dim)\n",
    "        # scores shape is (batch x length x length) == (32 x 10 x 10)\n",
    "        if mask is not None:\n",
    "            scores = scores.masked_fill(mask == False, -1e9)    # put large negative numbers to positions where mask == False\n",
    "        probs = torch.softmax(scores, dim=-1)                   # transform scores to probabilities (B x L x L)\n",
    "                                                                # for each sample in the batch tell how ith token is important to jth token\n",
    "        return torch.matmul(probs, V)                           # re-weigh values according to the probabilities\n",
    "\n",
    "    def split_heads(self, x):\n",
    "        batch_size, seq_length, embed_dim = x.size()            # B x L x D\n",
    "        assert self.embed_dim == embed_dim\n",
    "        return x.view(                                          # B x L x H x d\n",
    "            batch_size,\n",
    "            seq_length,\n",
    "            self.num_heads,\n",
    "            self.single_head_dim,\n",
    "        ).transpose(1, 2)                                       # B x H x L x d\n",
    "        \n",
    "    def combine_heads(self, x):\n",
    "        batch_size, num_heads, seq_length, single_head_dim = x.size()\n",
    "        assert self.num_heads == num_heads\n",
    "        assert self.single_head_dim == single_head_dim\n",
    "        # B x H x L x d   => \n",
    "        # B x L x H x d   =>\n",
    "        # B x L x D\n",
    "        return x.transpose(1, 2).contiguous().view(batch_size, seq_length, self.embed_dim)\n",
    "        \n",
    "    def forward(self, Q, K, V, mask=None):\n",
    "        Q = self.split_heads(self.query_matrix(Q))\n",
    "        K = self.split_heads(self.key_matrix(K))\n",
    "        V = self.split_heads(self.value_matrix(V))        \n",
    "        attn_output = self.scaled_dot_product_attention(Q, K, V, mask)\n",
    "        return self.mixer(self.combine_heads(attn_output))"
   ]
  },
  {
   "cell_type": "code",
   "execution_count": 5,
   "metadata": {},
   "outputs": [],
   "source": [
    "class FeedForward(torch.nn.Module):\n",
    "    def __init__(self, embed_dim, expansion):\n",
    "        super(FeedForward, self).__init__()\n",
    "        self.fc1 = torch.nn.Linear(embed_dim, embed_dim * expansion)\n",
    "        self.fc2 = torch.nn.Linear(embed_dim * expansion, embed_dim)\n",
    "        self.relu = torch.nn.ReLU()\n",
    "\n",
    "    def forward(self, x):\n",
    "        # expand => non-linearity => shrink\n",
    "        return self.fc2(self.relu(self.fc1(x)))"
   ]
  },
  {
   "cell_type": "code",
   "execution_count": 6,
   "metadata": {},
   "outputs": [],
   "source": [
    "class EncoderLayer(torch.nn.Module):\n",
    "    def __init__(self, embed_dim, num_heads, expansion, dropout):\n",
    "        super(EncoderLayer, self).__init__()\n",
    "        self.self_attn = MultiHeadAttention(embed_dim, num_heads)\n",
    "        self.feed_forward = FeedForward(embed_dim, expansion)\n",
    "        self.norm1 = torch.nn.LayerNorm(embed_dim)\n",
    "        self.norm2 = torch.nn.LayerNorm(embed_dim)\n",
    "        self.dropout = torch.nn.Dropout(dropout)\n",
    "\n",
    "    def forward(self, x, mask):\n",
    "        # (attention => droupout) + residual => norm\n",
    "        x = self.norm1(x + self.dropout(self.self_attn(x, x, x, mask)))\n",
    "        # (MLP => dropout) + residual => norm\n",
    "        return self.norm2(x + self.dropout(self.feed_forward(x)))"
   ]
  },
  {
   "cell_type": "code",
   "execution_count": 7,
   "metadata": {},
   "outputs": [],
   "source": [
    "class DecoderLayer(torch.nn.Module):\n",
    "    def __init__(self, embed_dim, num_heads, expansion, dropout):\n",
    "        super(DecoderLayer, self).__init__()\n",
    "        self.self_attn = MultiHeadAttention(embed_dim, num_heads)\n",
    "        self.cross_attn = MultiHeadAttention(embed_dim, num_heads)\n",
    "        self.feed_forward = FeedForward(embed_dim, expansion)\n",
    "        self.norm1 = torch.nn.LayerNorm(embed_dim)\n",
    "        self.norm2 = torch.nn.LayerNorm(embed_dim)\n",
    "        self.norm3 = torch.nn.LayerNorm(embed_dim)\n",
    "        self.dropout = torch.nn.Dropout(dropout)\n",
    "\n",
    "    def forward(self, x, encoder_output, src_mask, tgt_mask):\n",
    "        # self attention (decoder x decoder)\n",
    "        x = self.norm1(x + self.dropout(self.self_attn(x, x, x, tgt_mask)))\n",
    "        # cross attention (decoder x encoder), note that queries are from decoder, keys and values - from encoder\n",
    "        x = self.norm2(x + self.dropout(self.cross_attn(x, encoder_output, encoder_output, src_mask)))\n",
    "        # MLP + dropout + residual + norm\n",
    "        return self.norm3(x + self.dropout(self.feed_forward(x)))"
   ]
  },
  {
   "cell_type": "code",
   "execution_count": 8,
   "metadata": {},
   "outputs": [],
   "source": [
    "class EncoderDecoder(torch.nn.Module):\n",
    "    def __init__(self, vocab_size, embed_dim, num_heads, num_layers, expansion, max_seq_length, dropout):\n",
    "        super(EncoderDecoder, self).__init__()\n",
    "        # we could split encoder and decoder embeddings\n",
    "        self.embedding = torch.nn.Embedding(vocab_size, embed_dim)\n",
    "        self.positional_encoding = PositionalEncoding(embed_dim, max_seq_length)\n",
    "        self.encoder_layers = torch.nn.ModuleList([EncoderLayer(embed_dim, num_heads, expansion, dropout) for _ in range(num_layers)])\n",
    "        self.decoder_layers = torch.nn.ModuleList([DecoderLayer(embed_dim, num_heads, expansion, dropout) for _ in range(num_layers)])\n",
    "        self.fc = torch.nn.Linear(embed_dim, vocab_size)\n",
    "        self.dropout = torch.nn.Dropout(dropout)\n",
    "\n",
    "    def generate_mask(self, src, tgt):\n",
    "        src_mask = (src != 0).unsqueeze(1).unsqueeze(2)\n",
    "        tgt_mask = (tgt != 0).unsqueeze(1).unsqueeze(3)\n",
    "        seq_length = tgt.size(1)\n",
    "        nopeak_mask = (1 - torch.triu(torch.ones(1, seq_length, seq_length), diagonal=1)).bool()\n",
    "        tgt_mask = tgt_mask & nopeak_mask\n",
    "        return src_mask, tgt_mask\n",
    "\n",
    "    def forward(self, src, tgt):\n",
    "        src_mask, tgt_mask = self.generate_mask(src, tgt)\n",
    "        src_embedded = self.dropout(self.positional_encoding(self.embedding(src)))\n",
    "        tgt_embedded = self.dropout(self.positional_encoding(self.embedding(tgt)))\n",
    "        enc_output = src_embedded\n",
    "        for enc_layer in self.encoder_layers:\n",
    "            enc_output = enc_layer(enc_output, src_mask)\n",
    "        dec_output = tgt_embedded\n",
    "        for dec_layer in self.decoder_layers:\n",
    "            dec_output = dec_layer(dec_output, enc_output, src_mask, tgt_mask)\n",
    "        output = self.fc(dec_output)\n",
    "        return output"
   ]
  },
  {
   "cell_type": "code",
   "execution_count": 9,
   "metadata": {},
   "outputs": [],
   "source": [
    "class Encoder(torch.nn.Module):\n",
    "    def __init__(self, vocab_size, embed_dim, num_heads, num_layers, expansion, max_seq_length, dropout):\n",
    "        super(Encoder, self).__init__()\n",
    "        self.embedding = torch.nn.Embedding(vocab_size, embed_dim)\n",
    "        self.positional_encoding = PositionalEncoding(embed_dim, max_seq_length)\n",
    "        self.layers = torch.nn.ModuleList([EncoderLayer(embed_dim, num_heads, expansion, dropout) for _ in range(num_layers)])\n",
    "        self.fc = torch.nn.Linear(embed_dim, vocab_size)\n",
    "        self.dropout = torch.nn.Dropout(dropout)\n",
    "\n",
    "    def generate_mask(self, src):\n",
    "        mask = (src != 0).unsqueeze(1).unsqueeze(3)\n",
    "        seq_length = src.size(1)\n",
    "        nopeak_mask = (1 - torch.triu(torch.ones(1, seq_length, seq_length), diagonal=1)).bool().to(src.device)\n",
    "        mask = mask & nopeak_mask\n",
    "        return mask\n",
    "\n",
    "    def forward(self, src):\n",
    "        mask = self.generate_mask(src)\n",
    "        embedded = self.dropout(self.positional_encoding(self.embedding(src)))\n",
    "        for layer in self.layers:\n",
    "            embedded = layer(embedded, mask)\n",
    "        return self.fc(embedded)"
   ]
  },
  {
   "cell_type": "code",
   "execution_count": 10,
   "metadata": {},
   "outputs": [
    {
     "name": "stdout",
     "output_type": "stream",
     "text": [
      "5458199\n"
     ]
    }
   ],
   "source": [
    "import requests\n",
    "\n",
    "all_shakespeare = requests.get(\"https://ocw.mit.edu/ans7870/6/6.006/s08/lecturenotes/files/t8.shakespeare.txt\").content.decode()\n",
    "print(len(all_shakespeare))"
   ]
  },
  {
   "cell_type": "code",
   "execution_count": 11,
   "metadata": {},
   "outputs": [
    {
     "name": "stdout",
     "output_type": "stream",
     "text": [
      "['<empty>', '<start>', '<end>', 'E', 'T', '3', ':', 'i', 'V', '@', 'G', 'C', 'k', '1', '5', '_', '9', '2', 'q', ',', '~', 'r', '}', 'w', \"'\", 'n', 'o', 'd', 'h', 'u', 'W', 'S', 'z', 's', 'b', 'x', '7', 'Y', '8', '&', '4', '\\n', '.', 'R', '=', 'M', 'O', ';', 'Q', 'K', 'p', 'P', '[', 'J', 'X', ']', 'D', '%', 'g', '*', 'a', '!', ' ', 'v', 'I', 'H', ')', '/', 'N', 'F', '(', '\"', '>', 'B', '`', 'e', 'L', '|', 'y', 't', '?', 'l', '#', 'm', '-', '<', 'c', '6', 'A', '0', 'Z', 'j', 'U', 'f']\n",
      "94\n",
      "{'<empty>': 0, '<start>': 1, '<end>': 2, 'E': 3, 'T': 4, '3': 5, ':': 6, 'i': 7, 'V': 8, '@': 9, 'G': 10, 'C': 11, 'k': 12, '1': 13, '5': 14, '_': 15, '9': 16, '2': 17, 'q': 18, ',': 19, '~': 20, 'r': 21, '}': 22, 'w': 23, \"'\": 24, 'n': 25, 'o': 26, 'd': 27, 'h': 28, 'u': 29, 'W': 30, 'S': 31, 'z': 32, 's': 33, 'b': 34, 'x': 35, '7': 36, 'Y': 37, '8': 38, '&': 39, '4': 40, '\\n': 41, '.': 42, 'R': 43, '=': 44, 'M': 45, 'O': 46, ';': 47, 'Q': 48, 'K': 49, 'p': 50, 'P': 51, '[': 52, 'J': 53, 'X': 54, ']': 55, 'D': 56, '%': 57, 'g': 58, '*': 59, 'a': 60, '!': 61, ' ': 62, 'v': 63, 'I': 64, 'H': 65, ')': 66, '/': 67, 'N': 68, 'F': 69, '(': 70, '\"': 71, '>': 72, 'B': 73, '`': 74, 'e': 75, 'L': 76, '|': 77, 'y': 78, 't': 79, '?': 80, 'l': 81, '#': 82, 'm': 83, '-': 84, '<': 85, 'c': 86, '6': 87, 'A': 88, '0': 89, 'Z': 90, 'j': 91, 'U': 92, 'f': 93}\n"
     ]
    }
   ],
   "source": [
    "dictionary = [\"<empty>\", \"<start>\", \"<end>\"] + list(set(all_shakespeare))\n",
    "print(dictionary)\n",
    "print(len(dictionary))\n",
    "\n",
    "sym2idx = {s: i for i, s in enumerate(dictionary)}\n",
    "print(sym2idx)"
   ]
  },
  {
   "cell_type": "code",
   "execution_count": 21,
   "metadata": {},
   "outputs": [
    {
     "name": "stdout",
     "output_type": "stream",
     "text": [
      "85285\n",
      "To your notorious shame, I doubt it not.\n",
      "\n",
      "Enter DROMIO OF SYRAC\n",
      "63\n"
     ]
    }
   ],
   "source": [
    "import random\n",
    "\n",
    "random.seed(42)\n",
    "\n",
    "#data = all_shakespeare.split(\"\\n\\n\")\n",
    "#data = list(filter(lambda x: x and len(x) < max_seq_len, data))\n",
    "data = [all_shakespeare[i:i+max_seq_len-1] for i in range(0, len(all_shakespeare), max_seq_len)]\n",
    "random.shuffle(data)\n",
    "\n",
    "print(len(data))\n",
    "print(data[77])\n",
    "print(len(data[77]))"
   ]
  },
  {
   "cell_type": "code",
   "execution_count": 22,
   "metadata": {},
   "outputs": [
    {
     "name": "stdout",
     "output_type": "stream",
     "text": [
      " both together heav'd it up,\n",
      "    We'll both together lift our h\n",
      "\n",
      "salute him\n",
      "\n",
      "    A noble company! What are their pleasures?\n",
      "  CH\n"
     ]
    }
   ],
   "source": [
    "train = [data[i] for i in range(len(data)) if i % 10 != 0]\n",
    "test = [data[i] for i in range(len(data)) if i % 10 == 0]\n",
    "\n",
    "print(train[-5])\n",
    "print(\"\")\n",
    "print(test[-5])"
   ]
  },
  {
   "cell_type": "code",
   "execution_count": 14,
   "metadata": {},
   "outputs": [
    {
     "name": "stdout",
     "output_type": "stream",
     "text": [
      "tensor([[[[ True, False, False, False],\n",
      "          [ True,  True, False, False],\n",
      "          [ True,  True,  True, False],\n",
      "          [False, False, False, False]]]], device='cuda:0')\n",
      "tensor([[[-4.7771e-02, -1.0139e-01,  3.9088e-01,  6.6767e-01, -2.5008e-01,\n",
      "          -5.6773e-01, -1.6827e-01, -6.5045e-01,  5.5517e-01, -1.2870e+00,\n",
      "          -2.0378e-01,  5.4880e-01,  6.9846e-01, -3.9289e-01,  4.4247e-01,\n",
      "           4.5020e-01,  2.6853e-01,  3.3169e-01, -5.7996e-02, -6.6322e-01,\n",
      "          -7.0037e-01,  4.0585e-01,  1.7010e-01,  5.2062e-01,  7.3737e-01,\n",
      "           8.5361e-01, -5.3801e-01, -4.9464e-01,  1.2551e+00,  3.8749e-01,\n",
      "          -1.0649e+00, -3.5916e-01,  1.0817e+00,  1.8224e-01,  3.9105e-01,\n",
      "           2.1165e-01, -3.0529e-01, -2.1779e-01,  3.7116e-01,  4.9036e-01,\n",
      "           4.2909e-01,  7.3040e-01, -2.9938e-01, -2.5974e-01,  4.5589e-01,\n",
      "           1.8367e-03, -3.7199e-01,  4.1847e-01, -7.7762e-01,  6.7050e-02,\n",
      "           5.8118e-01,  4.2610e-01,  2.5948e-01, -1.1387e+00,  2.8730e-01,\n",
      "          -1.6512e-01, -1.3475e+00,  4.6357e-01,  8.4231e-01, -3.9394e-01,\n",
      "           7.0716e-01,  3.1365e-01, -7.0712e-01,  1.4477e+00, -5.9310e-01,\n",
      "          -6.9901e-02, -5.9221e-01,  3.2324e-01, -9.3662e-01, -2.7420e-01,\n",
      "          -3.7306e-01, -7.9383e-01,  1.6325e-01,  7.9044e-01,  8.3623e-01,\n",
      "          -5.3428e-01,  2.2524e-02, -5.8873e-01,  2.0104e-01, -5.3766e-01,\n",
      "           7.4557e-01, -2.7152e-01,  7.1414e-01,  1.4360e-01,  7.9997e-01,\n",
      "           2.8537e-01,  1.2148e+00,  4.4199e-01,  1.0408e+00, -1.2546e+00,\n",
      "           1.4363e+00, -7.3367e-01,  3.5799e-02, -6.5616e-01],\n",
      "         [ 9.7958e-01, -2.3424e-01, -5.4137e-01, -3.9348e-03,  3.7959e-01,\n",
      "           2.0111e-01, -3.1595e-01,  2.5646e-01, -8.9285e-01, -7.7886e-01,\n",
      "           5.0388e-01, -2.4694e-01,  6.5990e-01,  4.5377e-01,  1.9553e-01,\n",
      "          -5.8985e-01,  9.9640e-01, -2.2279e-01,  8.5083e-01,  1.4745e-01,\n",
      "          -4.1019e-01, -3.0781e-01,  1.2358e+00,  6.6129e-02, -4.2512e-01,\n",
      "          -1.2430e+00, -3.9987e-01,  3.3117e-02, -7.5751e-01,  1.0314e+00,\n",
      "           5.1223e-01, -4.4430e-01,  6.7370e-01,  7.1889e-01, -4.2702e-01,\n",
      "          -5.8426e-01, -1.1113e-01, -1.2615e-02,  2.8089e-01,  8.0115e-02,\n",
      "          -3.0178e-02, -2.6927e-02, -7.8030e-02, -9.1942e-01,  1.0112e-01,\n",
      "           3.2900e-01, -3.1375e-01,  8.5856e-01,  4.1125e-01,  2.3310e-01,\n",
      "           1.0125e+00,  3.0432e-01,  2.7441e-01, -8.9523e-02, -1.4487e-01,\n",
      "           1.9524e-01, -1.9271e+00,  1.2460e+00, -4.9123e-01, -1.3767e+00,\n",
      "           4.1517e-02,  1.2746e-01,  1.2388e+00,  6.2964e-01, -8.8707e-01,\n",
      "           6.7495e-01, -2.6410e-01,  6.3122e-01, -2.3192e-01,  3.1468e-01,\n",
      "           2.2797e-01,  3.3892e-01, -9.6008e-01, -2.0259e-01,  5.6711e-01,\n",
      "           3.1087e-01,  5.1638e-03, -1.2932e+00,  3.3296e-01, -4.1396e-01,\n",
      "           1.9287e-01, -2.7249e-01,  5.3690e-01, -3.5007e-01,  4.8851e-02,\n",
      "          -5.9721e-01,  5.6881e-01, -7.9893e-01,  3.4964e-01, -5.1240e-01,\n",
      "           5.7163e-01, -3.3270e-01,  1.7652e-01,  1.7183e+00],\n",
      "         [ 2.0157e-01, -7.8169e-01,  4.2277e-01,  3.5569e-01, -6.4898e-02,\n",
      "          -9.2827e-02, -2.8164e-01,  9.9035e-01,  3.0338e-01, -4.7256e-01,\n",
      "           4.6748e-01, -3.9793e-01,  9.5313e-01,  8.6284e-01, -8.7263e-01,\n",
      "           1.4755e-02,  1.1567e+00, -3.1394e-01, -1.0231e-01, -5.6101e-02,\n",
      "          -1.0104e+00, -1.6305e-01,  6.2851e-01, -1.8502e-01, -9.5697e-02,\n",
      "          -9.3426e-01,  7.6066e-02, -2.5974e-01, -7.9184e-02,  1.1728e+00,\n",
      "           2.6968e-01, -1.2799e+00, -3.1158e-01, -6.4832e-01,  6.8039e-01,\n",
      "          -1.3421e-01, -2.8510e-01,  1.7055e-01,  7.8156e-01,  1.2557e-01,\n",
      "          -1.3679e+00,  5.4375e-02, -3.3738e-01, -1.9369e-01,  1.2265e-01,\n",
      "          -1.4943e-01, -2.0321e-01,  7.0529e-01,  1.0045e-01, -3.5669e-01,\n",
      "           6.1322e-01,  9.0431e-01, -1.2671e-01, -2.1043e-01,  1.2881e-01,\n",
      "           1.1681e-01, -1.2036e+00,  6.2208e-01, -1.0011e+00, -8.2924e-01,\n",
      "          -1.0476e-01,  7.7315e-01,  6.6650e-01,  3.8488e-01, -1.6312e-01,\n",
      "           8.8479e-01, -3.8233e-01,  2.5565e-01, -8.1359e-01, -3.4550e-01,\n",
      "           4.4881e-01,  6.8076e-01, -1.0040e+00,  6.3812e-02,  5.2371e-01,\n",
      "          -3.2778e-01,  6.9787e-02, -4.1399e-01,  5.3459e-01, -6.6338e-01,\n",
      "           1.6645e-02, -6.3522e-01,  4.8154e-01, -4.4861e-01,  5.6655e-01,\n",
      "          -4.4758e-01,  5.4108e-01, -4.2218e-01, -3.3359e-02, -8.8242e-02,\n",
      "           4.7601e-01, -1.9068e-01,  2.7444e-01,  8.3387e-02],\n",
      "         [ 6.1569e-02, -7.2556e-04,  3.8376e-02,  8.5014e-01, -7.0433e-01,\n",
      "           1.2295e-01, -1.0974e-01,  3.3632e-02, -2.3883e-01, -2.9465e-01,\n",
      "           5.0535e-01,  7.1127e-01,  4.6494e-01,  1.1173e-01,  2.6426e-01,\n",
      "           2.8399e-01,  1.3472e+00, -3.4343e-01,  8.0396e-01, -1.5236e-01,\n",
      "          -1.4592e-01, -3.1965e-01,  6.9573e-01, -2.8485e-01, -6.3050e-01,\n",
      "          -5.5650e-01,  6.1547e-01,  8.4130e-02,  1.8107e-01,  3.9562e-01,\n",
      "          -1.1625e+00, -2.7202e-01,  1.1197e+00,  7.7009e-01,  2.6550e-01,\n",
      "          -9.4014e-01,  9.0369e-02,  5.6897e-01, -7.9272e-02,  4.8314e-01,\n",
      "           2.9286e-01, -1.0162e-01, -8.6852e-01, -2.4079e-01, -3.7334e-01,\n",
      "          -8.1188e-01, -7.5880e-01,  1.9942e-01,  3.8078e-01, -9.6548e-02,\n",
      "           6.5704e-01, -1.7728e-01,  1.9311e-01,  3.5389e-01,  2.7609e-01,\n",
      "          -2.7389e-01, -1.0774e+00,  3.4548e-01, -1.6201e-01,  1.7182e-01,\n",
      "           7.9849e-02, -7.6924e-03,  1.0787e+00,  1.4953e+00, -5.4749e-01,\n",
      "           2.4648e-01, -1.2118e+00,  1.6937e-01, -4.7462e-01, -4.9239e-01,\n",
      "           5.2780e-01,  1.6675e-04, -6.4897e-01,  1.1791e+00, -4.4691e-02,\n",
      "          -7.6751e-01, -1.4691e-01, -3.8520e-01,  1.0639e-01,  2.1185e-01,\n",
      "           6.5438e-01,  2.3352e-01,  1.3353e+00, -4.0031e-01,  4.4625e-01,\n",
      "          -2.0124e-02,  1.0940e+00, -2.6828e-01, -3.5935e-01, -8.8366e-01,\n",
      "           1.0556e+00, -2.5278e-01,  5.5731e-01,  1.8285e-01]]],\n",
      "       device='cuda:0', grad_fn=<ViewBackward0>)\n"
     ]
    }
   ],
   "source": [
    "src = torch.tensor([[1, 2, 3, 0]]).to(device)\n",
    "model = Encoder(len(dictionary), 32, 4, 8, 4, max_seq_len, 0.1).to(device)\n",
    "mask = model.generate_mask(src)\n",
    "print(mask)\n",
    "print(model(src))"
   ]
  },
  {
   "cell_type": "code",
   "execution_count": 15,
   "metadata": {},
   "outputs": [
    {
     "name": "stdout",
     "output_type": "stream",
     "text": [
      "-ebb*/(WkGL/r\n",
      "HZKgq%s]4ZWyazEGLM;_~rg\n"
     ]
    }
   ],
   "source": [
    "import numpy as np\n",
    "\n",
    "def generate(model, len_limit):\n",
    "    model.eval()\n",
    "    with torch.no_grad():\n",
    "        result = [\"<start>\"]\n",
    "        while len(result) < len_limit:\n",
    "            x = torch.tensor([[sym2idx[x] for x in result]]).to(device)\n",
    "            y = model(x)\n",
    "            y = y[0][0].cpu().numpy()\n",
    "            y = np.exp(y)\n",
    "            y /= np.sum(y)\n",
    "            #print(\" \".join(map(lambda t: \"{:.4f}\".format(t), y)) + \"\\n\")\n",
    "            x = dictionary[np.random.choice(y.shape[0], p = y)]\n",
    "            if x in [\"<start>\", \"<end>\", \"<empty>\"]:\n",
    "                break\n",
    "            result.append(x)\n",
    "        return ''.join(result[1:])\n",
    "\n",
    "print(generate(model, 1000))"
   ]
  },
  {
   "cell_type": "code",
   "execution_count": 23,
   "metadata": {},
   "outputs": [
    {
     "name": "stderr",
     "output_type": "stream",
     "text": [
      "100%|██████████| 76756/76756 [00:31<00:00, 2406.75it/s]\n",
      "100%|██████████| 8529/8529 [00:00<00:00, 12108.75it/s]\n"
     ]
    },
    {
     "name": "stdout",
     "output_type": "stream",
     "text": [
      "Epoch 0 loss: 2.40512 2.07628\n",
      "tl it Ltut tirp d  t upb herpO\n",
      "i h  s,mwt ne tieus  aAmtenot e \n",
      "\n"
     ]
    },
    {
     "name": "stderr",
     "output_type": "stream",
     "text": [
      "100%|██████████| 76756/76756 [00:30<00:00, 2483.46it/s]\n",
      "100%|██████████| 8529/8529 [00:00<00:00, 12225.20it/s]\n"
     ]
    },
    {
     "name": "stdout",
     "output_type": "stream",
     "text": [
      "Epoch 1 loss: 2.04932 1.89029\n",
      "h tnrsaOt,sny p ru'bnpssdaSowhrhOg?mA .LmlmoEIl,ita I!T OiItntg\n",
      "\n"
     ]
    },
    {
     "name": "stderr",
     "output_type": "stream",
     "text": [
      "100%|██████████| 76756/76756 [00:30<00:00, 2491.81it/s]\n",
      "100%|██████████| 8529/8529 [00:00<00:00, 12223.49it/s]\n"
     ]
    },
    {
     "name": "stdout",
     "output_type": "stream",
     "text": [
      "Epoch 2 loss: 1.92246 1.80167\n",
      "p,\n",
      " Rt  ,aa  scS toht miolchitei  EodtfK  ' tma   ngd imaoadh o\n",
      "\n"
     ]
    },
    {
     "name": "stderr",
     "output_type": "stream",
     "text": [
      "100%|██████████| 76756/76756 [00:30<00:00, 2491.50it/s]\n",
      "100%|██████████| 8529/8529 [00:00<00:00, 12150.79it/s]\n"
     ]
    },
    {
     "name": "stdout",
     "output_type": "stream",
     "text": [
      "Epoch 3 loss: 1.84931 1.75177\n",
      "etanoiw m.Aed \n",
      "eR .mdw h tnmoM wseyt lmtt,PdylIEs cas, sany iyd\n",
      "\n"
     ]
    },
    {
     "name": "stderr",
     "output_type": "stream",
     "text": [
      "100%|██████████| 76756/76756 [00:30<00:00, 2492.10it/s]\n",
      "100%|██████████| 8529/8529 [00:00<00:00, 12208.31it/s]\n"
     ]
    },
    {
     "name": "stdout",
     "output_type": "stream",
     "text": [
      "Epoch 4 loss: 1.81214 1.71000\n",
      "l\n",
      ",t emmt deetrMati\n",
      "OnsIw bayrNa  etk r' aae\n",
      "etr hhn.    hi,etf\n",
      "\n"
     ]
    },
    {
     "name": "stderr",
     "output_type": "stream",
     "text": [
      "100%|██████████| 76756/76756 [00:30<00:00, 2489.01it/s]\n",
      "100%|██████████| 8529/8529 [00:00<00:00, 12174.83it/s]\n"
     ]
    },
    {
     "name": "stdout",
     "output_type": "stream",
     "text": [
      "Epoch 5 loss: 1.77333 1.68512\n",
      "g O'ywwwHoi e ab,irB uadt  u ekBoGok  L'Itrhe'eh Ecsewwk aRuLnt\n",
      "\n"
     ]
    },
    {
     "name": "stderr",
     "output_type": "stream",
     "text": [
      "100%|██████████| 76756/76756 [00:30<00:00, 2488.65it/s]\n",
      "100%|██████████| 8529/8529 [00:00<00:00, 12114.38it/s]\n"
     ]
    },
    {
     "name": "stdout",
     "output_type": "stream",
     "text": [
      "Epoch 6 loss: 1.75620 1.65557\n",
      "S s. nmEhrhm seto riata lHuicUhenes ln uFTnanat, ledsanw e,i ue\n",
      "\n"
     ]
    },
    {
     "name": "stderr",
     "output_type": "stream",
     "text": [
      "100%|██████████| 76756/76756 [00:30<00:00, 2489.73it/s]\n",
      "100%|██████████| 8529/8529 [00:00<00:00, 12193.45it/s]\n"
     ]
    },
    {
     "name": "stdout",
     "output_type": "stream",
     "text": [
      "Epoch 7 loss: 1.72828 1.65028\n",
      "H dotori\n",
      "aehp     -mP  eubp  or  ot TiLno\n",
      "'lTnO .gE  i ;eMKbe ,\n",
      "\n"
     ]
    },
    {
     "name": "stderr",
     "output_type": "stream",
     "text": [
      "100%|██████████| 76756/76756 [00:30<00:00, 2489.82it/s]\n",
      "100%|██████████| 8529/8529 [00:00<00:00, 12189.74it/s]\n"
     ]
    },
    {
     "name": "stdout",
     "output_type": "stream",
     "text": [
      "Epoch 8 loss: 1.71607 1.62993\n",
      "e aw u rroai  sm. agngxrdToay  asilehr p  hevafiao   b tOlv] ss\n",
      "\n"
     ]
    },
    {
     "name": "stderr",
     "output_type": "stream",
     "text": [
      "100%|██████████| 76756/76756 [00:30<00:00, 2489.80it/s]\n",
      "100%|██████████| 8529/8529 [00:00<00:00, 12192.42it/s]\n"
     ]
    },
    {
     "name": "stdout",
     "output_type": "stream",
     "text": [
      "Epoch 9 loss: 1.70054 1.61086\n",
      "dpu a    meaui sor  tdk sric dVn  io  uAesmeornceoe\n",
      "   pRe2 re \n",
      "\n"
     ]
    },
    {
     "name": "stderr",
     "output_type": "stream",
     "text": [
      "100%|██████████| 76756/76756 [00:30<00:00, 2489.79it/s]\n",
      "100%|██████████| 8529/8529 [00:00<00:00, 12196.20it/s]\n"
     ]
    },
    {
     "name": "stdout",
     "output_type": "stream",
     "text": [
      "Epoch 10 loss: 1.68424 1.59887\n",
      "Ul mmy d.oCheE  ' 'eEstn l    Tw Msou.tlt r  w;iOh  cLlrc, WLiA\n",
      "\n"
     ]
    },
    {
     "name": "stderr",
     "output_type": "stream",
     "text": [
      "100%|██████████| 76756/76756 [00:30<00:00, 2489.78it/s]\n",
      "100%|██████████| 8529/8529 [00:00<00:00, 12192.67it/s]\n"
     ]
    },
    {
     "name": "stdout",
     "output_type": "stream",
     "text": [
      "Epoch 11 loss: 1.67342 1.58922\n",
      "n   yvhybrm  ee\n",
      "o. r C qorecwRmN,hhsch,rnIoaedtdeurah rTbepit'a\n",
      "\n"
     ]
    },
    {
     "name": "stderr",
     "output_type": "stream",
     "text": [
      "100%|██████████| 76756/76756 [00:30<00:00, 2490.29it/s]\n",
      "100%|██████████| 8529/8529 [00:00<00:00, 12182.71it/s]\n"
     ]
    },
    {
     "name": "stdout",
     "output_type": "stream",
     "text": [
      "Epoch 12 loss: 1.66335 1.58063\n",
      "nacn 'CLwtsut ou  akesogmr y eua Er sah    t Cr'  rssc  ini4r-r\n",
      "\n"
     ]
    },
    {
     "name": "stderr",
     "output_type": "stream",
     "text": [
      "100%|██████████| 76756/76756 [00:30<00:00, 2486.85it/s]\n",
      "100%|██████████| 8529/8529 [00:00<00:00, 12186.14it/s]\n"
     ]
    },
    {
     "name": "stdout",
     "output_type": "stream",
     "text": [
      "Epoch 13 loss: 1.65511 1.57484\n",
      "Sr\n",
      "srddrt' Tet seiyG y h'ksii t    ssmnSOt y\n",
      "td ttsn  o cKCG do\n",
      "\n"
     ]
    },
    {
     "name": "stderr",
     "output_type": "stream",
     "text": [
      "100%|██████████| 76756/76756 [00:30<00:00, 2542.00it/s]\n",
      "100%|██████████| 8529/8529 [00:00<00:00, 12199.41it/s]\n"
     ]
    },
    {
     "name": "stdout",
     "output_type": "stream",
     "text": [
      "Epoch 14 loss: 1.64772 1.56853\n",
      "  \n",
      "ah\n",
      "  n odeoo e mia oir  ,e    nttelher\n",
      " \n",
      "iere HoAs nl\n",
      "E yl  \n",
      "\n"
     ]
    },
    {
     "name": "stderr",
     "output_type": "stream",
     "text": [
      "100%|██████████| 76756/76756 [00:30<00:00, 2543.95it/s]\n",
      "100%|██████████| 8529/8529 [00:00<00:00, 11995.57it/s]\n"
     ]
    },
    {
     "name": "stdout",
     "output_type": "stream",
     "text": [
      "Epoch 15 loss: 1.64041 1.56456\n",
      "g\n",
      "nemi\n",
      "n.elr \n",
      "el   rer KphS lte ,o aru Nsuto .fme , XuSo h apY \n",
      "\n"
     ]
    },
    {
     "name": "stderr",
     "output_type": "stream",
     "text": [
      "100%|██████████| 76756/76756 [00:29<00:00, 2583.03it/s]\n",
      "100%|██████████| 8529/8529 [00:00<00:00, 12190.38it/s]\n"
     ]
    },
    {
     "name": "stdout",
     "output_type": "stream",
     "text": [
      "Epoch 16 loss: 1.63410 1.56131\n",
      "hlct?'y faCuw wslgcPAtn  sheco esneuupolEnNau?to e   \n",
      " feENrs  \n",
      "\n"
     ]
    },
    {
     "name": "stderr",
     "output_type": "stream",
     "text": [
      "100%|██████████| 76756/76756 [00:28<00:00, 2675.22it/s]\n",
      "100%|██████████| 8529/8529 [00:00<00:00, 12206.64it/s]\n"
     ]
    },
    {
     "name": "stdout",
     "output_type": "stream",
     "text": [
      "Epoch 17 loss: 1.62829 1.54909\n",
      "ivlk      i eollR mlioa     hrTNaihyarfkhEAn   wu wL  e'mrtuLSt\n",
      "\n"
     ]
    },
    {
     "name": "stderr",
     "output_type": "stream",
     "text": [
      "100%|██████████| 76756/76756 [00:28<00:00, 2674.67it/s]\n",
      "100%|██████████| 8529/8529 [00:00<00:00, 12206.84it/s]\n"
     ]
    },
    {
     "name": "stdout",
     "output_type": "stream",
     "text": [
      "Epoch 18 loss: 1.62310 1.54475\n",
      "nusdk  wb eraAhovse a a Eunuwlu    e ur\n",
      "es\n",
      "Rmt,rUerdceoa y' ta \n",
      "\n"
     ]
    },
    {
     "name": "stderr",
     "output_type": "stream",
     "text": [
      "100%|██████████| 76756/76756 [00:30<00:00, 2489.63it/s]\n",
      "100%|██████████| 8529/8529 [00:00<00:00, 11958.44it/s]\n"
     ]
    },
    {
     "name": "stdout",
     "output_type": "stream",
     "text": [
      "Epoch 19 loss: 1.61831 1.53772\n",
      "h m    t?ho hhrMd\n",
      "a t  b  \n",
      " cob er IiyH l Mf\n",
      " egforg i mty y.,r\n",
      "\n"
     ]
    },
    {
     "name": "stderr",
     "output_type": "stream",
     "text": [
      "100%|██████████| 76756/76756 [00:31<00:00, 2437.70it/s]\n",
      "100%|██████████| 8529/8529 [00:00<00:00, 11982.10it/s]\n"
     ]
    },
    {
     "name": "stdout",
     "output_type": "stream",
     "text": [
      "Epoch 20 loss: 1.61363 1.53825\n",
      " aoo   Bos  re.iem e\n",
      "pgnh Puaoh ,A\n",
      "t enptaranOLtt   yEolsyehRni\n",
      "\n"
     ]
    },
    {
     "name": "stderr",
     "output_type": "stream",
     "text": [
      "100%|██████████| 76756/76756 [00:31<00:00, 2437.75it/s]\n",
      "100%|██████████| 8529/8529 [00:00<00:00, 11983.02it/s]\n"
     ]
    },
    {
     "name": "stdout",
     "output_type": "stream",
     "text": [
      "Epoch 21 loss: 1.60950 1.52729\n",
      "zn Lr e ou  oe  \n",
      "ue  ,\n",
      "e,D nm\n",
      "Ee hHWts\n",
      "t e de,iattoolmbho m , I\n",
      "\n"
     ]
    },
    {
     "name": "stderr",
     "output_type": "stream",
     "text": [
      "100%|██████████| 76756/76756 [00:31<00:00, 2435.38it/s]\n",
      "100%|██████████| 8529/8529 [00:00<00:00, 11953.25it/s]\n"
     ]
    },
    {
     "name": "stdout",
     "output_type": "stream",
     "text": [
      "Epoch 22 loss: 1.60588 1.52934\n",
      "  taegfaeM beut\n",
      "M\n",
      "Tn lyei  k e   meSan  ceoueit L Iowias  tOih \n",
      "\n"
     ]
    },
    {
     "name": "stderr",
     "output_type": "stream",
     "text": [
      "100%|██████████| 76756/76756 [00:31<00:00, 2435.72it/s]\n",
      "100%|██████████| 8529/8529 [00:00<00:00, 11955.22it/s]\n"
     ]
    },
    {
     "name": "stdout",
     "output_type": "stream",
     "text": [
      "Epoch 23 loss: 1.60180 1.51913\n",
      "hsnlR'e Ttyhoc lafoh MylTga ioc  s\n",
      " cehteYAsaet r     A n noeou\n",
      "\n"
     ]
    },
    {
     "name": "stderr",
     "output_type": "stream",
     "text": [
      "100%|██████████| 76756/76756 [00:31<00:00, 2436.59it/s]\n",
      "100%|██████████| 8529/8529 [00:00<00:00, 11987.47it/s]\n"
     ]
    },
    {
     "name": "stdout",
     "output_type": "stream",
     "text": [
      "Epoch 24 loss: 1.59830 1.51911\n",
      " es\n",
      " tBns,r d Onlfi\n",
      ", wonet,.Od Lkto, apnAn  cpnd  Orr\n",
      "ekdcblE \n",
      "\n"
     ]
    },
    {
     "name": "stderr",
     "output_type": "stream",
     "text": [
      "100%|██████████| 76756/76756 [00:31<00:00, 2437.60it/s]\n",
      "100%|██████████| 8529/8529 [00:00<00:00, 11977.67it/s]\n"
     ]
    },
    {
     "name": "stdout",
     "output_type": "stream",
     "text": [
      "Epoch 25 loss: 1.59588 1.51860\n",
      "hn Mca;b\n",
      "\n",
      "recserlwslroh ddhnhu foa t ial  uq d e\n",
      "n  i ytfoufnsm\n",
      "\n"
     ]
    },
    {
     "name": "stderr",
     "output_type": "stream",
     "text": [
      "100%|██████████| 76756/76756 [00:31<00:00, 2437.50it/s]\n",
      "100%|██████████| 8529/8529 [00:00<00:00, 11996.67it/s]\n"
     ]
    },
    {
     "name": "stdout",
     "output_type": "stream",
     "text": [
      "Epoch 26 loss: 1.59272 1.51504\n",
      "ut !i w ,c  ig webe ;a   u  li  e A ushpl\n",
      "dmgA bAd  t FmsiHShi \n",
      "\n"
     ]
    },
    {
     "name": "stderr",
     "output_type": "stream",
     "text": [
      "100%|██████████| 76756/76756 [00:31<00:00, 2445.51it/s]\n",
      "100%|██████████| 8529/8529 [00:00<00:00, 12132.40it/s]\n"
     ]
    },
    {
     "name": "stdout",
     "output_type": "stream",
     "text": [
      "Epoch 27 loss: 1.58980 1.51114\n",
      "wdm  r kmIiS, ,k lnl[teRN a n'StytRenr s Bas  esve atm N otsC\n",
      "a\n",
      "\n"
     ]
    },
    {
     "name": "stderr",
     "output_type": "stream",
     "text": [
      "100%|██████████| 76756/76756 [00:31<00:00, 2457.06it/s]\n",
      "100%|██████████| 8529/8529 [00:00<00:00, 12115.42it/s]\n"
     ]
    },
    {
     "name": "stdout",
     "output_type": "stream",
     "text": [
      "Epoch 28 loss: 1.58723 1.51094\n",
      ",Neook ne eahnni Sirn oe  iewsasln\n",
      " eAsvOmTLh  \n",
      " t a  g idee\n",
      " s\n",
      "\n"
     ]
    },
    {
     "name": "stderr",
     "output_type": "stream",
     "text": [
      "100%|██████████| 76756/76756 [00:31<00:00, 2459.24it/s]\n",
      "100%|██████████| 8529/8529 [00:00<00:00, 12136.20it/s]\n"
     ]
    },
    {
     "name": "stdout",
     "output_type": "stream",
     "text": [
      "Epoch 29 loss: 1.58514 1.50678\n",
      "aeas tpdltt .cu tsm ry\n",
      " lfcsmGaPw  e g  nhlooaibuat l es rn yai\n",
      "\n"
     ]
    },
    {
     "name": "stderr",
     "output_type": "stream",
     "text": [
      "100%|██████████| 76756/76756 [00:31<00:00, 2459.99it/s]\n",
      "100%|██████████| 8529/8529 [00:00<00:00, 12133.38it/s]\n"
     ]
    },
    {
     "name": "stdout",
     "output_type": "stream",
     "text": [
      "Epoch 30 loss: 1.58196 1.50324\n",
      "rmmt oaqI ec cb h o, re ei\n",
      "hnoSwah h arth,ohec  a  lthAe lh sh \n",
      "\n"
     ]
    },
    {
     "name": "stderr",
     "output_type": "stream",
     "text": [
      "100%|██████████| 76756/76756 [00:31<00:00, 2459.93it/s]\n",
      "100%|██████████| 8529/8529 [00:00<00:00, 12131.66it/s]\n"
     ]
    },
    {
     "name": "stdout",
     "output_type": "stream",
     "text": [
      "Epoch 31 loss: 1.57956 1.49856\n",
      "h   Ce  roodaeatvouws,rwwE ifm klmu deaSet eCn f\n",
      "air nphngg bi \n",
      "\n"
     ]
    },
    {
     "name": "stderr",
     "output_type": "stream",
     "text": [
      "100%|██████████| 76756/76756 [00:29<00:00, 2573.23it/s]\n",
      "100%|██████████| 8529/8529 [00:00<00:00, 12139.14it/s]\n"
     ]
    },
    {
     "name": "stdout",
     "output_type": "stream",
     "text": [
      "Epoch 32 loss: 1.57725 1.49997\n",
      "d  nu,oDtetse!fsa l flsy tus, u aasdo t dcvts  b  esrtEsM oben \n",
      "\n"
     ]
    },
    {
     "name": "stderr",
     "output_type": "stream",
     "text": [
      "100%|██████████| 76756/76756 [00:29<00:00, 2643.45it/s]\n",
      "100%|██████████| 8529/8529 [00:00<00:00, 12126.63it/s]\n"
     ]
    },
    {
     "name": "stdout",
     "output_type": "stream",
     "text": [
      "Epoch 33 loss: 1.57465 1.49802\n",
      "rb eUooonsPerI innei,ITedon \n",
      "u ol\n",
      " e\n",
      "fi dntdhabrm    FWhoineihu\n",
      "\n"
     ]
    },
    {
     "name": "stderr",
     "output_type": "stream",
     "text": [
      "100%|██████████| 76756/76756 [00:29<00:00, 2642.86it/s]\n",
      "100%|██████████| 8529/8529 [00:00<00:00, 12136.71it/s]\n"
     ]
    },
    {
     "name": "stdout",
     "output_type": "stream",
     "text": [
      "Epoch 34 loss: 1.57244 1.49324\n",
      "Ieh l   eobuwewrea o tougIreamnn d c ol  ;u ey apew M uck?Th\n",
      "ny\n",
      "\n"
     ]
    },
    {
     "name": "stderr",
     "output_type": "stream",
     "text": [
      "100%|██████████| 76756/76756 [00:30<00:00, 2478.09it/s]\n",
      "100%|██████████| 8529/8529 [00:00<00:00, 11971.24it/s]\n"
     ]
    },
    {
     "name": "stdout",
     "output_type": "stream",
     "text": [
      "Epoch 35 loss: 1.57021 1.49295\n",
      "maOloanr ry]dt tC\n",
      "pe .,tt\n",
      "ufs fotn r  un tvlUOsoi.hoysnlenorwhu\n",
      "\n"
     ]
    },
    {
     "name": "stderr",
     "output_type": "stream",
     "text": [
      "100%|██████████| 76756/76756 [00:31<00:00, 2437.33it/s]\n",
      "100%|██████████| 8529/8529 [00:00<00:00, 11973.08it/s]\n"
     ]
    },
    {
     "name": "stdout",
     "output_type": "stream",
     "text": [
      "Epoch 36 loss: 1.56855 1.49120\n",
      "otdeSmhlal,pbdnbtrl hh;e os  e l pd   lst stpntra'rv\n",
      "enhcn LI,m\n",
      "\n"
     ]
    },
    {
     "name": "stderr",
     "output_type": "stream",
     "text": [
      "100%|██████████| 76756/76756 [00:31<00:00, 2436.93it/s]\n",
      "100%|██████████| 8529/8529 [00:00<00:00, 11972.29it/s]\n"
     ]
    },
    {
     "name": "stdout",
     "output_type": "stream",
     "text": [
      "Epoch 37 loss: 1.56635 1.49572\n",
      " nlk y . 'lys, veg Fdp ntn   lI t h li\n",
      "ehth tLrr,treAry aouhhty\n",
      "\n"
     ]
    },
    {
     "name": "stderr",
     "output_type": "stream",
     "text": [
      "100%|██████████| 76756/76756 [00:31<00:00, 2436.14it/s]\n",
      "100%|██████████| 8529/8529 [00:00<00:00, 11968.01it/s]\n"
     ]
    },
    {
     "name": "stdout",
     "output_type": "stream",
     "text": [
      "Epoch 38 loss: 1.56468 1.48838\n",
      "C ouoe tbl  yb rlnn h  hd\n",
      " merttz e nad N .FoE \n",
      "pt\n",
      "strfnuusoilI\n",
      "\n"
     ]
    },
    {
     "name": "stderr",
     "output_type": "stream",
     "text": [
      "100%|██████████| 76756/76756 [00:31<00:00, 2438.40it/s]\n",
      "100%|██████████| 8529/8529 [00:00<00:00, 12105.28it/s]\n"
     ]
    },
    {
     "name": "stdout",
     "output_type": "stream",
     "text": [
      "Epoch 39 loss: 1.56290 1.48577\n",
      "areiol erpdfyvnveo e'le c\n",
      "r   c uutu dnnmlFwr\n",
      "seal  Gr,  rodaoD\n",
      "\n"
     ]
    },
    {
     "name": "stderr",
     "output_type": "stream",
     "text": [
      "100%|██████████| 76756/76756 [00:31<00:00, 2455.61it/s]\n",
      "100%|██████████| 8529/8529 [00:00<00:00, 12101.54it/s]\n"
     ]
    },
    {
     "name": "stdout",
     "output_type": "stream",
     "text": [
      "Epoch 40 loss: 1.56156 1.48453\n",
      "m  E NALSetr  o\n",
      "  elhh wfnu\n",
      " t o a-IRi ll Eru ueerntsh w n\n",
      "uoQd\n",
      "\n"
     ]
    },
    {
     "name": "stderr",
     "output_type": "stream",
     "text": [
      "100%|██████████| 76756/76756 [00:31<00:00, 2454.19it/s]\n",
      "100%|██████████| 8529/8529 [00:00<00:00, 12116.03it/s]\n"
     ]
    },
    {
     "name": "stdout",
     "output_type": "stream",
     "text": [
      "Epoch 41 loss: 1.55980 1.48329\n",
      "eui   adra\n",
      "aluw Ew emt iayeht t  cwLonma lassohea  tactsnhceaef\n",
      "\n"
     ]
    },
    {
     "name": "stderr",
     "output_type": "stream",
     "text": [
      "100%|██████████| 76756/76756 [00:31<00:00, 2454.80it/s]\n",
      "100%|██████████| 8529/8529 [00:00<00:00, 12099.13it/s]\n"
     ]
    },
    {
     "name": "stdout",
     "output_type": "stream",
     "text": [
      "Epoch 42 loss: 1.55861 1.48102\n",
      " raoa   Slpuf, te\n",
      ",dUrle\n",
      " r D bhioea wsm Ee  e rEotw  ioeett ri\n",
      "\n"
     ]
    },
    {
     "name": "stderr",
     "output_type": "stream",
     "text": [
      "100%|██████████| 76756/76756 [00:31<00:00, 2454.49it/s]\n",
      "100%|██████████| 8529/8529 [00:00<00:00, 12099.98it/s]\n"
     ]
    },
    {
     "name": "stdout",
     "output_type": "stream",
     "text": [
      "Epoch 43 loss: 1.55697 1.48226\n",
      "mE\n",
      "t  sdTiy  eFO,aokef\n",
      "lA n\n",
      "sM tE   eoliniebbcNe babnLn yik   t\n",
      "\n"
     ]
    },
    {
     "name": "stderr",
     "output_type": "stream",
     "text": [
      "100%|██████████| 76756/76756 [00:30<00:00, 2483.08it/s]\n",
      "100%|██████████| 8529/8529 [00:00<00:00, 12181.41it/s]\n"
     ]
    },
    {
     "name": "stdout",
     "output_type": "stream",
     "text": [
      "Epoch 44 loss: 1.55569 1.47604\n",
      " atoTtNoete, uv n,  RRr rn?Ys O hAToot'thtl   eeromh the;sNlere\n",
      "\n"
     ]
    },
    {
     "name": "stderr",
     "output_type": "stream",
     "text": [
      "100%|██████████| 76756/76756 [00:30<00:00, 2487.31it/s]\n",
      "100%|██████████| 8529/8529 [00:00<00:00, 12186.26it/s]\n"
     ]
    },
    {
     "name": "stdout",
     "output_type": "stream",
     "text": [
      "Epoch 45 loss: 1.55372 1.47671\n",
      "ltc  y.Dei v u f, '' w dmymol DDe oefivane,Sh  ecbE   l oh  t  \n",
      "\n"
     ]
    },
    {
     "name": "stderr",
     "output_type": "stream",
     "text": [
      "100%|██████████| 76756/76756 [00:30<00:00, 2485.76it/s]\n",
      "100%|██████████| 8529/8529 [00:00<00:00, 12132.08it/s]\n"
     ]
    },
    {
     "name": "stdout",
     "output_type": "stream",
     "text": [
      "Epoch 46 loss: 1.55270 1.47563\n",
      ",lys ahorceyrAM   F e l-gd  N rrocheu pqe.eoyNc u  tSi ErEgsn l\n",
      "\n"
     ]
    },
    {
     "name": "stderr",
     "output_type": "stream",
     "text": [
      "100%|██████████| 76756/76756 [00:30<00:00, 2487.97it/s]\n",
      "100%|██████████| 8529/8529 [00:00<00:00, 12187.71it/s]\n"
     ]
    },
    {
     "name": "stdout",
     "output_type": "stream",
     "text": [
      "Epoch 47 loss: 1.55133 1.47405\n",
      "t eanKeun E ima 'w De  tsltod oa hs ym  mkrf Gvd e  So    neee,\n",
      "\n"
     ]
    },
    {
     "name": "stderr",
     "output_type": "stream",
     "text": [
      "100%|██████████| 76756/76756 [00:30<00:00, 2488.56it/s]\n",
      "100%|██████████| 8529/8529 [00:00<00:00, 12191.68it/s]\n"
     ]
    },
    {
     "name": "stdout",
     "output_type": "stream",
     "text": [
      "Epoch 48 loss: 1.55025 1.47488\n",
      "itu  Rt,tonane NM\n",
      "  etyeh  sOsf's.o iALor nhdyeh nlsBsfat  r ln\n",
      "\n"
     ]
    },
    {
     "name": "stderr",
     "output_type": "stream",
     "text": [
      "100%|██████████| 76756/76756 [00:31<00:00, 2473.08it/s]\n",
      "100%|██████████| 8529/8529 [00:00<00:00, 12115.00it/s]\n"
     ]
    },
    {
     "name": "stdout",
     "output_type": "stream",
     "text": [
      "Epoch 49 loss: 1.54902 1.47265\n",
      "TIi tsk  .Grl ttestU hito o lohHhnoleab ,hr A,fp  NpteEneupr Od\n",
      "\n"
     ]
    },
    {
     "name": "stderr",
     "output_type": "stream",
     "text": [
      "100%|██████████| 76756/76756 [00:31<00:00, 2457.76it/s]\n",
      "100%|██████████| 8529/8529 [00:00<00:00, 12130.84it/s]\n"
     ]
    },
    {
     "name": "stdout",
     "output_type": "stream",
     "text": [
      "Epoch 50 loss: 1.54762 1.47081\n",
      "y  uerA  rlwr t   hten.aau r Dbhh,I,oN pe \n",
      "dR dS:m a   byoueui\n",
      "\n",
      "\n"
     ]
    },
    {
     "name": "stderr",
     "output_type": "stream",
     "text": [
      "100%|██████████| 76756/76756 [00:31<00:00, 2459.51it/s]\n",
      "100%|██████████| 8529/8529 [00:00<00:00, 12144.04it/s]\n"
     ]
    },
    {
     "name": "stdout",
     "output_type": "stream",
     "text": [
      "Epoch 51 loss: 1.54670 1.47007\n",
      "fr Os  noa\n",
      "\n",
      "   elNmIog '.eyI\n",
      "al  T rcet \n",
      " loers Afods \n",
      " \n",
      "hauw\n",
      "a\n",
      "\n"
     ]
    },
    {
     "name": "stderr",
     "output_type": "stream",
     "text": [
      "100%|██████████| 76756/76756 [00:31<00:00, 2459.99it/s]\n",
      "100%|██████████| 8529/8529 [00:00<00:00, 12138.50it/s]\n"
     ]
    },
    {
     "name": "stdout",
     "output_type": "stream",
     "text": [
      "Epoch 52 loss: 1.54536 1.46851\n",
      "tnty  ctu e  usmRu tCtSoooathngi daIthmethf eyt\n",
      "g En?r   eny 'i\n",
      "\n"
     ]
    },
    {
     "name": "stderr",
     "output_type": "stream",
     "text": [
      "100%|██████████| 76756/76756 [00:29<00:00, 2594.95it/s]\n",
      "100%|██████████| 8529/8529 [00:00<00:00, 12147.26it/s]\n"
     ]
    },
    {
     "name": "stdout",
     "output_type": "stream",
     "text": [
      "Epoch 53 loss: 1.54492 1.47066\n",
      "yPkr  lo sv tal nvTblWdooau.gr l aoo.Uuee rnreisA Rrti nasinrsA\n",
      "\n"
     ]
    },
    {
     "name": "stderr",
     "output_type": "stream",
     "text": [
      "100%|██████████| 76756/76756 [00:29<00:00, 2643.20it/s]\n",
      "100%|██████████| 8529/8529 [00:00<00:00, 12148.33it/s]\n"
     ]
    },
    {
     "name": "stdout",
     "output_type": "stream",
     "text": [
      "Epoch 54 loss: 1.54419 1.46806\n",
      "n. Es,,c' n etlime to eyeny D nStl ocmdhhA ttynor ,l a\n",
      "rddaiwM,\n",
      "\n"
     ]
    },
    {
     "name": "stderr",
     "output_type": "stream",
     "text": [
      "100%|██████████| 76756/76756 [00:29<00:00, 2641.01it/s]\n",
      "100%|██████████| 8529/8529 [00:00<00:00, 12027.73it/s]\n"
     ]
    },
    {
     "name": "stdout",
     "output_type": "stream",
     "text": [
      "Epoch 55 loss: 1.54329 1.46873\n",
      " uetH n cdnu. hTN i,aNl f AiyAw n;Hulhmde\n",
      "GOouta u r  sIon  hg \n",
      "\n"
     ]
    },
    {
     "name": "stderr",
     "output_type": "stream",
     "text": [
      "100%|██████████| 76756/76756 [00:30<00:00, 2535.07it/s]\n",
      "100%|██████████| 8529/8529 [00:00<00:00, 11032.80it/s]\n"
     ]
    },
    {
     "name": "stdout",
     "output_type": "stream",
     "text": [
      "Epoch 56 loss: 1.54164 1.46467\n",
      "id nhhwht ,1d alo Dri  d h ; hnOtut  w tEa e uirs \n",
      ";hl  tEai n\n",
      "\n",
      "\n"
     ]
    },
    {
     "name": "stderr",
     "output_type": "stream",
     "text": [
      "100%|██████████| 76756/76756 [00:31<00:00, 2431.36it/s]\n",
      "100%|██████████| 8529/8529 [00:00<00:00, 11932.00it/s]\n"
     ]
    },
    {
     "name": "stdout",
     "output_type": "stream",
     "text": [
      "Epoch 57 loss: 1.54158 1.46565\n",
      "doAaIhynw.eiTeG  R Mor ptwe.afs  l\n",
      "Eal ee y U unt ti,rdl   d o \n",
      "\n"
     ]
    },
    {
     "name": "stderr",
     "output_type": "stream",
     "text": [
      "100%|██████████| 76756/76756 [00:31<00:00, 2437.64it/s]\n",
      "100%|██████████| 8529/8529 [00:00<00:00, 11962.54it/s]\n"
     ]
    },
    {
     "name": "stdout",
     "output_type": "stream",
     "text": [
      "Epoch 58 loss: 1.54045 1.46521\n",
      " cMnrLoo iteylba.LEeoon\n",
      "o prd  nNe.roatkd\n",
      "of;i\n",
      "iI wht\n",
      "eoa\n",
      " r fs\n",
      "\n"
     ]
    },
    {
     "name": "stderr",
     "output_type": "stream",
     "text": [
      "100%|██████████| 76756/76756 [00:31<00:00, 2439.48it/s]\n",
      "100%|██████████| 8529/8529 [00:00<00:00, 12123.31it/s]\n"
     ]
    },
    {
     "name": "stdout",
     "output_type": "stream",
     "text": [
      "Epoch 59 loss: 1.53913 1.46471\n",
      "hlSiahltey'ghh c Prlme yBF ho d wEm d oyhrM \n",
      "ero e Tt Aym ehny \n",
      "\n"
     ]
    },
    {
     "name": "stderr",
     "output_type": "stream",
     "text": [
      "100%|██████████| 76756/76756 [00:31<00:00, 2456.89it/s]\n",
      "100%|██████████| 8529/8529 [00:00<00:00, 12111.57it/s]\n"
     ]
    },
    {
     "name": "stdout",
     "output_type": "stream",
     "text": [
      "Epoch 60 loss: 1.53849 1.46242\n",
      " d\n",
      "ie oecuuwa mlv mkra y sdR] ceyjmye ,!heTU ts NtoNn dOmo'kie \n",
      "\n"
     ]
    },
    {
     "name": "stderr",
     "output_type": "stream",
     "text": [
      "100%|██████████| 76756/76756 [00:31<00:00, 2456.19it/s]\n",
      "100%|██████████| 8529/8529 [00:00<00:00, 12100.05it/s]\n"
     ]
    },
    {
     "name": "stdout",
     "output_type": "stream",
     "text": [
      "Epoch 61 loss: 1.53775 1.46415\n",
      "n o BT'htm    .l.lush . Bvil,c ona ee io af\n",
      "o v\n",
      "o. ft  o,,doro \n",
      "\n"
     ]
    },
    {
     "name": "stderr",
     "output_type": "stream",
     "text": [
      "100%|██████████| 76756/76756 [00:31<00:00, 2471.81it/s]\n",
      "100%|██████████| 8529/8529 [00:00<00:00, 12179.85it/s]\n"
     ]
    },
    {
     "name": "stdout",
     "output_type": "stream",
     "text": [
      "Epoch 62 loss: 1.53661 1.46275\n",
      "dys nv  oaalmORcaa Enidsen,  son srCa ;b eyu eoRhdN lo rl  rs\n",
      " \n",
      "\n"
     ]
    },
    {
     "name": "stderr",
     "output_type": "stream",
     "text": [
      "100%|██████████| 76756/76756 [00:30<00:00, 2487.48it/s]\n",
      "100%|██████████| 8529/8529 [00:00<00:00, 12187.18it/s]\n"
     ]
    },
    {
     "name": "stdout",
     "output_type": "stream",
     "text": [
      "Epoch 63 loss: 1.53627 1.46241\n",
      "mic a uvyg BlaaJ O ahh seycia nwl srybrordEO olos muwrYoehoodA \n",
      "\n"
     ]
    },
    {
     "name": "stderr",
     "output_type": "stream",
     "text": [
      "100%|██████████| 76756/76756 [00:30<00:00, 2492.51it/s]\n",
      "100%|██████████| 8529/8529 [00:00<00:00, 12196.67it/s]\n"
     ]
    },
    {
     "name": "stdout",
     "output_type": "stream",
     "text": [
      "Epoch 64 loss: 1.53578 1.46371\n",
      "T  en th'CmnEegebmyiIOye  eo   gghn ompo  svmIfAnbthnan sB  wo \n",
      "\n"
     ]
    },
    {
     "name": "stderr",
     "output_type": "stream",
     "text": [
      "100%|██████████| 76756/76756 [00:30<00:00, 2531.19it/s]\n",
      "100%|██████████| 8529/8529 [00:00<00:00, 12199.24it/s]\n"
     ]
    },
    {
     "name": "stdout",
     "output_type": "stream",
     "text": [
      "Epoch 65 loss: 1.53471 1.46435\n",
      "o Cln o s iFw\n",
      "adtaet , yys  ae-ef -IA' wwe wOhaCunoLgnishdosm-e\n",
      "\n"
     ]
    },
    {
     "name": "stderr",
     "output_type": "stream",
     "text": [
      "100%|██████████| 76756/76756 [00:30<00:00, 2495.41it/s]\n",
      "100%|██████████| 8529/8529 [00:00<00:00, 12190.59it/s]\n"
     ]
    },
    {
     "name": "stdout",
     "output_type": "stream",
     "text": [
      "Epoch 66 loss: 1.53434 1.45886\n",
      " tGERe m  eNetoeI sBsh. hoivtat lrneolt hbmnh tI rs s OA rI htr\n",
      "\n"
     ]
    },
    {
     "name": "stderr",
     "output_type": "stream",
     "text": [
      "100%|██████████| 76756/76756 [00:30<00:00, 2494.12it/s]\n",
      "100%|██████████| 8529/8529 [00:00<00:00, 12192.14it/s]\n"
     ]
    },
    {
     "name": "stdout",
     "output_type": "stream",
     "text": [
      "Epoch 67 loss: 1.53316 1.46023\n",
      "   nosCnfs\n",
      " ' erowY.  N otLrioboN\n",
      "   MDaao  ctwsoo l hsded ,\n",
      " e\n",
      "\n"
     ]
    },
    {
     "name": "stderr",
     "output_type": "stream",
     "text": [
      "100%|██████████| 76756/76756 [00:30<00:00, 2495.42it/s]\n",
      "100%|██████████| 8529/8529 [00:00<00:00, 12197.15it/s]\n"
     ]
    },
    {
     "name": "stdout",
     "output_type": "stream",
     "text": [
      "Epoch 68 loss: 1.53258 1.45855\n",
      " hennasO  o IguR uyhc ln sV te ho  yleoted foehd n flf o i  no \n",
      "\n"
     ]
    },
    {
     "name": "stderr",
     "output_type": "stream",
     "text": [
      "100%|██████████| 76756/76756 [00:30<00:00, 2494.63it/s]\n",
      "100%|██████████| 8529/8529 [00:00<00:00, 12183.02it/s]\n"
     ]
    },
    {
     "name": "stdout",
     "output_type": "stream",
     "text": [
      "Epoch 69 loss: 1.53185 1.45841\n",
      " eX .nh;rh   aisult s\n",
      " h sFhlge  e\n",
      "ew g d\n",
      "u\n",
      ".,hio  n?;O tR l ls\n",
      "\n"
     ]
    },
    {
     "name": "stderr",
     "output_type": "stream",
     "text": [
      "100%|██████████| 76756/76756 [00:30<00:00, 2494.62it/s]\n",
      "100%|██████████| 8529/8529 [00:00<00:00, 12195.12it/s]\n"
     ]
    },
    {
     "name": "stdout",
     "output_type": "stream",
     "text": [
      "Epoch 70 loss: 1.53144 1.46040\n",
      "sA tI th lithboec c rdt o'Cr bSbi-lc.s dtoehlinee tdh tteiOtMri\n",
      "\n"
     ]
    },
    {
     "name": "stderr",
     "output_type": "stream",
     "text": [
      "100%|██████████| 76756/76756 [00:30<00:00, 2494.67it/s]\n",
      "100%|██████████| 8529/8529 [00:00<00:00, 12190.02it/s]\n"
     ]
    },
    {
     "name": "stdout",
     "output_type": "stream",
     "text": [
      "Epoch 71 loss: 1.53052 1.45750\n",
      "wh lOiso;  ost tt ojn   u etNoto  goHwy.Mdne lhdkl,u i,yypLlohi\n",
      "\n"
     ]
    },
    {
     "name": "stderr",
     "output_type": "stream",
     "text": [
      "100%|██████████| 76756/76756 [00:30<00:00, 2495.11it/s]\n",
      "100%|██████████| 8529/8529 [00:00<00:00, 12019.67it/s]\n"
     ]
    },
    {
     "name": "stdout",
     "output_type": "stream",
     "text": [
      "Epoch 72 loss: 1.53002 1.45534\n",
      " S oithh tlayinft tsceoe  ey;duhTe\n",
      "orr s a iBoraing'rsGdo  U'\n",
      "T\n",
      "\n"
     ]
    },
    {
     "name": "stderr",
     "output_type": "stream",
     "text": [
      "100%|██████████| 76756/76756 [00:30<00:00, 2482.15it/s]\n",
      "100%|██████████| 8529/8529 [00:00<00:00, 12186.51it/s]\n"
     ]
    },
    {
     "name": "stdout",
     "output_type": "stream",
     "text": [
      "Epoch 73 loss: 1.52931 1.45666\n",
      "e te Csu.otuFedettIood rp.ri iyn en ttE   mierNhr e ,e  S.  e t\n",
      "\n"
     ]
    },
    {
     "name": "stderr",
     "output_type": "stream",
     "text": [
      "100%|██████████| 76756/76756 [00:30<00:00, 2492.80it/s]\n",
      "100%|██████████| 8529/8529 [00:00<00:00, 12083.76it/s]\n"
     ]
    },
    {
     "name": "stdout",
     "output_type": "stream",
     "text": [
      "Epoch 74 loss: 1.52911 1.45712\n",
      " B  c bdDso \n",
      "n,  eha   fretIl hh  Vg\n",
      "utod\n",
      "i  Tir iehrhnntgk  g \n",
      "\n"
     ]
    },
    {
     "name": "stderr",
     "output_type": "stream",
     "text": [
      "100%|██████████| 76756/76756 [00:30<00:00, 2492.86it/s]\n",
      "100%|██████████| 8529/8529 [00:00<00:00, 12101.78it/s]\n"
     ]
    },
    {
     "name": "stdout",
     "output_type": "stream",
     "text": [
      "Epoch 75 loss: 1.52794 1.45593\n",
      "w htwl    i!tEE    tYhe dd nrgs ,fd naht ieV ' c tnbwh I chtiar\n",
      "\n"
     ]
    },
    {
     "name": "stderr",
     "output_type": "stream",
     "text": [
      "100%|██████████| 76756/76756 [00:30<00:00, 2493.13it/s]\n",
      "100%|██████████| 8529/8529 [00:00<00:00, 12192.58it/s]\n"
     ]
    },
    {
     "name": "stdout",
     "output_type": "stream",
     "text": [
      "Epoch 76 loss: 1.52772 1.45344\n",
      "hcdv foA lahit hka g'os\n",
      "   \n",
      "hf\n",
      "roha  e teIper,enneNw   em\n",
      " hec \n",
      "\n"
     ]
    },
    {
     "name": "stderr",
     "output_type": "stream",
     "text": [
      "100%|██████████| 76756/76756 [00:30<00:00, 2492.89it/s]\n",
      "100%|██████████| 8529/8529 [00:00<00:00, 12192.89it/s]\n"
     ]
    },
    {
     "name": "stdout",
     "output_type": "stream",
     "text": [
      "Epoch 77 loss: 1.52698 1.45522\n",
      "aeids s aeNbyyas wn iOis jr\n",
      "fRha!t!IC otaaokou h o!ekmBp  nu ui\n",
      "\n"
     ]
    },
    {
     "name": "stderr",
     "output_type": "stream",
     "text": [
      "100%|██████████| 76756/76756 [00:30<00:00, 2493.44it/s]\n",
      "100%|██████████| 8529/8529 [00:00<00:00, 12189.91it/s]\n"
     ]
    },
    {
     "name": "stdout",
     "output_type": "stream",
     "text": [
      "Epoch 78 loss: 1.52650 1.45462\n",
      " n ryEri nf;Nr\n",
      "HtbtckeynF   sete s,un  ht e\n",
      "ae o \n",
      "t hlcOs  otE \n",
      "\n"
     ]
    },
    {
     "name": "stderr",
     "output_type": "stream",
     "text": [
      "100%|██████████| 76756/76756 [00:30<00:00, 2493.11it/s]\n",
      "100%|██████████| 8529/8529 [00:00<00:00, 12188.62it/s]\n"
     ]
    },
    {
     "name": "stdout",
     "output_type": "stream",
     "text": [
      "Epoch 79 loss: 1.52598 1.45387\n",
      "HiEe,e\n",
      ",o.s ,re \n",
      "rR oantehw i  realte aesn io? s\n",
      "s Cnt tnhtos s\n",
      "\n"
     ]
    },
    {
     "name": "stderr",
     "output_type": "stream",
     "text": [
      "100%|██████████| 76756/76756 [00:31<00:00, 2465.55it/s]\n",
      "100%|██████████| 8529/8529 [00:00<00:00, 11942.43it/s]\n"
     ]
    },
    {
     "name": "stdout",
     "output_type": "stream",
     "text": [
      "Epoch 80 loss: 1.52536 1.45256\n",
      "o  pwdr.N tealteesfN.tii  I g  e\n",
      "\n",
      "MTy'n  htiaa,kanT,\n",
      "oUfe\n",
      "hpt h\n",
      "\n"
     ]
    },
    {
     "name": "stderr",
     "output_type": "stream",
     "text": [
      "100%|██████████| 76756/76756 [00:30<00:00, 2502.60it/s]\n",
      "100%|██████████| 8529/8529 [00:00<00:00, 12196.16it/s]\n"
     ]
    },
    {
     "name": "stdout",
     "output_type": "stream",
     "text": [
      "Epoch 81 loss: 1.52530 1.45489\n",
      "rmmet e loLhEn  n v hihMahaaiht  OheSm e   FbnSsa \n",
      " rAra\n",
      "Asa th\n",
      "\n"
     ]
    },
    {
     "name": "stderr",
     "output_type": "stream",
     "text": [
      "100%|██████████| 76756/76756 [00:28<00:00, 2665.28it/s]\n",
      "100%|██████████| 8529/8529 [00:00<00:00, 12199.57it/s]\n"
     ]
    },
    {
     "name": "stdout",
     "output_type": "stream",
     "text": [
      "Epoch 82 loss: 1.52456 1.45311\n",
      "os'sAr .,.'Parw sdyntoartp uiaoRuelenytih t\n",
      "y oNi oo 'ndn'ntuvi\n",
      "\n"
     ]
    },
    {
     "name": "stderr",
     "output_type": "stream",
     "text": [
      "100%|██████████| 76756/76756 [00:28<00:00, 2665.29it/s]\n",
      "100%|██████████| 8529/8529 [00:00<00:00, 12199.33it/s]\n"
     ]
    },
    {
     "name": "stdout",
     "output_type": "stream",
     "text": [
      "Epoch 83 loss: 1.52386 1.44921\n",
      " RN,hlM.n'n\n",
      "  t L Eo  i'n a e tmo   aNne.x d hhpo .  tt  \n",
      " w Y \n",
      "\n"
     ]
    },
    {
     "name": "stderr",
     "output_type": "stream",
     "text": [
      "100%|██████████| 76756/76756 [00:28<00:00, 2665.31it/s]\n",
      "100%|██████████| 8529/8529 [00:00<00:00, 12195.34it/s]\n"
     ]
    },
    {
     "name": "stdout",
     "output_type": "stream",
     "text": [
      "Epoch 84 loss: 1.52346 1.44850\n",
      "teciy.s e.ud bhy oe i  mry I\n",
      "eEaiadta\n",
      " rfA h h  srtg .t lntyehw\n",
      "\n"
     ]
    },
    {
     "name": "stderr",
     "output_type": "stream",
     "text": [
      "100%|██████████| 76756/76756 [00:28<00:00, 2665.41it/s]\n",
      "100%|██████████| 8529/8529 [00:00<00:00, 12192.59it/s]\n"
     ]
    },
    {
     "name": "stdout",
     "output_type": "stream",
     "text": [
      "Epoch 85 loss: 1.52287 1.44989\n",
      "t wtor\n",
      "Hn 'A e h gnrhkr teTaeKi rdnaAackUr \n",
      "lhSa aA\n",
      "feusLm ''di\n",
      "\n"
     ]
    },
    {
     "name": "stderr",
     "output_type": "stream",
     "text": [
      "100%|██████████| 76756/76756 [00:28<00:00, 2665.34it/s]\n",
      "100%|██████████| 8529/8529 [00:00<00:00, 12191.97it/s]\n"
     ]
    },
    {
     "name": "stdout",
     "output_type": "stream",
     "text": [
      "Epoch 86 loss: 1.52243 1.44952\n",
      "ty dda s ooiS sm sAisrNeh tn iedihp y  CGfAaIs?   iDoitg i h yt\n",
      "\n"
     ]
    },
    {
     "name": "stderr",
     "output_type": "stream",
     "text": [
      "100%|██████████| 76756/76756 [00:28<00:00, 2665.19it/s]\n",
      "100%|██████████| 8529/8529 [00:00<00:00, 12187.56it/s]\n"
     ]
    },
    {
     "name": "stdout",
     "output_type": "stream",
     "text": [
      "Epoch 87 loss: 1.52173 1.44747\n",
      "MeA  IhhnNpp l Wa  w.hRKWr ro\n",
      "pybhs \n",
      "  a Ays a t rsU e nn\n",
      "pURy \n",
      "\n"
     ]
    },
    {
     "name": "stderr",
     "output_type": "stream",
     "text": [
      "100%|██████████| 76756/76756 [00:29<00:00, 2598.50it/s]\n",
      "100%|██████████| 8529/8529 [00:00<00:00, 12189.01it/s]\n"
     ]
    },
    {
     "name": "stdout",
     "output_type": "stream",
     "text": [
      "Epoch 88 loss: 1.52175 1.44636\n",
      "kirsnhhhhN hr  rafth, fIAraso l r SD o k rdAi\n",
      "alat teert .aieba\n",
      "\n"
     ]
    },
    {
     "name": "stderr",
     "output_type": "stream",
     "text": [
      "100%|██████████| 76756/76756 [00:30<00:00, 2493.41it/s]\n",
      "100%|██████████| 8529/8529 [00:00<00:00, 12188.03it/s]\n"
     ]
    },
    {
     "name": "stdout",
     "output_type": "stream",
     "text": [
      "Epoch 89 loss: 1.52115 1.44782\n",
      "cE snydiM   Hc dBl  bm dm  emtr ld m!i  nhrrtihrna iag sphei hI\n",
      "\n"
     ]
    },
    {
     "name": "stderr",
     "output_type": "stream",
     "text": [
      "100%|██████████| 76756/76756 [00:30<00:00, 2551.80it/s]\n",
      "100%|██████████| 8529/8529 [00:00<00:00, 12201.71it/s]\n"
     ]
    },
    {
     "name": "stdout",
     "output_type": "stream",
     "text": [
      "Epoch 90 loss: 1.52059 1.44640\n",
      "' -dhc rsm\n",
      "t rpt , kouhheFRdre ryeta S '  !'u dr .td e   br ne \n",
      "\n"
     ]
    },
    {
     "name": "stderr",
     "output_type": "stream",
     "text": [
      "100%|██████████| 76756/76756 [00:28<00:00, 2673.01it/s]\n",
      "100%|██████████| 8529/8529 [00:00<00:00, 12023.03it/s]\n"
     ]
    },
    {
     "name": "stdout",
     "output_type": "stream",
     "text": [
      "Epoch 91 loss: 1.52020 1.44501\n",
      "o \n",
      " Ntften.t deesenh t ot thuc kapV AO,rm leoisIa rscR\n",
      "sN \n",
      "rier\n",
      "\n"
     ]
    },
    {
     "name": "stderr",
     "output_type": "stream",
     "text": [
      "100%|██████████| 76756/76756 [00:29<00:00, 2584.67it/s]\n",
      "100%|██████████| 8529/8529 [00:00<00:00, 12198.72it/s]\n"
     ]
    },
    {
     "name": "stdout",
     "output_type": "stream",
     "text": [
      "Epoch 92 loss: 1.51998 1.44547\n",
      "our otebll er  ea \n",
      "Unh      ohNeere  eaterIhe Sh. ii ue tep l\n",
      " \n",
      "\n"
     ]
    },
    {
     "name": "stderr",
     "output_type": "stream",
     "text": [
      "100%|██████████| 76756/76756 [00:28<00:00, 2665.28it/s]\n",
      "100%|██████████| 8529/8529 [00:00<00:00, 12202.49it/s]\n"
     ]
    },
    {
     "name": "stdout",
     "output_type": "stream",
     "text": [
      "Epoch 93 loss: 1.51944 1.44853\n",
      " aTy  ah iSiw  es ulVdsiaoohuaseoiamoord\n",
      " Nyea y sENrid we hTnh\n",
      "\n"
     ]
    },
    {
     "name": "stderr",
     "output_type": "stream",
     "text": [
      "100%|██████████| 76756/76756 [00:28<00:00, 2665.45it/s]\n",
      "100%|██████████| 8529/8529 [00:00<00:00, 12195.99it/s]\n"
     ]
    },
    {
     "name": "stdout",
     "output_type": "stream",
     "text": [
      "Epoch 94 loss: 1.51873 1.44872\n",
      "ewle9  rin atp.ieroaace Eaq Dar asdrdi eeO oLwa yM,\n",
      "  mUHtnn.pm\n",
      "\n"
     ]
    },
    {
     "name": "stderr",
     "output_type": "stream",
     "text": [
      "100%|██████████| 76756/76756 [00:28<00:00, 2665.22it/s]\n",
      "100%|██████████| 8529/8529 [00:00<00:00, 12197.38it/s]\n"
     ]
    },
    {
     "name": "stdout",
     "output_type": "stream",
     "text": [
      "Epoch 95 loss: 1.51832 1.44530\n",
      "paarcoi huo ehon mn vsoad O i.,hosLCii r It,s eyr\n",
      "n EOIhb. !s p\n",
      "\n"
     ]
    },
    {
     "name": "stderr",
     "output_type": "stream",
     "text": [
      "100%|██████████| 76756/76756 [00:28<00:00, 2665.24it/s]\n",
      "100%|██████████| 8529/8529 [00:00<00:00, 12195.86it/s]\n"
     ]
    },
    {
     "name": "stdout",
     "output_type": "stream",
     "text": [
      "Epoch 96 loss: 1.51828 1.44749\n",
      "i hdoiO   iot .ost ,nc EorttHua\n",
      "ht,e.inieUses bii l oicnWoeR v \n",
      "\n"
     ]
    },
    {
     "name": "stderr",
     "output_type": "stream",
     "text": [
      "100%|██████████| 76756/76756 [00:28<00:00, 2665.25it/s]\n",
      "100%|██████████| 8529/8529 [00:00<00:00, 12198.49it/s]\n"
     ]
    },
    {
     "name": "stdout",
     "output_type": "stream",
     "text": [
      "Epoch 97 loss: 1.51788 1.44923\n",
      "M s\n",
      " hc n wlo   l ummeskt  rt, erorelbsh'iMo  ssmeum d, c yi]lh\n",
      "\n"
     ]
    },
    {
     "name": "stderr",
     "output_type": "stream",
     "text": [
      "100%|██████████| 76756/76756 [00:28<00:00, 2665.25it/s]\n",
      "100%|██████████| 8529/8529 [00:00<00:00, 12190.42it/s]\n"
     ]
    },
    {
     "name": "stdout",
     "output_type": "stream",
     "text": [
      "Epoch 98 loss: 1.51694 1.44699\n",
      "mee.doHro.t u c i' hiro \n",
      "itHMhsh     MWt ugroE  ao\n",
      " c so.nes .b\n",
      "\n"
     ]
    },
    {
     "name": "stderr",
     "output_type": "stream",
     "text": [
      "100%|██████████| 76756/76756 [00:28<00:00, 2665.20it/s]\n",
      "100%|██████████| 8529/8529 [00:00<00:00, 12196.60it/s]\n"
     ]
    },
    {
     "name": "stdout",
     "output_type": "stream",
     "text": [
      "Epoch 99 loss: 1.51722 1.44268\n",
      "e ge Rnimso RTaNllsel\n",
      "   ro  imoCe ?enTru  w  eerm?rMa'b aeemnR\n",
      "\n"
     ]
    },
    {
     "name": "stderr",
     "output_type": "stream",
     "text": [
      "100%|██████████| 76756/76756 [00:28<00:00, 2665.22it/s]\n",
      "100%|██████████| 8529/8529 [00:00<00:00, 12188.14it/s]\n"
     ]
    },
    {
     "name": "stdout",
     "output_type": "stream",
     "text": [
      "Epoch 100 loss: 1.51680 1.44434\n",
      " il  esudnrtn\n",
      " anno edu ns  \n",
      "  aesae  B Di gTPatGnao E,dsEhd.\n",
      "M\n",
      "\n"
     ]
    },
    {
     "name": "stderr",
     "output_type": "stream",
     "text": [
      "100%|██████████| 76756/76756 [00:28<00:00, 2665.54it/s]\n",
      "100%|██████████| 8529/8529 [00:00<00:00, 12197.51it/s]\n"
     ]
    },
    {
     "name": "stdout",
     "output_type": "stream",
     "text": [
      "Epoch 101 loss: 1.51602 1.44684\n",
      "l llidH ssecaaItid\n",
      "nli aeaee\n",
      " ahAm t; ltidAmreNhya ar uwn  oC P\n",
      "\n"
     ]
    },
    {
     "name": "stderr",
     "output_type": "stream",
     "text": [
      "100%|██████████| 76756/76756 [00:28<00:00, 2665.60it/s]\n",
      "100%|██████████| 8529/8529 [00:00<00:00, 12191.61it/s]\n"
     ]
    },
    {
     "name": "stdout",
     "output_type": "stream",
     "text": [
      "Epoch 102 loss: 1.51551 1.44516\n",
      "re oS  ha hm   ar cE\n",
      "ro lneiCdagete,tornOa oS ehItiiatw p\n",
      ".  l \n",
      "\n"
     ]
    },
    {
     "name": "stderr",
     "output_type": "stream",
     "text": [
      "100%|██████████| 76756/76756 [00:28<00:00, 2665.28it/s]\n",
      "100%|██████████| 8529/8529 [00:00<00:00, 12200.61it/s]\n"
     ]
    },
    {
     "name": "stdout",
     "output_type": "stream",
     "text": [
      "Epoch 103 loss: 1.51510 1.44438\n",
      "lehebpeee n  rhlcaahdA  Eoske ol  EecHol, aha na CaHnno saoldeS\n",
      "\n"
     ]
    },
    {
     "name": "stderr",
     "output_type": "stream",
     "text": [
      "100%|██████████| 76756/76756 [00:28<00:00, 2665.44it/s]\n",
      "100%|██████████| 8529/8529 [00:00<00:00, 12206.80it/s]\n"
     ]
    },
    {
     "name": "stdout",
     "output_type": "stream",
     "text": [
      "Epoch 104 loss: 1.51483 1.44571\n",
      "ios Thnitcbt rhl  frk, e r feWnpEs\n",
      " \n",
      "to m  e f alM  ;tt toelaaP\n",
      "\n"
     ]
    },
    {
     "name": "stderr",
     "output_type": "stream",
     "text": [
      "100%|██████████| 76756/76756 [00:28<00:00, 2665.41it/s]\n",
      "100%|██████████| 8529/8529 [00:00<00:00, 12204.65it/s]\n"
     ]
    },
    {
     "name": "stdout",
     "output_type": "stream",
     "text": [
      "Epoch 105 loss: 1.51442 1.44549\n",
      "S a r r o  R utudpn u e   no   \n",
      "\n",
      "ghsnenV s\n",
      "\n",
      "lcwcoeeOe,lstf. i t\n",
      "\n"
     ]
    },
    {
     "name": "stderr",
     "output_type": "stream",
     "text": [
      "100%|██████████| 76756/76756 [00:29<00:00, 2638.60it/s]\n",
      "100%|██████████| 8529/8529 [00:00<00:00, 11868.25it/s]\n"
     ]
    },
    {
     "name": "stdout",
     "output_type": "stream",
     "text": [
      "Epoch 106 loss: 1.51398 1.44096\n",
      " o , cHuyii hpi as ml.bsrditt, irddr n T\n",
      "\n",
      "adctm rUAtnei \n",
      "Eea on\n",
      "\n"
     ]
    },
    {
     "name": "stderr",
     "output_type": "stream",
     "text": [
      "100%|██████████| 76756/76756 [00:29<00:00, 2605.22it/s]\n",
      "100%|██████████| 8529/8529 [00:00<00:00, 11991.64it/s]\n"
     ]
    },
    {
     "name": "stdout",
     "output_type": "stream",
     "text": [
      "Epoch 107 loss: 1.51381 1.44335\n",
      "n u  \n",
      "A ielnvotmtTi berTertua   ti\n",
      "n 'yMt  umr ibnd h HfAqv bs \n",
      "\n"
     ]
    },
    {
     "name": "stderr",
     "output_type": "stream",
     "text": [
      "100%|██████████| 76756/76756 [00:31<00:00, 2437.00it/s]\n",
      "100%|██████████| 8529/8529 [00:00<00:00, 11934.98it/s]\n"
     ]
    },
    {
     "name": "stdout",
     "output_type": "stream",
     "text": [
      "Epoch 108 loss: 1.51355 1.44328\n",
      "eha \n",
      "tysd\n",
      "hoyoo    ao ave   ti  \n",
      "yw mK S  v  edirOr  yestLerood\n",
      "\n"
     ]
    },
    {
     "name": "stderr",
     "output_type": "stream",
     "text": [
      "100%|██████████| 76756/76756 [00:31<00:00, 2436.15it/s]\n",
      "100%|██████████| 8529/8529 [00:00<00:00, 11970.60it/s]\n"
     ]
    },
    {
     "name": "stdout",
     "output_type": "stream",
     "text": [
      "Epoch 109 loss: 1.51347 1.44091\n",
      "eDw,sd egke rc lbCFyeE .oAdr'  e llsTHb  urg ,l deyo tMetHw-tut\n",
      "\n"
     ]
    },
    {
     "name": "stderr",
     "output_type": "stream",
     "text": [
      "100%|██████████| 76756/76756 [00:31<00:00, 2435.39it/s]\n",
      "100%|██████████| 8529/8529 [00:00<00:00, 11958.42it/s]\n"
     ]
    },
    {
     "name": "stdout",
     "output_type": "stream",
     "text": [
      "Epoch 110 loss: 1.51329 1.44020\n",
      "cn\n",
      "r,a   dore y  e.rluwth  e t  eet n  tlob! sASt p ;h.\n",
      " as .Ur\n",
      "\n"
     ]
    },
    {
     "name": "stderr",
     "output_type": "stream",
     "text": [
      "100%|██████████| 76756/76756 [00:31<00:00, 2435.19it/s]\n",
      "100%|██████████| 8529/8529 [00:00<00:00, 11987.06it/s]\n"
     ]
    },
    {
     "name": "stdout",
     "output_type": "stream",
     "text": [
      "Epoch 111 loss: 1.51287 1.44033\n",
      "ntfkLPf\n",
      "ehaRonpw htF' gfeuII   plit .iyresta Ass  hatnNoc k wsl\n",
      "\n"
     ]
    },
    {
     "name": "stderr",
     "output_type": "stream",
     "text": [
      "100%|██████████| 76756/76756 [00:31<00:00, 2436.48it/s]\n",
      "100%|██████████| 8529/8529 [00:00<00:00, 11978.91it/s]\n"
     ]
    },
    {
     "name": "stdout",
     "output_type": "stream",
     "text": [
      "Epoch 112 loss: 1.51243 1.44375\n",
      "wTedLe e.nI - C  ehrUh aFoHr,\n",
      "iN  tieos\n",
      "\n",
      "n af sAd y\n",
      " rn  l.s t \n",
      "\n"
     ]
    },
    {
     "name": "stderr",
     "output_type": "stream",
     "text": [
      "100%|██████████| 76756/76756 [00:31<00:00, 2436.95it/s]\n",
      "100%|██████████| 8529/8529 [00:00<00:00, 11972.50it/s]\n"
     ]
    },
    {
     "name": "stdout",
     "output_type": "stream",
     "text": [
      "Epoch 113 loss: 1.51209 1.43798\n",
      "lsryn.v.iaIPr  e'e e  u riOuWM Mtod llt newrcow ahds L.ae  n ef\n",
      "\n"
     ]
    },
    {
     "name": "stderr",
     "output_type": "stream",
     "text": [
      "100%|██████████| 76756/76756 [00:31<00:00, 2461.56it/s]\n",
      "100%|██████████| 8529/8529 [00:00<00:00, 11986.11it/s]\n"
     ]
    },
    {
     "name": "stdout",
     "output_type": "stream",
     "text": [
      "Epoch 114 loss: 1.51200 1.44204\n",
      "aaida ejsrn wthuit  t  od. ,iheaeene a . el.n boSDr    r \n",
      "  O- \n",
      "\n"
     ]
    },
    {
     "name": "stderr",
     "output_type": "stream",
     "text": [
      "100%|██████████| 76756/76756 [00:31<00:00, 2436.65it/s]\n",
      "100%|██████████| 8529/8529 [00:00<00:00, 11974.39it/s]\n"
     ]
    },
    {
     "name": "stdout",
     "output_type": "stream",
     "text": [
      "Epoch 115 loss: 1.51150 1.43837\n",
      "  i\n",
      "s, s\n",
      "e iptse U se.hn ns  rmdt d  r rhiwt  - rn,hsmn -t f ed\n",
      "\n"
     ]
    },
    {
     "name": "stderr",
     "output_type": "stream",
     "text": [
      "100%|██████████| 76756/76756 [00:31<00:00, 2436.39it/s]\n",
      "100%|██████████| 8529/8529 [00:00<00:00, 11949.58it/s]\n"
     ]
    },
    {
     "name": "stdout",
     "output_type": "stream",
     "text": [
      "Epoch 116 loss: 1.51120 1.43866\n",
      ",leaR  e \n",
      "l3hwmVososw enrm g eAhceoiae WEep  .u  h     oAiennp \n",
      "\n"
     ]
    },
    {
     "name": "stderr",
     "output_type": "stream",
     "text": [
      "100%|██████████| 76756/76756 [00:31<00:00, 2436.34it/s]\n",
      "100%|██████████| 8529/8529 [00:00<00:00, 11957.20it/s]\n"
     ]
    },
    {
     "name": "stdout",
     "output_type": "stream",
     "text": [
      "Epoch 117 loss: 1.51063 1.43868\n",
      ".ttreht'i ajf yasrordcWr E idbohRdea cose  S,B\n",
      "Gnsartl ''okIAtm\n",
      "\n"
     ]
    },
    {
     "name": "stderr",
     "output_type": "stream",
     "text": [
      "100%|██████████| 76756/76756 [00:31<00:00, 2436.15it/s]\n",
      "100%|██████████| 8529/8529 [00:00<00:00, 11991.08it/s]\n"
     ]
    },
    {
     "name": "stdout",
     "output_type": "stream",
     "text": [
      "Epoch 118 loss: 1.51067 1.44052\n",
      "rt a\n",
      "I sdn  ld  lIi NA   sFesl\n",
      "mlh lCt\n",
      " hCsn   omgyl  h,ddd  ,n\n",
      "\n"
     ]
    },
    {
     "name": "stderr",
     "output_type": "stream",
     "text": [
      "100%|██████████| 76756/76756 [00:30<00:00, 2549.74it/s]\n",
      "100%|██████████| 8529/8529 [00:00<00:00, 12120.13it/s]\n"
     ]
    },
    {
     "name": "stdout",
     "output_type": "stream",
     "text": [
      "Epoch 119 loss: 1.51016 1.43797\n",
      "eEdtoy n\n",
      " h chi  ha In goahd  ey ' lu    a  evdcnanu m\n",
      "tNdr Hn \n",
      "\n"
     ]
    },
    {
     "name": "stderr",
     "output_type": "stream",
     "text": [
      "100%|██████████| 76756/76756 [00:29<00:00, 2642.22it/s]\n",
      "100%|██████████| 8529/8529 [00:00<00:00, 12120.81it/s]\n"
     ]
    },
    {
     "name": "stdout",
     "output_type": "stream",
     "text": [
      "Epoch 120 loss: 1.50963 1.43877\n",
      "  a-ihf,l g. it le ht irOmntaRs wrnysr hyo eyts IadSwnfy ll r,u\n",
      "\n"
     ]
    },
    {
     "name": "stderr",
     "output_type": "stream",
     "text": [
      "100%|██████████| 76756/76756 [00:29<00:00, 2642.57it/s]\n",
      "100%|██████████| 8529/8529 [00:00<00:00, 12122.51it/s]\n"
     ]
    },
    {
     "name": "stdout",
     "output_type": "stream",
     "text": [
      "Epoch 121 loss: 1.50971 1.44060\n",
      " w  AaEnoo. c wgb mmnlcdogerH mEeh nc iA  tt c tN eDVdAvdgIo.ll\n",
      "\n"
     ]
    },
    {
     "name": "stderr",
     "output_type": "stream",
     "text": [
      "100%|██████████| 76756/76756 [00:29<00:00, 2641.84it/s]\n",
      "100%|██████████| 8529/8529 [00:00<00:00, 12130.55it/s]\n"
     ]
    },
    {
     "name": "stdout",
     "output_type": "stream",
     "text": [
      "Epoch 122 loss: 1.50903 1.43568\n",
      "hs\n",
      "\n",
      "e Io l  t'aTh tAGu frRU rn tfriehruun\n",
      " arHsO  a MrOeo  erof\n",
      "\n"
     ]
    },
    {
     "name": "stderr",
     "output_type": "stream",
     "text": [
      "100%|██████████| 76756/76756 [00:29<00:00, 2642.12it/s]\n",
      "100%|██████████| 8529/8529 [00:00<00:00, 12122.16it/s]\n"
     ]
    },
    {
     "name": "stdout",
     "output_type": "stream",
     "text": [
      "Epoch 123 loss: 1.50860 1.43823\n",
      "ohi h  oia c   eictIt !LisAm   nUtless  n'tyt  rIesyse,,h  ef ,\n",
      "\n"
     ]
    },
    {
     "name": "stderr",
     "output_type": "stream",
     "text": [
      "100%|██████████| 76756/76756 [00:29<00:00, 2642.75it/s]\n",
      "100%|██████████| 8529/8529 [00:00<00:00, 12124.06it/s]\n"
     ]
    },
    {
     "name": "stdout",
     "output_type": "stream",
     "text": [
      "Epoch 124 loss: 1.50873 1.43906\n",
      "bEheGd\n",
      "diokw o Co srteCneuyqhtndso r moseb ieeg  taRooal IehoE \n",
      "\n"
     ]
    },
    {
     "name": "stderr",
     "output_type": "stream",
     "text": [
      "100%|██████████| 76756/76756 [00:29<00:00, 2642.48it/s]\n",
      "100%|██████████| 8529/8529 [00:00<00:00, 12125.18it/s]\n"
     ]
    },
    {
     "name": "stdout",
     "output_type": "stream",
     "text": [
      "Epoch 125 loss: 1.50825 1.43706\n",
      " eloioRehNs meetA\n",
      "in r  buIOomoaisoft nr vo kvh l  hlafi iHle  \n",
      "\n"
     ]
    },
    {
     "name": "stderr",
     "output_type": "stream",
     "text": [
      "100%|██████████| 76756/76756 [00:29<00:00, 2642.98it/s]\n",
      "100%|██████████| 8529/8529 [00:00<00:00, 12129.15it/s]\n"
     ]
    },
    {
     "name": "stdout",
     "output_type": "stream",
     "text": [
      "Epoch 126 loss: 1.50807 1.43719\n",
      "tebe uo lrui tatbroye    thteGh o sMio \n",
      "r   sD utth e w le,neca\n",
      "\n"
     ]
    },
    {
     "name": "stderr",
     "output_type": "stream",
     "text": [
      "100%|██████████| 76756/76756 [00:29<00:00, 2642.48it/s]\n",
      "100%|██████████| 8529/8529 [00:00<00:00, 12129.33it/s]\n"
     ]
    },
    {
     "name": "stdout",
     "output_type": "stream",
     "text": [
      "Epoch 127 loss: 1.50830 1.43314\n",
      "lu  a \n",
      "o  at iDeosw cow o,t t dtnsK\n",
      "Is g[n'ch s   te aRknmanhmh\n",
      "\n"
     ]
    },
    {
     "name": "stderr",
     "output_type": "stream",
     "text": [
      "100%|██████████| 76756/76756 [00:29<00:00, 2642.15it/s]\n",
      "100%|██████████| 8529/8529 [00:00<00:00, 12130.45it/s]\n"
     ]
    },
    {
     "name": "stdout",
     "output_type": "stream",
     "text": [
      "Epoch 128 loss: 1.50782 1.43358\n",
      " 2ar tUR Aa dE A  tf N a  Ly nfFch e  hi ifdotrc dsuo  tro.trts\n",
      "\n"
     ]
    },
    {
     "name": "stderr",
     "output_type": "stream",
     "text": [
      "100%|██████████| 76756/76756 [00:29<00:00, 2642.16it/s]\n",
      "100%|██████████| 8529/8529 [00:00<00:00, 11938.13it/s]\n"
     ]
    },
    {
     "name": "stdout",
     "output_type": "stream",
     "text": [
      "Epoch 129 loss: 1.50719 1.44021\n",
      "ttn'here f  y  chi\n",
      "  No .fop.t ste tmPer w,b  ooo  a ou m ehen \n",
      "\n"
     ]
    },
    {
     "name": "stderr",
     "output_type": "stream",
     "text": [
      "100%|██████████| 76756/76756 [00:31<00:00, 2439.33it/s]\n",
      "100%|██████████| 8529/8529 [00:00<00:00, 12001.48it/s]\n"
     ]
    },
    {
     "name": "stdout",
     "output_type": "stream",
     "text": [
      "Epoch 130 loss: 1.50680 1.43515\n",
      "l.unik nodo h mM !l  i hr. oa hg,eyAbtgtlN  uheDoag trg ioe hdu\n",
      "\n"
     ]
    },
    {
     "name": "stderr",
     "output_type": "stream",
     "text": [
      "100%|██████████| 76756/76756 [00:31<00:00, 2439.16it/s]\n",
      "100%|██████████| 8529/8529 [00:00<00:00, 12041.00it/s]\n"
     ]
    },
    {
     "name": "stdout",
     "output_type": "stream",
     "text": [
      "Epoch 131 loss: 1.50700 1.43673\n",
      " o uy oW!S.stnc hb t  ehm,smoc AHhnsSm C qfLieefrtl. eds ol p.o\n",
      "\n"
     ]
    },
    {
     "name": "stderr",
     "output_type": "stream",
     "text": [
      "100%|██████████| 76756/76756 [00:31<00:00, 2438.28it/s]\n",
      "100%|██████████| 8529/8529 [00:00<00:00, 12030.73it/s]\n"
     ]
    },
    {
     "name": "stdout",
     "output_type": "stream",
     "text": [
      "Epoch 132 loss: 1.50671 1.43340\n",
      " Enhedye  e shnr nu t eSce we h hBabneg ]hed Mrs\n",
      "s sp;lpidu\n",
      "idD\n",
      "\n"
     ]
    },
    {
     "name": "stderr",
     "output_type": "stream",
     "text": [
      "100%|██████████| 76756/76756 [00:31<00:00, 2437.06it/s]\n",
      "100%|██████████| 8529/8529 [00:00<00:00, 12019.52it/s]\n"
     ]
    },
    {
     "name": "stdout",
     "output_type": "stream",
     "text": [
      "Epoch 133 loss: 1.50669 1.43412\n",
      "eCn rt .avpkht  e lu.Ysge   a.l h Bf  hO. deo ihe rer oit asism\n",
      "\n"
     ]
    },
    {
     "name": "stderr",
     "output_type": "stream",
     "text": [
      "100%|██████████| 76756/76756 [00:31<00:00, 2438.26it/s]\n",
      "100%|██████████| 8529/8529 [00:00<00:00, 12013.84it/s]\n"
     ]
    },
    {
     "name": "stdout",
     "output_type": "stream",
     "text": [
      "Epoch 134 loss: 1.50605 1.43228\n",
      "o  nSla saE;h tyiih tr o o   o Aas, Oyaitose \n",
      "dhfo eyH rdn i,Te\n",
      "\n"
     ]
    },
    {
     "name": "stderr",
     "output_type": "stream",
     "text": [
      "100%|██████████| 76756/76756 [00:31<00:00, 2438.62it/s]\n",
      "100%|██████████| 8529/8529 [00:00<00:00, 12011.82it/s]\n"
     ]
    },
    {
     "name": "stdout",
     "output_type": "stream",
     "text": [
      "Epoch 135 loss: 1.50586 1.43302\n",
      " el oL  aHloara \n",
      "plelIoos A   ,aer uh uoroug  iE nC  l  .eg.oMn\n",
      "\n"
     ]
    },
    {
     "name": "stderr",
     "output_type": "stream",
     "text": [
      "100%|██████████| 76756/76756 [00:31<00:00, 2438.17it/s]\n",
      "100%|██████████| 8529/8529 [00:00<00:00, 12023.97it/s]\n"
     ]
    },
    {
     "name": "stdout",
     "output_type": "stream",
     "text": [
      "Epoch 136 loss: 1.50568 1.43530\n",
      "Wn eae Cw, tai\n",
      "hN \n",
      "hhoin osi \n",
      " ed p O S\n",
      "  tet ot epg   a t'e e \n",
      "\n"
     ]
    },
    {
     "name": "stderr",
     "output_type": "stream",
     "text": [
      "100%|██████████| 76756/76756 [00:31<00:00, 2439.14it/s]\n",
      "100%|██████████| 8529/8529 [00:00<00:00, 11994.31it/s]\n"
     ]
    },
    {
     "name": "stdout",
     "output_type": "stream",
     "text": [
      "Epoch 137 loss: 1.50503 1.43247\n",
      " .Dy fc  eu N.isbeo\n",
      "Y oBkhoc  Aefvo V   , R AulUhaItwlide ah u\n",
      "\n",
      "\n"
     ]
    },
    {
     "name": "stderr",
     "output_type": "stream",
     "text": [
      "100%|██████████| 76756/76756 [00:31<00:00, 2441.06it/s]\n",
      "100%|██████████| 8529/8529 [00:00<00:00, 12055.84it/s]\n"
     ]
    },
    {
     "name": "stdout",
     "output_type": "stream",
     "text": [
      "Epoch 138 loss: 1.50482 1.43412\n",
      "woi tNgyttel.mtN hu\n",
      "Vo sylgs hma rucdh,   nda aenhnnifipsphe hm\n",
      "\n"
     ]
    },
    {
     "name": "stderr",
     "output_type": "stream",
     "text": [
      "100%|██████████| 76756/76756 [00:30<00:00, 2484.81it/s]\n",
      "100%|██████████| 8529/8529 [00:00<00:00, 12190.64it/s]\n"
     ]
    },
    {
     "name": "stdout",
     "output_type": "stream",
     "text": [
      "Epoch 139 loss: 1.50456 1.43122\n",
      "s,d tl t dcue unil h   bnuInt RLh  ue  UI   S esnini  Hw   hpoA\n",
      "\n"
     ]
    },
    {
     "name": "stderr",
     "output_type": "stream",
     "text": [
      "100%|██████████| 76756/76756 [00:30<00:00, 2486.34it/s]\n",
      "100%|██████████| 8529/8529 [00:00<00:00, 12189.08it/s]\n"
     ]
    },
    {
     "name": "stdout",
     "output_type": "stream",
     "text": [
      "Epoch 140 loss: 1.50453 1.43439\n",
      "\n",
      "h  ftphnY!fa nG vLhhdseowLsl heeo a bin yyy s n etc'fA ' u EeS\n",
      "\n"
     ]
    },
    {
     "name": "stderr",
     "output_type": "stream",
     "text": [
      "100%|██████████| 76756/76756 [00:30<00:00, 2487.67it/s]\n",
      "100%|██████████| 8529/8529 [00:00<00:00, 12100.94it/s]\n"
     ]
    },
    {
     "name": "stdout",
     "output_type": "stream",
     "text": [
      "Epoch 141 loss: 1.50424 1.43153\n",
      "nihtce gohe edetoLh  itlpnu raiaieirfos  u'EineteaYI  ihtlmbte \n",
      "\n"
     ]
    },
    {
     "name": "stderr",
     "output_type": "stream",
     "text": [
      "100%|██████████| 76756/76756 [00:30<00:00, 2486.98it/s]\n",
      "100%|██████████| 8529/8529 [00:00<00:00, 12180.44it/s]\n"
     ]
    },
    {
     "name": "stdout",
     "output_type": "stream",
     "text": [
      "Epoch 142 loss: 1.50375 1.43171\n",
      "u  AYmg cgce Oy  ood  ar uset oae.dabveA.,  m'oyog.h to.u!\n",
      "ai s\n",
      "\n"
     ]
    },
    {
     "name": "stderr",
     "output_type": "stream",
     "text": [
      "100%|██████████| 76756/76756 [00:30<00:00, 2485.91it/s]\n",
      "100%|██████████| 8529/8529 [00:00<00:00, 12181.65it/s]\n"
     ]
    },
    {
     "name": "stdout",
     "output_type": "stream",
     "text": [
      "Epoch 143 loss: 1.50424 1.43091\n",
      "  kyI tD T w fa hi hrmdorIkreU'ewpeItuBgdn ml\n",
      ".ew\n",
      "es,tC.yFaeEie\n",
      "\n"
     ]
    },
    {
     "name": "stderr",
     "output_type": "stream",
     "text": [
      "100%|██████████| 76756/76756 [00:30<00:00, 2491.20it/s]\n",
      "100%|██████████| 8529/8529 [00:00<00:00, 12200.96it/s]\n"
     ]
    },
    {
     "name": "stdout",
     "output_type": "stream",
     "text": [
      "Epoch 144 loss: 1.50342 1.43337\n",
      "oo ' irpUrP\n",
      "ndoM N nitw\n",
      "eut n  ? \n",
      "yl eltaafgepn  iwy menf-sp oo\n",
      "\n"
     ]
    },
    {
     "name": "stderr",
     "output_type": "stream",
     "text": [
      "100%|██████████| 76756/76756 [00:30<00:00, 2555.67it/s]\n",
      "100%|██████████| 8529/8529 [00:00<00:00, 12152.53it/s]\n"
     ]
    },
    {
     "name": "stdout",
     "output_type": "stream",
     "text": [
      "Epoch 145 loss: 1.50297 1.43403\n",
      "ULj doaert i thie  \n",
      ",e lvevTte\n",
      "Pn e?chURnn'yo, ro ol uhsct\n",
      "uOi,\n",
      "\n"
     ]
    },
    {
     "name": "stderr",
     "output_type": "stream",
     "text": [
      "100%|██████████| 76756/76756 [00:30<00:00, 2529.79it/s]\n",
      "100%|██████████| 8529/8529 [00:00<00:00, 11976.84it/s]\n"
     ]
    },
    {
     "name": "stdout",
     "output_type": "stream",
     "text": [
      "Epoch 146 loss: 1.50271 1.42990\n",
      "gie e c ht\n",
      "Efh ,am asev moe I pesoeu'uw\n",
      "  ee s 'C eh \n",
      "ha  rdcCi\n",
      "\n"
     ]
    },
    {
     "name": "stderr",
     "output_type": "stream",
     "text": [
      "100%|██████████| 76756/76756 [00:31<00:00, 2472.68it/s]\n",
      "100%|██████████| 8529/8529 [00:00<00:00, 12173.76it/s]\n"
     ]
    },
    {
     "name": "stdout",
     "output_type": "stream",
     "text": [
      "Epoch 147 loss: 1.50280 1.43357\n",
      " t\n",
      " yA \n",
      "tlvsw;du r\n",
      " oRsRye vgHsWtHrslfiebb ot\n",
      "dtOtlnmn?na Ni  h\n",
      "\n"
     ]
    },
    {
     "name": "stderr",
     "output_type": "stream",
     "text": [
      "100%|██████████| 76756/76756 [00:30<00:00, 2485.79it/s]\n",
      "100%|██████████| 8529/8529 [00:00<00:00, 12135.33it/s]\n"
     ]
    },
    {
     "name": "stdout",
     "output_type": "stream",
     "text": [
      "Epoch 148 loss: 1.50219 1.43151\n",
      "n A e\n",
      " AtnpEu stta Ls\n",
      "e!d  aoftuwlii  UT oI s rsm,  aAw dgcn ?n\n",
      "\n"
     ]
    },
    {
     "name": "stderr",
     "output_type": "stream",
     "text": [
      "100%|██████████| 76756/76756 [00:30<00:00, 2491.19it/s]\n",
      "100%|██████████| 8529/8529 [00:00<00:00, 12202.19it/s]\n"
     ]
    },
    {
     "name": "stdout",
     "output_type": "stream",
     "text": [
      "Epoch 149 loss: 1.50191 1.43238\n",
      " MAn  sagsDofisauhRa  aaddrtAsweD tIhgasey  ibnhw  etemdlaoou f\n",
      "\n"
     ]
    },
    {
     "name": "stderr",
     "output_type": "stream",
     "text": [
      "100%|██████████| 76756/76756 [00:30<00:00, 2493.88it/s]\n",
      "100%|██████████| 8529/8529 [00:00<00:00, 12134.82it/s]\n"
     ]
    },
    {
     "name": "stdout",
     "output_type": "stream",
     "text": [
      "Epoch 150 loss: 1.50166 1.43261\n",
      "E .o  a   u\n",
      "ee.oite (n lCvd sbiea    g dw   alw   y ty  t AN d \n",
      "\n"
     ]
    },
    {
     "name": "stderr",
     "output_type": "stream",
     "text": [
      "100%|██████████| 76756/76756 [00:30<00:00, 2481.93it/s]\n",
      "100%|██████████| 8529/8529 [00:00<00:00, 12060.11it/s]\n"
     ]
    },
    {
     "name": "stdout",
     "output_type": "stream",
     "text": [
      "Epoch 151 loss: 1.50195 1.43035\n",
      "  tOtm c a swiso pd,n]to n scinhut t  ut,\n",
      "l li t heF a\n",
      " ua st i\n",
      "\n"
     ]
    },
    {
     "name": "stderr",
     "output_type": "stream",
     "text": [
      "100%|██████████| 76756/76756 [00:31<00:00, 2448.01it/s]\n",
      "100%|██████████| 8529/8529 [00:00<00:00, 12070.17it/s]\n"
     ]
    },
    {
     "name": "stdout",
     "output_type": "stream",
     "text": [
      "Epoch 152 loss: 1.50139 1.42845\n",
      "t ool a vtnea  Bew\n",
      "oaoyd  ath\n",
      "dttuo,ewOliidtfw es\n",
      "     l o \n",
      "To \n",
      "\n"
     ]
    },
    {
     "name": "stderr",
     "output_type": "stream",
     "text": [
      "100%|██████████| 76756/76756 [00:31<00:00, 2447.41it/s]\n",
      "100%|██████████| 8529/8529 [00:00<00:00, 12067.52it/s]\n"
     ]
    },
    {
     "name": "stdout",
     "output_type": "stream",
     "text": [
      "Epoch 153 loss: 1.50156 1.43395\n",
      "Afh\n",
      "ae'n L  o tlw a \n",
      "ar rsdWdhuW, Kedynt e e;mtnytewm.ruiDYtrA \n",
      "\n"
     ]
    },
    {
     "name": "stderr",
     "output_type": "stream",
     "text": [
      "100%|██████████| 76756/76756 [00:31<00:00, 2449.23it/s]\n",
      "100%|██████████| 8529/8529 [00:00<00:00, 11964.57it/s]\n"
     ]
    },
    {
     "name": "stdout",
     "output_type": "stream",
     "text": [
      "Epoch 154 loss: 1.50118 1.42726\n",
      "2\n",
      " l aasFs   eaie,lwloE\n",
      "ep,wDr   vHntsh\n",
      "gevaocgY  s  aSOal a ts\n",
      "\n"
     ]
    },
    {
     "name": "stderr",
     "output_type": "stream",
     "text": [
      "100%|██████████| 76756/76756 [00:29<00:00, 2584.08it/s]\n",
      "100%|██████████| 8529/8529 [00:00<00:00, 12186.47it/s]\n"
     ]
    },
    {
     "name": "stdout",
     "output_type": "stream",
     "text": [
      "Epoch 155 loss: 1.50063 1.43065\n",
      "o tOnm,aemh Ewseb  n'  n   b,ji,E nWsETl nhctAtRP, l stihfrUNg \n",
      "\n"
     ]
    },
    {
     "name": "stderr",
     "output_type": "stream",
     "text": [
      "100%|██████████| 76756/76756 [00:30<00:00, 2485.33it/s]\n",
      "100%|██████████| 8529/8529 [00:00<00:00, 12178.80it/s]\n"
     ]
    },
    {
     "name": "stdout",
     "output_type": "stream",
     "text": [
      "Epoch 156 loss: 1.50028 1.43308\n",
      " TB ve  klneoe  sr. A ia .rvtr teotTvi \n",
      "urh gHiee;t' kd ym,I?n?\n",
      "\n"
     ]
    },
    {
     "name": "stderr",
     "output_type": "stream",
     "text": [
      "100%|██████████| 76756/76756 [00:30<00:00, 2484.43it/s]\n",
      "100%|██████████| 8529/8529 [00:00<00:00, 12168.78it/s]\n"
     ]
    },
    {
     "name": "stdout",
     "output_type": "stream",
     "text": [
      "Epoch 157 loss: 1.50043 1.42675\n",
      "hiot N  ahp ayeGtn de,t oso\n",
      "dOnt ow sBhH    hlssfHaNen\n",
      "ren ts f\n",
      "\n"
     ]
    },
    {
     "name": "stderr",
     "output_type": "stream",
     "text": [
      "100%|██████████| 76756/76756 [00:30<00:00, 2485.72it/s]\n",
      "100%|██████████| 8529/8529 [00:00<00:00, 12172.63it/s]\n"
     ]
    },
    {
     "name": "stdout",
     "output_type": "stream",
     "text": [
      "Epoch 158 loss: 1.50040 1.42808\n",
      "Ni ou cr bo iTmTo   \n",
      "eua  oeo!i fere nbeB h vHofb Iw,  h L   Se\n",
      "\n"
     ]
    },
    {
     "name": "stderr",
     "output_type": "stream",
     "text": [
      "100%|██████████| 76756/76756 [00:31<00:00, 2447.49it/s]\n",
      "100%|██████████| 8529/8529 [00:00<00:00, 12012.50it/s]\n"
     ]
    },
    {
     "name": "stdout",
     "output_type": "stream",
     "text": [
      "Epoch 159 loss: 1.49995 1.42915\n",
      "t eh ki  r c a pDm T   erttA pd.e rtUieo tnenhuI haui  eAiol f \n",
      "\n"
     ]
    },
    {
     "name": "stderr",
     "output_type": "stream",
     "text": [
      "100%|██████████| 76756/76756 [00:31<00:00, 2436.61it/s]\n",
      "100%|██████████| 8529/8529 [00:00<00:00, 11985.18it/s]\n"
     ]
    },
    {
     "name": "stdout",
     "output_type": "stream",
     "text": [
      "Epoch 160 loss: 1.49978 1.42864\n",
      "ihsou  eee !k dt. rnias\n",
      "Is  ss r  oNoee S vacashs  saade \n",
      "ltthe\n",
      "\n"
     ]
    },
    {
     "name": "stderr",
     "output_type": "stream",
     "text": [
      "100%|██████████| 76756/76756 [00:31<00:00, 2436.95it/s]\n",
      "100%|██████████| 8529/8529 [00:00<00:00, 11963.72it/s]\n"
     ]
    },
    {
     "name": "stdout",
     "output_type": "stream",
     "text": [
      "Epoch 161 loss: 1.49952 1.43099\n",
      "itc m ir oddnIebsGidsapod, .tusameeytelwtsdal Col y hsltYot  tI\n",
      "\n"
     ]
    },
    {
     "name": "stderr",
     "output_type": "stream",
     "text": [
      "100%|██████████| 76756/76756 [00:31<00:00, 2436.38it/s]\n",
      "100%|██████████| 8529/8529 [00:00<00:00, 11952.61it/s]\n"
     ]
    },
    {
     "name": "stdout",
     "output_type": "stream",
     "text": [
      "Epoch 162 loss: 1.49889 1.42761\n",
      "Ccnud aloh ea u diw T erh; c\n",
      "aao aihawltEb sv t ny\n",
      "\n"
     ]
    },
    {
     "name": "stderr",
     "output_type": "stream",
     "text": [
      "100%|██████████| 76756/76756 [00:31<00:00, 2435.95it/s]\n",
      "100%|██████████| 8529/8529 [00:00<00:00, 11962.45it/s]\n"
     ]
    },
    {
     "name": "stdout",
     "output_type": "stream",
     "text": [
      "Epoch 163 loss: 1.49915 1.42572\n",
      " lItes  C  WRm \n",
      "I el gsbo\n",
      "hliriled  oapehon tpe' bfs a   yUypBH\n",
      "\n"
     ]
    },
    {
     "name": "stderr",
     "output_type": "stream",
     "text": [
      "100%|██████████| 76756/76756 [00:31<00:00, 2436.78it/s]\n",
      "100%|██████████| 8529/8529 [00:00<00:00, 11951.52it/s]\n"
     ]
    },
    {
     "name": "stdout",
     "output_type": "stream",
     "text": [
      "Epoch 164 loss: 1.49880 1.42635\n",
      "h ma ahe,caaM fehc Ct avme feghnhu u\n",
      "nplusi o Ot clrn   ret U, \n",
      "\n"
     ]
    },
    {
     "name": "stderr",
     "output_type": "stream",
     "text": [
      "100%|██████████| 76756/76756 [00:31<00:00, 2425.26it/s]\n",
      "100%|██████████| 8529/8529 [00:00<00:00, 11938.30it/s]\n"
     ]
    },
    {
     "name": "stdout",
     "output_type": "stream",
     "text": [
      "Epoch 165 loss: 1.49876 1.42782\n",
      "krl eeySnuta  a Moi\n",
      "  ,SAn   gol o  WA\n",
      " tmse lsA romoy r eec  u\n",
      "\n"
     ]
    },
    {
     "name": "stderr",
     "output_type": "stream",
     "text": [
      "100%|██████████| 76756/76756 [00:30<00:00, 2498.88it/s]\n",
      "100%|██████████| 8529/8529 [00:00<00:00, 12113.39it/s]\n"
     ]
    },
    {
     "name": "stdout",
     "output_type": "stream",
     "text": [
      "Epoch 166 loss: 1.49829 1.42604\n",
      " nrr. a sUnf as Yta  Wt t  wrTn tD Cwt rtm tr aAaft.ELa]cn Aedb\n",
      "\n"
     ]
    },
    {
     "name": "stderr",
     "output_type": "stream",
     "text": [
      "100%|██████████| 76756/76756 [00:29<00:00, 2640.66it/s]\n",
      "100%|██████████| 8529/8529 [00:00<00:00, 12119.24it/s]\n"
     ]
    },
    {
     "name": "stdout",
     "output_type": "stream",
     "text": [
      "Epoch 167 loss: 1.49817 1.42851\n",
      "w gKgi onT Ee dM iD  yt snY Cam  wntd\n",
      " sddSm Rsy enshe hE\n",
      "lohBl\n",
      "\n"
     ]
    },
    {
     "name": "stderr",
     "output_type": "stream",
     "text": [
      "100%|██████████| 76756/76756 [00:29<00:00, 2614.28it/s]\n",
      "100%|██████████| 8529/8529 [00:00<00:00, 11954.60it/s]\n"
     ]
    },
    {
     "name": "stdout",
     "output_type": "stream",
     "text": [
      "Epoch 168 loss: 1.49837 1.42675\n",
      "s  \n",
      "iN\n",
      "i\n",
      "n  ho]TtllyML!faeAnnIt'f yE t\n",
      "S  AnDto'   aaNc oTh , T\n",
      "\n"
     ]
    },
    {
     "name": "stderr",
     "output_type": "stream",
     "text": [
      "100%|██████████| 76756/76756 [00:31<00:00, 2436.74it/s]\n",
      "100%|██████████| 8529/8529 [00:00<00:00, 11975.85it/s]\n"
     ]
    },
    {
     "name": "stdout",
     "output_type": "stream",
     "text": [
      "Epoch 169 loss: 1.49781 1.42493\n",
      "seylsta'eeelheHa  GshFeM 0mteui  yN .e  h en\n",
      "ehih.tnnnhuoiIhaeh\n",
      "\n"
     ]
    },
    {
     "name": "stderr",
     "output_type": "stream",
     "text": [
      "100%|██████████| 76756/76756 [00:31<00:00, 2437.13it/s]\n",
      "100%|██████████| 8529/8529 [00:00<00:00, 11977.10it/s]\n"
     ]
    },
    {
     "name": "stdout",
     "output_type": "stream",
     "text": [
      "Epoch 170 loss: 1.49777 1.42596\n",
      "  Liei,N\n",
      "s O h rBpEC r,eVrnrR t.td htBornss plasd   tosueo r ne\n",
      "\n"
     ]
    },
    {
     "name": "stderr",
     "output_type": "stream",
     "text": [
      "100%|██████████| 76756/76756 [00:31<00:00, 2436.68it/s]\n",
      "100%|██████████| 8529/8529 [00:00<00:00, 11951.96it/s]\n"
     ]
    },
    {
     "name": "stdout",
     "output_type": "stream",
     "text": [
      "Epoch 171 loss: 1.49799 1.42565\n",
      "oss sRjUgloA aoeSs a,a p al  t Ga rrJ ontD'lhat ey .Vcpms d.tey\n",
      "\n"
     ]
    },
    {
     "name": "stderr",
     "output_type": "stream",
     "text": [
      "100%|██████████| 76756/76756 [00:31<00:00, 2437.33it/s]\n",
      "100%|██████████| 8529/8529 [00:00<00:00, 11959.36it/s]\n"
     ]
    },
    {
     "name": "stdout",
     "output_type": "stream",
     "text": [
      "Epoch 172 loss: 1.49781 1.42653\n",
      " od,efo .y dn riehSm  ,t?  tbeHfhepr Fuodr  nh  eh y -mofy  ke \n",
      "\n"
     ]
    },
    {
     "name": "stderr",
     "output_type": "stream",
     "text": [
      "100%|██████████| 76756/76756 [00:31<00:00, 2437.87it/s]\n",
      "100%|██████████| 8529/8529 [00:00<00:00, 11959.11it/s]\n"
     ]
    },
    {
     "name": "stdout",
     "output_type": "stream",
     "text": [
      "Epoch 173 loss: 1.49694 1.42611\n",
      "  wIhnwkNI etUuw hcf\n",
      "  r t !fl aeoon h o oreic ub.hsoovt c A.do\n",
      "\n"
     ]
    },
    {
     "name": "stderr",
     "output_type": "stream",
     "text": [
      "100%|██████████| 76756/76756 [00:31<00:00, 2437.12it/s]\n",
      "100%|██████████| 8529/8529 [00:00<00:00, 11996.34it/s]\n"
     ]
    },
    {
     "name": "stdout",
     "output_type": "stream",
     "text": [
      "Epoch 174 loss: 1.49657 1.42714\n",
      "\n",
      "htbo\n",
      " un a eBsor nRlb\n",
      "eG?yH\n",
      "ti\n",
      "A\n",
      "e\n",
      "\n",
      "lRIrlaawhs  o  bheuhg\n",
      " sM \n",
      "\n"
     ]
    },
    {
     "name": "stderr",
     "output_type": "stream",
     "text": [
      "100%|██████████| 76756/76756 [00:31<00:00, 2437.67it/s]\n",
      "100%|██████████| 8529/8529 [00:00<00:00, 11967.98it/s]\n"
     ]
    },
    {
     "name": "stdout",
     "output_type": "stream",
     "text": [
      "Epoch 175 loss: 1.49686 1.42433\n",
      "uh s OSeOthoil\n",
      " osimhe y, eea   ahtd emlt\n",
      "lhsST  bittai ymoNAo \n",
      "\n"
     ]
    },
    {
     "name": "stderr",
     "output_type": "stream",
     "text": [
      "100%|██████████| 76756/76756 [00:31<00:00, 2437.95it/s]\n",
      "100%|██████████| 8529/8529 [00:00<00:00, 11983.97it/s]\n"
     ]
    },
    {
     "name": "stdout",
     "output_type": "stream",
     "text": [
      "Epoch 176 loss: 1.49649 1.42663\n",
      "ini,gsmwhel uec ,uwotVrEs nn rTAr en' ee  ynea F   e UooOp  tw'\n",
      "\n"
     ]
    },
    {
     "name": "stderr",
     "output_type": "stream",
     "text": [
      "100%|██████████| 76756/76756 [00:31<00:00, 2437.61it/s]\n",
      "100%|██████████| 8529/8529 [00:00<00:00, 11956.63it/s]\n"
     ]
    },
    {
     "name": "stdout",
     "output_type": "stream",
     "text": [
      "Epoch 177 loss: 1.49632 1.42512\n",
      "Sr Woctltseo.et lElsialw nnln. Ri,  ltsgbL d ehdn\n",
      "ud\n",
      " dh\n",
      "G yt r\n",
      "\n"
     ]
    },
    {
     "name": "stderr",
     "output_type": "stream",
     "text": [
      "100%|██████████| 76756/76756 [00:31<00:00, 2427.70it/s]\n",
      "100%|██████████| 8529/8529 [00:00<00:00, 11929.33it/s]\n"
     ]
    },
    {
     "name": "stdout",
     "output_type": "stream",
     "text": [
      "Epoch 178 loss: 1.49633 1.43042\n",
      "sumoOwd no   neish]F abn', go,R kOet Dmg \n",
      "c  erInsfe pv ie  d -\n",
      "\n"
     ]
    },
    {
     "name": "stderr",
     "output_type": "stream",
     "text": [
      "100%|██████████| 76756/76756 [00:31<00:00, 2427.87it/s]\n",
      "100%|██████████| 8529/8529 [00:00<00:00, 11913.22it/s]\n"
     ]
    },
    {
     "name": "stdout",
     "output_type": "stream",
     "text": [
      "Epoch 179 loss: 1.49567 1.42205\n",
      " apndho . es  est .i w\n",
      " k  eu'tsao     ers Hh kjso po s       y\n",
      "\n"
     ]
    },
    {
     "name": "stderr",
     "output_type": "stream",
     "text": [
      "100%|██████████| 76756/76756 [00:29<00:00, 2567.69it/s]\n",
      "100%|██████████| 8529/8529 [00:00<00:00, 12113.19it/s]\n"
     ]
    },
    {
     "name": "stdout",
     "output_type": "stream",
     "text": [
      "Epoch 180 loss: 1.49544 1.42612\n",
      " e  yN e    ee!rnv m l Cayd \n",
      "NsesLhIes a li t\n",
      "olEN  d n!fnf  \n",
      "T\n",
      "\n"
     ]
    },
    {
     "name": "stderr",
     "output_type": "stream",
     "text": [
      "100%|██████████| 76756/76756 [00:31<00:00, 2457.98it/s]\n",
      "100%|██████████| 8529/8529 [00:00<00:00, 12132.78it/s]\n"
     ]
    },
    {
     "name": "stdout",
     "output_type": "stream",
     "text": [
      "Epoch 181 loss: 1.49568 1.42527\n",
      "\n",
      "obses,euhanW s AN  h  H      o oe sld IeaPelnlt Gi\n",
      "pegolre n s\n",
      "\n"
     ]
    },
    {
     "name": "stderr",
     "output_type": "stream",
     "text": [
      "100%|██████████| 76756/76756 [00:31<00:00, 2458.99it/s]\n",
      "100%|██████████| 8529/8529 [00:00<00:00, 12135.64it/s]\n"
     ]
    },
    {
     "name": "stdout",
     "output_type": "stream",
     "text": [
      "Epoch 182 loss: 1.49575 1.42475\n",
      "\n",
      "h-T,W  so \n",
      "ttg ipnta miii \n",
      " lcyReh pkb pyeS'sDiv adrde lt  Yw \n",
      "\n"
     ]
    },
    {
     "name": "stderr",
     "output_type": "stream",
     "text": [
      "100%|██████████| 76756/76756 [00:31<00:00, 2457.95it/s]\n",
      "100%|██████████| 8529/8529 [00:00<00:00, 12123.54it/s]\n"
     ]
    },
    {
     "name": "stdout",
     "output_type": "stream",
     "text": [
      "Epoch 183 loss: 1.49528 1.42600\n",
      "o .e,liFT\n",
      "mio og  i\n",
      "  ue W l ni tlih ho  cNANu lwl e A  sygeits\n",
      "\n"
     ]
    },
    {
     "name": "stderr",
     "output_type": "stream",
     "text": [
      "100%|██████████| 76756/76756 [00:31<00:00, 2458.97it/s]\n",
      "100%|██████████| 8529/8529 [00:00<00:00, 12117.15it/s]\n"
     ]
    },
    {
     "name": "stdout",
     "output_type": "stream",
     "text": [
      "Epoch 184 loss: 1.49537 1.42319\n",
      "sdhee    i r blrDb \n",
      " n wryPwo.my  aii p\n",
      "  y  c,nU dr rn a    Sp\n",
      "\n"
     ]
    },
    {
     "name": "stderr",
     "output_type": "stream",
     "text": [
      "100%|██████████| 76756/76756 [00:31<00:00, 2458.43it/s]\n",
      "100%|██████████| 8529/8529 [00:00<00:00, 12137.79it/s]\n"
     ]
    },
    {
     "name": "stdout",
     "output_type": "stream",
     "text": [
      "Epoch 185 loss: 1.49507 1.42368\n",
      "yan  nndf \n",
      "redmiE.n a ie ts rmaoueea cr t eeg\n",
      " wuoaaTdm  mdae u\n",
      "\n"
     ]
    },
    {
     "name": "stderr",
     "output_type": "stream",
     "text": [
      "100%|██████████| 76756/76756 [00:31<00:00, 2458.94it/s]\n",
      "100%|██████████| 8529/8529 [00:00<00:00, 12147.77it/s]\n"
     ]
    },
    {
     "name": "stdout",
     "output_type": "stream",
     "text": [
      "Epoch 186 loss: 1.49492 1.42239\n",
      "nihga  .teTmE S dKI,Fdlweeooaapmodgd kshpltPti  EublwauEema\n",
      "Aeo\n",
      "\n"
     ]
    },
    {
     "name": "stderr",
     "output_type": "stream",
     "text": [
      "100%|██████████| 76756/76756 [00:31<00:00, 2459.55it/s]\n",
      "100%|██████████| 8529/8529 [00:00<00:00, 12132.90it/s]\n"
     ]
    },
    {
     "name": "stdout",
     "output_type": "stream",
     "text": [
      "Epoch 187 loss: 1.49461 1.42201\n",
      "\n",
      "mk ,t.gehh rye ]eo!t m elhbb  lfsl yn egcccta  lag\n",
      "lludFhecb u\n",
      "\n"
     ]
    },
    {
     "name": "stderr",
     "output_type": "stream",
     "text": [
      "100%|██████████| 76756/76756 [00:31<00:00, 2458.59it/s]\n",
      "100%|██████████| 8529/8529 [00:00<00:00, 12131.16it/s]\n"
     ]
    },
    {
     "name": "stdout",
     "output_type": "stream",
     "text": [
      "Epoch 188 loss: 1.49463 1.42269\n",
      "inec n oS.Ab   a hgwsNA nc\n",
      "a tyAshao.sEhtAilRwnuBi ao   h'snd E\n",
      "\n"
     ]
    },
    {
     "name": "stderr",
     "output_type": "stream",
     "text": [
      "100%|██████████| 76756/76756 [00:30<00:00, 2545.18it/s]\n",
      "100%|██████████| 8529/8529 [00:00<00:00, 12200.25it/s]\n"
     ]
    },
    {
     "name": "stdout",
     "output_type": "stream",
     "text": [
      "Epoch 189 loss: 1.49447 1.42555\n",
      "d iae e \n",
      " e ak lu rpasoehns ub ou  nb l'ct d   nattA\n",
      " td  Ttidt\n",
      "\n"
     ]
    },
    {
     "name": "stderr",
     "output_type": "stream",
     "text": [
      "100%|██████████| 76756/76756 [00:28<00:00, 2665.30it/s]\n",
      "100%|██████████| 8529/8529 [00:00<00:00, 12192.12it/s]\n"
     ]
    },
    {
     "name": "stdout",
     "output_type": "stream",
     "text": [
      "Epoch 190 loss: 1.49422 1.42349\n",
      "I r sgI laeOi CwbNT gnpueiu f sul s  ioayd ry tht CWscReesa ew \n",
      "\n"
     ]
    },
    {
     "name": "stderr",
     "output_type": "stream",
     "text": [
      "100%|██████████| 76756/76756 [00:28<00:00, 2665.46it/s]\n",
      "100%|██████████| 8529/8529 [00:00<00:00, 12177.51it/s]\n"
     ]
    },
    {
     "name": "stdout",
     "output_type": "stream",
     "text": [
      "Epoch 191 loss: 1.49424 1.42099\n",
      " lh ettc S \n",
      "h ?brEr  ,eto S  nst eubOa ed E stSct Ee\n",
      " iewewt ru\n",
      "\n"
     ]
    },
    {
     "name": "stderr",
     "output_type": "stream",
     "text": [
      "100%|██████████| 76756/76756 [00:28<00:00, 2665.45it/s]\n",
      "100%|██████████| 8529/8529 [00:00<00:00, 12198.79it/s]\n"
     ]
    },
    {
     "name": "stdout",
     "output_type": "stream",
     "text": [
      "Epoch 192 loss: 1.49408 1.42107\n",
      "h ofehn u\n",
      "s omo .raRei  asi e oy sone h ni uvul  dots .sghlca r\n",
      "\n"
     ]
    },
    {
     "name": "stderr",
     "output_type": "stream",
     "text": [
      "100%|██████████| 76756/76756 [00:28<00:00, 2665.27it/s]\n",
      "100%|██████████| 8529/8529 [00:00<00:00, 12191.89it/s]\n"
     ]
    },
    {
     "name": "stdout",
     "output_type": "stream",
     "text": [
      "Epoch 193 loss: 1.49357 1.42360\n",
      "aatr,hheuhb llo ta hhfnaC  t wYR\n",
      "rt foea rEr\n",
      " ,dEtL   lh\n",
      "loobru\n",
      "\n"
     ]
    },
    {
     "name": "stderr",
     "output_type": "stream",
     "text": [
      "100%|██████████| 76756/76756 [00:28<00:00, 2665.36it/s]\n",
      "100%|██████████| 8529/8529 [00:00<00:00, 12196.22it/s]\n"
     ]
    },
    {
     "name": "stdout",
     "output_type": "stream",
     "text": [
      "Epoch 194 loss: 1.49344 1.42187\n",
      "ocr,sdC p yB u.b o hmykdooAe    n  tAusl  t enh    p    t  '!\n",
      " \n",
      "\n"
     ]
    },
    {
     "name": "stderr",
     "output_type": "stream",
     "text": [
      "100%|██████████| 76756/76756 [00:28<00:00, 2665.25it/s]\n",
      "100%|██████████| 8529/8529 [00:00<00:00, 12195.52it/s]\n"
     ]
    },
    {
     "name": "stdout",
     "output_type": "stream",
     "text": [
      "Epoch 195 loss: 1.49322 1.42646\n",
      "po e  pssaa  i  sac\n",
      "lrcDe\n",
      " e  ece fRsr v i;te er rt t\n",
      "um   R He\n",
      "\n"
     ]
    },
    {
     "name": "stderr",
     "output_type": "stream",
     "text": [
      "100%|██████████| 76756/76756 [00:28<00:00, 2655.62it/s]\n",
      "100%|██████████| 8529/8529 [00:00<00:00, 12201.96it/s]\n"
     ]
    },
    {
     "name": "stdout",
     "output_type": "stream",
     "text": [
      "Epoch 196 loss: 1.49338 1.42189\n",
      "t  r Sa fhTeso e  e  sshm.gafa\n",
      "Iesdg \n",
      " mtOf nm Ee st\n",
      "ietLoeo  H\n",
      "\n"
     ]
    },
    {
     "name": "stderr",
     "output_type": "stream",
     "text": [
      "100%|██████████| 76756/76756 [00:28<00:00, 2673.26it/s]\n",
      "100%|██████████| 8529/8529 [00:00<00:00, 12199.96it/s]\n"
     ]
    },
    {
     "name": "stdout",
     "output_type": "stream",
     "text": [
      "Epoch 197 loss: 1.49321 1.42102\n",
      "an  M,    ,n  aB wy yghS se ct\n",
      "ltr imnt tdnImsufooTtoB  hlho c,\n",
      "\n"
     ]
    },
    {
     "name": "stderr",
     "output_type": "stream",
     "text": [
      "100%|██████████| 76756/76756 [00:28<00:00, 2672.83it/s]\n",
      "100%|██████████| 8529/8529 [00:00<00:00, 12199.15it/s]\n"
     ]
    },
    {
     "name": "stdout",
     "output_type": "stream",
     "text": [
      "Epoch 198 loss: 1.49232 1.42277\n",
      "atAL noete   i itTrdhnhr.ei watIenOsh\n",
      "Hf.o omsbadr\n",
      "T Aar ytehaa\n",
      "\n"
     ]
    },
    {
     "name": "stderr",
     "output_type": "stream",
     "text": [
      "100%|██████████| 76756/76756 [00:28<00:00, 2672.73it/s]\n",
      "100%|██████████| 8529/8529 [00:00<00:00, 12209.26it/s]\n"
     ]
    },
    {
     "name": "stdout",
     "output_type": "stream",
     "text": [
      "Epoch 199 loss: 1.49292 1.42083\n",
      " yA  ef.frA e!p\n",
      "eene\n",
      "  e ouy.   aph.gre!yo,rhoo iongD risryi  r\n",
      "\n"
     ]
    },
    {
     "name": "stderr",
     "output_type": "stream",
     "text": [
      "100%|██████████| 76756/76756 [00:28<00:00, 2673.49it/s]\n",
      "100%|██████████| 8529/8529 [00:00<00:00, 12189.44it/s]\n"
     ]
    },
    {
     "name": "stdout",
     "output_type": "stream",
     "text": [
      "Epoch 200 loss: 1.49270 1.42154\n",
      "loy  i;aytHey edrvs;    maiNhpq Tud\n",
      "oBo , ulcri ms, lreNkspetel\n",
      "\n"
     ]
    },
    {
     "name": "stderr",
     "output_type": "stream",
     "text": [
      "100%|██████████| 76756/76756 [00:28<00:00, 2672.00it/s]\n",
      "100%|██████████| 8529/8529 [00:00<00:00, 12208.36it/s]\n"
     ]
    },
    {
     "name": "stdout",
     "output_type": "stream",
     "text": [
      "Epoch 201 loss: 1.49251 1.42018\n",
      "emnoe' wFs e f  oy\n",
      "rfg\n",
      "ahr   u euio  aS so EAnocnNa hketf ihemb\n",
      "\n"
     ]
    },
    {
     "name": "stderr",
     "output_type": "stream",
     "text": [
      "100%|██████████| 76756/76756 [00:28<00:00, 2673.66it/s]\n",
      "100%|██████████| 8529/8529 [00:00<00:00, 11913.24it/s]\n"
     ]
    },
    {
     "name": "stdout",
     "output_type": "stream",
     "text": [
      "Epoch 202 loss: 1.49245 1.42220\n",
      "nbhWA  lveiod  ed o k nEtf  yur  Sh  iuNHn, oomnoh.r nt or h  n\n",
      "\n"
     ]
    },
    {
     "name": "stderr",
     "output_type": "stream",
     "text": [
      "100%|██████████| 76756/76756 [00:30<00:00, 2526.80it/s]\n",
      "100%|██████████| 8529/8529 [00:00<00:00, 12115.27it/s]\n"
     ]
    },
    {
     "name": "stdout",
     "output_type": "stream",
     "text": [
      "Epoch 203 loss: 1.49201 1.42176\n",
      "eShumeH,. re Wm JfnI   smi, i c p ke ameaLlhl  s r\n",
      " s.tm\n",
      "oa hhy\n",
      "\n"
     ]
    },
    {
     "name": "stderr",
     "output_type": "stream",
     "text": [
      "100%|██████████| 76756/76756 [00:29<00:00, 2641.70it/s]\n",
      "100%|██████████| 8529/8529 [00:00<00:00, 12122.78it/s]\n"
     ]
    },
    {
     "name": "stdout",
     "output_type": "stream",
     "text": [
      "Epoch 204 loss: 1.49215 1.42028\n",
      "muHhHtct t  HAf.   AN h uS  s  lfaem Hu' np \n",
      "gros seca, rgo r  \n",
      "\n"
     ]
    },
    {
     "name": "stderr",
     "output_type": "stream",
     "text": [
      "100%|██████████| 76756/76756 [00:29<00:00, 2642.17it/s]\n",
      "100%|██████████| 8529/8529 [00:00<00:00, 12127.80it/s]\n"
     ]
    },
    {
     "name": "stdout",
     "output_type": "stream",
     "text": [
      "Epoch 205 loss: 1.49170 1.42281\n",
      "eD vhreI msvso\n",
      "[a inwn  cegL\n",
      "Nus, ' Rbe e uirlbt' r  \n",
      "eAs aTn  \n",
      "\n"
     ]
    },
    {
     "name": "stderr",
     "output_type": "stream",
     "text": [
      "100%|██████████| 76756/76756 [00:29<00:00, 2642.81it/s]\n",
      "100%|██████████| 8529/8529 [00:00<00:00, 12110.56it/s]\n"
     ]
    },
    {
     "name": "stdout",
     "output_type": "stream",
     "text": [
      "Epoch 206 loss: 1.49204 1.42390\n",
      "nes m tlotahIn te osf ruoaE  g   aTSGphvt,Ntn  nme u 'f nmdh   \n",
      "\n"
     ]
    },
    {
     "name": "stderr",
     "output_type": "stream",
     "text": [
      "100%|██████████| 76756/76756 [00:29<00:00, 2641.08it/s]\n",
      "100%|██████████| 8529/8529 [00:00<00:00, 12108.43it/s]\n"
     ]
    },
    {
     "name": "stdout",
     "output_type": "stream",
     "text": [
      "Epoch 207 loss: 1.49126 1.42143\n",
      "  w odth A sy ur \n",
      " h  O .Suos.esi!iCne-\n",
      "oo tirn e ,n torAoo tuS\n",
      "\n"
     ]
    },
    {
     "name": "stderr",
     "output_type": "stream",
     "text": [
      "100%|██████████| 76756/76756 [00:29<00:00, 2643.16it/s]\n",
      "100%|██████████| 8529/8529 [00:00<00:00, 12139.25it/s]\n"
     ]
    },
    {
     "name": "stdout",
     "output_type": "stream",
     "text": [
      "Epoch 208 loss: 1.49125 1.42173\n",
      "C o \n",
      " ncfmhlG  e vy t oeme.ihTtnbsttAueo vfe ucl .dseirmdus\n",
      "yWn\n",
      "\n"
     ]
    },
    {
     "name": "stderr",
     "output_type": "stream",
     "text": [
      "100%|██████████| 76756/76756 [00:29<00:00, 2617.81it/s]\n",
      "100%|██████████| 8529/8529 [00:00<00:00, 12127.96it/s]\n"
     ]
    },
    {
     "name": "stdout",
     "output_type": "stream",
     "text": [
      "Epoch 209 loss: 1.49127 1.42260\n",
      "d he  ,3tosiuhR konntn \n",
      "wieihst  Luyp lh  rims  n  yew hCOsv.tS\n",
      "\n"
     ]
    },
    {
     "name": "stderr",
     "output_type": "stream",
     "text": [
      "100%|██████████| 76756/76756 [00:29<00:00, 2589.72it/s]\n",
      "100%|██████████| 8529/8529 [00:00<00:00, 12182.77it/s]\n"
     ]
    },
    {
     "name": "stdout",
     "output_type": "stream",
     "text": [
      "Epoch 210 loss: 1.49158 1.42078\n",
      " \n",
      "\n",
      "rhEsh oohst, l.aoosi  ea ,OW\n",
      "hSnay lseI ls\n",
      "t'o etd lr   C th\n",
      "\n"
     ]
    },
    {
     "name": "stderr",
     "output_type": "stream",
     "text": [
      "100%|██████████| 76756/76756 [00:28<00:00, 2668.05it/s]\n",
      "100%|██████████| 8529/8529 [00:00<00:00, 12194.66it/s]\n"
     ]
    },
    {
     "name": "stdout",
     "output_type": "stream",
     "text": [
      "Epoch 211 loss: 1.49139 1.41888\n",
      "aCiehlto fw ihn    Ets  h tTRvn e en.hso eGo aesaoeA d stB'aT  \n",
      "\n"
     ]
    },
    {
     "name": "stderr",
     "output_type": "stream",
     "text": [
      "100%|██████████| 76756/76756 [00:28<00:00, 2671.09it/s]\n",
      "100%|██████████| 8529/8529 [00:00<00:00, 12183.20it/s]\n"
     ]
    },
    {
     "name": "stdout",
     "output_type": "stream",
     "text": [
      "Epoch 212 loss: 1.49061 1.42009\n",
      "\n",
      "ao.e tr,RpNaE\n",
      "nhttidda wAuxnOiCyff \n",
      "T te ehroOanAHc aaEeH' mLi\n",
      "\n"
     ]
    },
    {
     "name": "stderr",
     "output_type": "stream",
     "text": [
      "100%|██████████| 76756/76756 [00:28<00:00, 2670.81it/s]\n",
      "100%|██████████| 8529/8529 [00:00<00:00, 12186.21it/s]\n"
     ]
    },
    {
     "name": "stdout",
     "output_type": "stream",
     "text": [
      "Epoch 213 loss: 1.49068 1.41936\n",
      "tydrUdekb HvuEai  oiaat\n",
      "oe\n",
      "r  wHohob w   droy\n",
      "y dh\n",
      "ch.d oath st\n",
      "\n"
     ]
    },
    {
     "name": "stderr",
     "output_type": "stream",
     "text": [
      "100%|██████████| 76756/76756 [00:28<00:00, 2671.87it/s]\n",
      "100%|██████████| 8529/8529 [00:00<00:00, 12193.80it/s]\n"
     ]
    },
    {
     "name": "stdout",
     "output_type": "stream",
     "text": [
      "Epoch 214 loss: 1.49021 1.41829\n",
      "AaBsT ssE i \n",
      "si Macl Ps hlwdhCerIe V d 'BeT ge w oSvhedne,  nso\n",
      "\n"
     ]
    },
    {
     "name": "stderr",
     "output_type": "stream",
     "text": [
      "100%|██████████| 76756/76756 [00:28<00:00, 2670.58it/s]\n",
      "100%|██████████| 8529/8529 [00:00<00:00, 12192.68it/s]\n"
     ]
    },
    {
     "name": "stdout",
     "output_type": "stream",
     "text": [
      "Epoch 215 loss: 1.49077 1.42001\n",
      "Crn na  sae ,ho  hA fn  .  he\n",
      "so hh,S  eEni.  A a k fwre  eirt[\n",
      "\n"
     ]
    },
    {
     "name": "stderr",
     "output_type": "stream",
     "text": [
      "100%|██████████| 76756/76756 [00:28<00:00, 2670.77it/s]\n",
      "100%|██████████| 8529/8529 [00:00<00:00, 12188.16it/s]\n"
     ]
    },
    {
     "name": "stdout",
     "output_type": "stream",
     "text": [
      "Epoch 216 loss: 1.49049 1.42334\n",
      "sthah omllhnAt m  tlwK  UoiveNd h I erldTdto..,e   Oel n lllt .\n",
      "\n"
     ]
    },
    {
     "name": "stderr",
     "output_type": "stream",
     "text": [
      "100%|██████████| 76756/76756 [00:30<00:00, 2504.24it/s]\n",
      "100%|██████████| 8529/8529 [00:00<00:00, 12185.73it/s]\n"
     ]
    },
    {
     "name": "stdout",
     "output_type": "stream",
     "text": [
      "Epoch 217 loss: 1.48994 1.41787\n",
      "  ois otod senWlatf. N wsod ye.p n dnh. mpeiSndeR nveeh\n",
      " m, C  \n",
      "\n"
     ]
    },
    {
     "name": "stderr",
     "output_type": "stream",
     "text": [
      "100%|██████████| 76756/76756 [00:30<00:00, 2493.66it/s]\n",
      "100%|██████████| 8529/8529 [00:00<00:00, 12187.99it/s]\n"
     ]
    },
    {
     "name": "stdout",
     "output_type": "stream",
     "text": [
      "Epoch 218 loss: 1.48993 1.41981\n",
      "ewlai  a '-felhhtREeori ojae' a pgc  t errhis  Cmfebo te Rltr d\n",
      "\n"
     ]
    },
    {
     "name": "stderr",
     "output_type": "stream",
     "text": [
      "100%|██████████| 76756/76756 [00:30<00:00, 2557.05it/s]\n",
      "100%|██████████| 8529/8529 [00:00<00:00, 12186.56it/s]\n"
     ]
    },
    {
     "name": "stdout",
     "output_type": "stream",
     "text": [
      "Epoch 219 loss: 1.48966 1.41947\n",
      "t u.n?  olho ,ahag  bhoehi Ihl to er'yTHdtEmbfiepovoceeoh . l o\n",
      "\n"
     ]
    },
    {
     "name": "stderr",
     "output_type": "stream",
     "text": [
      "100%|██████████| 76756/76756 [00:29<00:00, 2573.85it/s]\n",
      "100%|██████████| 8529/8529 [00:00<00:00, 12189.67it/s]\n"
     ]
    },
    {
     "name": "stdout",
     "output_type": "stream",
     "text": [
      "Epoch 220 loss: 1.48972 1.41853\n",
      "o\n",
      "si eeSlm l us,eQ t r'lo  s daeooOn tbr Suh a Mtuca  tr \n",
      "p   \n",
      "\n",
      "\n"
     ]
    },
    {
     "name": "stderr",
     "output_type": "stream",
     "text": [
      "100%|██████████| 76756/76756 [00:28<00:00, 2665.51it/s]\n",
      "100%|██████████| 8529/8529 [00:00<00:00, 12183.65it/s]\n"
     ]
    },
    {
     "name": "stdout",
     "output_type": "stream",
     "text": [
      "Epoch 221 loss: 1.48942 1.41729\n",
      "  R  t oor\n",
      "un SEvu d \n",
      "aar e whaw   h egboWoc Btisai tdgmnd \n",
      "tam\n",
      "\n"
     ]
    },
    {
     "name": "stderr",
     "output_type": "stream",
     "text": [
      "100%|██████████| 76756/76756 [00:28<00:00, 2665.35it/s]\n",
      "100%|██████████| 8529/8529 [00:00<00:00, 12189.29it/s]\n"
     ]
    },
    {
     "name": "stdout",
     "output_type": "stream",
     "text": [
      "Epoch 222 loss: 1.48937 1.41999\n",
      ",I,  knot  O  e  v 'avltoFdtndls m .n o.\n",
      " rSet  .c Bysu hissdod\n",
      "\n"
     ]
    },
    {
     "name": "stderr",
     "output_type": "stream",
     "text": [
      "100%|██████████| 76756/76756 [00:28<00:00, 2665.28it/s]\n",
      "100%|██████████| 8529/8529 [00:00<00:00, 12201.59it/s]\n"
     ]
    },
    {
     "name": "stdout",
     "output_type": "stream",
     "text": [
      "Epoch 223 loss: 1.48952 1.41971\n",
      "a an  Fh\n",
      " HOe'lS  GefA lo o,  oddyKrail s nNdirey at n v e Gr r\n",
      "\n"
     ]
    },
    {
     "name": "stderr",
     "output_type": "stream",
     "text": [
      "100%|██████████| 76756/76756 [00:28<00:00, 2665.37it/s]\n",
      "100%|██████████| 8529/8529 [00:00<00:00, 12187.83it/s]\n"
     ]
    },
    {
     "name": "stdout",
     "output_type": "stream",
     "text": [
      "Epoch 224 loss: 1.48928 1.42012\n",
      "AcOa\n",
      "lreltt dCtuityrehtn  sTd  erimye a dnlrK\n",
      ";Rt . uwot orUfwp\n",
      "\n"
     ]
    },
    {
     "name": "stderr",
     "output_type": "stream",
     "text": [
      "100%|██████████| 76756/76756 [00:28<00:00, 2665.38it/s]\n",
      "100%|██████████| 8529/8529 [00:00<00:00, 12189.23it/s]\n"
     ]
    },
    {
     "name": "stdout",
     "output_type": "stream",
     "text": [
      "Epoch 225 loss: 1.48852 1.41551\n",
      "i  ooyeyc R tn',h\n",
      " Bn k   cNmMib..aft  Sai hd e dr rh,yfrtrt iH\n",
      "\n"
     ]
    },
    {
     "name": "stderr",
     "output_type": "stream",
     "text": [
      "100%|██████████| 76756/76756 [00:28<00:00, 2665.36it/s]\n",
      "100%|██████████| 8529/8529 [00:00<00:00, 12186.71it/s]\n"
     ]
    },
    {
     "name": "stdout",
     "output_type": "stream",
     "text": [
      "Epoch 226 loss: 1.48923 1.41569\n",
      "Rlre    eh' asaT,ofoo itusf Du\n",
      "e tNhl   i ing hc n.o.  -eEc Eci\n",
      "\n"
     ]
    },
    {
     "name": "stderr",
     "output_type": "stream",
     "text": [
      "100%|██████████| 76756/76756 [00:28<00:00, 2665.62it/s]\n",
      "100%|██████████| 8529/8529 [00:00<00:00, 12135.11it/s]\n"
     ]
    },
    {
     "name": "stdout",
     "output_type": "stream",
     "text": [
      "Epoch 227 loss: 1.48905 1.41693\n",
      "rclntw  aypotnnfoerhaeepe   ln dotg,e\n",
      "nt C  m wnmhfo l, ehcryHo\n",
      "\n"
     ]
    },
    {
     "name": "stderr",
     "output_type": "stream",
     "text": [
      "100%|██████████| 76756/76756 [00:29<00:00, 2643.66it/s]\n",
      "100%|██████████| 8529/8529 [00:00<00:00, 12149.20it/s]\n"
     ]
    },
    {
     "name": "stdout",
     "output_type": "stream",
     "text": [
      "Epoch 228 loss: 1.48889 1.41864\n",
      "rOVwam\n",
      "BI Cr' '  e\n",
      "tt- a 'sl b N ohdt gn ,  d\n",
      "uhdDtaapnEcnnS ex\n",
      "\n"
     ]
    },
    {
     "name": "stderr",
     "output_type": "stream",
     "text": [
      "100%|██████████| 76756/76756 [00:29<00:00, 2642.98it/s]\n",
      "100%|██████████| 8529/8529 [00:00<00:00, 12134.59it/s]\n"
     ]
    },
    {
     "name": "stdout",
     "output_type": "stream",
     "text": [
      "Epoch 229 loss: 1.48874 1.42042\n",
      "idntEon   so   ihyo  d csa kp-tekADrts  e as w f;hot'EudUedB  f\n",
      "\n"
     ]
    },
    {
     "name": "stderr",
     "output_type": "stream",
     "text": [
      "100%|██████████| 76756/76756 [00:29<00:00, 2639.95it/s]\n",
      "100%|██████████| 8529/8529 [00:00<00:00, 12042.92it/s]\n"
     ]
    },
    {
     "name": "stdout",
     "output_type": "stream",
     "text": [
      "Epoch 230 loss: 1.48798 1.41610\n",
      " s .lbeore sro  o n\n",
      "T hbe r oMdmno gaK tiron  \n",
      " Dhhto U nioorun\n",
      "\n"
     ]
    },
    {
     "name": "stderr",
     "output_type": "stream",
     "text": [
      "100%|██████████| 76756/76756 [00:29<00:00, 2617.85it/s]\n",
      "100%|██████████| 8529/8529 [00:00<00:00, 12046.72it/s]\n"
     ]
    },
    {
     "name": "stdout",
     "output_type": "stream",
     "text": [
      "Epoch 231 loss: 1.48805 1.41648\n",
      ",tt,sDesn nC S !ig  HnhcOFhb 'Ytetc odto \n",
      "d tt seti awuao.E nL \n",
      "\n"
     ]
    },
    {
     "name": "stderr",
     "output_type": "stream",
     "text": [
      "100%|██████████| 76756/76756 [00:29<00:00, 2614.43it/s]\n",
      "100%|██████████| 8529/8529 [00:00<00:00, 12040.21it/s]\n"
     ]
    },
    {
     "name": "stdout",
     "output_type": "stream",
     "text": [
      "Epoch 232 loss: 1.48786 1.42055\n",
      "Y  pte rgbifeU ol  ng,nouiuomelee o r  eadr r le \n",
      "tat  nl oti s\n",
      "\n"
     ]
    },
    {
     "name": "stderr",
     "output_type": "stream",
     "text": [
      "100%|██████████| 76756/76756 [00:29<00:00, 2572.44it/s]\n",
      "100%|██████████| 8529/8529 [00:00<00:00, 12197.78it/s]\n"
     ]
    },
    {
     "name": "stdout",
     "output_type": "stream",
     "text": [
      "Epoch 233 loss: 1.48841 1.41790\n",
      "  ho In e gH,dend\n",
      "atwl N n sdot hdnfsdoehstgsMo ls!ti Meics t  \n",
      "\n"
     ]
    },
    {
     "name": "stderr",
     "output_type": "stream",
     "text": [
      "100%|██████████| 76756/76756 [00:28<00:00, 2673.35it/s]\n",
      "100%|██████████| 8529/8529 [00:00<00:00, 12192.51it/s]\n"
     ]
    },
    {
     "name": "stdout",
     "output_type": "stream",
     "text": [
      "Epoch 234 loss: 1.48802 1.41828\n",
      "lleEiinlCSIylIt ye eoe' oer erly  g EnoYGviN ht aia  vwotteweeA\n",
      "\n"
     ]
    },
    {
     "name": "stderr",
     "output_type": "stream",
     "text": [
      "100%|██████████| 76756/76756 [00:28<00:00, 2674.59it/s]\n",
      "100%|██████████| 8529/8529 [00:00<00:00, 12194.92it/s]\n"
     ]
    },
    {
     "name": "stdout",
     "output_type": "stream",
     "text": [
      "Epoch 235 loss: 1.48778 1.41734\n",
      "A,.fd  NEnNwsnlc  loue   eyOo s hr Y thoe  a iSeHri  ta  ei dF!\n",
      "\n"
     ]
    },
    {
     "name": "stderr",
     "output_type": "stream",
     "text": [
      "100%|██████████| 76756/76756 [00:28<00:00, 2674.99it/s]\n",
      "100%|██████████| 8529/8529 [00:00<00:00, 12196.69it/s]\n"
     ]
    },
    {
     "name": "stdout",
     "output_type": "stream",
     "text": [
      "Epoch 236 loss: 1.48743 1.41904\n",
      "Ro  a sIrhcw  asbBiCicryi ttoRilEh ssl eetm ee  wI tathhlr \n",
      "rw \n",
      "\n"
     ]
    },
    {
     "name": "stderr",
     "output_type": "stream",
     "text": [
      "100%|██████████| 76756/76756 [00:29<00:00, 2644.27it/s]\n",
      "100%|██████████| 8529/8529 [00:00<00:00, 11983.63it/s]\n"
     ]
    },
    {
     "name": "stdout",
     "output_type": "stream",
     "text": [
      "Epoch 237 loss: 1.48755 1.41794\n",
      "y eotIwh lor linri \n",
      "lel  kfo ehr iA sTagt n pnnt'lWwle'rcs  a n\n",
      "\n"
     ]
    },
    {
     "name": "stderr",
     "output_type": "stream",
     "text": [
      "100%|██████████| 76756/76756 [00:31<00:00, 2436.03it/s]\n",
      "100%|██████████| 8529/8529 [00:00<00:00, 11947.19it/s]\n"
     ]
    },
    {
     "name": "stdout",
     "output_type": "stream",
     "text": [
      "Epoch 238 loss: 1.48731 1.41662\n",
      "D l Fvetqn  C i rY 'rh  ayeoenwpop  olu n n  e,h Ndf ioir eh \n",
      " \n",
      "\n"
     ]
    },
    {
     "name": "stderr",
     "output_type": "stream",
     "text": [
      "100%|██████████| 76756/76756 [00:31<00:00, 2437.47it/s]\n",
      "100%|██████████| 8529/8529 [00:00<00:00, 11989.45it/s]\n"
     ]
    },
    {
     "name": "stdout",
     "output_type": "stream",
     "text": [
      "Epoch 239 loss: 1.48742 1.41833\n",
      "oeautdl  o' wt v  nb  aH t T? ii Rib  r Ueno re tti n hme Tep'a\n",
      "\n"
     ]
    },
    {
     "name": "stderr",
     "output_type": "stream",
     "text": [
      "100%|██████████| 76756/76756 [00:31<00:00, 2436.57it/s]\n",
      "100%|██████████| 8529/8529 [00:00<00:00, 11959.68it/s]\n"
     ]
    },
    {
     "name": "stdout",
     "output_type": "stream",
     "text": [
      "Epoch 240 loss: 1.48729 1.41728\n",
      "e pf\n",
      "nt  \n",
      "a  sll r ar iote  I dTp\n",
      "Et\n",
      "eon jtkG wi b' e  wrnrewcY\n",
      "\n"
     ]
    },
    {
     "name": "stderr",
     "output_type": "stream",
     "text": [
      "100%|██████████| 76756/76756 [00:30<00:00, 2506.72it/s]\n",
      "100%|██████████| 8529/8529 [00:00<00:00, 11981.90it/s]\n"
     ]
    },
    {
     "name": "stdout",
     "output_type": "stream",
     "text": [
      "Epoch 241 loss: 1.48743 1.41685\n",
      "oSwt vezrtL  eh E  o, ieOda\n",
      " htn V Sehl onhoi-d  ooem  .r eleei\n",
      "\n"
     ]
    },
    {
     "name": "stderr",
     "output_type": "stream",
     "text": [
      "100%|██████████| 76756/76756 [00:29<00:00, 2617.74it/s]\n",
      "100%|██████████| 8529/8529 [00:00<00:00, 11982.56it/s]\n"
     ]
    },
    {
     "name": "stdout",
     "output_type": "stream",
     "text": [
      "Epoch 242 loss: 1.48684 1.41840\n",
      " mt amaHOeSn muh  df s au,mrdsAfe,oW t neto   Su n ei .F iS c t\n",
      "\n"
     ]
    },
    {
     "name": "stderr",
     "output_type": "stream",
     "text": [
      "100%|██████████| 76756/76756 [00:29<00:00, 2617.34it/s]\n",
      "100%|██████████| 8529/8529 [00:00<00:00, 11981.28it/s]\n"
     ]
    },
    {
     "name": "stdout",
     "output_type": "stream",
     "text": [
      "Epoch 243 loss: 1.48641 1.41411\n",
      "e.hdUeae vEenw hl !d]n eO  oTE   Ef  vvanaun hhe ,palehY  ce\n",
      "ih\n",
      "\n"
     ]
    },
    {
     "name": "stderr",
     "output_type": "stream",
     "text": [
      "100%|██████████| 76756/76756 [00:29<00:00, 2618.31it/s]\n",
      "100%|██████████| 8529/8529 [00:00<00:00, 12009.88it/s]\n"
     ]
    },
    {
     "name": "stdout",
     "output_type": "stream",
     "text": [
      "Epoch 244 loss: 1.48645 1.41629\n",
      "rweh uaed v Vn\n",
      "noTn leytI,  C eBs.    aah ytob atAiA rtsMih eye\n",
      "\n"
     ]
    },
    {
     "name": "stderr",
     "output_type": "stream",
     "text": [
      "100%|██████████| 76756/76756 [00:30<00:00, 2532.31it/s]\n",
      "100%|██████████| 8529/8529 [00:00<00:00, 12031.70it/s]\n"
     ]
    },
    {
     "name": "stdout",
     "output_type": "stream",
     "text": [
      "Epoch 245 loss: 1.48679 1.41430\n",
      "s     reo ept eohtIoPyg.dN dr.ie  ooep yl s?te euV,n  shoiHWrc \n",
      "\n"
     ]
    },
    {
     "name": "stderr",
     "output_type": "stream",
     "text": [
      "100%|██████████| 76756/76756 [00:31<00:00, 2447.79it/s]\n",
      "100%|██████████| 8529/8529 [00:00<00:00, 11987.52it/s]\n"
     ]
    },
    {
     "name": "stdout",
     "output_type": "stream",
     "text": [
      "Epoch 246 loss: 1.48678 1.41775\n",
      "Pnt h   tro lr i\n",
      "ah  b  r aa.efu cts!aiiEsea'ONL f eohte\n",
      "a APds\n",
      "\n"
     ]
    },
    {
     "name": "stderr",
     "output_type": "stream",
     "text": [
      "100%|██████████| 76756/76756 [00:31<00:00, 2437.36it/s]\n",
      "100%|██████████| 8529/8529 [00:00<00:00, 12021.12it/s]\n"
     ]
    },
    {
     "name": "stdout",
     "output_type": "stream",
     "text": [
      "Epoch 247 loss: 1.48641 1.41372\n",
      " Tshutsf Ser,h rEshe.tneleta E,Mo  a   I. a i  a'liilkvmu     e\n",
      "\n"
     ]
    },
    {
     "name": "stderr",
     "output_type": "stream",
     "text": [
      "100%|██████████| 76756/76756 [00:31<00:00, 2437.66it/s]\n",
      "100%|██████████| 8529/8529 [00:00<00:00, 12039.59it/s]\n"
     ]
    },
    {
     "name": "stdout",
     "output_type": "stream",
     "text": [
      "Epoch 248 loss: 1.48630 1.41574\n",
      "oI ynA 'gw  Rd h  tlu .au ruursa,a rrhW\n",
      "Iu hhnEoOs urdoahmhnoyd\n",
      "\n"
     ]
    },
    {
     "name": "stderr",
     "output_type": "stream",
     "text": [
      "100%|██████████| 76756/76756 [00:31<00:00, 2438.82it/s]\n",
      "100%|██████████| 8529/8529 [00:00<00:00, 12051.79it/s]\n"
     ]
    },
    {
     "name": "stdout",
     "output_type": "stream",
     "text": [
      "Epoch 249 loss: 1.48617 1.41617\n",
      "Tesoifre;aa t  t i]iyrssseud\n",
      "r \n",
      "ln t[hmv.yumc ai  ,fe Tdel t  w\n",
      "\n"
     ]
    },
    {
     "name": "stderr",
     "output_type": "stream",
     "text": [
      "100%|██████████| 76756/76756 [00:31<00:00, 2440.17it/s]\n",
      "100%|██████████| 8529/8529 [00:00<00:00, 12028.30it/s]\n"
     ]
    },
    {
     "name": "stdout",
     "output_type": "stream",
     "text": [
      "Epoch 250 loss: 1.48579 1.41398\n",
      "tanu n\n",
      "oKehRbr\n",
      "pttene ht  ctwe ,, twnn nfado t.m MhLhoih!un   s\n",
      "\n"
     ]
    },
    {
     "name": "stderr",
     "output_type": "stream",
     "text": [
      "100%|██████████| 76756/76756 [00:31<00:00, 2454.77it/s]\n",
      "100%|██████████| 8529/8529 [00:00<00:00, 12019.08it/s]\n"
     ]
    },
    {
     "name": "stdout",
     "output_type": "stream",
     "text": [
      "Epoch 251 loss: 1.48573 1.41714\n",
      "'tayriuttAsa it\n",
      "aiLoydoN'ohdea  h't  au ,b  EvkOWvTdi;oy aE a l\n",
      "\n"
     ]
    },
    {
     "name": "stderr",
     "output_type": "stream",
     "text": [
      "100%|██████████| 76756/76756 [00:30<00:00, 2538.75it/s]\n",
      "100%|██████████| 8529/8529 [00:00<00:00, 11985.07it/s]\n"
     ]
    },
    {
     "name": "stdout",
     "output_type": "stream",
     "text": [
      "Epoch 252 loss: 1.48562 1.41413\n",
      "rnnnno  eLilya lhtu;be r es e    hhcAaclr mmkouhKtCitA' rd  r s\n",
      "\n"
     ]
    },
    {
     "name": "stderr",
     "output_type": "stream",
     "text": [
      "100%|██████████| 76756/76756 [00:31<00:00, 2436.65it/s]\n",
      "100%|██████████| 8529/8529 [00:00<00:00, 11993.36it/s]\n"
     ]
    },
    {
     "name": "stdout",
     "output_type": "stream",
     "text": [
      "Epoch 253 loss: 1.48603 1.41428\n",
      " Imt'U b ?  Hwm \n",
      "rnno OdkeMosohh yhOde El .AT  PuHU hgsbfE t t \n",
      "\n"
     ]
    },
    {
     "name": "stderr",
     "output_type": "stream",
     "text": [
      "100%|██████████| 76756/76756 [00:31<00:00, 2471.03it/s]\n",
      "100%|██████████| 8529/8529 [00:00<00:00, 12202.23it/s]\n"
     ]
    },
    {
     "name": "stdout",
     "output_type": "stream",
     "text": [
      "Epoch 254 loss: 1.48603 1.41664\n",
      "Si nl\n",
      ",hd ,re r  e'ltoaE .IAlmhtyBrm terrlh d et  \n",
      "t aoi yna mw\n",
      "\n"
     ]
    },
    {
     "name": "stderr",
     "output_type": "stream",
     "text": [
      "100%|██████████| 76756/76756 [00:30<00:00, 2493.87it/s]\n",
      "100%|██████████| 8529/8529 [00:00<00:00, 12203.70it/s]\n"
     ]
    },
    {
     "name": "stdout",
     "output_type": "stream",
     "text": [
      "Epoch 255 loss: 1.48557 1.41555\n",
      "\n",
      "ta\n",
      " dA.e'aOd ihHtvyr ov e aIlhtar.Yai olurpnhsh nb, a gy td e \n",
      "\n"
     ]
    },
    {
     "name": "stderr",
     "output_type": "stream",
     "text": [
      "100%|██████████| 76756/76756 [00:30<00:00, 2494.11it/s]\n",
      "100%|██████████| 8529/8529 [00:00<00:00, 12199.17it/s]\n"
     ]
    },
    {
     "name": "stdout",
     "output_type": "stream",
     "text": [
      "Epoch 256 loss: 1.48552 1.41446\n",
      "ah ehu raieo ho Ma'i  e HpemirmtHo Wlgs  y .udgt itrtas tCy,u o\n",
      "\n"
     ]
    },
    {
     "name": "stderr",
     "output_type": "stream",
     "text": [
      "100%|██████████| 76756/76756 [00:30<00:00, 2485.82it/s]\n",
      "100%|██████████| 8529/8529 [00:00<00:00, 11949.09it/s]\n"
     ]
    },
    {
     "name": "stdout",
     "output_type": "stream",
     "text": [
      "Epoch 257 loss: 1.48488 1.41413\n",
      "o .EatteOoI'Tceowso  c ] G\n",
      "ga e u eMeonest\n",
      "si'NI lfbte lna\n",
      " lpe\n",
      "\n"
     ]
    },
    {
     "name": "stderr",
     "output_type": "stream",
     "text": [
      "100%|██████████| 76756/76756 [00:31<00:00, 2436.57it/s]\n",
      "100%|██████████| 8529/8529 [00:00<00:00, 11990.30it/s]\n"
     ]
    },
    {
     "name": "stdout",
     "output_type": "stream",
     "text": [
      "Epoch 258 loss: 1.48526 1.41671\n",
      "ninoSp nmt \n",
      " awos\n",
      "E fe Ea Ce.ikd,AMrys l,O kOwntrOy,wtonfWn'a ?\n",
      "\n"
     ]
    },
    {
     "name": "stderr",
     "output_type": "stream",
     "text": [
      "100%|██████████| 76756/76756 [00:31<00:00, 2447.95it/s]\n",
      "100%|██████████| 8529/8529 [00:00<00:00, 12100.36it/s]\n"
     ]
    },
    {
     "name": "stdout",
     "output_type": "stream",
     "text": [
      "Epoch 259 loss: 1.48493 1.41379\n",
      "t  B. nieo,Y oo E r osTuyo \n",
      " o,e TJbl  eceaaOu hC\n",
      " ma  aoM S.  \n",
      "\n"
     ]
    },
    {
     "name": "stderr",
     "output_type": "stream",
     "text": [
      "100%|██████████| 76756/76756 [00:29<00:00, 2640.54it/s]\n",
      "100%|██████████| 8529/8529 [00:00<00:00, 12118.54it/s]\n"
     ]
    },
    {
     "name": "stdout",
     "output_type": "stream",
     "text": [
      "Epoch 260 loss: 1.48473 1.41632\n",
      "mdrbrM  idcCaR.Ibnb\n",
      "k  eursktRleN rhe.se v\n",
      "o e  hoe u ruadok es\n",
      "\n"
     ]
    },
    {
     "name": "stderr",
     "output_type": "stream",
     "text": [
      "100%|██████████| 76756/76756 [00:29<00:00, 2642.24it/s]\n",
      "100%|██████████| 8529/8529 [00:00<00:00, 12110.94it/s]\n"
     ]
    },
    {
     "name": "stdout",
     "output_type": "stream",
     "text": [
      "Epoch 261 loss: 1.48474 1.41219\n",
      "c  Yeea r ec roi eafesnboo   o onatorllEsaid  atiTg  bh\n",
      " t ln h\n",
      "\n"
     ]
    },
    {
     "name": "stderr",
     "output_type": "stream",
     "text": [
      "100%|██████████| 76756/76756 [00:29<00:00, 2639.87it/s]\n",
      "100%|██████████| 8529/8529 [00:00<00:00, 12120.64it/s]\n"
     ]
    },
    {
     "name": "stdout",
     "output_type": "stream",
     "text": [
      "Epoch 262 loss: 1.48431 1.41530\n",
      "uoueb , r l rkH\n",
      " . j\n",
      "\n",
      " \n",
      " I C  h   f   rone eeetuAa BesaouTon,. \n",
      "\n"
     ]
    },
    {
     "name": "stderr",
     "output_type": "stream",
     "text": [
      "100%|██████████| 76756/76756 [00:29<00:00, 2641.30it/s]\n",
      "100%|██████████| 8529/8529 [00:00<00:00, 12138.44it/s]\n"
     ]
    },
    {
     "name": "stdout",
     "output_type": "stream",
     "text": [
      "Epoch 263 loss: 1.48430 1.41420\n",
      "swrsdhoa-g edr md syiygC gusA r,it H ew  Ttn  eientnalll'y en  \n",
      "\n"
     ]
    },
    {
     "name": "stderr",
     "output_type": "stream",
     "text": [
      "100%|██████████| 76756/76756 [00:29<00:00, 2642.70it/s]\n",
      "100%|██████████| 8529/8529 [00:00<00:00, 12129.61it/s]\n"
     ]
    },
    {
     "name": "stdout",
     "output_type": "stream",
     "text": [
      "Epoch 264 loss: 1.48432 1.41477\n",
      "  dt\n",
      "v x.E l fenbeflfypSe  a o?let atefaeh, u  ert anet\n",
      "Ell\n",
      "In \n",
      "\n"
     ]
    },
    {
     "name": "stderr",
     "output_type": "stream",
     "text": [
      "100%|██████████| 76756/76756 [00:29<00:00, 2643.04it/s]\n",
      "100%|██████████| 8529/8529 [00:00<00:00, 12122.20it/s]\n"
     ]
    },
    {
     "name": "stdout",
     "output_type": "stream",
     "text": [
      "Epoch 265 loss: 1.48429 1.41075\n",
      "adaUn :t , rhe ' s gYiF, ds f\n",
      "ou ,nrot y\n",
      "  \n",
      " iootoin  de      \n",
      "\n",
      "\n"
     ]
    },
    {
     "name": "stderr",
     "output_type": "stream",
     "text": [
      "100%|██████████| 76756/76756 [00:29<00:00, 2642.50it/s]\n",
      "100%|██████████| 8529/8529 [00:00<00:00, 12137.18it/s]\n"
     ]
    },
    {
     "name": "stdout",
     "output_type": "stream",
     "text": [
      "Epoch 266 loss: 1.48422 1.41789\n",
      " h m aeu soA elh eoiutu siost rr iln  n eo. A ?nA \n",
      "idUge t\n",
      "Nsiv\n",
      "\n"
     ]
    },
    {
     "name": "stderr",
     "output_type": "stream",
     "text": [
      "100%|██████████| 76756/76756 [00:29<00:00, 2642.83it/s]\n",
      "100%|██████████| 8529/8529 [00:00<00:00, 12135.29it/s]\n"
     ]
    },
    {
     "name": "stdout",
     "output_type": "stream",
     "text": [
      "Epoch 267 loss: 1.48404 1.41316\n",
      "d.tn  l,  fhrHmo  'ys 'hh- rLp ifa\n",
      "\n",
      " irres s .otCmlpmWna \n",
      "usa\n",
      "\n",
      "\n",
      "\n"
     ]
    },
    {
     "name": "stderr",
     "output_type": "stream",
     "text": [
      "100%|██████████| 76756/76756 [00:29<00:00, 2586.63it/s]\n",
      "100%|██████████| 8529/8529 [00:00<00:00, 12117.02it/s]\n"
     ]
    },
    {
     "name": "stdout",
     "output_type": "stream",
     "text": [
      "Epoch 268 loss: 1.48411 1.41173\n",
      "i cdds  RgHt\n",
      "  l S\n",
      "w foB ih f Rt'do  a  o oT  Ut f nyyrHsl eh.s\n",
      "\n"
     ]
    },
    {
     "name": "stderr",
     "output_type": "stream",
     "text": [
      "100%|██████████| 76756/76756 [00:31<00:00, 2460.65it/s]\n",
      "100%|██████████| 8529/8529 [00:00<00:00, 12183.45it/s]\n"
     ]
    },
    {
     "name": "stdout",
     "output_type": "stream",
     "text": [
      "Epoch 269 loss: 1.48390 1.41167\n",
      "eh \n",
      "le- a  ollae yi\n",
      "  id  fteEs    b\n",
      "dyyn dsecsnvd\n",
      "hs\n",
      "oe r .tio\n",
      "\n"
     ]
    },
    {
     "name": "stderr",
     "output_type": "stream",
     "text": [
      "100%|██████████| 76756/76756 [00:30<00:00, 2488.77it/s]\n",
      "100%|██████████| 8529/8529 [00:00<00:00, 12188.79it/s]\n"
     ]
    },
    {
     "name": "stdout",
     "output_type": "stream",
     "text": [
      "Epoch 270 loss: 1.48379 1.41242\n",
      "RhOI oche  ghi da - te uuOpa  mr r  t  dea?n'TtcaoS\n",
      "s fy  fmh a\n",
      "\n"
     ]
    },
    {
     "name": "stderr",
     "output_type": "stream",
     "text": [
      "100%|██████████| 76756/76756 [00:30<00:00, 2492.17it/s]\n",
      "100%|██████████| 8529/8529 [00:00<00:00, 12203.99it/s]\n"
     ]
    },
    {
     "name": "stdout",
     "output_type": "stream",
     "text": [
      "Epoch 271 loss: 1.48339 1.41272\n",
      "lro,g  ri.aveno iga]   ;stli\n",
      " hmoHp HO,rasvtmnf yCro,Euhter hrt\n",
      "\n"
     ]
    },
    {
     "name": "stderr",
     "output_type": "stream",
     "text": [
      "100%|██████████| 76756/76756 [00:30<00:00, 2531.97it/s]\n",
      "100%|██████████| 8529/8529 [00:00<00:00, 12196.31it/s]\n"
     ]
    },
    {
     "name": "stdout",
     "output_type": "stream",
     "text": [
      "Epoch 272 loss: 1.48335 1.41117\n",
      "rdsuu LB  sa\n",
      "enS hoe. yr\n",
      "Ab\n",
      "awsi  u v\n",
      "ynianyOf hd h  nsau  ftrn\n",
      "\n"
     ]
    },
    {
     "name": "stderr",
     "output_type": "stream",
     "text": [
      "100%|██████████| 76756/76756 [00:28<00:00, 2665.39it/s]\n",
      "100%|██████████| 8529/8529 [00:00<00:00, 12196.76it/s]\n"
     ]
    },
    {
     "name": "stdout",
     "output_type": "stream",
     "text": [
      "Epoch 273 loss: 1.48344 1.41495\n",
      "sNeau.th ahisHn\n",
      "f\n",
      "hehmi g.\n",
      " sa   obr,ieh,on hT nesio  yeWhthrEs\n",
      "\n"
     ]
    },
    {
     "name": "stderr",
     "output_type": "stream",
     "text": [
      "100%|██████████| 76756/76756 [00:28<00:00, 2665.40it/s]\n",
      "100%|██████████| 8529/8529 [00:00<00:00, 12192.38it/s]\n"
     ]
    },
    {
     "name": "stdout",
     "output_type": "stream",
     "text": [
      "Epoch 274 loss: 1.48315 1.41235\n",
      "nnhlih n Fct  t woe 'OaT herfu e'hoy uld do!m th   \n",
      ".rU;eIi   o\n",
      "\n"
     ]
    },
    {
     "name": "stderr",
     "output_type": "stream",
     "text": [
      "100%|██████████| 76756/76756 [00:28<00:00, 2665.34it/s]\n",
      "100%|██████████| 8529/8529 [00:00<00:00, 12193.43it/s]\n"
     ]
    },
    {
     "name": "stdout",
     "output_type": "stream",
     "text": [
      "Epoch 275 loss: 1.48317 1.41232\n",
      "eoth   VrE hdei  iwt  rglSr l\n",
      "n Bnlf;f  b E?eS\n",
      "ac,n  oe a r tn \n",
      "\n"
     ]
    },
    {
     "name": "stderr",
     "output_type": "stream",
     "text": [
      "100%|██████████| 76756/76756 [00:28<00:00, 2665.31it/s]\n",
      "100%|██████████| 8529/8529 [00:00<00:00, 12199.69it/s]\n"
     ]
    },
    {
     "name": "stdout",
     "output_type": "stream",
     "text": [
      "Epoch 276 loss: 1.48349 1.41563\n",
      "\n",
      "n isN  o?RirdeOieoy   n\n",
      "  o m weNlG G ahpr o r NO.  lbu et o a\n",
      "\n"
     ]
    },
    {
     "name": "stderr",
     "output_type": "stream",
     "text": [
      "100%|██████████| 76756/76756 [00:28<00:00, 2665.34it/s]\n",
      "100%|██████████| 8529/8529 [00:00<00:00, 12197.13it/s]\n"
     ]
    },
    {
     "name": "stdout",
     "output_type": "stream",
     "text": [
      "Epoch 277 loss: 1.48329 1.41099\n",
      "lefeau'byti.,   uan  egn C\n",
      " sr nm ern   n u,Itw Aie  aOrtsacTn \n",
      "\n"
     ]
    },
    {
     "name": "stderr",
     "output_type": "stream",
     "text": [
      "100%|██████████| 76756/76756 [00:28<00:00, 2665.35it/s]\n",
      "100%|██████████| 8529/8529 [00:00<00:00, 12193.16it/s]\n"
     ]
    },
    {
     "name": "stdout",
     "output_type": "stream",
     "text": [
      "Epoch 278 loss: 1.48301 1.41347\n",
      " ioaL' ttstoF eaitie \n",
      "tnet L w oomTputud \n",
      " a' wo sSo\n",
      "teyNow IN\n",
      "\n",
      "\n"
     ]
    },
    {
     "name": "stderr",
     "output_type": "stream",
     "text": [
      "100%|██████████| 76756/76756 [00:28<00:00, 2665.39it/s]\n",
      "100%|██████████| 8529/8529 [00:00<00:00, 12195.22it/s]\n"
     ]
    },
    {
     "name": "stdout",
     "output_type": "stream",
     "text": [
      "Epoch 279 loss: 1.48256 1.41162\n",
      "tolt doe r t ' L o aIe tY sbtadrt st mEfu bs eebe oeog im w yIl\n",
      "\n"
     ]
    },
    {
     "name": "stderr",
     "output_type": "stream",
     "text": [
      "100%|██████████| 76756/76756 [00:29<00:00, 2568.66it/s]\n",
      "100%|██████████| 8529/8529 [00:00<00:00, 11984.24it/s]\n"
     ]
    },
    {
     "name": "stdout",
     "output_type": "stream",
     "text": [
      "Epoch 280 loss: 1.48272 1.41134\n",
      "tlhad ie  tfr inA    IrCp S e rehM huh d ur  erauL wht.d' s rrt\n",
      "\n"
     ]
    },
    {
     "name": "stderr",
     "output_type": "stream",
     "text": [
      "100%|██████████| 76756/76756 [00:31<00:00, 2437.07it/s]\n",
      "100%|██████████| 8529/8529 [00:00<00:00, 11980.76it/s]\n"
     ]
    },
    {
     "name": "stdout",
     "output_type": "stream",
     "text": [
      "Epoch 281 loss: 1.48252 1.40847\n",
      "mee r  mrS ce oCt-ccoyhetintdibt wR  ywo tru  T   uuRuyeeom ea\n",
      "\n",
      "\n"
     ]
    },
    {
     "name": "stderr",
     "output_type": "stream",
     "text": [
      "100%|██████████| 76756/76756 [00:31<00:00, 2470.51it/s]\n",
      "100%|██████████| 8529/8529 [00:00<00:00, 12196.37it/s]\n"
     ]
    },
    {
     "name": "stdout",
     "output_type": "stream",
     "text": [
      "Epoch 282 loss: 1.48255 1.41470\n",
      "-dQogbn ,gtseoe emH.rn\n",
      "So  hiuitTn hsn ,h:rhnwT  udii n  e'dw,s\n",
      "\n"
     ]
    },
    {
     "name": "stderr",
     "output_type": "stream",
     "text": [
      "100%|██████████| 76756/76756 [00:30<00:00, 2505.10it/s]\n",
      "100%|██████████| 8529/8529 [00:00<00:00, 12141.78it/s]\n"
     ]
    },
    {
     "name": "stdout",
     "output_type": "stream",
     "text": [
      "Epoch 283 loss: 1.48240 1.41271\n",
      "w nstar s tgmbodun i   OoRha\n",
      " o. ' t.l  ,aI srculErthit Duty  i\n",
      "\n"
     ]
    },
    {
     "name": "stderr",
     "output_type": "stream",
     "text": [
      "100%|██████████| 76756/76756 [00:30<00:00, 2482.91it/s]\n",
      "100%|██████████| 8529/8529 [00:00<00:00, 12159.19it/s]\n"
     ]
    },
    {
     "name": "stdout",
     "output_type": "stream",
     "text": [
      "Epoch 284 loss: 1.48221 1.40957\n",
      "iletaht ho ,DfRlodatstf ,u eNNshworuo  rs SIlEo  iyentbhsel Eat\n",
      "\n"
     ]
    },
    {
     "name": "stderr",
     "output_type": "stream",
     "text": [
      "100%|██████████| 76756/76756 [00:30<00:00, 2479.61it/s]\n",
      "100%|██████████| 8529/8529 [00:00<00:00, 12184.98it/s]\n"
     ]
    },
    {
     "name": "stdout",
     "output_type": "stream",
     "text": [
      "Epoch 285 loss: 1.48243 1.41025\n",
      "lke  naml  St etsen melytC   m sa\n",
      "  e K nsih Ms,lounohIm\n",
      "Perlrs\n",
      "\n"
     ]
    },
    {
     "name": "stderr",
     "output_type": "stream",
     "text": [
      "100%|██████████| 76756/76756 [00:30<00:00, 2491.83it/s]\n",
      "100%|██████████| 8529/8529 [00:00<00:00, 12148.95it/s]\n"
     ]
    },
    {
     "name": "stdout",
     "output_type": "stream",
     "text": [
      "Epoch 286 loss: 1.48220 1.41173\n",
      " e  RerecsuFi.  talra,kooTi eaa.\n",
      "n  eW tisweg W tc, pk nsNrusty\n",
      "\n"
     ]
    },
    {
     "name": "stderr",
     "output_type": "stream",
     "text": [
      "100%|██████████| 76756/76756 [00:30<00:00, 2479.04it/s]\n",
      "100%|██████████| 8529/8529 [00:00<00:00, 12147.05it/s]\n"
     ]
    },
    {
     "name": "stdout",
     "output_type": "stream",
     "text": [
      "Epoch 287 loss: 1.48227 1.41254\n",
      "raE e hRa ia  L atlaaRIq\n",
      "owA hfo nr t EtmE tOn xa  lbr m t itns\n",
      "\n"
     ]
    },
    {
     "name": "stderr",
     "output_type": "stream",
     "text": [
      "100%|██████████| 76756/76756 [00:30<00:00, 2481.50it/s]\n",
      "100%|██████████| 8529/8529 [00:00<00:00, 12176.11it/s]\n"
     ]
    },
    {
     "name": "stdout",
     "output_type": "stream",
     "text": [
      "Epoch 288 loss: 1.48170 1.41300\n",
      "lP iy nrrd ev S  en lat\n",
      "N rttrsc  s DyTlrdruu  iTso  ofr ] qeaI\n",
      "\n"
     ]
    },
    {
     "name": "stderr",
     "output_type": "stream",
     "text": [
      "100%|██████████| 76756/76756 [00:30<00:00, 2486.24it/s]\n",
      "100%|██████████| 8529/8529 [00:00<00:00, 12170.06it/s]\n"
     ]
    },
    {
     "name": "stdout",
     "output_type": "stream",
     "text": [
      "Epoch 289 loss: 1.48206 1.41309\n",
      "ptow eengemsd s.H eeyidtoh rni ,lbEatr   \n",
      "s i eu,titopu lrnroth\n",
      "\n"
     ]
    },
    {
     "name": "stderr",
     "output_type": "stream",
     "text": [
      "100%|██████████| 76756/76756 [00:30<00:00, 2486.17it/s]\n",
      "100%|██████████| 8529/8529 [00:00<00:00, 12190.41it/s]\n"
     ]
    },
    {
     "name": "stdout",
     "output_type": "stream",
     "text": [
      "Epoch 290 loss: 1.48200 1.41275\n",
      " f e ihcH\n",
      "dw \n",
      " 'ap  tnoT gdjuiv e Sii h ya,TLs  \n",
      "rt.ofc \n",
      "Ss js\n",
      "\n",
      "\n"
     ]
    },
    {
     "name": "stderr",
     "output_type": "stream",
     "text": [
      "100%|██████████| 76756/76756 [00:29<00:00, 2638.81it/s]\n",
      "100%|██████████| 8529/8529 [00:00<00:00, 12177.93it/s]\n"
     ]
    },
    {
     "name": "stdout",
     "output_type": "stream",
     "text": [
      "Epoch 291 loss: 1.48138 1.41102\n",
      "n'naa htreOohan Er  isrr  tiT rEsh  ah oy' i  Anhh Rsnou tEA   \n",
      "\n"
     ]
    },
    {
     "name": "stderr",
     "output_type": "stream",
     "text": [
      "100%|██████████| 76756/76756 [00:28<00:00, 2665.44it/s]\n",
      "100%|██████████| 8529/8529 [00:00<00:00, 12184.34it/s]\n"
     ]
    },
    {
     "name": "stdout",
     "output_type": "stream",
     "text": [
      "Epoch 292 loss: 1.48152 1.41127\n",
      "jnthndDhf' i \n",
      "ko y.fu emphliffP    O'ufEm .p e H l h sn lOsa m \n",
      "\n"
     ]
    },
    {
     "name": "stderr",
     "output_type": "stream",
     "text": [
      "100%|██████████| 76756/76756 [00:28<00:00, 2665.44it/s]\n",
      "100%|██████████| 8529/8529 [00:00<00:00, 12189.09it/s]\n"
     ]
    },
    {
     "name": "stdout",
     "output_type": "stream",
     "text": [
      "Epoch 293 loss: 1.48154 1.41074\n",
      "el\n",
      "yilit hwieao ood iPaAi iR l vdelapd  o-\n",
      "f hh  el  r tl  Y tp\n",
      "\n"
     ]
    },
    {
     "name": "stderr",
     "output_type": "stream",
     "text": [
      "100%|██████████| 76756/76756 [00:28<00:00, 2665.88it/s]\n",
      "100%|██████████| 8529/8529 [00:00<00:00, 12184.61it/s]\n"
     ]
    },
    {
     "name": "stdout",
     "output_type": "stream",
     "text": [
      "Epoch 294 loss: 1.48156 1.41065\n",
      "s v yrS  nr eom\n",
      "l  ee,eaif  mt rhH oet ae,anseyo,r lAv ech w ft\n",
      "\n"
     ]
    },
    {
     "name": "stderr",
     "output_type": "stream",
     "text": [
      "100%|██████████| 76756/76756 [00:28<00:00, 2665.54it/s]\n",
      "100%|██████████| 8529/8529 [00:00<00:00, 12191.34it/s]\n"
     ]
    },
    {
     "name": "stdout",
     "output_type": "stream",
     "text": [
      "Epoch 295 loss: 1.48125 1.40928\n",
      "\n",
      "  h\n",
      "semit   oea.nARi nn tpeua fsuuendf d\n",
      "ms \n",
      "aoi     Pe,pSes A\n",
      "\n"
     ]
    },
    {
     "name": "stderr",
     "output_type": "stream",
     "text": [
      "100%|██████████| 76756/76756 [00:28<00:00, 2665.46it/s]\n",
      "100%|██████████| 8529/8529 [00:00<00:00, 12180.00it/s]\n"
     ]
    },
    {
     "name": "stdout",
     "output_type": "stream",
     "text": [
      "Epoch 296 loss: 1.48164 1.40821\n",
      "RasS ii   noP bl t  I sra,yo   dme Ttgym  neoe irjn Ae,ad d u n\n",
      "\n"
     ]
    },
    {
     "name": "stderr",
     "output_type": "stream",
     "text": [
      "100%|██████████| 76756/76756 [00:28<00:00, 2667.10it/s]\n",
      "100%|██████████| 8529/8529 [00:00<00:00, 12190.00it/s]\n"
     ]
    },
    {
     "name": "stdout",
     "output_type": "stream",
     "text": [
      "Epoch 297 loss: 1.48133 1.40982\n",
      " taB [pcegmwo uu ya yYo\n",
      "dmanehtCv e?EOimrdeenlne dc rOt Niimnt\n",
      "\n",
      "\n"
     ]
    },
    {
     "name": "stderr",
     "output_type": "stream",
     "text": [
      "100%|██████████| 76756/76756 [00:28<00:00, 2671.14it/s]\n",
      "100%|██████████| 8529/8529 [00:00<00:00, 12190.75it/s]\n"
     ]
    },
    {
     "name": "stdout",
     "output_type": "stream",
     "text": [
      "Epoch 298 loss: 1.48114 1.40913\n",
      "e  w erthhnsa.ehFrso,y iya rdr tT'ntF] ds frp ca th,o aw.slda  \n",
      "\n"
     ]
    },
    {
     "name": "stderr",
     "output_type": "stream",
     "text": [
      "100%|██████████| 76756/76756 [00:28<00:00, 2673.41it/s]\n",
      "100%|██████████| 8529/8529 [00:00<00:00, 12203.73it/s]\n"
     ]
    },
    {
     "name": "stdout",
     "output_type": "stream",
     "text": [
      "Epoch 299 loss: 1.48111 1.40870\n",
      "u  io bseie   El HhshArue he nmdwo unhefU;v  i   t\n",
      "h s Claos-hu\n",
      "\n"
     ]
    },
    {
     "name": "stderr",
     "output_type": "stream",
     "text": [
      "100%|██████████| 76756/76756 [00:28<00:00, 2673.52it/s]\n",
      "100%|██████████| 8529/8529 [00:00<00:00, 12197.40it/s]\n"
     ]
    },
    {
     "name": "stdout",
     "output_type": "stream",
     "text": [
      "Epoch 300 loss: 1.48062 1.41167\n",
      "l,N a uo nwn amSaaonyua  iRiorea St ideor eioto r see lsebyfs,e\n",
      "\n"
     ]
    },
    {
     "name": "stderr",
     "output_type": "stream",
     "text": [
      "100%|██████████| 76756/76756 [00:28<00:00, 2673.28it/s]\n",
      "100%|██████████| 8529/8529 [00:00<00:00, 12203.59it/s]\n"
     ]
    },
    {
     "name": "stdout",
     "output_type": "stream",
     "text": [
      "Epoch 301 loss: 1.48085 1.41086\n",
      "eeadhrladefYtYo,A  .P eNrw f 'r rt\n",
      "wstAiMt \n",
      ", eniahei,ikfa esl\n",
      "\n",
      "\n"
     ]
    },
    {
     "name": "stderr",
     "output_type": "stream",
     "text": [
      "100%|██████████| 76756/76756 [00:28<00:00, 2674.57it/s]\n",
      "100%|██████████| 8529/8529 [00:00<00:00, 12204.80it/s]\n"
     ]
    },
    {
     "name": "stdout",
     "output_type": "stream",
     "text": [
      "Epoch 302 loss: 1.48090 1.41015\n",
      "ve sd alrrehu hhoS i,aorL  e'it-  r heeeah ,l iis eMdwa]mah gur\n",
      "\n"
     ]
    },
    {
     "name": "stderr",
     "output_type": "stream",
     "text": [
      "100%|██████████| 76756/76756 [00:29<00:00, 2644.53it/s]\n",
      "100%|██████████| 8529/8529 [00:00<00:00, 12154.72it/s]\n"
     ]
    },
    {
     "name": "stdout",
     "output_type": "stream",
     "text": [
      "Epoch 303 loss: 1.48085 1.41011\n",
      " l. bp .  mab ,sr t detCa\n",
      "\n",
      "e   iL ,uL u rWon\n",
      "rsoLc\n",
      "La Wde\n",
      "dgll \n",
      "\n"
     ]
    },
    {
     "name": "stderr",
     "output_type": "stream",
     "text": [
      "100%|██████████| 76756/76756 [00:29<00:00, 2643.22it/s]\n",
      "100%|██████████| 8529/8529 [00:00<00:00, 12146.93it/s]\n"
     ]
    },
    {
     "name": "stdout",
     "output_type": "stream",
     "text": [
      "Epoch 304 loss: 1.48133 1.41060\n",
      " d Sy.a rrIsebng -Ts moSiourn n\n",
      "se,i im  l e i OdAa ndThv'g;o  \n",
      "\n"
     ]
    },
    {
     "name": "stderr",
     "output_type": "stream",
     "text": [
      "100%|██████████| 76756/76756 [00:29<00:00, 2642.75it/s]\n",
      "100%|██████████| 8529/8529 [00:00<00:00, 12137.73it/s]\n"
     ]
    },
    {
     "name": "stdout",
     "output_type": "stream",
     "text": [
      "Epoch 305 loss: 1.48075 1.41090\n",
      "aaen,ltdiwtacaWt on I nt ocft'Peho \n",
      "\n",
      "u,af pefe f rAku oYat hBh \n",
      "\n"
     ]
    },
    {
     "name": "stderr",
     "output_type": "stream",
     "text": [
      "100%|██████████| 76756/76756 [00:29<00:00, 2642.37it/s]\n",
      "100%|██████████| 8529/8529 [00:00<00:00, 12132.64it/s]\n"
     ]
    },
    {
     "name": "stdout",
     "output_type": "stream",
     "text": [
      "Epoch 306 loss: 1.48056 1.40943\n",
      " Hp eseaet,Anshtc ierl\n",
      "otwug runi' het ty'veonkS iragns osesH  \n",
      "\n"
     ]
    },
    {
     "name": "stderr",
     "output_type": "stream",
     "text": [
      "100%|██████████| 76756/76756 [00:29<00:00, 2642.12it/s]\n",
      "100%|██████████| 8529/8529 [00:00<00:00, 12138.54it/s]\n"
     ]
    },
    {
     "name": "stdout",
     "output_type": "stream",
     "text": [
      "Epoch 307 loss: 1.48063 1.40882\n",
      "s sjuTdreo iimarh ,Hr \n",
      "\n",
      "c o \n",
      "\n",
      " cA p etoyptes src ipo'krnonmie l\n",
      "\n"
     ]
    },
    {
     "name": "stderr",
     "output_type": "stream",
     "text": [
      "100%|██████████| 76756/76756 [00:29<00:00, 2628.32it/s]\n",
      "100%|██████████| 8529/8529 [00:00<00:00, 12022.09it/s]\n"
     ]
    },
    {
     "name": "stdout",
     "output_type": "stream",
     "text": [
      "Epoch 308 loss: 1.48021 1.41242\n",
      " nh aso\n",
      " ylD cret r] . apntL  op, roBN tah  ;m Ouhwo    dhiC T \n",
      "\n"
     ]
    },
    {
     "name": "stderr",
     "output_type": "stream",
     "text": [
      "100%|██████████| 76756/76756 [00:29<00:00, 2617.40it/s]\n",
      "100%|██████████| 8529/8529 [00:00<00:00, 12025.00it/s]\n"
     ]
    },
    {
     "name": "stdout",
     "output_type": "stream",
     "text": [
      "Epoch 309 loss: 1.48036 1.41157\n",
      "a \n",
      ".   naynctieoin pe\n",
      "n  ha   v.ynt   te  ?e eLMCF aOaMdc ham  \n",
      "\n"
     ]
    },
    {
     "name": "stderr",
     "output_type": "stream",
     "text": [
      "100%|██████████| 76756/76756 [00:29<00:00, 2617.30it/s]\n",
      "100%|██████████| 8529/8529 [00:00<00:00, 12006.42it/s]\n"
     ]
    },
    {
     "name": "stdout",
     "output_type": "stream",
     "text": [
      "Epoch 310 loss: 1.48044 1.40985\n",
      " wn   aas oweyoylnogEadwNt e  Ieran  uedOe ot a  Y     'dr,\n",
      "bny\n",
      "\n"
     ]
    },
    {
     "name": "stderr",
     "output_type": "stream",
     "text": [
      "100%|██████████| 76756/76756 [00:30<00:00, 2544.73it/s]\n",
      "100%|██████████| 8529/8529 [00:00<00:00, 11982.33it/s]\n"
     ]
    },
    {
     "name": "stdout",
     "output_type": "stream",
     "text": [
      "Epoch 311 loss: 1.47986 1.40940\n",
      "oadyttuh,Vnnod lkeoCpbbmaLm sdN\n",
      "ilaO en einAon y r, bc dnyy aId\n",
      "\n"
     ]
    },
    {
     "name": "stderr",
     "output_type": "stream",
     "text": [
      "100%|██████████| 76756/76756 [00:31<00:00, 2457.59it/s]\n",
      "100%|██████████| 8529/8529 [00:00<00:00, 12119.93it/s]\n"
     ]
    },
    {
     "name": "stdout",
     "output_type": "stream",
     "text": [
      "Epoch 312 loss: 1.48041 1.40987\n",
      ", vtcMgirolo n   fcmun IahT d .e, dblHcynt 'r.i\n",
      "tlesY ehr rgapa\n",
      "\n"
     ]
    },
    {
     "name": "stderr",
     "output_type": "stream",
     "text": [
      "100%|██████████| 76756/76756 [00:31<00:00, 2458.40it/s]\n",
      "100%|██████████| 8529/8529 [00:00<00:00, 12117.95it/s]\n"
     ]
    },
    {
     "name": "stdout",
     "output_type": "stream",
     "text": [
      "Epoch 313 loss: 1.48018 1.40761\n",
      " s.hh tlcTeSA!yead ,h\n",
      "ciohvo\n",
      "heaa d     s  ol  egom h nL n lt  \n",
      "\n"
     ]
    },
    {
     "name": "stderr",
     "output_type": "stream",
     "text": [
      "100%|██████████| 76756/76756 [00:31<00:00, 2457.62it/s]\n",
      "100%|██████████| 8529/8529 [00:00<00:00, 12183.33it/s]\n"
     ]
    },
    {
     "name": "stdout",
     "output_type": "stream",
     "text": [
      "Epoch 314 loss: 1.48046 1.40842\n",
      "omtea! spefe m.euwd iI  h sIhCouesW oateEhmaemo tAtlil'pdt sn n\n",
      "\n"
     ]
    },
    {
     "name": "stderr",
     "output_type": "stream",
     "text": [
      "100%|██████████| 76756/76756 [00:30<00:00, 2488.91it/s]\n",
      "100%|██████████| 8529/8529 [00:00<00:00, 12140.55it/s]\n"
     ]
    },
    {
     "name": "stdout",
     "output_type": "stream",
     "text": [
      "Epoch 315 loss: 1.47979 1.40827\n",
      " mui aMlye;vlTL    se ohp  e ea\n",
      "T   w,rbSBh hAl   t a nroTtHsyg\n",
      "\n"
     ]
    },
    {
     "name": "stderr",
     "output_type": "stream",
     "text": [
      "100%|██████████| 76756/76756 [00:30<00:00, 2477.17it/s]\n",
      "100%|██████████| 8529/8529 [00:00<00:00, 12142.19it/s]\n"
     ]
    },
    {
     "name": "stdout",
     "output_type": "stream",
     "text": [
      "Epoch 316 loss: 1.47990 1.40900\n",
      "o  r   ona  nBnte xC n; rs\n",
      "dooa .po len grt o,aleur. reYn l   i\n",
      "\n"
     ]
    },
    {
     "name": "stderr",
     "output_type": "stream",
     "text": [
      "100%|██████████| 76756/76756 [00:31<00:00, 2465.95it/s]\n",
      "100%|██████████| 8529/8529 [00:00<00:00, 12080.48it/s]\n"
     ]
    },
    {
     "name": "stdout",
     "output_type": "stream",
     "text": [
      "Epoch 317 loss: 1.47952 1.40997\n",
      "Salc   aroio Wm ilAnSeeywi\n",
      "  e    msAso hfrmdtmhkO\n",
      " e fyisrws i\n",
      "\n"
     ]
    },
    {
     "name": "stderr",
     "output_type": "stream",
     "text": [
      "100%|██████████| 76756/76756 [00:29<00:00, 2597.37it/s]\n",
      "100%|██████████| 8529/8529 [00:00<00:00, 12005.77it/s]\n"
     ]
    },
    {
     "name": "stdout",
     "output_type": "stream",
     "text": [
      "Epoch 318 loss: 1.47961 1.41016\n",
      "  hr  ih:rhn .esH 'n\n",
      " h  C  ctd tru a mljo   ofd.n\n",
      "\n",
      "' T'i diert\n",
      "\n"
     ]
    },
    {
     "name": "stderr",
     "output_type": "stream",
     "text": [
      "100%|██████████| 76756/76756 [00:29<00:00, 2619.88it/s]\n",
      "100%|██████████| 8529/8529 [00:00<00:00, 11994.73it/s]\n"
     ]
    },
    {
     "name": "stdout",
     "output_type": "stream",
     "text": [
      "Epoch 319 loss: 1.47964 1.41097\n",
      "Itt ratBa cLtpsEb lr r\n",
      "s E  Ud rE s n Dl ti\n",
      " S O'oO eneSW  e  n\n",
      "\n"
     ]
    },
    {
     "name": "stderr",
     "output_type": "stream",
     "text": [
      "100%|██████████| 76756/76756 [00:30<00:00, 2516.95it/s]\n",
      "100%|██████████| 8529/8529 [00:00<00:00, 11981.39it/s]\n"
     ]
    },
    {
     "name": "stdout",
     "output_type": "stream",
     "text": [
      "Epoch 320 loss: 1.47956 1.41088\n",
      "caAI so'\n",
      "eohtnCntB  seeyonwD OHhHt uet\n",
      " , dht hsvAt  bKlnawilgh\n",
      "\n"
     ]
    },
    {
     "name": "stderr",
     "output_type": "stream",
     "text": [
      "100%|██████████| 76756/76756 [00:31<00:00, 2435.50it/s]\n",
      "100%|██████████| 8529/8529 [00:00<00:00, 11992.17it/s]\n"
     ]
    },
    {
     "name": "stdout",
     "output_type": "stream",
     "text": [
      "Epoch 321 loss: 1.47947 1.40771\n",
      " ggnofa eloLo  ,  pIlpPoohhBoe s .o W rrger r'eOt  snUoiso elh \n",
      "\n"
     ]
    },
    {
     "name": "stderr",
     "output_type": "stream",
     "text": [
      "100%|██████████| 76756/76756 [00:31<00:00, 2447.84it/s]\n",
      "100%|██████████| 8529/8529 [00:00<00:00, 11986.91it/s]\n"
     ]
    },
    {
     "name": "stdout",
     "output_type": "stream",
     "text": [
      "Epoch 322 loss: 1.47903 1.40991\n",
      "ch. littohoerL,afea  Palbo cnMre\n",
      "rel \n",
      "lo w y t a hHt i  Rgewrev\n",
      "\n"
     ]
    },
    {
     "name": "stderr",
     "output_type": "stream",
     "text": [
      "100%|██████████| 76756/76756 [00:31<00:00, 2462.62it/s]\n",
      "100%|██████████| 8529/8529 [00:00<00:00, 12186.20it/s]\n"
     ]
    },
    {
     "name": "stdout",
     "output_type": "stream",
     "text": [
      "Epoch 323 loss: 1.47939 1.40701\n",
      "  E Eta I]wfb RySe .u\n",
      "e wmeu\n",
      "  km krdsniu s uwirf t'eehd  etaDh\n",
      "\n"
     ]
    },
    {
     "name": "stderr",
     "output_type": "stream",
     "text": [
      "100%|██████████| 76756/76756 [00:30<00:00, 2518.44it/s]\n",
      "100%|██████████| 8529/8529 [00:00<00:00, 12196.27it/s]\n"
     ]
    },
    {
     "name": "stdout",
     "output_type": "stream",
     "text": [
      "Epoch 324 loss: 1.47911 1.41052\n",
      "ll ea ri,FN  o  ftyfr eE n  aa nhTh uhier h\n",
      "ht h   BE D \n",
      "arteIn\n",
      "\n"
     ]
    },
    {
     "name": "stderr",
     "output_type": "stream",
     "text": [
      "100%|██████████| 76756/76756 [00:30<00:00, 2492.38it/s]\n",
      "100%|██████████| 8529/8529 [00:00<00:00, 12194.86it/s]\n"
     ]
    },
    {
     "name": "stdout",
     "output_type": "stream",
     "text": [
      "Epoch 325 loss: 1.47931 1.40752\n",
      "a  d nhonrnm 'Ss\n",
      "  umshqadllSldC Tt   t\n",
      " arddRia,em 'aw UFAhhmI\n",
      "\n"
     ]
    },
    {
     "name": "stderr",
     "output_type": "stream",
     "text": [
      "100%|██████████| 76756/76756 [00:30<00:00, 2491.94it/s]\n",
      "100%|██████████| 8529/8529 [00:00<00:00, 12183.59it/s]\n"
     ]
    },
    {
     "name": "stdout",
     "output_type": "stream",
     "text": [
      "Epoch 326 loss: 1.47907 1.40525\n",
      "t ocinAnNsAogllrn l pr lc !t ,ssl uyAea  u ie nIoid,ir l oeNt.E\n",
      "\n"
     ]
    },
    {
     "name": "stderr",
     "output_type": "stream",
     "text": [
      "100%|██████████| 76756/76756 [00:30<00:00, 2494.61it/s]\n",
      "100%|██████████| 8529/8529 [00:00<00:00, 12193.06it/s]\n"
     ]
    },
    {
     "name": "stdout",
     "output_type": "stream",
     "text": [
      "Epoch 327 loss: 1.47904 1.41146\n",
      "Ha On tda\n",
      " ymhot e,sue laieS,  favmiuttae A en we eBTe oodeebrh\n",
      "\n"
     ]
    },
    {
     "name": "stderr",
     "output_type": "stream",
     "text": [
      "100%|██████████| 76756/76756 [00:30<00:00, 2495.96it/s]\n",
      "100%|██████████| 8529/8529 [00:00<00:00, 12200.65it/s]\n"
     ]
    },
    {
     "name": "stdout",
     "output_type": "stream",
     "text": [
      "Epoch 328 loss: 1.47892 1.40615\n",
      "  SdaeY'u rel ,pObm;i.rtLeaae  , a ioiNaele\n",
      "hrrye rmu rdmdsn p \n",
      "\n"
     ]
    },
    {
     "name": "stderr",
     "output_type": "stream",
     "text": [
      "100%|██████████| 76756/76756 [00:30<00:00, 2492.38it/s]\n",
      "100%|██████████| 8529/8529 [00:00<00:00, 12193.46it/s]\n"
     ]
    },
    {
     "name": "stdout",
     "output_type": "stream",
     "text": [
      "Epoch 329 loss: 1.47877 1.40769\n",
      " si yio. Bag Mgpat gntstbon   ip.eot,  ya ie tR,tn \n",
      "r bRF aoee \n",
      "\n"
     ]
    },
    {
     "name": "stderr",
     "output_type": "stream",
     "text": [
      "100%|██████████| 76756/76756 [00:30<00:00, 2488.10it/s]\n",
      "100%|██████████| 8529/8529 [00:00<00:00, 12195.75it/s]\n"
     ]
    },
    {
     "name": "stdout",
     "output_type": "stream",
     "text": [
      "Epoch 330 loss: 1.47825 1.40708\n",
      "e t  lu,e i hnygwols tifnn.neTh g r eN \n",
      "es A on\n",
      "\n",
      "wAmmeorl  hSeo\n",
      "\n"
     ]
    },
    {
     "name": "stderr",
     "output_type": "stream",
     "text": [
      "100%|██████████| 76756/76756 [00:30<00:00, 2483.98it/s]\n",
      "100%|██████████| 8529/8529 [00:00<00:00, 12139.18it/s]\n"
     ]
    },
    {
     "name": "stdout",
     "output_type": "stream",
     "text": [
      "Epoch 331 loss: 1.47865 1.40880\n",
      "m eShWwr aaeoRhmHyeySyhllww,Eo sdmo s eM     tstf-nMv Wbo ptsh \n",
      "\n"
     ]
    },
    {
     "name": "stderr",
     "output_type": "stream",
     "text": [
      "100%|██████████| 76756/76756 [00:31<00:00, 2460.61it/s]\n",
      "100%|██████████| 8529/8529 [00:00<00:00, 12134.46it/s]\n"
     ]
    },
    {
     "name": "stdout",
     "output_type": "stream",
     "text": [
      "Epoch 332 loss: 1.47842 1.40536\n",
      "n rtgOeu h\n",
      "ceodi\n",
      "e M\n",
      "nrtmA o ol oo r,w  epmh eei   tgen  o dvt \n",
      "\n"
     ]
    },
    {
     "name": "stderr",
     "output_type": "stream",
     "text": [
      "100%|██████████| 76756/76756 [00:31<00:00, 2459.02it/s]\n",
      "100%|██████████| 8529/8529 [00:00<00:00, 12154.39it/s]\n"
     ]
    },
    {
     "name": "stdout",
     "output_type": "stream",
     "text": [
      "Epoch 333 loss: 1.47813 1.40655\n",
      "tl -uyftim s  v fhehdy i alnrrPgos t g hRU n eAea  n OIk h  rl.\n",
      "\n"
     ]
    },
    {
     "name": "stderr",
     "output_type": "stream",
     "text": [
      "100%|██████████| 76756/76756 [00:31<00:00, 2458.87it/s]\n",
      "100%|██████████| 8529/8529 [00:00<00:00, 12137.90it/s]\n"
     ]
    },
    {
     "name": "stdout",
     "output_type": "stream",
     "text": [
      "Epoch 334 loss: 1.47788 1.40756\n",
      "n nhkNiu c  vnirrfaT Ro dAdy a \n",
      "Anuote  dihndtA uEr\n",
      "ohtcuAD mna\n",
      "\n"
     ]
    },
    {
     "name": "stderr",
     "output_type": "stream",
     "text": [
      "100%|██████████| 76756/76756 [00:31<00:00, 2459.45it/s]\n",
      "100%|██████████| 8529/8529 [00:00<00:00, 12136.20it/s]\n"
     ]
    },
    {
     "name": "stdout",
     "output_type": "stream",
     "text": [
      "Epoch 335 loss: 1.47816 1.40739\n",
      " reynhU u omf [nkaa ed neseT \n",
      "s tnIl  lsVSit  irrnehee hNpy;\n",
      "  \n",
      "\n"
     ]
    },
    {
     "name": "stderr",
     "output_type": "stream",
     "text": [
      "100%|██████████| 76756/76756 [00:31<00:00, 2459.76it/s]\n",
      "100%|██████████| 8529/8529 [00:00<00:00, 12140.87it/s]\n"
     ]
    },
    {
     "name": "stdout",
     "output_type": "stream",
     "text": [
      "Epoch 336 loss: 1.47819 1.40520\n",
      "l tol n  pgNhmsnaeteaio op ctpdme lentG \n",
      "uot eo n hn\n",
      "ogte  Iirh\n",
      "\n"
     ]
    },
    {
     "name": "stderr",
     "output_type": "stream",
     "text": [
      "100%|██████████| 76756/76756 [00:30<00:00, 2528.80it/s]\n",
      "100%|██████████| 8529/8529 [00:00<00:00, 12150.73it/s]\n"
     ]
    },
    {
     "name": "stdout",
     "output_type": "stream",
     "text": [
      "Epoch 337 loss: 1.47842 1.40517\n",
      "ls wne lI rANrhs,ty n iFu trof haaod tthe,h.. n naaTeyu ym  i o\n",
      "\n"
     ]
    },
    {
     "name": "stderr",
     "output_type": "stream",
     "text": [
      "100%|██████████| 76756/76756 [00:29<00:00, 2643.57it/s]\n",
      "100%|██████████| 8529/8529 [00:00<00:00, 12146.37it/s]\n"
     ]
    },
    {
     "name": "stdout",
     "output_type": "stream",
     "text": [
      "Epoch 338 loss: 1.47792 1.40717\n",
      "F Tsbs h e oiWug sjrst h B . nmi:lomf NwanpsguaeN Cru     t  Lt\n",
      "\n"
     ]
    },
    {
     "name": "stderr",
     "output_type": "stream",
     "text": [
      "100%|██████████| 76756/76756 [00:29<00:00, 2642.57it/s]\n",
      "100%|██████████| 8529/8529 [00:00<00:00, 12124.82it/s]\n"
     ]
    },
    {
     "name": "stdout",
     "output_type": "stream",
     "text": [
      "Epoch 339 loss: 1.47809 1.41082\n",
      " chesoEu aoEas ylN h qtfyatg,ay t tb eaO,es]ioh\n",
      "ksbe rhhde dIa \n",
      "\n"
     ]
    },
    {
     "name": "stderr",
     "output_type": "stream",
     "text": [
      "100%|██████████| 76756/76756 [00:29<00:00, 2642.90it/s]\n",
      "100%|██████████| 8529/8529 [00:00<00:00, 12135.68it/s]\n"
     ]
    },
    {
     "name": "stdout",
     "output_type": "stream",
     "text": [
      "Epoch 340 loss: 1.47800 1.40758\n",
      "?ntoand  R\n",
      " s our  yeh ioe \n",
      "  t   ldrn h    euisfIolesaoesu  s \n",
      "\n"
     ]
    },
    {
     "name": "stderr",
     "output_type": "stream",
     "text": [
      "100%|██████████| 76756/76756 [00:29<00:00, 2641.52it/s]\n",
      "100%|██████████| 8529/8529 [00:00<00:00, 12133.55it/s]\n"
     ]
    },
    {
     "name": "stdout",
     "output_type": "stream",
     "text": [
      "Epoch 341 loss: 1.47782 1.40755\n",
      "t trNsY  \n",
      "urtre 5ah ro n h e tE l'gNmIL hsh\n",
      "GfivcoNrh stsaonh  \n",
      "\n"
     ]
    },
    {
     "name": "stderr",
     "output_type": "stream",
     "text": [
      "100%|██████████| 76756/76756 [00:29<00:00, 2630.27it/s]\n",
      "100%|██████████| 8529/8529 [00:00<00:00, 11993.82it/s]\n"
     ]
    },
    {
     "name": "stdout",
     "output_type": "stream",
     "text": [
      "Epoch 342 loss: 1.47793 1.40881\n",
      "eEsAc'h   L d d I ntoI fefoshlcehlMooo PeoSr d  h   iin.f, rdmh\n",
      "\n"
     ]
    },
    {
     "name": "stderr",
     "output_type": "stream",
     "text": [
      "100%|██████████| 76756/76756 [00:30<00:00, 2490.93it/s]\n",
      "100%|██████████| 8529/8529 [00:00<00:00, 12003.46it/s]\n"
     ]
    },
    {
     "name": "stdout",
     "output_type": "stream",
     "text": [
      "Epoch 343 loss: 1.47781 1.40925\n",
      ".aEli ssesdmp t eoe  o w aaueAfoytrhBieshlhb a .h aco Otr Ttala\n",
      "\n"
     ]
    },
    {
     "name": "stderr",
     "output_type": "stream",
     "text": [
      "100%|██████████| 76756/76756 [00:31<00:00, 2437.31it/s]\n",
      "100%|██████████| 8529/8529 [00:00<00:00, 11994.34it/s]\n"
     ]
    },
    {
     "name": "stdout",
     "output_type": "stream",
     "text": [
      "Epoch 344 loss: 1.47733 1.40711\n",
      "oanue  t mttel\n",
      " lllnawrotjht  ay f aulv  nass ro aru    lt c  .\n",
      "\n"
     ]
    },
    {
     "name": "stderr",
     "output_type": "stream",
     "text": [
      "100%|██████████| 76756/76756 [00:30<00:00, 2505.63it/s]\n",
      "100%|██████████| 8529/8529 [00:00<00:00, 12119.97it/s]\n"
     ]
    },
    {
     "name": "stdout",
     "output_type": "stream",
     "text": [
      "Epoch 345 loss: 1.47734 1.40793\n",
      "tgyh urst Ta:aIihnlieteaewfl  UQncIi e a\n",
      "fa  nfo  y   'sN nav  \n",
      "\n"
     ]
    },
    {
     "name": "stderr",
     "output_type": "stream",
     "text": [
      "100%|██████████| 76756/76756 [00:29<00:00, 2642.90it/s]\n",
      "100%|██████████| 8529/8529 [00:00<00:00, 12111.35it/s]\n"
     ]
    },
    {
     "name": "stdout",
     "output_type": "stream",
     "text": [
      "Epoch 346 loss: 1.47725 1.40751\n",
      "ghTa  ih\n",
      "ie   h k  irvsbU sf lmWdib veNqUlosAdhsiakSe   .uuenAs\n",
      "\n"
     ]
    },
    {
     "name": "stderr",
     "output_type": "stream",
     "text": [
      "100%|██████████| 76756/76756 [00:31<00:00, 2456.05it/s]\n",
      "100%|██████████| 8529/8529 [00:00<00:00, 11951.35it/s]\n"
     ]
    },
    {
     "name": "stdout",
     "output_type": "stream",
     "text": [
      "Epoch 347 loss: 1.47774 1.40752\n",
      "tha h\n",
      "ei A Akk.uyen aAmt lhtnh\n",
      "tAMt;l  S e.pesnuf ry nort \n",
      ".l e\n",
      "\n"
     ]
    },
    {
     "name": "stderr",
     "output_type": "stream",
     "text": [
      "100%|██████████| 76756/76756 [00:31<00:00, 2457.41it/s]\n",
      "100%|██████████| 8529/8529 [00:00<00:00, 12116.55it/s]\n"
     ]
    },
    {
     "name": "stdout",
     "output_type": "stream",
     "text": [
      "Epoch 348 loss: 1.47740 1.40718\n",
      ".lyl   er  pOes\n",
      "e,eo A s a EteladAohTEen nch E e eoeicdMt\n",
      "o g  \n",
      "\n"
     ]
    },
    {
     "name": "stderr",
     "output_type": "stream",
     "text": [
      "100%|██████████| 76756/76756 [00:31<00:00, 2456.38it/s]\n",
      "100%|██████████| 8529/8529 [00:00<00:00, 12122.40it/s]\n"
     ]
    },
    {
     "name": "stdout",
     "output_type": "stream",
     "text": [
      "Epoch 349 loss: 1.47697 1.40630\n",
      "I.mn.ristyreU ch   ,r \n",
      "lee  c,t  hvtesyms oeq naiO tndtAdiHhvRt\n",
      "\n"
     ]
    },
    {
     "name": "stderr",
     "output_type": "stream",
     "text": [
      "100%|██████████| 76756/76756 [00:31<00:00, 2456.84it/s]\n",
      "100%|██████████| 8529/8529 [00:00<00:00, 12108.68it/s]\n"
     ]
    },
    {
     "name": "stdout",
     "output_type": "stream",
     "text": [
      "Epoch 350 loss: 1.47706 1.40724\n",
      " rteas  dScd.doawa I A j ah\n",
      "scrwtyeHcsCo tto AghedndlnFCI.vtlak\n",
      "\n"
     ]
    },
    {
     "name": "stderr",
     "output_type": "stream",
     "text": [
      "100%|██████████| 76756/76756 [00:31<00:00, 2456.88it/s]\n",
      "100%|██████████| 8529/8529 [00:00<00:00, 12111.14it/s]\n"
     ]
    },
    {
     "name": "stdout",
     "output_type": "stream",
     "text": [
      "Epoch 351 loss: 1.47689 1.40606\n",
      "nskeIeo isotss .boiegrCo .ar e hoPedeCahdi Vwhm a ygA.se uoWdDm\n",
      "\n"
     ]
    },
    {
     "name": "stderr",
     "output_type": "stream",
     "text": [
      "100%|██████████| 76756/76756 [00:31<00:00, 2455.55it/s]\n",
      "100%|██████████| 8529/8529 [00:00<00:00, 12121.29it/s]\n"
     ]
    },
    {
     "name": "stdout",
     "output_type": "stream",
     "text": [
      "Epoch 352 loss: 1.47654 1.40538\n",
      ". p gI nQ aIsOgdEHtfrn  SOtC.k\n",
      "RnodI lmo.l'saths  u A\n",
      "dwl Rfa e\n",
      "\n"
     ]
    },
    {
     "name": "stderr",
     "output_type": "stream",
     "text": [
      "100%|██████████| 76756/76756 [00:31<00:00, 2455.71it/s]\n",
      "100%|██████████| 8529/8529 [00:00<00:00, 12106.07it/s]\n"
     ]
    },
    {
     "name": "stdout",
     "output_type": "stream",
     "text": [
      "Epoch 353 loss: 1.47658 1.40597\n",
      "s\n",
      " .iOtr AEtelc'n  i    upg Aml t uutgrnayF eit rtft    A ogeny\n",
      "\n"
     ]
    },
    {
     "name": "stderr",
     "output_type": "stream",
     "text": [
      "100%|██████████| 76756/76756 [00:31<00:00, 2455.20it/s]\n",
      "100%|██████████| 8529/8529 [00:00<00:00, 12109.00it/s]\n"
     ]
    },
    {
     "name": "stdout",
     "output_type": "stream",
     "text": [
      "Epoch 354 loss: 1.47700 1.40546\n",
      "  o T eue! c..e a  ET iShit HSyt\n",
      "tF ma vtfCyv  sgl s,h    neidN\n",
      "\n"
     ]
    },
    {
     "name": "stderr",
     "output_type": "stream",
     "text": [
      "100%|██████████| 76756/76756 [00:31<00:00, 2456.06it/s]\n",
      "100%|██████████| 8529/8529 [00:00<00:00, 12103.90it/s]\n"
     ]
    },
    {
     "name": "stdout",
     "output_type": "stream",
     "text": [
      "Epoch 355 loss: 1.47678 1.40820\n",
      "ety h f  e iyo rAml c  l  a re o ,eeu.a  NoO in\n",
      "nw wleig yaa tl\n",
      "\n"
     ]
    },
    {
     "name": "stderr",
     "output_type": "stream",
     "text": [
      "100%|██████████| 76756/76756 [00:31<00:00, 2467.66it/s]\n",
      "100%|██████████| 8529/8529 [00:00<00:00, 12169.06it/s]\n"
     ]
    },
    {
     "name": "stdout",
     "output_type": "stream",
     "text": [
      "Epoch 356 loss: 1.47688 1.40668\n",
      " koatdDean e s,  hoohtws eeiAhown ou \n",
      "tuueena\n",
      "tWst,h f  e e p  \n",
      "\n"
     ]
    },
    {
     "name": "stderr",
     "output_type": "stream",
     "text": [
      "100%|██████████| 76756/76756 [00:30<00:00, 2492.39it/s]\n",
      "100%|██████████| 8529/8529 [00:00<00:00, 12186.60it/s]\n"
     ]
    },
    {
     "name": "stdout",
     "output_type": "stream",
     "text": [
      "Epoch 357 loss: 1.47659 1.40481\n",
      "hur,uoa O t o w  gftlooyun o gr Vomyhsnr ecOitcfmo\n",
      "robs Ahrtt e\n",
      "\n"
     ]
    },
    {
     "name": "stderr",
     "output_type": "stream",
     "text": [
      "100%|██████████| 76756/76756 [00:30<00:00, 2494.79it/s]\n",
      "100%|██████████| 8529/8529 [00:00<00:00, 12180.54it/s]\n"
     ]
    },
    {
     "name": "stdout",
     "output_type": "stream",
     "text": [
      "Epoch 358 loss: 1.47609 1.40529\n",
      "  bWn ;ltcQ  eDLp oe ,seu lthemhh, anR eoo; nonvfvea  n.oen   f\n",
      "\n"
     ]
    },
    {
     "name": "stderr",
     "output_type": "stream",
     "text": [
      "100%|██████████| 76756/76756 [00:29<00:00, 2622.47it/s]\n",
      "100%|██████████| 8529/8529 [00:00<00:00, 12200.68it/s]\n"
     ]
    },
    {
     "name": "stdout",
     "output_type": "stream",
     "text": [
      "Epoch 359 loss: 1.47616 1.40909\n",
      "srqwythd Nauio  Gb sselyoylh.i sahNe ,lAooles Ru y  t tO  ent h\n",
      "\n"
     ]
    },
    {
     "name": "stderr",
     "output_type": "stream",
     "text": [
      "100%|██████████| 76756/76756 [00:28<00:00, 2665.26it/s]\n",
      "100%|██████████| 8529/8529 [00:00<00:00, 12192.95it/s]\n"
     ]
    },
    {
     "name": "stdout",
     "output_type": "stream",
     "text": [
      "Epoch 360 loss: 1.47616 1.40563\n",
      "a trye  CiL! easJ A nI  yLfaon hi i oant  \n",
      "   yA\n",
      "e Nbnw Aaaaft \n",
      "\n"
     ]
    },
    {
     "name": "stderr",
     "output_type": "stream",
     "text": [
      "100%|██████████| 76756/76756 [00:28<00:00, 2665.36it/s]\n",
      "100%|██████████| 8529/8529 [00:00<00:00, 12192.26it/s]\n"
     ]
    },
    {
     "name": "stdout",
     "output_type": "stream",
     "text": [
      "Epoch 361 loss: 1.47604 1.40653\n",
      "ue \n",
      "faAeeaiV, lshuoyp> nY ae  Ahh Bh eeee ao .Esishiosafe,oU aa\n",
      "\n"
     ]
    },
    {
     "name": "stderr",
     "output_type": "stream",
     "text": [
      "100%|██████████| 76756/76756 [00:28<00:00, 2646.84it/s]\n",
      "100%|██████████| 8529/8529 [00:00<00:00, 12085.09it/s]\n"
     ]
    },
    {
     "name": "stdout",
     "output_type": "stream",
     "text": [
      "Epoch 362 loss: 1.47596 1.40454\n",
      " nuof aakdpnooiem e IJtedsttllyt teem  e Reoo iNiaTn\n",
      "  rp t  \n",
      ",\n",
      "\n"
     ]
    },
    {
     "name": "stderr",
     "output_type": "stream",
     "text": [
      "100%|██████████| 76756/76756 [00:31<00:00, 2437.68it/s]\n",
      "100%|██████████| 8529/8529 [00:00<00:00, 11998.74it/s]\n"
     ]
    },
    {
     "name": "stdout",
     "output_type": "stream",
     "text": [
      "Epoch 363 loss: 1.47666 1.40553\n",
      " SLtyIaatk rui ypicU P -hwqh hhI eaerpat vEr c snase oosttsywnn\n",
      "\n"
     ]
    },
    {
     "name": "stderr",
     "output_type": "stream",
     "text": [
      "100%|██████████| 76756/76756 [00:30<00:00, 2488.72it/s]\n",
      "100%|██████████| 8529/8529 [00:00<00:00, 12129.39it/s]\n"
     ]
    },
    {
     "name": "stdout",
     "output_type": "stream",
     "text": [
      "Epoch 364 loss: 1.47608 1.40560\n",
      "  sint ,nh yc taoFonl e Y WHn  ds.a ?\n",
      "EoobrgooailQ g cay d lrcy\n",
      "\n"
     ]
    },
    {
     "name": "stderr",
     "output_type": "stream",
     "text": [
      "100%|██████████| 76756/76756 [00:28<00:00, 2662.49it/s]\n",
      "100%|██████████| 8529/8529 [00:00<00:00, 12187.41it/s]\n"
     ]
    },
    {
     "name": "stdout",
     "output_type": "stream",
     "text": [
      "Epoch 365 loss: 1.47626 1.40689\n",
      "eun'\n",
      "ftety  \n",
      "y ho ySei yrt tFDcIp  s  ee,A  c;t\n",
      " rie aw eh r   \n",
      "\n"
     ]
    },
    {
     "name": "stderr",
     "output_type": "stream",
     "text": [
      "100%|██████████| 76756/76756 [00:28<00:00, 2665.39it/s]\n",
      "100%|██████████| 8529/8529 [00:00<00:00, 12182.62it/s]\n"
     ]
    },
    {
     "name": "stdout",
     "output_type": "stream",
     "text": [
      "Epoch 366 loss: 1.47604 1.40433\n",
      "idW  H tea ann htltso t ld\n",
      "gosht  einshtoerae rV]aacyah monevo \n",
      "\n"
     ]
    },
    {
     "name": "stderr",
     "output_type": "stream",
     "text": [
      "100%|██████████| 76756/76756 [00:28<00:00, 2668.60it/s]\n",
      "100%|██████████| 8529/8529 [00:00<00:00, 12102.29it/s]\n"
     ]
    },
    {
     "name": "stdout",
     "output_type": "stream",
     "text": [
      "Epoch 367 loss: 1.47590 1.40510\n",
      " .Tlgt, pBeh gspeoaRd ,edtek fpt k nrOid    iorgeeo lsh i  a  l\n",
      "\n"
     ]
    },
    {
     "name": "stderr",
     "output_type": "stream",
     "text": [
      "100%|██████████| 76756/76756 [00:28<00:00, 2673.21it/s]\n",
      "100%|██████████| 8529/8529 [00:00<00:00, 12198.61it/s]\n"
     ]
    },
    {
     "name": "stdout",
     "output_type": "stream",
     "text": [
      "Epoch 368 loss: 1.47544 1.40588\n",
      " H  ow;cTr ph er \n",
      "rs\n",
      "fgt antmdd.wfrey ti leeDhSIC .gtt oetvpTi \n",
      "\n"
     ]
    },
    {
     "name": "stderr",
     "output_type": "stream",
     "text": [
      "100%|██████████| 76756/76756 [00:28<00:00, 2674.13it/s]\n",
      "100%|██████████| 8529/8529 [00:00<00:00, 12195.87it/s]\n"
     ]
    },
    {
     "name": "stdout",
     "output_type": "stream",
     "text": [
      "Epoch 369 loss: 1.47592 1.40367\n",
      "r-ep h,   Ir .HlA T heRd ooIn     emo\n",
      "p e,eAwhh tt,Fon\n",
      ",stladre\n",
      "\n"
     ]
    },
    {
     "name": "stderr",
     "output_type": "stream",
     "text": [
      "100%|██████████| 76756/76756 [00:28<00:00, 2673.69it/s]\n",
      "100%|██████████| 8529/8529 [00:00<00:00, 12192.44it/s]\n"
     ]
    },
    {
     "name": "stdout",
     "output_type": "stream",
     "text": [
      "Epoch 370 loss: 1.47530 1.40745\n",
      "o\n",
      "h i oo\n",
      "yoe  sp,  ndn \n",
      "lAnu.Hnffiiarpvwtu'.aesoa\n",
      "fAEgdlhl \n",
      "  n\n",
      "\n"
     ]
    },
    {
     "name": "stderr",
     "output_type": "stream",
     "text": [
      "100%|██████████| 76756/76756 [00:28<00:00, 2673.99it/s]\n",
      "100%|██████████| 8529/8529 [00:00<00:00, 12195.61it/s]\n"
     ]
    },
    {
     "name": "stdout",
     "output_type": "stream",
     "text": [
      "Epoch 371 loss: 1.47557 1.40542\n",
      ". WSts Ieia n ,oh r nIu\n",
      ";\n",
      "oN  p,ut fourt, ahl De?Oe ahon iocwth\n",
      "\n"
     ]
    },
    {
     "name": "stderr",
     "output_type": "stream",
     "text": [
      "100%|██████████| 76756/76756 [00:28<00:00, 2673.81it/s]\n",
      "100%|██████████| 8529/8529 [00:00<00:00, 12198.60it/s]\n"
     ]
    },
    {
     "name": "stdout",
     "output_type": "stream",
     "text": [
      "Epoch 372 loss: 1.47585 1.40658\n",
      " i taOhcweciuOSrn \n",
      "tuU    re ne oAn  uoereda enyav ara,fpyrtnng\n",
      "\n"
     ]
    },
    {
     "name": "stderr",
     "output_type": "stream",
     "text": [
      "100%|██████████| 76756/76756 [00:28<00:00, 2675.03it/s]\n",
      "100%|██████████| 8529/8529 [00:00<00:00, 12204.45it/s]\n"
     ]
    },
    {
     "name": "stdout",
     "output_type": "stream",
     "text": [
      "Epoch 373 loss: 1.47550 1.40778\n",
      "s  c PounEe\n",
      " rro eutpYL\n",
      "n a   ileE l \n",
      "e nw\n",
      "tAer ay  e'  sTkeeTm\n",
      "\n"
     ]
    },
    {
     "name": "stderr",
     "output_type": "stream",
     "text": [
      "100%|██████████| 76756/76756 [00:28<00:00, 2674.35it/s]\n",
      "100%|██████████| 8529/8529 [00:00<00:00, 12203.65it/s]\n"
     ]
    },
    {
     "name": "stdout",
     "output_type": "stream",
     "text": [
      "Epoch 374 loss: 1.47566 1.40558\n",
      " l,pgtse  w.dh ftpdeIowwnmhsno eyh\n",
      " y wn OrOpPneei,A y oe,a  ht\n",
      "\n"
     ]
    },
    {
     "name": "stderr",
     "output_type": "stream",
     "text": [
      "100%|██████████| 76756/76756 [00:28<00:00, 2673.36it/s]\n",
      "100%|██████████| 8529/8529 [00:00<00:00, 12193.32it/s]\n"
     ]
    },
    {
     "name": "stdout",
     "output_type": "stream",
     "text": [
      "Epoch 375 loss: 1.47509 1.40374\n",
      "mw oPrbsUs n    nFl  muMsC uiw;tmo kewcoi wsw  mhd a g  a u   t\n",
      "\n"
     ]
    },
    {
     "name": "stderr",
     "output_type": "stream",
     "text": [
      "100%|██████████| 76756/76756 [00:28<00:00, 2674.32it/s]\n",
      "100%|██████████| 8529/8529 [00:00<00:00, 12196.57it/s]\n"
     ]
    },
    {
     "name": "stdout",
     "output_type": "stream",
     "text": [
      "Epoch 376 loss: 1.47534 1.40974\n",
      "sietav\n",
      "ohm\n",
      "t rl   tn h ;th  tfd]Ado IStT esO Ho o0h.r sfd bEtwh\n",
      "\n"
     ]
    },
    {
     "name": "stderr",
     "output_type": "stream",
     "text": [
      "100%|██████████| 76756/76756 [00:28<00:00, 2673.72it/s]\n",
      "100%|██████████| 8529/8529 [00:00<00:00, 12166.88it/s]\n"
     ]
    },
    {
     "name": "stdout",
     "output_type": "stream",
     "text": [
      "Epoch 377 loss: 1.47524 1.40606\n",
      "HShc,cuafcnnzeit ks oehn.  tusmrnoDetder a   h ; oe  ieokus I o\n",
      "\n"
     ]
    },
    {
     "name": "stderr",
     "output_type": "stream",
     "text": [
      "100%|██████████| 76756/76756 [00:28<00:00, 2673.60it/s]\n",
      "100%|██████████| 8529/8529 [00:00<00:00, 12203.40it/s]\n"
     ]
    },
    {
     "name": "stdout",
     "output_type": "stream",
     "text": [
      "Epoch 378 loss: 1.47506 1.40449\n",
      "'OPp ntg  .he yW li h wciIg\n",
      "  \n",
      "eron;r  esN h\n",
      "   rNe d  N eeoO d\n",
      "\n"
     ]
    },
    {
     "name": "stderr",
     "output_type": "stream",
     "text": [
      "100%|██████████| 76756/76756 [00:30<00:00, 2505.86it/s]\n",
      "100%|██████████| 8529/8529 [00:00<00:00, 12155.30it/s]\n"
     ]
    },
    {
     "name": "stdout",
     "output_type": "stream",
     "text": [
      "Epoch 379 loss: 1.47516 1.40243\n",
      " unlh  e; d aco Nre sa s ayn  ato\n",
      ", sdhdT o oee.eetao efoEnl ne\n",
      "\n"
     ]
    },
    {
     "name": "stderr",
     "output_type": "stream",
     "text": [
      "100%|██████████| 76756/76756 [00:30<00:00, 2477.45it/s]\n",
      "100%|██████████| 8529/8529 [00:00<00:00, 12140.13it/s]\n"
     ]
    },
    {
     "name": "stdout",
     "output_type": "stream",
     "text": [
      "Epoch 380 loss: 1.47537 1.40508\n",
      "o   rpNO, wnt ro soe yJ  T r i ee aFopa dAhe,morr  rlmtel.Y   h\n",
      "\n"
     ]
    },
    {
     "name": "stderr",
     "output_type": "stream",
     "text": [
      "100%|██████████| 76756/76756 [00:30<00:00, 2477.02it/s]\n",
      "100%|██████████| 8529/8529 [00:00<00:00, 12159.11it/s]\n"
     ]
    },
    {
     "name": "stdout",
     "output_type": "stream",
     "text": [
      "Epoch 381 loss: 1.47500 1.40403\n",
      " tl , saiEE l r oyRaeo  ge sVA n ,  ,enh \n",
      "ufw Rwnra paeIoroS.th\n",
      "\n"
     ]
    },
    {
     "name": "stderr",
     "output_type": "stream",
     "text": [
      "100%|██████████| 76756/76756 [00:28<00:00, 2654.57it/s]\n",
      "100%|██████████| 8529/8529 [00:00<00:00, 12186.99it/s]\n"
     ]
    },
    {
     "name": "stdout",
     "output_type": "stream",
     "text": [
      "Epoch 382 loss: 1.47506 1.40275\n",
      " n;orwImm POi   yLkAe,hh.   nwo sa' nalOoets   a reoh sn ao\n",
      ".Aw\n",
      "\n"
     ]
    },
    {
     "name": "stderr",
     "output_type": "stream",
     "text": [
      "100%|██████████| 76756/76756 [00:30<00:00, 2491.58it/s]\n",
      "100%|██████████| 8529/8529 [00:00<00:00, 12190.43it/s]\n"
     ]
    },
    {
     "name": "stdout",
     "output_type": "stream",
     "text": [
      "Epoch 383 loss: 1.47465 1.40415\n",
      "r d E   f T y-o sho .odens  iamo  jlA et\n",
      "d aina u. ,Ie mnetOMl,\n",
      "\n"
     ]
    },
    {
     "name": "stderr",
     "output_type": "stream",
     "text": [
      "100%|██████████| 76756/76756 [00:30<00:00, 2487.51it/s]\n",
      "100%|██████████| 8529/8529 [00:00<00:00, 12198.94it/s]\n"
     ]
    },
    {
     "name": "stdout",
     "output_type": "stream",
     "text": [
      "Epoch 384 loss: 1.47478 1.40422\n",
      "aB  bwee , tmefot nocfodos\n",
      "h ieo  .eod  ahitrrA ag y  b ocmrLhn\n",
      "\n"
     ]
    },
    {
     "name": "stderr",
     "output_type": "stream",
     "text": [
      "100%|██████████| 76756/76756 [00:30<00:00, 2488.25it/s]\n",
      "100%|██████████| 8529/8529 [00:00<00:00, 12193.48it/s]\n"
     ]
    },
    {
     "name": "stdout",
     "output_type": "stream",
     "text": [
      "Epoch 385 loss: 1.47489 1.40300\n",
      "oe?n .egshDrgtno p hiorh  k  oToIorifv  ynyC M htbHee e rh p\n",
      "T \n",
      "\n"
     ]
    },
    {
     "name": "stderr",
     "output_type": "stream",
     "text": [
      "100%|██████████| 76756/76756 [00:31<00:00, 2474.56it/s]\n",
      "100%|██████████| 8529/8529 [00:00<00:00, 12145.35it/s]\n"
     ]
    },
    {
     "name": "stdout",
     "output_type": "stream",
     "text": [
      "Epoch 386 loss: 1.47431 1.40400\n",
      "o- t \n",
      "gretel .  riehtjuote ea rr  b  msltn NI n nrtrtc,o . hdtp\n",
      "\n"
     ]
    },
    {
     "name": "stderr",
     "output_type": "stream",
     "text": [
      "100%|██████████| 76756/76756 [00:31<00:00, 2459.07it/s]\n",
      "100%|██████████| 8529/8529 [00:00<00:00, 12141.49it/s]\n"
     ]
    },
    {
     "name": "stdout",
     "output_type": "stream",
     "text": [
      "Epoch 387 loss: 1.47479 1.40431\n",
      "seI  a eoob' t uhof  cnrnntT\n",
      "  vrnhntsEiDoetwAarri  fsi  aoaHfb\n",
      "\n"
     ]
    },
    {
     "name": "stderr",
     "output_type": "stream",
     "text": [
      "100%|██████████| 76756/76756 [00:31<00:00, 2460.35it/s]\n",
      "100%|██████████| 8529/8529 [00:00<00:00, 11981.88it/s]\n"
     ]
    },
    {
     "name": "stdout",
     "output_type": "stream",
     "text": [
      "Epoch 388 loss: 1.47437 1.40283\n",
      "m  ,aibtshsySn Tvld   'tr s' oa,fr   nt  Ewa aFhrs eloBo wle \n",
      "t\n",
      "\n"
     ]
    },
    {
     "name": "stderr",
     "output_type": "stream",
     "text": [
      "100%|██████████| 76756/76756 [00:31<00:00, 2450.29it/s]\n",
      "100%|██████████| 8529/8529 [00:00<00:00, 12122.68it/s]\n"
     ]
    },
    {
     "name": "stdout",
     "output_type": "stream",
     "text": [
      "Epoch 389 loss: 1.47433 1.40488\n",
      "AoSpnrnB o\n",
      "eu eo  s' .fp'ta yLlnee sas el- vssd\n",
      "Mg Ne ul namoAr\n",
      "\n"
     ]
    },
    {
     "name": "stderr",
     "output_type": "stream",
     "text": [
      "100%|██████████| 76756/76756 [00:29<00:00, 2641.05it/s]\n",
      "100%|██████████| 8529/8529 [00:00<00:00, 12117.61it/s]\n"
     ]
    },
    {
     "name": "stdout",
     "output_type": "stream",
     "text": [
      "Epoch 390 loss: 1.47412 1.40329\n",
      "ahiwouptuokMfdt\n",
      "  tAeul \n",
      " hU.r'  dpoltOahW  eWo ewynl  eou   iv\n",
      "\n"
     ]
    },
    {
     "name": "stderr",
     "output_type": "stream",
     "text": [
      "100%|██████████| 76756/76756 [00:29<00:00, 2640.48it/s]\n",
      "100%|██████████| 8529/8529 [00:00<00:00, 12108.84it/s]\n"
     ]
    },
    {
     "name": "stdout",
     "output_type": "stream",
     "text": [
      "Epoch 391 loss: 1.47426 1.40432\n",
      "t  o  entaae.l it woeolirutt.Yme amttaSiwentsseY  eptdU.ti,oHi \n",
      "\n"
     ]
    },
    {
     "name": "stderr",
     "output_type": "stream",
     "text": [
      "100%|██████████| 76756/76756 [00:29<00:00, 2641.38it/s]\n",
      "100%|██████████| 8529/8529 [00:00<00:00, 12123.26it/s]\n"
     ]
    },
    {
     "name": "stdout",
     "output_type": "stream",
     "text": [
      "Epoch 392 loss: 1.47433 1.40338\n",
      "fN D.,wdEc\n",
      " egeu,ebwwhweytal    Ilgm\n",
      "mbuhuhsu oahnbt;a ru ehty\n",
      "\n",
      "\n"
     ]
    },
    {
     "name": "stderr",
     "output_type": "stream",
     "text": [
      "100%|██████████| 76756/76756 [00:29<00:00, 2640.78it/s]\n",
      "100%|██████████| 8529/8529 [00:00<00:00, 12120.93it/s]\n"
     ]
    },
    {
     "name": "stdout",
     "output_type": "stream",
     "text": [
      "Epoch 393 loss: 1.47411 1.40220\n",
      "t\n",
      "y \n",
      "v enr aebYo pkhMn a l  kohehhu h  ln oo\n",
      " . ocoL\n",
      ".heS dthu \n",
      "\n"
     ]
    },
    {
     "name": "stderr",
     "output_type": "stream",
     "text": [
      "100%|██████████| 76756/76756 [00:29<00:00, 2582.59it/s]\n",
      "100%|██████████| 8529/8529 [00:00<00:00, 12117.01it/s]\n"
     ]
    },
    {
     "name": "stdout",
     "output_type": "stream",
     "text": [
      "Epoch 394 loss: 1.47422 1.40303\n",
      "aAuYEth!uITohBpjloeLby,stnhtWo dr.  l .hni.i  tnaA ohyaas  \n",
      "aiW\n",
      "\n"
     ]
    },
    {
     "name": "stderr",
     "output_type": "stream",
     "text": [
      "100%|██████████| 76756/76756 [00:29<00:00, 2594.50it/s]\n",
      "100%|██████████| 8529/8529 [00:00<00:00, 12183.11it/s]\n"
     ]
    },
    {
     "name": "stdout",
     "output_type": "stream",
     "text": [
      "Epoch 395 loss: 1.47459 1.40314\n",
      "UycVw o fRiyt,uouc,rieiIasltw ge oevCoaeaf vu u'tietea \n",
      " f ebo \n",
      "\n"
     ]
    },
    {
     "name": "stderr",
     "output_type": "stream",
     "text": [
      "100%|██████████| 76756/76756 [00:28<00:00, 2665.48it/s]\n",
      "100%|██████████| 8529/8529 [00:00<00:00, 12189.72it/s]\n"
     ]
    },
    {
     "name": "stdout",
     "output_type": "stream",
     "text": [
      "Epoch 396 loss: 1.47407 1.40216\n",
      "he,w  ,' e,   n\n",
      "mrayiCwa  sdsihuWhHiTv  U oS.ieh Cdmnuo  cnaemr\n",
      "\n"
     ]
    },
    {
     "name": "stderr",
     "output_type": "stream",
     "text": [
      "100%|██████████| 76756/76756 [00:28<00:00, 2665.71it/s]\n",
      "100%|██████████| 8529/8529 [00:00<00:00, 12192.25it/s]\n"
     ]
    },
    {
     "name": "stdout",
     "output_type": "stream",
     "text": [
      "Epoch 397 loss: 1.47399 1.40386\n",
      "or iafaeMto \n",
      "rtjV o' rtthoip sEeC lsv tuyf ?rs E awO oieNee .sO\n",
      "\n"
     ]
    },
    {
     "name": "stderr",
     "output_type": "stream",
     "text": [
      "100%|██████████| 76756/76756 [00:28<00:00, 2665.44it/s]\n",
      "100%|██████████| 8529/8529 [00:00<00:00, 12197.11it/s]\n"
     ]
    },
    {
     "name": "stdout",
     "output_type": "stream",
     "text": [
      "Epoch 398 loss: 1.47377 1.40263\n",
      "cFrae fEh rg k Rnsmvyo\n",
      "rtrrtdFemlM ahS\n",
      "U  iN \n",
      ",o   Dtf i    non\n",
      "\n"
     ]
    },
    {
     "name": "stderr",
     "output_type": "stream",
     "text": [
      "100%|██████████| 76756/76756 [00:29<00:00, 2601.56it/s]\n",
      "100%|██████████| 8529/8529 [00:00<00:00, 12094.74it/s]\n"
     ]
    },
    {
     "name": "stdout",
     "output_type": "stream",
     "text": [
      "Epoch 399 loss: 1.47363 1.40501\n",
      " Eum.fa.a h  oo l unstU  GhhoIoshy Jfi fhd  tl eower ?ns  m.yOo\n",
      "\n"
     ]
    },
    {
     "name": "stderr",
     "output_type": "stream",
     "text": [
      "100%|██████████| 76756/76756 [00:31<00:00, 2458.96it/s]\n",
      "100%|██████████| 8529/8529 [00:00<00:00, 12133.41it/s]\n"
     ]
    },
    {
     "name": "stdout",
     "output_type": "stream",
     "text": [
      "Epoch 400 loss: 1.47355 1.40352\n",
      " Oenm  t ot .  p \n",
      "    srs\n",
      "eo L T,a  dN\n",
      "w,sicd d o f,FauRS   fte\n",
      "\n"
     ]
    },
    {
     "name": "stderr",
     "output_type": "stream",
     "text": [
      "100%|██████████| 76756/76756 [00:31<00:00, 2458.16it/s]\n",
      "100%|██████████| 8529/8529 [00:00<00:00, 12141.41it/s]\n"
     ]
    },
    {
     "name": "stdout",
     "output_type": "stream",
     "text": [
      "Epoch 401 loss: 1.47381 1.40652\n",
      "lonfulwvaaeBa wiuls7dwo onNuArbehr  uh h ,N ul lA SsIy  ave e\n",
      " \n",
      "\n"
     ]
    },
    {
     "name": "stderr",
     "output_type": "stream",
     "text": [
      "100%|██████████| 76756/76756 [00:31<00:00, 2438.64it/s]\n",
      "100%|██████████| 8529/8529 [00:00<00:00, 12015.34it/s]\n"
     ]
    },
    {
     "name": "stdout",
     "output_type": "stream",
     "text": [
      "Epoch 402 loss: 1.47352 1.40477\n",
      "t   Noea  e  y S  NNrOd d hyai n 'tibp oP  n n i nAmftS ltneal \n",
      "\n"
     ]
    },
    {
     "name": "stderr",
     "output_type": "stream",
     "text": [
      "100%|██████████| 76756/76756 [00:29<00:00, 2635.94it/s]\n",
      "100%|██████████| 8529/8529 [00:00<00:00, 12127.20it/s]\n"
     ]
    },
    {
     "name": "stdout",
     "output_type": "stream",
     "text": [
      "Epoch 403 loss: 1.47387 1.40177\n",
      "  bsedauoiho fn nt h .t,Shh e c ob ssnclnth ttc r h c'rei o, ml\n",
      "\n"
     ]
    },
    {
     "name": "stderr",
     "output_type": "stream",
     "text": [
      "100%|██████████| 76756/76756 [00:29<00:00, 2640.58it/s]\n",
      "100%|██████████| 8529/8529 [00:00<00:00, 12135.23it/s]\n"
     ]
    },
    {
     "name": "stdout",
     "output_type": "stream",
     "text": [
      "Epoch 404 loss: 1.47378 1.40412\n",
      " um rBieu,twafA,I anbeleo neyd \n",
      "h s r rydeicrmnefiltowettta o  \n",
      "\n"
     ]
    },
    {
     "name": "stderr",
     "output_type": "stream",
     "text": [
      "100%|██████████| 76756/76756 [00:29<00:00, 2642.66it/s]\n",
      "100%|██████████| 8529/8529 [00:00<00:00, 12130.80it/s]\n"
     ]
    },
    {
     "name": "stdout",
     "output_type": "stream",
     "text": [
      "Epoch 405 loss: 1.47365 1.40375\n",
      "dnenhobot\n",
      "o .a NoVh Aoo  \n",
      "O OrfaveE d e bhco hn aeit\n",
      ", orr.   w\n",
      "\n"
     ]
    },
    {
     "name": "stderr",
     "output_type": "stream",
     "text": [
      "100%|██████████| 76756/76756 [00:29<00:00, 2643.88it/s]\n",
      "100%|██████████| 8529/8529 [00:00<00:00, 12180.73it/s]\n"
     ]
    },
    {
     "name": "stdout",
     "output_type": "stream",
     "text": [
      "Epoch 406 loss: 1.47365 1.40282\n",
      "Aoi   er  oysrnNhellarnu  n   nGeKs,i ssr   t ihc il-,'bt  fsdy\n",
      "\n"
     ]
    },
    {
     "name": "stderr",
     "output_type": "stream",
     "text": [
      "100%|██████████| 76756/76756 [00:28<00:00, 2665.49it/s]\n",
      "100%|██████████| 8529/8529 [00:00<00:00, 12192.66it/s]\n"
     ]
    },
    {
     "name": "stdout",
     "output_type": "stream",
     "text": [
      "Epoch 407 loss: 1.47326 1.40901\n",
      "-w lgA \n",
      "  r  ns \n",
      "dh rIno nuine  R\n",
      "oa harcrwrtu ro\n",
      "h oN hr  ;\n",
      "b \n",
      "\n"
     ]
    },
    {
     "name": "stderr",
     "output_type": "stream",
     "text": [
      "100%|██████████| 76756/76756 [00:28<00:00, 2665.46it/s]\n",
      "100%|██████████| 8529/8529 [00:00<00:00, 12177.08it/s]\n"
     ]
    },
    {
     "name": "stdout",
     "output_type": "stream",
     "text": [
      "Epoch 408 loss: 1.47354 1.40489\n",
      ", hanuSnpRae  gev iielsutWnertN\n",
      ", sf hiE,eso Ruec'tEct rko hcsr\n",
      "\n"
     ]
    },
    {
     "name": "stderr",
     "output_type": "stream",
     "text": [
      "100%|██████████| 76756/76756 [00:30<00:00, 2535.88it/s]\n",
      "100%|██████████| 8529/8529 [00:00<00:00, 12189.38it/s]\n"
     ]
    },
    {
     "name": "stdout",
     "output_type": "stream",
     "text": [
      "Epoch 409 loss: 1.47322 1.40136\n",
      "lMid   weichDnwrgopfeO Alt i l olfftavov toG mft dYi  lri  l ao\n",
      "\n"
     ]
    },
    {
     "name": "stderr",
     "output_type": "stream",
     "text": [
      "100%|██████████| 76756/76756 [00:30<00:00, 2506.24it/s]\n",
      "100%|██████████| 8529/8529 [00:00<00:00, 12137.44it/s]\n"
     ]
    },
    {
     "name": "stdout",
     "output_type": "stream",
     "text": [
      "Epoch 410 loss: 1.47333 1.40221\n",
      "  hle]r saoT s  DrignwI \n",
      "wrIelli  o S dtn rred me t iV  r rcyun\n",
      "\n"
     ]
    },
    {
     "name": "stderr",
     "output_type": "stream",
     "text": [
      "100%|██████████| 76756/76756 [00:29<00:00, 2643.18it/s]\n",
      "100%|██████████| 8529/8529 [00:00<00:00, 12141.76it/s]\n"
     ]
    },
    {
     "name": "stdout",
     "output_type": "stream",
     "text": [
      "Epoch 411 loss: 1.47320 1.40157\n",
      "oih i m o a   f is t hEh apO riv\n",
      "ns  il,oEheeoo'n anAYeenlktI,g\n",
      "\n"
     ]
    },
    {
     "name": "stderr",
     "output_type": "stream",
     "text": [
      "100%|██████████| 76756/76756 [00:29<00:00, 2643.65it/s]\n",
      "100%|██████████| 8529/8529 [00:00<00:00, 12124.37it/s]\n"
     ]
    },
    {
     "name": "stdout",
     "output_type": "stream",
     "text": [
      "Epoch 412 loss: 1.47358 1.39923\n",
      "rsnnh sha rw dhn w\n",
      "eNLeuemlylsdAeoI raiu Tieaar ml qsi o eGgur \n",
      "\n"
     ]
    },
    {
     "name": "stderr",
     "output_type": "stream",
     "text": [
      "100%|██████████| 76756/76756 [00:29<00:00, 2642.46it/s]\n",
      "100%|██████████| 8529/8529 [00:00<00:00, 12115.23it/s]\n"
     ]
    },
    {
     "name": "stdout",
     "output_type": "stream",
     "text": [
      "Epoch 413 loss: 1.47319 1.40280\n",
      "erge eyYlutsptr nororoip h\n",
      "\n",
      "I e uaah; pIas adw oyh ,   iTrA p d\n",
      "\n"
     ]
    },
    {
     "name": "stderr",
     "output_type": "stream",
     "text": [
      "100%|██████████| 76756/76756 [00:29<00:00, 2641.98it/s]\n",
      "100%|██████████| 8529/8529 [00:00<00:00, 12134.45it/s]\n"
     ]
    },
    {
     "name": "stdout",
     "output_type": "stream",
     "text": [
      "Epoch 414 loss: 1.47297 1.40055\n",
      " otitaal! aeL   ii  ner\n",
      "ym\n",
      "er. haryReh eea e  yaolr recn \n",
      "c\n",
      " s \n",
      "\n"
     ]
    },
    {
     "name": "stderr",
     "output_type": "stream",
     "text": [
      "100%|██████████| 76756/76756 [00:29<00:00, 2642.74it/s]\n",
      "100%|██████████| 8529/8529 [00:00<00:00, 12143.75it/s]\n"
     ]
    },
    {
     "name": "stdout",
     "output_type": "stream",
     "text": [
      "Epoch 415 loss: 1.47351 1.40335\n",
      "!tsh  Ooti m\n",
      " satas r AsheRt a h triafsdot i' c d noo  ,dDbsuli\n",
      "\n"
     ]
    },
    {
     "name": "stderr",
     "output_type": "stream",
     "text": [
      "100%|██████████| 76756/76756 [00:29<00:00, 2642.75it/s]\n",
      "100%|██████████| 8529/8529 [00:00<00:00, 12130.75it/s]\n"
     ]
    },
    {
     "name": "stdout",
     "output_type": "stream",
     "text": [
      "Epoch 416 loss: 1.47278 1.40482\n",
      "HS t ma.ncnv ReM iiunahsn 'IWLtth.o eerh tmeg  rIhenrp    dta\n",
      "y\n",
      "\n"
     ]
    },
    {
     "name": "stderr",
     "output_type": "stream",
     "text": [
      "100%|██████████| 76756/76756 [00:28<00:00, 2659.23it/s]\n",
      "100%|██████████| 8529/8529 [00:00<00:00, 12196.22it/s]\n"
     ]
    },
    {
     "name": "stdout",
     "output_type": "stream",
     "text": [
      "Epoch 417 loss: 1.47286 1.40443\n",
      ".itn,ue s,sl,n  h st\n",
      " hl,Pf,nradv e dn\n",
      "n  Tbttdn o\n",
      "Nr lu odis -\n",
      "\n"
     ]
    },
    {
     "name": "stderr",
     "output_type": "stream",
     "text": [
      "100%|██████████| 76756/76756 [00:30<00:00, 2506.50it/s]\n",
      "100%|██████████| 8529/8529 [00:00<00:00, 11988.98it/s]\n"
     ]
    },
    {
     "name": "stdout",
     "output_type": "stream",
     "text": [
      "Epoch 418 loss: 1.47272 1.39932\n",
      " c.Broibm UerR go krsissiaOrih\n",
      " Hre  t\n",
      "nFnr ,yiy'lA muBtleic ed\n",
      "\n"
     ]
    },
    {
     "name": "stderr",
     "output_type": "stream",
     "text": [
      "100%|██████████| 76756/76756 [00:31<00:00, 2436.91it/s]\n",
      "100%|██████████| 8529/8529 [00:00<00:00, 12012.15it/s]\n"
     ]
    },
    {
     "name": "stdout",
     "output_type": "stream",
     "text": [
      "Epoch 419 loss: 1.47282 1.40133\n",
      "\n",
      " n Aga le taEao mB \n",
      " ri  ifrdego!wse\n",
      ". e  eeu EsSUssrLo bo    \n",
      "\n"
     ]
    },
    {
     "name": "stderr",
     "output_type": "stream",
     "text": [
      "100%|██████████| 76756/76756 [00:31<00:00, 2436.50it/s]\n",
      "100%|██████████| 8529/8529 [00:00<00:00, 11999.47it/s]\n"
     ]
    },
    {
     "name": "stdout",
     "output_type": "stream",
     "text": [
      "Epoch 420 loss: 1.47346 1.40407\n",
      " ao sn u\n",
      "h  Ro  e e'rn gtorn ilnym slt ttlk  at k; en tn\n",
      " y er \n",
      "\n"
     ]
    },
    {
     "name": "stderr",
     "output_type": "stream",
     "text": [
      "100%|██████████| 76756/76756 [00:31<00:00, 2437.25it/s]\n",
      "100%|██████████| 8529/8529 [00:00<00:00, 11989.31it/s]\n"
     ]
    },
    {
     "name": "stdout",
     "output_type": "stream",
     "text": [
      "Epoch 421 loss: 1.47311 1.39976\n",
      "heuius a o eF nunh ndHdaelo a,e  tPtaeeatie  po ofhivArDmtEHmec\n",
      "\n"
     ]
    },
    {
     "name": "stderr",
     "output_type": "stream",
     "text": [
      "100%|██████████| 76756/76756 [00:31<00:00, 2436.10it/s]\n",
      "100%|██████████| 8529/8529 [00:00<00:00, 11983.52it/s]\n"
     ]
    },
    {
     "name": "stdout",
     "output_type": "stream",
     "text": [
      "Epoch 422 loss: 1.47235 1.40278\n",
      "eE aEn Cha\n",
      " dIl T ,shIso\n",
      "oRT  hbEdrdee s v lerAl \n",
      " p.  nsft nX\n",
      "\n",
      "\n"
     ]
    },
    {
     "name": "stderr",
     "output_type": "stream",
     "text": [
      "100%|██████████| 76756/76756 [00:31<00:00, 2436.42it/s]\n",
      "100%|██████████| 8529/8529 [00:00<00:00, 11986.91it/s]\n"
     ]
    },
    {
     "name": "stdout",
     "output_type": "stream",
     "text": [
      "Epoch 423 loss: 1.47284 1.40403\n",
      "m ua, hamaori\n",
      "naol EIr t c\n",
      "IEr.dshco\n",
      "whg rebh ; uMs sr r Pfot h\n",
      "\n"
     ]
    },
    {
     "name": "stderr",
     "output_type": "stream",
     "text": [
      "100%|██████████| 76756/76756 [00:31<00:00, 2436.00it/s]\n",
      "100%|██████████| 8529/8529 [00:00<00:00, 11891.43it/s]\n"
     ]
    },
    {
     "name": "stdout",
     "output_type": "stream",
     "text": [
      "Epoch 424 loss: 1.47249 1.39811\n",
      "Pm  u ay n  ayc tltCNPgu tois  eEDar niom tut opertoheuouaRms l\n",
      "\n"
     ]
    },
    {
     "name": "stderr",
     "output_type": "stream",
     "text": [
      "100%|██████████| 76756/76756 [00:31<00:00, 2462.18it/s]\n",
      "100%|██████████| 8529/8529 [00:00<00:00, 12156.72it/s]\n"
     ]
    },
    {
     "name": "stdout",
     "output_type": "stream",
     "text": [
      "Epoch 425 loss: 1.47262 1.40164\n",
      "a?hs   fmR h' ainiaa BNaid   c an mt sgEaVkhoB ,r et hnnyho    \n",
      "\n"
     ]
    },
    {
     "name": "stderr",
     "output_type": "stream",
     "text": [
      "100%|██████████| 76756/76756 [00:31<00:00, 2449.98it/s]\n",
      "100%|██████████| 8529/8529 [00:00<00:00, 12020.36it/s]\n"
     ]
    },
    {
     "name": "stdout",
     "output_type": "stream",
     "text": [
      "Epoch 426 loss: 1.47234 1.40282\n",
      ".dktB   ti ges  st  v ekEls cthnotYcm  a   mcf\n",
      "cy tnegeyh OgOnd\n",
      "\n"
     ]
    },
    {
     "name": "stderr",
     "output_type": "stream",
     "text": [
      "100%|██████████| 76756/76756 [00:31<00:00, 2439.45it/s]\n",
      "100%|██████████| 8529/8529 [00:00<00:00, 12042.05it/s]\n"
     ]
    },
    {
     "name": "stdout",
     "output_type": "stream",
     "text": [
      "Epoch 427 loss: 1.47265 1.40042\n",
      "  ulnhAescrrah  wENt rcaW,  UaO ooewG'kbyUl.e Pe ai l si thf-y.\n",
      "\n"
     ]
    },
    {
     "name": "stderr",
     "output_type": "stream",
     "text": [
      "100%|██████████| 76756/76756 [00:31<00:00, 2447.15it/s]\n",
      "100%|██████████| 8529/8529 [00:00<00:00, 11999.23it/s]\n"
     ]
    },
    {
     "name": "stdout",
     "output_type": "stream",
     "text": [
      "Epoch 428 loss: 1.47201 1.39998\n",
      "w vsl-ab ceeoiiir ee o rh or rmo   nVs'km; mwh .nen\n",
      "  c lTNwaon\n",
      "\n"
     ]
    },
    {
     "name": "stderr",
     "output_type": "stream",
     "text": [
      "100%|██████████| 76756/76756 [00:31<00:00, 2437.99it/s]\n",
      "100%|██████████| 8529/8529 [00:00<00:00, 11994.83it/s]\n"
     ]
    },
    {
     "name": "stdout",
     "output_type": "stream",
     "text": [
      "Epoch 429 loss: 1.47222 1.40501\n",
      "rnm ieu sbyfAed   ay H ao WNbn   aihspf'dEwa,lA r. Bgihlu sm ol\n",
      "\n"
     ]
    },
    {
     "name": "stderr",
     "output_type": "stream",
     "text": [
      "100%|██████████| 76756/76756 [00:31<00:00, 2437.29it/s]\n",
      "100%|██████████| 8529/8529 [00:00<00:00, 11979.97it/s]\n"
     ]
    },
    {
     "name": "stdout",
     "output_type": "stream",
     "text": [
      "Epoch 430 loss: 1.47222 1.40075\n",
      "a hh rtt NgelhesfuO m uH;eaaoLY r  u wok nhT  \n",
      "enet  dhF!asha,e\n",
      "\n"
     ]
    },
    {
     "name": "stderr",
     "output_type": "stream",
     "text": [
      "100%|██████████| 76756/76756 [00:31<00:00, 2437.02it/s]\n",
      "100%|██████████| 8529/8529 [00:00<00:00, 11968.02it/s]\n"
     ]
    },
    {
     "name": "stdout",
     "output_type": "stream",
     "text": [
      "Epoch 431 loss: 1.47170 1.40646\n",
      "a t   ee nMg'a wYnBetbysti srR s ItiylnrPIkeOhece sdtrlt e o lh\n",
      "\n"
     ]
    },
    {
     "name": "stderr",
     "output_type": "stream",
     "text": [
      "100%|██████████| 76756/76756 [00:31<00:00, 2438.86it/s]\n",
      "100%|██████████| 8529/8529 [00:00<00:00, 11972.92it/s]\n"
     ]
    },
    {
     "name": "stdout",
     "output_type": "stream",
     "text": [
      "Epoch 432 loss: 1.47203 1.39993\n",
      "nuQa. leIdS\n",
      "sn'mh elnia e;oy doaich nho-td  e lyhi bWsbb,\n",
      "COssi\n",
      "\n"
     ]
    },
    {
     "name": "stderr",
     "output_type": "stream",
     "text": [
      "100%|██████████| 76756/76756 [00:31<00:00, 2432.84it/s]\n",
      "100%|██████████| 8529/8529 [00:00<00:00, 11959.92it/s]\n"
     ]
    },
    {
     "name": "stdout",
     "output_type": "stream",
     "text": [
      "Epoch 433 loss: 1.47194 1.40182\n",
      "est spggojvrn,,rrAcrvek Oop  Rrwo aO\n",
      " iDioyy,htT  dwhi,hshto  d\n",
      "\n"
     ]
    },
    {
     "name": "stderr",
     "output_type": "stream",
     "text": [
      "100%|██████████| 76756/76756 [00:31<00:00, 2437.28it/s]\n",
      "100%|██████████| 8529/8529 [00:00<00:00, 12030.67it/s]\n"
     ]
    },
    {
     "name": "stdout",
     "output_type": "stream",
     "text": [
      "Epoch 434 loss: 1.47190 1.40525\n",
      "nliOuolIOn oIyl bnemsnht o raa   hhanab r  oma a ta\n",
      "ar Rhhoe tw\n",
      "\n"
     ]
    },
    {
     "name": "stderr",
     "output_type": "stream",
     "text": [
      "100%|██████████| 76756/76756 [00:30<00:00, 2489.12it/s]\n",
      "100%|██████████| 8529/8529 [00:00<00:00, 12192.65it/s]\n"
     ]
    },
    {
     "name": "stdout",
     "output_type": "stream",
     "text": [
      "Epoch 435 loss: 1.47179 1.40212\n",
      ",uaCeaoahoa adsy,nc.a .a\n",
      "mgr  sn  ,aingtaT  Hswekneamfrc ul\n",
      "acs\n",
      "\n"
     ]
    },
    {
     "name": "stderr",
     "output_type": "stream",
     "text": [
      "100%|██████████| 76756/76756 [00:30<00:00, 2496.40it/s]\n",
      "100%|██████████| 8529/8529 [00:00<00:00, 11997.50it/s]\n"
     ]
    },
    {
     "name": "stdout",
     "output_type": "stream",
     "text": [
      "Epoch 436 loss: 1.47197 1.40019\n",
      "  uo>K  p,yheiase eoaoeoeYf !e tr\n",
      "rt,n usOfa. n po asu  anw'y.i\n",
      "\n"
     ]
    },
    {
     "name": "stderr",
     "output_type": "stream",
     "text": [
      "100%|██████████| 76756/76756 [00:31<00:00, 2436.95it/s]\n",
      "100%|██████████| 8529/8529 [00:00<00:00, 12025.98it/s]\n"
     ]
    },
    {
     "name": "stdout",
     "output_type": "stream",
     "text": [
      "Epoch 437 loss: 1.47183 1.40234\n",
      "ncmh b ste Sl' stid kchl,  emayilyT  uSioam mfea\n",
      "'oe  i  si T  \n",
      "\n"
     ]
    },
    {
     "name": "stderr",
     "output_type": "stream",
     "text": [
      "100%|██████████| 76756/76756 [00:31<00:00, 2433.81it/s]\n",
      "100%|██████████| 8529/8529 [00:00<00:00, 11929.57it/s]\n"
     ]
    },
    {
     "name": "stdout",
     "output_type": "stream",
     "text": [
      "Epoch 438 loss: 1.47161 1.40050\n",
      "Ys d  ltia h tpWOuih, Elsrf  aat slL. d Smu l  ttadEmdeeurm ywt\n",
      "\n"
     ]
    },
    {
     "name": "stderr",
     "output_type": "stream",
     "text": [
      "100%|██████████| 76756/76756 [00:31<00:00, 2434.45it/s]\n",
      "100%|██████████| 8529/8529 [00:00<00:00, 12131.65it/s]\n"
     ]
    },
    {
     "name": "stdout",
     "output_type": "stream",
     "text": [
      "Epoch 439 loss: 1.47158 1.40116\n",
      " olcas rpcbt car StowpNiaeetIenye d er,E a l i'.ieoh! S u gYfcA\n",
      "\n"
     ]
    },
    {
     "name": "stderr",
     "output_type": "stream",
     "text": [
      "100%|██████████| 76756/76756 [00:31<00:00, 2459.74it/s]\n",
      "100%|██████████| 8529/8529 [00:00<00:00, 12110.16it/s]\n"
     ]
    },
    {
     "name": "stdout",
     "output_type": "stream",
     "text": [
      "Epoch 440 loss: 1.47186 1.40220\n",
      "e  ulb  eid tL  ta doewoLltus   aGi liLamI- . th npfi\n",
      "\n",
      " .  esh \n",
      "\n"
     ]
    },
    {
     "name": "stderr",
     "output_type": "stream",
     "text": [
      "100%|██████████| 76756/76756 [00:31<00:00, 2450.33it/s]\n",
      "100%|██████████| 8529/8529 [00:00<00:00, 11913.38it/s]\n"
     ]
    },
    {
     "name": "stdout",
     "output_type": "stream",
     "text": [
      "Epoch 441 loss: 1.47151 1.40103\n",
      ",w r nw euythrHnusrnu\n",
      "nihBefah  , te  ysra a hsic .,Tr  hoem t-\n",
      "\n"
     ]
    },
    {
     "name": "stderr",
     "output_type": "stream",
     "text": [
      "100%|██████████| 76756/76756 [00:31<00:00, 2427.21it/s]\n",
      "100%|██████████| 8529/8529 [00:00<00:00, 11925.28it/s]\n"
     ]
    },
    {
     "name": "stdout",
     "output_type": "stream",
     "text": [
      "Epoch 442 loss: 1.47134 1.40109\n",
      "t eyw s hSdhtediBtnE T Mo  eO\n",
      "dcAa ' e -op pru toynne p i er\n",
      "b\n",
      "\n",
      "\n"
     ]
    },
    {
     "name": "stderr",
     "output_type": "stream",
     "text": [
      "100%|██████████| 76756/76756 [00:31<00:00, 2420.18it/s]\n",
      "100%|██████████| 8529/8529 [00:00<00:00, 11906.82it/s]\n"
     ]
    },
    {
     "name": "stdout",
     "output_type": "stream",
     "text": [
      "Epoch 443 loss: 1.47119 1.39845\n",
      "  easCh  nsrri ItlaE  yAsddoanNt  lv  nni BigenT heea  lybuse,t\n",
      "\n"
     ]
    },
    {
     "name": "stderr",
     "output_type": "stream",
     "text": [
      "100%|██████████| 76756/76756 [00:31<00:00, 2464.74it/s]\n",
      "100%|██████████| 8529/8529 [00:00<00:00, 12184.74it/s]\n"
     ]
    },
    {
     "name": "stdout",
     "output_type": "stream",
     "text": [
      "Epoch 444 loss: 1.47173 1.40112\n",
      ".'  n\n",
      "m r   oaoa  tvwe  aduynItRlr'clciI.yhbhstsaeile,nb  l OIs\n",
      "\n"
     ]
    },
    {
     "name": "stderr",
     "output_type": "stream",
     "text": [
      "100%|██████████| 76756/76756 [00:31<00:00, 2474.55it/s]\n",
      "100%|██████████| 8529/8529 [00:00<00:00, 12170.22it/s]\n"
     ]
    },
    {
     "name": "stdout",
     "output_type": "stream",
     "text": [
      "Epoch 445 loss: 1.47139 1.39994\n",
      " Hnf asePkssoEo fge r deCrsl al. fc hsh 'N  uOofNei waa\n",
      "tle tee\n",
      "\n"
     ]
    },
    {
     "name": "stderr",
     "output_type": "stream",
     "text": [
      "100%|██████████| 76756/76756 [00:30<00:00, 2486.05it/s]\n",
      "100%|██████████| 8529/8529 [00:00<00:00, 12191.53it/s]\n"
     ]
    },
    {
     "name": "stdout",
     "output_type": "stream",
     "text": [
      "Epoch 446 loss: 1.47144 1.40114\n",
      "c cE wcao   tiahyAnr, ry,sRhy .\n",
      "aSI\n",
      "t, leir'c acrMaosSf gosa.s \n",
      "\n"
     ]
    },
    {
     "name": "stderr",
     "output_type": "stream",
     "text": [
      "100%|██████████| 76756/76756 [00:30<00:00, 2536.63it/s]\n",
      "100%|██████████| 8529/8529 [00:00<00:00, 12190.42it/s]\n"
     ]
    },
    {
     "name": "stdout",
     "output_type": "stream",
     "text": [
      "Epoch 447 loss: 1.47120 1.40113\n",
      "e tMofiSn,agtotSts, lfuo.inuwr a'wvf f,tllretaEcsso\n",
      " geoni' O t\n",
      "\n"
     ]
    },
    {
     "name": "stderr",
     "output_type": "stream",
     "text": [
      "100%|██████████| 76756/76756 [00:30<00:00, 2486.20it/s]\n",
      "100%|██████████| 8529/8529 [00:00<00:00, 12160.35it/s]\n"
     ]
    },
    {
     "name": "stdout",
     "output_type": "stream",
     "text": [
      "Epoch 448 loss: 1.47127 1.40389\n",
      " i.  eeaQei t  ah liBInLf w tha ,IRh  bnPwe teSehHAadotl T ch  \n",
      "\n"
     ]
    },
    {
     "name": "stderr",
     "output_type": "stream",
     "text": [
      "100%|██████████| 76756/76756 [00:30<00:00, 2487.10it/s]\n",
      "100%|██████████| 8529/8529 [00:00<00:00, 12192.67it/s]\n"
     ]
    },
    {
     "name": "stdout",
     "output_type": "stream",
     "text": [
      "Epoch 449 loss: 1.47093 1.40115\n",
      "li!hlh\n",
      "t Drude Hpcsar  nlm sn uiC ashu    dw \n",
      " s  ICaU'on N gp \n",
      "\n"
     ]
    },
    {
     "name": "stderr",
     "output_type": "stream",
     "text": [
      "100%|██████████| 76756/76756 [00:30<00:00, 2488.33it/s]\n",
      "100%|██████████| 8529/8529 [00:00<00:00, 12194.37it/s]\n"
     ]
    },
    {
     "name": "stdout",
     "output_type": "stream",
     "text": [
      "Epoch 450 loss: 1.47126 1.39992\n",
      "tnpitea    \n",
      " doaossMrooriA lanero\n",
      "cymhro\n",
      "o'wii  \n",
      ".at m  Tli p  \n",
      "\n"
     ]
    },
    {
     "name": "stderr",
     "output_type": "stream",
     "text": [
      "100%|██████████| 76756/76756 [00:30<00:00, 2494.60it/s]\n",
      "100%|██████████| 8529/8529 [00:00<00:00, 12190.68it/s]\n"
     ]
    },
    {
     "name": "stdout",
     "output_type": "stream",
     "text": [
      "Epoch 451 loss: 1.47109 1.40410\n",
      "dMa\n",
      "Wr\n",
      "So rir   r d\n",
      "c i eau rsedEts;tt\n",
      "tAee  et\n",
      "OyIe gr K  ,sre\n",
      "\n"
     ]
    },
    {
     "name": "stderr",
     "output_type": "stream",
     "text": [
      "100%|██████████| 76756/76756 [00:30<00:00, 2492.88it/s]\n",
      "100%|██████████| 8529/8529 [00:00<00:00, 12201.75it/s]\n"
     ]
    },
    {
     "name": "stdout",
     "output_type": "stream",
     "text": [
      "Epoch 452 loss: 1.47112 1.40025\n",
      "hIehs i sol, .Es   n tF sBahs  k\n",
      "tFA ah0hi  t.  C snefs\n",
      "rwodir \n",
      "\n"
     ]
    },
    {
     "name": "stderr",
     "output_type": "stream",
     "text": [
      "100%|██████████| 76756/76756 [00:30<00:00, 2494.10it/s]\n",
      "100%|██████████| 8529/8529 [00:00<00:00, 12195.66it/s]\n"
     ]
    },
    {
     "name": "stdout",
     "output_type": "stream",
     "text": [
      "Epoch 453 loss: 1.47055 1.40027\n",
      "Iadst ko\n",
      "? iinohN   ormnev tsor?uo n\n",
      " oete\n",
      "h s oubsU eats 'n!Ti\n",
      "\n"
     ]
    },
    {
     "name": "stderr",
     "output_type": "stream",
     "text": [
      "100%|██████████| 76756/76756 [00:30<00:00, 2493.79it/s]\n",
      "100%|██████████| 8529/8529 [00:00<00:00, 12193.54it/s]\n"
     ]
    },
    {
     "name": "stdout",
     "output_type": "stream",
     "text": [
      "Epoch 454 loss: 1.47110 1.40061\n",
      "t oel hw. ylaofptyrhtr  sSs tooYs   e ou    i Ha eEuo Wt.n,o\n",
      "sa\n",
      "\n"
     ]
    },
    {
     "name": "stderr",
     "output_type": "stream",
     "text": [
      "100%|██████████| 76756/76756 [00:30<00:00, 2495.01it/s]\n",
      "100%|██████████| 8529/8529 [00:00<00:00, 12206.51it/s]\n"
     ]
    },
    {
     "name": "stdout",
     "output_type": "stream",
     "text": [
      "Epoch 455 loss: 1.47072 1.40276\n",
      " i  k h iditR]Rdsynehheoslfyt aG e hgU sr j- pn RaAk  sembephsd\n",
      "\n"
     ]
    },
    {
     "name": "stderr",
     "output_type": "stream",
     "text": [
      "100%|██████████| 76756/76756 [00:30<00:00, 2492.60it/s]\n",
      "100%|██████████| 8529/8529 [00:00<00:00, 12194.94it/s]\n"
     ]
    },
    {
     "name": "stdout",
     "output_type": "stream",
     "text": [
      "Epoch 456 loss: 1.47068 1.40159\n",
      "SCtat:j  cNhBc  be s Be elr o  n Aeneplueooss d h nv's iMtI  ,;\n",
      "\n"
     ]
    },
    {
     "name": "stderr",
     "output_type": "stream",
     "text": [
      "100%|██████████| 76756/76756 [00:30<00:00, 2488.28it/s]\n",
      "100%|██████████| 8529/8529 [00:00<00:00, 12195.47it/s]\n"
     ]
    },
    {
     "name": "stdout",
     "output_type": "stream",
     "text": [
      "Epoch 457 loss: 1.47083 1.39994\n",
      "dAsa r   Osoanh nouwo iWllt  eo aruibLusiBis Sy vts .oaa Bnc PW\n",
      "\n"
     ]
    },
    {
     "name": "stderr",
     "output_type": "stream",
     "text": [
      "100%|██████████| 76756/76756 [00:31<00:00, 2460.21it/s]\n",
      "100%|██████████| 8529/8529 [00:00<00:00, 11962.83it/s]\n"
     ]
    },
    {
     "name": "stdout",
     "output_type": "stream",
     "text": [
      "Epoch 458 loss: 1.47022 1.39959\n",
      "S i\n",
      "mnnUttto dmlymssw hef    n t,h.yiBr;h.aOat\n",
      "t\n",
      "wosmrgnieiu.yi\n",
      "\n"
     ]
    },
    {
     "name": "stderr",
     "output_type": "stream",
     "text": [
      "100%|██████████| 76756/76756 [00:31<00:00, 2440.10it/s]\n",
      "100%|██████████| 8529/8529 [00:00<00:00, 12102.51it/s]\n"
     ]
    },
    {
     "name": "stdout",
     "output_type": "stream",
     "text": [
      "Epoch 459 loss: 1.47107 1.39951\n",
      "RenIe:m Nei\n",
      "e p.r eo\n",
      " fhgWaNh rertfop ut,tot;   t.W ',eOe  hYuo\n",
      "\n"
     ]
    },
    {
     "name": "stderr",
     "output_type": "stream",
     "text": [
      "100%|██████████| 76756/76756 [00:29<00:00, 2559.11it/s]\n",
      "100%|██████████| 8529/8529 [00:00<00:00, 11920.75it/s]\n"
     ]
    },
    {
     "name": "stdout",
     "output_type": "stream",
     "text": [
      "Epoch 460 loss: 1.47006 1.40001\n",
      "yyul,aVo '\n",
      "mGIh  euyos  ns'rOaaoO SlmsFig'ret \n",
      "Ioueu. wtRfoRB P\n",
      "\n"
     ]
    },
    {
     "name": "stderr",
     "output_type": "stream",
     "text": [
      "100%|██████████| 76756/76756 [00:30<00:00, 2489.90it/s]\n",
      "100%|██████████| 8529/8529 [00:00<00:00, 12197.51it/s]\n"
     ]
    },
    {
     "name": "stdout",
     "output_type": "stream",
     "text": [
      "Epoch 461 loss: 1.47029 1.40409\n",
      "a au Stotavl.,liiinfe . ui Y    h' citToo    tlerNwlIp iit r o \n",
      "\n"
     ]
    },
    {
     "name": "stderr",
     "output_type": "stream",
     "text": [
      "100%|██████████| 76756/76756 [00:31<00:00, 2466.42it/s]\n",
      "100%|██████████| 8529/8529 [00:00<00:00, 12141.39it/s]\n"
     ]
    },
    {
     "name": "stdout",
     "output_type": "stream",
     "text": [
      "Epoch 462 loss: 1.47007 1.40099\n",
      "us afE' kitlehoewahEIiit,to k e lai hfSql  dstffby y tIhb N  uf\n",
      "\n"
     ]
    },
    {
     "name": "stderr",
     "output_type": "stream",
     "text": [
      "100%|██████████| 76756/76756 [00:31<00:00, 2458.18it/s]\n",
      "100%|██████████| 8529/8529 [00:00<00:00, 12143.32it/s]\n"
     ]
    },
    {
     "name": "stdout",
     "output_type": "stream",
     "text": [
      "Epoch 463 loss: 1.47025 1.40035\n",
      "qfbE  Ansna\n",
      "ta  mt u e orl t ywA hesan ln   Uk    'e     h   oo\n",
      "\n"
     ]
    },
    {
     "name": "stderr",
     "output_type": "stream",
     "text": [
      "100%|██████████| 76756/76756 [00:31<00:00, 2458.63it/s]\n",
      "100%|██████████| 8529/8529 [00:00<00:00, 11870.43it/s]\n"
     ]
    },
    {
     "name": "stdout",
     "output_type": "stream",
     "text": [
      "Epoch 464 loss: 1.47025 1.40258\n",
      "  lO\n",
      "ltIRietoN'esej e Gtod   s-ronih,cy\n",
      "\n",
      "cs h Oo.auBsDn  try eo\n",
      "\n"
     ]
    },
    {
     "name": "stderr",
     "output_type": "stream",
     "text": [
      "100%|██████████| 76756/76756 [00:31<00:00, 2436.69it/s]\n",
      "100%|██████████| 8529/8529 [00:00<00:00, 12039.99it/s]\n"
     ]
    },
    {
     "name": "stdout",
     "output_type": "stream",
     "text": [
      "Epoch 465 loss: 1.46973 1.39856\n",
      "d euGWAt rlf o  tysaaop aa   relet m\n",
      "osty  su  pe ttyllen s iO \n",
      "\n"
     ]
    },
    {
     "name": "stderr",
     "output_type": "stream",
     "text": [
      "100%|██████████| 76756/76756 [00:31<00:00, 2442.29it/s]\n",
      "100%|██████████| 8529/8529 [00:00<00:00, 12009.86it/s]\n"
     ]
    },
    {
     "name": "stdout",
     "output_type": "stream",
     "text": [
      "Epoch 466 loss: 1.47027 1.40268\n",
      "r ak hlost.,m aa tn N p \n",
      " bho   bnoEal r ;R,owee Oeeef\n",
      "aa. by  \n",
      "\n"
     ]
    },
    {
     "name": "stderr",
     "output_type": "stream",
     "text": [
      "100%|██████████| 76756/76756 [00:31<00:00, 2439.01it/s]\n",
      "100%|██████████| 8529/8529 [00:00<00:00, 12012.38it/s]\n"
     ]
    },
    {
     "name": "stdout",
     "output_type": "stream",
     "text": [
      "Epoch 467 loss: 1.47049 1.39781\n",
      "hcyiinOnotsiAos nleeaeNnchnn  dmnarw,S rCv'v o.OhhfNl  aTrbafcb\n",
      "\n"
     ]
    },
    {
     "name": "stderr",
     "output_type": "stream",
     "text": [
      "100%|██████████| 76756/76756 [00:31<00:00, 2438.96it/s]\n",
      "100%|██████████| 8529/8529 [00:00<00:00, 12072.48it/s]\n"
     ]
    },
    {
     "name": "stdout",
     "output_type": "stream",
     "text": [
      "Epoch 468 loss: 1.46970 1.39941\n",
      "\n",
      " ,\n",
      "fdtSS ,tn,r  ia  Co, Pme ea wwoSl  es  v\n",
      "eb t Is.\n",
      "m e\n",
      " l   \n",
      "\n"
     ]
    },
    {
     "name": "stderr",
     "output_type": "stream",
     "text": [
      "100%|██████████| 76756/76756 [00:31<00:00, 2439.70it/s]\n",
      "100%|██████████| 8529/8529 [00:00<00:00, 12030.52it/s]\n"
     ]
    },
    {
     "name": "stdout",
     "output_type": "stream",
     "text": [
      "Epoch 469 loss: 1.46988 1.40017\n",
      " Vh  Gnn uh; t wuAnrlca'  ,Teo bog h\n",
      "eHl -w   tpmuIO te ; njs .\n",
      "\n"
     ]
    },
    {
     "name": "stderr",
     "output_type": "stream",
     "text": [
      "100%|██████████| 76756/76756 [00:31<00:00, 2441.39it/s]\n",
      "100%|██████████| 8529/8529 [00:00<00:00, 12073.15it/s]\n"
     ]
    },
    {
     "name": "stdout",
     "output_type": "stream",
     "text": [
      "Epoch 470 loss: 1.46994 1.39942\n",
      " hABaOr  h uuehslC a dobwpot uv    rFe  ers chetwwd .rit  Tu UN\n",
      "\n"
     ]
    },
    {
     "name": "stderr",
     "output_type": "stream",
     "text": [
      "100%|██████████| 76756/76756 [00:31<00:00, 2440.07it/s]\n",
      "100%|██████████| 8529/8529 [00:00<00:00, 12029.99it/s]\n"
     ]
    },
    {
     "name": "stdout",
     "output_type": "stream",
     "text": [
      "Epoch 471 loss: 1.46983 1.39913\n",
      "heo nrta yo\n",
      "a   ho,fehDCcnr j  i.y.i e Ir\n",
      "R c th.   siIobe e   \n",
      "\n"
     ]
    },
    {
     "name": "stderr",
     "output_type": "stream",
     "text": [
      "100%|██████████| 76756/76756 [00:31<00:00, 2443.29it/s]\n",
      "100%|██████████| 8529/8529 [00:00<00:00, 12008.84it/s]\n"
     ]
    },
    {
     "name": "stdout",
     "output_type": "stream",
     "text": [
      "Epoch 472 loss: 1.46991 1.39842\n",
      " tdohoh\n",
      "sl e N . . vdyey l t ysmtRsr  md,s otnc   ru.tsyU u.tm \n",
      "\n"
     ]
    },
    {
     "name": "stderr",
     "output_type": "stream",
     "text": [
      "100%|██████████| 76756/76756 [00:31<00:00, 2428.79it/s]\n",
      "100%|██████████| 8529/8529 [00:00<00:00, 11985.23it/s]\n"
     ]
    },
    {
     "name": "stdout",
     "output_type": "stream",
     "text": [
      "Epoch 473 loss: 1.46980 1.39816\n",
      "n bAL tu eWinEO a mroryM i tEas esdtg QRne  aiAtslthotty   op\n",
      "n\n",
      "\n"
     ]
    },
    {
     "name": "stderr",
     "output_type": "stream",
     "text": [
      "100%|██████████| 76756/76756 [00:31<00:00, 2435.93it/s]\n",
      "100%|██████████| 8529/8529 [00:00<00:00, 11944.25it/s]\n"
     ]
    },
    {
     "name": "stdout",
     "output_type": "stream",
     "text": [
      "Epoch 474 loss: 1.46990 1.39864\n",
      "awmthpy   \n",
      "a; o dssyN ,etRpl ia  ; OA RlamyAlnhnoM Ob!sf onwa n\n",
      "\n"
     ]
    },
    {
     "name": "stderr",
     "output_type": "stream",
     "text": [
      "100%|██████████| 76756/76756 [00:29<00:00, 2617.68it/s]\n",
      "100%|██████████| 8529/8529 [00:00<00:00, 12005.66it/s]\n"
     ]
    },
    {
     "name": "stdout",
     "output_type": "stream",
     "text": [
      "Epoch 475 loss: 1.46978 1.39878\n",
      "cot   meoylfor'i    pryu,\n",
      "hn oylC,nah  .Hee] ltEtte hl on  bsa,\n",
      "\n"
     ]
    },
    {
     "name": "stderr",
     "output_type": "stream",
     "text": [
      "100%|██████████| 76756/76756 [00:29<00:00, 2617.68it/s]\n",
      "100%|██████████| 8529/8529 [00:00<00:00, 11999.33it/s]\n"
     ]
    },
    {
     "name": "stdout",
     "output_type": "stream",
     "text": [
      "Epoch 476 loss: 1.46959 1.39931\n",
      "sornd ot  tltI hN  w pey n moLmspMymsm  C I [elmseTa\n",
      "leGt   yw\n",
      "\n",
      "\n"
     ]
    },
    {
     "name": "stderr",
     "output_type": "stream",
     "text": [
      "100%|██████████| 76756/76756 [00:29<00:00, 2618.32it/s]\n",
      "100%|██████████| 8529/8529 [00:00<00:00, 11989.71it/s]\n"
     ]
    },
    {
     "name": "stdout",
     "output_type": "stream",
     "text": [
      "Epoch 477 loss: 1.46942 1.40142\n",
      "   TrN  vhe rfi. s\n",
      "hbeies d Owf  'a CageE penmr kLytsn\n",
      "rhysT me\n",
      "\n"
     ]
    },
    {
     "name": "stderr",
     "output_type": "stream",
     "text": [
      "100%|██████████| 76756/76756 [00:29<00:00, 2619.21it/s]\n",
      "100%|██████████| 8529/8529 [00:00<00:00, 11982.83it/s]\n"
     ]
    },
    {
     "name": "stdout",
     "output_type": "stream",
     "text": [
      "Epoch 478 loss: 1.46938 1.40093\n",
      "  lohymv Oono somDtecr' seio nu'rbiIttF  is,Sim dcan ,w\n",
      "nAnwnaR\n",
      "\n"
     ]
    },
    {
     "name": "stderr",
     "output_type": "stream",
     "text": [
      "100%|██████████| 76756/76756 [00:29<00:00, 2618.96it/s]\n",
      "100%|██████████| 8529/8529 [00:00<00:00, 11995.97it/s]\n"
     ]
    },
    {
     "name": "stdout",
     "output_type": "stream",
     "text": [
      "Epoch 479 loss: 1.46951 1.40254\n",
      " w, Hy nriadl\n",
      "csw i, y ruao,  y s   lesa,  o  too  hut Ighvla.t\n",
      "\n"
     ]
    },
    {
     "name": "stderr",
     "output_type": "stream",
     "text": [
      "100%|██████████| 76756/76756 [00:29<00:00, 2618.62it/s]\n",
      "100%|██████████| 8529/8529 [00:00<00:00, 11993.25it/s]\n"
     ]
    },
    {
     "name": "stdout",
     "output_type": "stream",
     "text": [
      "Epoch 480 loss: 1.46979 1.39842\n",
      "aetsvsak fTihse ,aela\n",
      "' u tl ndgrdysdr,Io'Lowl n\n",
      "t oerIhfShS sl\n",
      "\n"
     ]
    },
    {
     "name": "stderr",
     "output_type": "stream",
     "text": [
      "100%|██████████| 76756/76756 [00:29<00:00, 2618.67it/s]\n",
      "100%|██████████| 8529/8529 [00:00<00:00, 11991.50it/s]\n"
     ]
    },
    {
     "name": "stdout",
     "output_type": "stream",
     "text": [
      "Epoch 481 loss: 1.46940 1.40046\n",
      "l rh,!tiac t st\n",
      "bn nnpdii Ddi T er e p Tn hndoc d , bO p aT nhi\n",
      "\n"
     ]
    },
    {
     "name": "stderr",
     "output_type": "stream",
     "text": [
      "100%|██████████| 76756/76756 [00:30<00:00, 2532.83it/s]\n",
      "100%|██████████| 8529/8529 [00:00<00:00, 12028.59it/s]\n"
     ]
    },
    {
     "name": "stdout",
     "output_type": "stream",
     "text": [
      "Epoch 482 loss: 1.46918 1.39807\n",
      "lwmWbmrL el leh op .iwrsos  h   e aoeio  tAeUaRr so\n",
      "nimefcuo  l\n",
      "\n"
     ]
    },
    {
     "name": "stderr",
     "output_type": "stream",
     "text": [
      "100%|██████████| 76756/76756 [00:30<00:00, 2486.82it/s]\n",
      "100%|██████████| 8529/8529 [00:00<00:00, 12146.77it/s]\n"
     ]
    },
    {
     "name": "stdout",
     "output_type": "stream",
     "text": [
      "Epoch 483 loss: 1.46910 1.39965\n",
      " ,o LdltV b  e hht t  'y Sb  Tml t s  ytoyhh hag.ftnYobsbil nRf\n",
      "\n"
     ]
    },
    {
     "name": "stderr",
     "output_type": "stream",
     "text": [
      "100%|██████████| 76756/76756 [00:30<00:00, 2482.78it/s]\n",
      "100%|██████████| 8529/8529 [00:00<00:00, 12141.64it/s]\n"
     ]
    },
    {
     "name": "stdout",
     "output_type": "stream",
     "text": [
      "Epoch 484 loss: 1.46893 1.40056\n",
      "u nlqi cd t' c  w  Taee . i gm\n",
      "sToV ughrNstp  I.o ecyr aS NeN t\n",
      "\n"
     ]
    },
    {
     "name": "stderr",
     "output_type": "stream",
     "text": [
      "100%|██████████| 76756/76756 [00:31<00:00, 2475.93it/s]\n",
      "100%|██████████| 8529/8529 [00:00<00:00, 12138.02it/s]\n"
     ]
    },
    {
     "name": "stdout",
     "output_type": "stream",
     "text": [
      "Epoch 485 loss: 1.46902 1.39861\n",
      "OtteGn a laRnh.  uhOo y aIii,Y ln,Oroatn  Ti  r Ceee oyB  ahLtn\n",
      "\n"
     ]
    },
    {
     "name": "stderr",
     "output_type": "stream",
     "text": [
      "100%|██████████| 76756/76756 [00:31<00:00, 2475.79it/s]\n",
      "100%|██████████| 8529/8529 [00:00<00:00, 12144.82it/s]\n"
     ]
    },
    {
     "name": "stdout",
     "output_type": "stream",
     "text": [
      "Epoch 486 loss: 1.46940 1.39775\n",
      "vaynAet;pihole s e d  ,t rh  dyaramee du'rtnot en sMH  fn icbkt\n",
      "\n"
     ]
    },
    {
     "name": "stderr",
     "output_type": "stream",
     "text": [
      "100%|██████████| 76756/76756 [00:31<00:00, 2475.57it/s]\n",
      "100%|██████████| 8529/8529 [00:00<00:00, 12137.22it/s]\n"
     ]
    },
    {
     "name": "stdout",
     "output_type": "stream",
     "text": [
      "Epoch 487 loss: 1.46883 1.40174\n",
      "mtkw \n",
      " hu  u ensAontaTE\n",
      "f, Imlhwito dm hAth  Plviy cpy  A   ! h\n",
      "\n"
     ]
    },
    {
     "name": "stderr",
     "output_type": "stream",
     "text": [
      "100%|██████████| 76756/76756 [00:31<00:00, 2475.87it/s]\n",
      "100%|██████████| 8529/8529 [00:00<00:00, 12144.89it/s]\n"
     ]
    },
    {
     "name": "stdout",
     "output_type": "stream",
     "text": [
      "Epoch 488 loss: 1.46895 1.39744\n",
      "   a on kev sIr\n",
      "  o] eNaudtoth Intea. Mes h\n",
      "d lta   mkbFsseHh t\n",
      "\n"
     ]
    },
    {
     "name": "stderr",
     "output_type": "stream",
     "text": [
      "100%|██████████| 76756/76756 [00:31<00:00, 2470.13it/s]\n",
      "100%|██████████| 8529/8529 [00:00<00:00, 12142.41it/s]\n"
     ]
    },
    {
     "name": "stdout",
     "output_type": "stream",
     "text": [
      "Epoch 489 loss: 1.46901 1.40080\n",
      ", I itHs Oo uWtt  cE  yedy,nre\n",
      "blOangsta.tO ie f,t    oat gel,\n",
      "\n",
      "\n"
     ]
    },
    {
     "name": "stderr",
     "output_type": "stream",
     "text": [
      "100%|██████████| 76756/76756 [00:30<00:00, 2476.40it/s]\n",
      "100%|██████████| 8529/8529 [00:00<00:00, 12144.07it/s]\n"
     ]
    },
    {
     "name": "stdout",
     "output_type": "stream",
     "text": [
      "Epoch 490 loss: 1.46890 1.39941\n",
      "e  a,'H  mho Pe o dswi. a  e kCnekr c.EI)ldoel  fjit 'so dHb  t\n",
      "\n"
     ]
    },
    {
     "name": "stderr",
     "output_type": "stream",
     "text": [
      "100%|██████████| 76756/76756 [00:31<00:00, 2475.79it/s]\n",
      "100%|██████████| 8529/8529 [00:00<00:00, 12145.17it/s]\n"
     ]
    },
    {
     "name": "stdout",
     "output_type": "stream",
     "text": [
      "Epoch 491 loss: 1.46903 1.39939\n",
      "oasliErhtceaAfet g,; en   ottsp phey yso ipo \n",
      "a esiEe llseaDOys\n",
      "\n"
     ]
    },
    {
     "name": "stderr",
     "output_type": "stream",
     "text": [
      "100%|██████████| 76756/76756 [00:29<00:00, 2594.32it/s]\n",
      "100%|██████████| 8529/8529 [00:00<00:00, 12197.88it/s]\n"
     ]
    },
    {
     "name": "stdout",
     "output_type": "stream",
     "text": [
      "Epoch 492 loss: 1.46920 1.39827\n",
      "hhrt i hartais hdfu  i R ,etnwl nSseporifdkNtrsnq\n",
      "ms,lya g, tde\n",
      "\n"
     ]
    },
    {
     "name": "stderr",
     "output_type": "stream",
     "text": [
      "100%|██████████| 76756/76756 [00:28<00:00, 2665.70it/s]\n",
      "100%|██████████| 8529/8529 [00:00<00:00, 12199.49it/s]\n"
     ]
    },
    {
     "name": "stdout",
     "output_type": "stream",
     "text": [
      "Epoch 493 loss: 1.46905 1.40117\n",
      "mli NA  Nda ndBhc Llnctt ff D  Si  lGhluEto  aid prdr f yoae ro\n",
      "\n"
     ]
    },
    {
     "name": "stderr",
     "output_type": "stream",
     "text": [
      "100%|██████████| 76756/76756 [00:28<00:00, 2665.68it/s]\n",
      "100%|██████████| 8529/8529 [00:00<00:00, 12202.88it/s]\n"
     ]
    },
    {
     "name": "stdout",
     "output_type": "stream",
     "text": [
      "Epoch 494 loss: 1.46888 1.40059\n",
      "Ta   w aw el twplshldn Lirm  edT  dnroh,l,AbsP  L el sow l. nMA\n",
      "\n"
     ]
    },
    {
     "name": "stderr",
     "output_type": "stream",
     "text": [
      "100%|██████████| 76756/76756 [00:28<00:00, 2665.34it/s]\n",
      "100%|██████████| 8529/8529 [00:00<00:00, 12201.95it/s]\n"
     ]
    },
    {
     "name": "stdout",
     "output_type": "stream",
     "text": [
      "Epoch 495 loss: 1.46875 1.39945\n",
      " \n",
      "uddu  e  ,contetO,atm t  r crflAee \n",
      " o\n",
      " enEgW .dsraFim o .tBe\n",
      "\n"
     ]
    },
    {
     "name": "stderr",
     "output_type": "stream",
     "text": [
      "100%|██████████| 76756/76756 [00:28<00:00, 2665.29it/s]\n",
      "100%|██████████| 8529/8529 [00:00<00:00, 12191.90it/s]\n"
     ]
    },
    {
     "name": "stdout",
     "output_type": "stream",
     "text": [
      "Epoch 496 loss: 1.46872 1.39906\n",
      " nA\n",
      "NntdOorUt seoeteTil iwro i btnThI \n",
      "e\n",
      "a irnCoiUlee!lv.n O Dn\n",
      "\n"
     ]
    },
    {
     "name": "stderr",
     "output_type": "stream",
     "text": [
      "100%|██████████| 76756/76756 [00:28<00:00, 2665.39it/s]\n",
      "100%|██████████| 8529/8529 [00:00<00:00, 12201.81it/s]\n"
     ]
    },
    {
     "name": "stdout",
     "output_type": "stream",
     "text": [
      "Epoch 497 loss: 1.46862 1.39640\n",
      "aeA   o fnbAre nC om,t a  Na o upiu H  oiNRW E  lalEl Usote oty\n",
      "\n"
     ]
    },
    {
     "name": "stderr",
     "output_type": "stream",
     "text": [
      "100%|██████████| 76756/76756 [00:28<00:00, 2665.21it/s]\n",
      "100%|██████████| 8529/8529 [00:00<00:00, 12183.88it/s]\n"
     ]
    },
    {
     "name": "stdout",
     "output_type": "stream",
     "text": [
      "Epoch 498 loss: 1.46863 1.39825\n",
      ";eraf  d\n",
      "yrsd n\n",
      "w Et; aadhhigefewuslwlytc,eRdouatkh o ldlR ihna\n",
      "\n"
     ]
    },
    {
     "name": "stderr",
     "output_type": "stream",
     "text": [
      "100%|██████████| 76756/76756 [00:28<00:00, 2665.42it/s]\n",
      "100%|██████████| 8529/8529 [00:00<00:00, 12197.06it/s]\n"
     ]
    },
    {
     "name": "stdout",
     "output_type": "stream",
     "text": [
      "Epoch 499 loss: 1.46844 1.40020\n",
      "  , \n",
      "   at d ooh eErn att\n",
      "isl.s ao h tre IoII es nnsnebpr\n",
      " dnmc\n",
      "\n"
     ]
    },
    {
     "name": "stderr",
     "output_type": "stream",
     "text": [
      "100%|██████████| 76756/76756 [00:28<00:00, 2665.29it/s]\n",
      "100%|██████████| 8529/8529 [00:00<00:00, 12201.83it/s]\n"
     ]
    },
    {
     "name": "stdout",
     "output_type": "stream",
     "text": [
      "Epoch 500 loss: 1.46835 1.39527\n",
      "eCaohOieiAIy ef \n",
      " Si a iN  a  ssf ;hnsEd mtl   SgnuYD rie ahAgc\n",
      "\n"
     ]
    },
    {
     "name": "stderr",
     "output_type": "stream",
     "text": [
      "100%|██████████| 76756/76756 [00:28<00:00, 2665.34it/s]\n",
      "100%|██████████| 8529/8529 [00:00<00:00, 12199.61it/s]\n"
     ]
    },
    {
     "name": "stdout",
     "output_type": "stream",
     "text": [
      "Epoch 501 loss: 1.46846 1.39848\n",
      ".r o,hhaaft \n",
      " teT o d  te i\n",
      "d.d\n",
      " s Nt a  pst moTs At  Eresns wd\n",
      "\n"
     ]
    },
    {
     "name": "stderr",
     "output_type": "stream",
     "text": [
      "100%|██████████| 76756/76756 [00:28<00:00, 2665.35it/s]\n",
      "100%|██████████| 8529/8529 [00:00<00:00, 12200.56it/s]\n"
     ]
    },
    {
     "name": "stdout",
     "output_type": "stream",
     "text": [
      "Epoch 502 loss: 1.46835 1.40025\n",
      " llIae  \n",
      "d H[m slsgdY rh g  s\n",
      "J.id, IoNvn eooanvn .  dfhehnizh\n",
      "\n",
      "\n"
     ]
    },
    {
     "name": "stderr",
     "output_type": "stream",
     "text": [
      "100%|██████████| 76756/76756 [00:28<00:00, 2665.31it/s]\n",
      "100%|██████████| 8529/8529 [00:00<00:00, 12196.89it/s]\n"
     ]
    },
    {
     "name": "stdout",
     "output_type": "stream",
     "text": [
      "Epoch 503 loss: 1.46864 1.39697\n",
      "eheifdaavrthStwit\n",
      "g kbtrslgWry St adde o Uoiphbsereoy aggAd  c'\n",
      "\n"
     ]
    },
    {
     "name": "stderr",
     "output_type": "stream",
     "text": [
      "100%|██████████| 76756/76756 [00:28<00:00, 2665.48it/s]\n",
      "100%|██████████| 8529/8529 [00:00<00:00, 12195.26it/s]\n"
     ]
    },
    {
     "name": "stdout",
     "output_type": "stream",
     "text": [
      "Epoch 504 loss: 1.46819 1.39893\n",
      " v\n",
      "N;baD\n",
      " t;eh\n",
      "owvo\n",
      "RhnT   o erGuaferslt  t y;a  n tclioletcu,e\n",
      "\n"
     ]
    },
    {
     "name": "stderr",
     "output_type": "stream",
     "text": [
      "100%|██████████| 76756/76756 [00:28<00:00, 2665.35it/s]\n",
      "100%|██████████| 8529/8529 [00:00<00:00, 12195.49it/s]\n"
     ]
    },
    {
     "name": "stdout",
     "output_type": "stream",
     "text": [
      "Epoch 505 loss: 1.46838 1.39519\n",
      " hu dahtr, Tn,habhee f. ae mnsho v tioeepulell  rate,e a't almh\n",
      "\n"
     ]
    },
    {
     "name": "stderr",
     "output_type": "stream",
     "text": [
      "100%|██████████| 76756/76756 [00:28<00:00, 2665.27it/s]\n",
      "100%|██████████| 8529/8529 [00:00<00:00, 12194.83it/s]\n"
     ]
    },
    {
     "name": "stdout",
     "output_type": "stream",
     "text": [
      "Epoch 506 loss: 1.46868 1.39641\n",
      " M 'eliv I  aU d  eeChmaTE euvbAnrlK grotma SLnoov  heGw  .ett\n",
      "\n",
      "\n"
     ]
    },
    {
     "name": "stderr",
     "output_type": "stream",
     "text": [
      "100%|██████████| 76756/76756 [00:28<00:00, 2665.33it/s]\n",
      "100%|██████████| 8529/8529 [00:00<00:00, 12197.06it/s]\n"
     ]
    },
    {
     "name": "stdout",
     "output_type": "stream",
     "text": [
      "Epoch 507 loss: 1.46819 1.39947\n",
      "ooheA .   h  osaS ti   Te,d,lx,en ll Gt \n",
      "Ruw IsE'  . S Thcaoe n\n",
      "\n"
     ]
    },
    {
     "name": "stderr",
     "output_type": "stream",
     "text": [
      "100%|██████████| 76756/76756 [00:28<00:00, 2665.41it/s]\n",
      "100%|██████████| 8529/8529 [00:00<00:00, 12202.11it/s]\n"
     ]
    },
    {
     "name": "stdout",
     "output_type": "stream",
     "text": [
      "Epoch 508 loss: 1.46829 1.39646\n",
      "i .l tRiwo \n",
      "  \n",
      "  sr.ryt  CehTmy, edR  Stitemhn t   tssfhs rR  a\n",
      "\n"
     ]
    },
    {
     "name": "stderr",
     "output_type": "stream",
     "text": [
      "100%|██████████| 76756/76756 [00:28<00:00, 2661.65it/s]\n",
      "100%|██████████| 8529/8529 [00:00<00:00, 12150.23it/s]\n"
     ]
    },
    {
     "name": "stdout",
     "output_type": "stream",
     "text": [
      "Epoch 509 loss: 1.46806 1.39764\n",
      " d fekou rw \n",
      ".w l  E ul  os Ttrtoa\n",
      "da Oa.e JYo E.  isOl nh..um \n",
      "\n"
     ]
    },
    {
     "name": "stderr",
     "output_type": "stream",
     "text": [
      "100%|██████████| 76756/76756 [00:31<00:00, 2473.54it/s]\n",
      "100%|██████████| 8529/8529 [00:00<00:00, 12149.56it/s]\n"
     ]
    },
    {
     "name": "stdout",
     "output_type": "stream",
     "text": [
      "Epoch 510 loss: 1.46841 1.39574\n",
      "mt  WT  ;eoybwdYn ideta  ee reoo  udsn\n",
      "hon  ntso ieIs.wunol . R\n",
      "\n"
     ]
    },
    {
     "name": "stderr",
     "output_type": "stream",
     "text": [
      "100%|██████████| 76756/76756 [00:31<00:00, 2444.78it/s]\n",
      "100%|██████████| 8529/8529 [00:00<00:00, 12027.05it/s]\n"
     ]
    },
    {
     "name": "stdout",
     "output_type": "stream",
     "text": [
      "Epoch 511 loss: 1.46832 1.39729\n",
      "L Rcltuh t u nts I s  th'  Ey. eehe i Ioi isde rar om keece r\n",
      "s\n",
      "\n"
     ]
    },
    {
     "name": "stderr",
     "output_type": "stream",
     "text": [
      "100%|██████████| 76756/76756 [00:31<00:00, 2441.01it/s]\n",
      "100%|██████████| 8529/8529 [00:00<00:00, 11916.32it/s]\n"
     ]
    },
    {
     "name": "stdout",
     "output_type": "stream",
     "text": [
      "Epoch 512 loss: 1.46798 1.39902\n",
      "  y a?  mdtoor ssBDiaa yoeotNtr;h nduli h x rs brr Ntuin sR mor\n",
      "\n"
     ]
    },
    {
     "name": "stderr",
     "output_type": "stream",
     "text": [
      "100%|██████████| 76756/76756 [00:31<00:00, 2437.81it/s]\n",
      "100%|██████████| 8529/8529 [00:00<00:00, 12023.73it/s]\n"
     ]
    },
    {
     "name": "stdout",
     "output_type": "stream",
     "text": [
      "Epoch 513 loss: 1.46837 1.39846\n",
      " sidsbh:eBo myfL AdtwA ls   sei  Ni YetnzjyfQkehmdP hv ,eoh  dA\n",
      "\n"
     ]
    },
    {
     "name": "stderr",
     "output_type": "stream",
     "text": [
      "100%|██████████| 76756/76756 [00:31<00:00, 2440.87it/s]\n",
      "100%|██████████| 8529/8529 [00:00<00:00, 11956.23it/s]\n"
     ]
    },
    {
     "name": "stdout",
     "output_type": "stream",
     "text": [
      "Epoch 514 loss: 1.46818 1.39717\n",
      " w SMynhohlrrCdtohfaeysm   aDrrG i A oh ya shoi.leneWrThhto'enh\n",
      "\n"
     ]
    },
    {
     "name": "stderr",
     "output_type": "stream",
     "text": [
      "100%|██████████| 76756/76756 [00:31<00:00, 2436.87it/s]\n",
      "100%|██████████| 8529/8529 [00:00<00:00, 11980.28it/s]\n"
     ]
    },
    {
     "name": "stdout",
     "output_type": "stream",
     "text": [
      "Epoch 515 loss: 1.46789 1.39923\n",
      "yAnhdtcle th hv hehS c   sret e te. he e st ts tsw ddh stE alhf\n",
      "\n"
     ]
    },
    {
     "name": "stderr",
     "output_type": "stream",
     "text": [
      "100%|██████████| 76756/76756 [00:31<00:00, 2456.19it/s]\n",
      "100%|██████████| 8529/8529 [00:00<00:00, 12167.34it/s]\n"
     ]
    },
    {
     "name": "stdout",
     "output_type": "stream",
     "text": [
      "Epoch 516 loss: 1.46786 1.40055\n",
      "r e\n",
      "aehw n-onofdopsskArN dstfwsm\n",
      "rhah otat i\n",
      "umyi dgue olt ofs\n",
      "\n",
      "\n"
     ]
    },
    {
     "name": "stderr",
     "output_type": "stream",
     "text": [
      "100%|██████████| 76756/76756 [00:30<00:00, 2484.59it/s]\n",
      "100%|██████████| 8529/8529 [00:00<00:00, 12180.46it/s]\n"
     ]
    },
    {
     "name": "stdout",
     "output_type": "stream",
     "text": [
      "Epoch 517 loss: 1.46794 1.39715\n",
      "lginet fe! i    o  me  u t e slfarls iatn\n",
      "a,Inse  u. wEn ed bb \n",
      "\n"
     ]
    },
    {
     "name": "stderr",
     "output_type": "stream",
     "text": [
      "100%|██████████| 76756/76756 [00:30<00:00, 2483.24it/s]\n",
      "100%|██████████| 8529/8529 [00:00<00:00, 12141.88it/s]\n"
     ]
    },
    {
     "name": "stdout",
     "output_type": "stream",
     "text": [
      "Epoch 518 loss: 1.46779 1.39832\n",
      "  Rt\n",
      "l e . ios [ ' sywnp  h S tt y.i  o   r Ae FP    Uslefoe e \n",
      "\n"
     ]
    },
    {
     "name": "stderr",
     "output_type": "stream",
     "text": [
      "100%|██████████| 76756/76756 [00:30<00:00, 2479.82it/s]\n",
      "100%|██████████| 8529/8529 [00:00<00:00, 12146.42it/s]\n"
     ]
    },
    {
     "name": "stdout",
     "output_type": "stream",
     "text": [
      "Epoch 519 loss: 1.46777 1.40004\n",
      "lEr. oeddl h usyeCie  nO a macsa,! chs afm  U   geSlc.c   en Cc\n",
      "\n"
     ]
    },
    {
     "name": "stderr",
     "output_type": "stream",
     "text": [
      "100%|██████████| 76756/76756 [00:30<00:00, 2480.08it/s]\n",
      "100%|██████████| 8529/8529 [00:00<00:00, 12184.07it/s]\n"
     ]
    },
    {
     "name": "stdout",
     "output_type": "stream",
     "text": [
      "Epoch 520 loss: 1.46778 1.39833\n",
      "  I i  tI pBbda  chg e tos Aol u\n",
      "hntt]  sa\n",
      " alosweab ylbAthatt?\n",
      "\n"
     ]
    },
    {
     "name": "stderr",
     "output_type": "stream",
     "text": [
      "100%|██████████| 76756/76756 [00:28<00:00, 2665.33it/s]\n",
      "100%|██████████| 8529/8529 [00:00<00:00, 11906.03it/s]\n"
     ]
    },
    {
     "name": "stdout",
     "output_type": "stream",
     "text": [
      "Epoch 521 loss: 1.46733 1.39802\n",
      "ylakn od ornovoop hey C wAM ,m nwdi,bot  G'C,etro h eO  , ,\n",
      "ent\n",
      "\n"
     ]
    },
    {
     "name": "stderr",
     "output_type": "stream",
     "text": [
      "100%|██████████| 76756/76756 [00:31<00:00, 2435.97it/s]\n",
      "100%|██████████| 8529/8529 [00:00<00:00, 12000.84it/s]\n"
     ]
    },
    {
     "name": "stdout",
     "output_type": "stream",
     "text": [
      "Epoch 522 loss: 1.46758 1.39875\n",
      " oWn  ,o E vS reobn noBs vd\n",
      "lSmuOiTw\n",
      "eh Ot ts rtress x;aB  src\n",
      "\n",
      "\n"
     ]
    },
    {
     "name": "stderr",
     "output_type": "stream",
     "text": [
      "100%|██████████| 76756/76756 [00:31<00:00, 2426.65it/s]\n",
      "100%|██████████| 8529/8529 [00:00<00:00, 11988.53it/s]\n"
     ]
    },
    {
     "name": "stdout",
     "output_type": "stream",
     "text": [
      "Epoch 523 loss: 1.46824 1.39779\n",
      " O tnTI  oTikYH BVelbul ai fHrpd orH\n",
      "b dtmete  .d poOpIt hmoe \n",
      "\n",
      "\n"
     ]
    },
    {
     "name": "stderr",
     "output_type": "stream",
     "text": [
      "100%|██████████| 76756/76756 [00:31<00:00, 2438.39it/s]\n",
      "100%|██████████| 8529/8529 [00:00<00:00, 11972.42it/s]\n"
     ]
    },
    {
     "name": "stdout",
     "output_type": "stream",
     "text": [
      "Epoch 524 loss: 1.46778 1.39746\n",
      " o\n",
      "DiC a'otom uO p Rr oen oO.om,ao eet i.rYooc   Eu  ieaobhi rt\n",
      "\n"
     ]
    },
    {
     "name": "stderr",
     "output_type": "stream",
     "text": [
      "100%|██████████| 76756/76756 [00:31<00:00, 2453.18it/s]\n",
      "100%|██████████| 8529/8529 [00:00<00:00, 12197.77it/s]\n"
     ]
    },
    {
     "name": "stdout",
     "output_type": "stream",
     "text": [
      "Epoch 525 loss: 1.46764 1.40031\n",
      "oeA wa,dwti tadns ,  ,t blE MQl ptraR.aWtSwSett  i   o.lw l  h \n",
      "\n"
     ]
    },
    {
     "name": "stderr",
     "output_type": "stream",
     "text": [
      "100%|██████████| 76756/76756 [00:30<00:00, 2493.02it/s]\n",
      "100%|██████████| 8529/8529 [00:00<00:00, 12199.97it/s]\n"
     ]
    },
    {
     "name": "stdout",
     "output_type": "stream",
     "text": [
      "Epoch 526 loss: 1.46751 1.39807\n",
      " eidc;nu lsude iueb tyot-t LpsI  'm \n",
      " boens,  ord a   a oy a nh\n",
      "\n"
     ]
    },
    {
     "name": "stderr",
     "output_type": "stream",
     "text": [
      "100%|██████████| 76756/76756 [00:30<00:00, 2494.95it/s]\n",
      "100%|██████████| 8529/8529 [00:00<00:00, 12194.45it/s]\n"
     ]
    },
    {
     "name": "stdout",
     "output_type": "stream",
     "text": [
      "Epoch 527 loss: 1.46791 1.39590\n",
      " !Oalmy   .,snene vNwhscSOai  uCd\n",
      "t   fYAOaufvIeWScdsare \n",
      ".T\n",
      " s\n",
      "\n"
     ]
    },
    {
     "name": "stderr",
     "output_type": "stream",
     "text": [
      "100%|██████████| 76756/76756 [00:30<00:00, 2493.80it/s]\n",
      "100%|██████████| 8529/8529 [00:00<00:00, 12161.62it/s]\n"
     ]
    },
    {
     "name": "stdout",
     "output_type": "stream",
     "text": [
      "Epoch 528 loss: 1.46751 1.39713\n",
      "veannEfb num r,oci  e?mt   ra  b oS Flt rt   M ois iswan'oIgan \n",
      "\n"
     ]
    },
    {
     "name": "stderr",
     "output_type": "stream",
     "text": [
      "100%|██████████| 76756/76756 [00:30<00:00, 2496.67it/s]\n",
      "100%|██████████| 8529/8529 [00:00<00:00, 12194.02it/s]\n"
     ]
    },
    {
     "name": "stdout",
     "output_type": "stream",
     "text": [
      "Epoch 529 loss: 1.46729 1.39726\n",
      "a\n",
      "  nh    e .x BNhreu  weftl k rTa. oui. rhlDa Etoimnt\n",
      " hn rond\n",
      "\n"
     ]
    },
    {
     "name": "stderr",
     "output_type": "stream",
     "text": [
      "100%|██████████| 76756/76756 [00:30<00:00, 2493.58it/s]\n",
      "100%|██████████| 8529/8529 [00:00<00:00, 12198.42it/s]\n"
     ]
    },
    {
     "name": "stdout",
     "output_type": "stream",
     "text": [
      "Epoch 530 loss: 1.46726 1.39901\n",
      "wlth a oRy ,ublhfivu nysbuM o  h temW s !a\n",
      "a nno,ce\n",
      "aEtu'S   hn\n",
      "\n"
     ]
    },
    {
     "name": "stderr",
     "output_type": "stream",
     "text": [
      "100%|██████████| 76756/76756 [00:30<00:00, 2497.81it/s]\n",
      "100%|██████████| 8529/8529 [00:00<00:00, 12206.19it/s]\n"
     ]
    },
    {
     "name": "stdout",
     "output_type": "stream",
     "text": [
      "Epoch 531 loss: 1.46732 1.39861\n",
      "hiTlaeV   lnihe ,e\n",
      " e g h  yeUa  \n",
      "thSt EAat \n",
      "id hee q, aytohwte\n",
      "\n"
     ]
    },
    {
     "name": "stderr",
     "output_type": "stream",
     "text": [
      "100%|██████████| 76756/76756 [00:30<00:00, 2495.32it/s]\n",
      "100%|██████████| 8529/8529 [00:00<00:00, 12203.78it/s]\n"
     ]
    },
    {
     "name": "stdout",
     "output_type": "stream",
     "text": [
      "Epoch 532 loss: 1.46710 1.39707\n",
      "t  etTib o Neerho ?otwrueusbeTlneSbraar tKc  EVo   ,weae,wn, Om\n",
      "\n"
     ]
    },
    {
     "name": "stderr",
     "output_type": "stream",
     "text": [
      "100%|██████████| 76756/76756 [00:30<00:00, 2495.59it/s]\n",
      "100%|██████████| 8529/8529 [00:00<00:00, 12200.98it/s]\n"
     ]
    },
    {
     "name": "stdout",
     "output_type": "stream",
     "text": [
      "Epoch 533 loss: 1.46737 1.39808\n",
      "de\n",
      "m ,rrces   edwA' a 'o t  aihrC\n",
      "a   w M\n",
      "sE\n",
      " uSNtf  ca  MiiFoo\n",
      "\n"
     ]
    },
    {
     "name": "stderr",
     "output_type": "stream",
     "text": [
      "100%|██████████| 76756/76756 [00:28<00:00, 2672.83it/s]\n",
      "100%|██████████| 8529/8529 [00:00<00:00, 12199.28it/s]\n"
     ]
    },
    {
     "name": "stdout",
     "output_type": "stream",
     "text": [
      "Epoch 534 loss: 1.46734 1.39527\n",
      "uOh tncoboha  pal   i  cesaoaiugta eeaTt eif rioif.i\n",
      "pi h,wpdHh\n",
      "\n"
     ]
    },
    {
     "name": "stderr",
     "output_type": "stream",
     "text": [
      "100%|██████████| 76756/76756 [00:28<00:00, 2672.40it/s]\n",
      "100%|██████████| 8529/8529 [00:00<00:00, 12201.83it/s]\n"
     ]
    },
    {
     "name": "stdout",
     "output_type": "stream",
     "text": [
      "Epoch 535 loss: 1.46713 1.39654\n",
      "  w     Ci\n",
      "l \n",
      " dGn ar'aRFS svr\n",
      "rfoT h tiVn  a , iiYm  \n",
      "A wrem d\n",
      "\n"
     ]
    },
    {
     "name": "stderr",
     "output_type": "stream",
     "text": [
      "100%|██████████| 76756/76756 [00:29<00:00, 2588.18it/s]\n",
      "100%|██████████| 8529/8529 [00:00<00:00, 12197.00it/s]\n"
     ]
    },
    {
     "name": "stdout",
     "output_type": "stream",
     "text": [
      "Epoch 536 loss: 1.46683 1.39620\n",
      "e  o liTeT nnCwt   Ip\n",
      "yo  sl odsaPfm'lodhi, hr]uhtDi Co.h oc\n",
      "ol\n",
      "\n"
     ]
    },
    {
     "name": "stderr",
     "output_type": "stream",
     "text": [
      "100%|██████████| 76756/76756 [00:30<00:00, 2494.43it/s]\n",
      "100%|██████████| 8529/8529 [00:00<00:00, 12197.97it/s]\n"
     ]
    },
    {
     "name": "stdout",
     "output_type": "stream",
     "text": [
      "Epoch 537 loss: 1.46775 1.39912\n",
      " .o   Nro I\n",
      "ytmoie Enyer ehtot.\n",
      "muoomroh w 'Eoeyno effh\n",
      "lso,\n",
      "mr\n",
      "\n"
     ]
    },
    {
     "name": "stderr",
     "output_type": "stream",
     "text": [
      "100%|██████████| 76756/76756 [00:30<00:00, 2495.34it/s]\n",
      "100%|██████████| 8529/8529 [00:00<00:00, 12199.48it/s]\n"
     ]
    },
    {
     "name": "stdout",
     "output_type": "stream",
     "text": [
      "Epoch 538 loss: 1.46655 1.39770\n",
      "kgeaNfo'S!nrfli  h yA,lc W g UHi    Re Eis ,ot sy. dr uahd sluh\n",
      "\n"
     ]
    },
    {
     "name": "stderr",
     "output_type": "stream",
     "text": [
      "100%|██████████| 76756/76756 [00:30<00:00, 2496.66it/s]\n",
      "100%|██████████| 8529/8529 [00:00<00:00, 12154.27it/s]\n"
     ]
    },
    {
     "name": "stdout",
     "output_type": "stream",
     "text": [
      "Epoch 539 loss: 1.46701 1.39652\n",
      " snkt o  na  l'.iv,duthnm  fa n  d ue.  reOe i \n",
      " o- yildhef Fda\n",
      "\n"
     ]
    },
    {
     "name": "stderr",
     "output_type": "stream",
     "text": [
      "100%|██████████| 76756/76756 [00:30<00:00, 2551.98it/s]\n",
      "100%|██████████| 8529/8529 [00:00<00:00, 11915.34it/s]\n"
     ]
    },
    {
     "name": "stdout",
     "output_type": "stream",
     "text": [
      "Epoch 540 loss: 1.46705 1.39994\n",
      "eUtI\n",
      ",rodeerirtoh\n",
      "sIsea e  \n",
      " AeAth,elhop h EtEar  P hwmlf dA ws\n",
      "\n"
     ]
    },
    {
     "name": "stderr",
     "output_type": "stream",
     "text": [
      "100%|██████████| 76756/76756 [00:31<00:00, 2427.78it/s]\n",
      "100%|██████████| 8529/8529 [00:00<00:00, 11942.03it/s]\n"
     ]
    },
    {
     "name": "stdout",
     "output_type": "stream",
     "text": [
      "Epoch 541 loss: 1.46723 1.39725\n",
      " oormp ypIhsa TvtAqh  ainnRtrh fhsW  onmafi  reh wegnae -at yl?\n",
      "\n"
     ]
    },
    {
     "name": "stderr",
     "output_type": "stream",
     "text": [
      "100%|██████████| 76756/76756 [00:31<00:00, 2425.90it/s]\n",
      "100%|██████████| 8529/8529 [00:00<00:00, 11947.18it/s]\n"
     ]
    },
    {
     "name": "stdout",
     "output_type": "stream",
     "text": [
      "Epoch 542 loss: 1.46684 1.40058\n",
      "hal'  cDc n'l dnuhi ma Ae h i m,uvouR isha edeuePfd k?mur   esl\n",
      "\n"
     ]
    },
    {
     "name": "stderr",
     "output_type": "stream",
     "text": [
      "100%|██████████| 76756/76756 [00:31<00:00, 2418.89it/s]\n",
      "100%|██████████| 8529/8529 [00:00<00:00, 11935.74it/s]\n"
     ]
    },
    {
     "name": "stdout",
     "output_type": "stream",
     "text": [
      "Epoch 543 loss: 1.46713 1.39800\n",
      "  eo tetl,e mdeeydren \n",
      "ee\n",
      " eh\n",
      "- ,P u  mFn sfiEf Di sit i d f,es\n",
      "\n"
     ]
    },
    {
     "name": "stderr",
     "output_type": "stream",
     "text": [
      "100%|██████████| 76756/76756 [00:31<00:00, 2437.46it/s]\n",
      "100%|██████████| 8529/8529 [00:00<00:00, 12056.64it/s]\n"
     ]
    },
    {
     "name": "stdout",
     "output_type": "stream",
     "text": [
      "Epoch 544 loss: 1.46706 1.40132\n",
      "aane  AsS!truaei  \n",
      "aat ennes   yrneisrNone EtWwtnd\n",
      "utn ssgs  nc\n",
      "\n"
     ]
    },
    {
     "name": "stderr",
     "output_type": "stream",
     "text": [
      "100%|██████████| 76756/76756 [00:31<00:00, 2475.04it/s]\n",
      "100%|██████████| 8529/8529 [00:00<00:00, 12136.63it/s]\n"
     ]
    },
    {
     "name": "stdout",
     "output_type": "stream",
     "text": [
      "Epoch 545 loss: 1.46704 1.39593\n",
      "ioahWa ta'CdScd.tqOsi  eSr?Fou hoo  ,L . euho'utE   hl,L aoNa  \n",
      "\n"
     ]
    },
    {
     "name": "stderr",
     "output_type": "stream",
     "text": [
      "100%|██████████| 76756/76756 [00:31<00:00, 2460.58it/s]\n",
      "100%|██████████| 8529/8529 [00:00<00:00, 12127.67it/s]\n"
     ]
    },
    {
     "name": "stdout",
     "output_type": "stream",
     "text": [
      "Epoch 546 loss: 1.46627 1.39746\n",
      "oeYIe Leemie Oohwe\n",
      " ee c l r \n",
      " l SunrNNvd' warahntieirmsdu.hle \n",
      "\n"
     ]
    },
    {
     "name": "stderr",
     "output_type": "stream",
     "text": [
      "100%|██████████| 76756/76756 [00:31<00:00, 2459.38it/s]\n",
      "100%|██████████| 8529/8529 [00:00<00:00, 12129.74it/s]\n"
     ]
    },
    {
     "name": "stdout",
     "output_type": "stream",
     "text": [
      "Epoch 547 loss: 1.46703 1.39645\n",
      "nsavsLono wpd esvStsPtLbiihn hogwj tgT w   op \n",
      ",\n",
      " mm  o e t  oi\n",
      "\n"
     ]
    },
    {
     "name": "stderr",
     "output_type": "stream",
     "text": [
      "100%|██████████| 76756/76756 [00:31<00:00, 2458.28it/s]\n",
      "100%|██████████| 8529/8529 [00:00<00:00, 12127.64it/s]\n"
     ]
    },
    {
     "name": "stdout",
     "output_type": "stream",
     "text": [
      "Epoch 548 loss: 1.46696 1.39596\n",
      "dTrhTo etahnaar\n",
      "ev oUs .ensedoKOeHaewafif\n",
      "Om , hyeTb lfioemsrs \n",
      "\n"
     ]
    },
    {
     "name": "stderr",
     "output_type": "stream",
     "text": [
      "100%|██████████| 76756/76756 [00:31<00:00, 2457.54it/s]\n",
      "100%|██████████| 8529/8529 [00:00<00:00, 12141.91it/s]\n"
     ]
    },
    {
     "name": "stdout",
     "output_type": "stream",
     "text": [
      "Epoch 549 loss: 1.46673 1.39649\n",
      "rhsure  tdonoIb 'dif   isa I'\n",
      "  h e\n",
      " grsLIsaw duns' uyEat.has n\n",
      "\n"
     ]
    },
    {
     "name": "stderr",
     "output_type": "stream",
     "text": [
      "100%|██████████| 76756/76756 [00:31<00:00, 2459.75it/s]\n",
      "100%|██████████| 8529/8529 [00:00<00:00, 12126.86it/s]\n"
     ]
    },
    {
     "name": "stdout",
     "output_type": "stream",
     "text": [
      "Epoch 550 loss: 1.46687 1.39627\n",
      " nhris ss tAE ony s f rtisb,W y goayL -o H etlnnunlaAa   gt w  \n",
      "\n"
     ]
    },
    {
     "name": "stderr",
     "output_type": "stream",
     "text": [
      "100%|██████████| 76756/76756 [00:31<00:00, 2457.65it/s]\n",
      "100%|██████████| 8529/8529 [00:00<00:00, 12147.21it/s]\n"
     ]
    },
    {
     "name": "stdout",
     "output_type": "stream",
     "text": [
      "Epoch 551 loss: 1.46678 1.39524\n",
      "Iva func sKlhg ,aH\n",
      "tgtsiD uae pn eac st,anOoe h.  drll  hEt  pt\n",
      "\n"
     ]
    },
    {
     "name": "stderr",
     "output_type": "stream",
     "text": [
      "100%|██████████| 76756/76756 [00:31<00:00, 2461.26it/s]\n",
      "100%|██████████| 8529/8529 [00:00<00:00, 11941.98it/s]\n"
     ]
    },
    {
     "name": "stdout",
     "output_type": "stream",
     "text": [
      "Epoch 552 loss: 1.46686 1.39788\n",
      "AI,sf st  Oeter fAa lIOe tdll\n",
      "  dN Ht hos geAfng g ShrFsrsoto\n",
      "a\n",
      "\n"
     ]
    },
    {
     "name": "stderr",
     "output_type": "stream",
     "text": [
      "100%|██████████| 76756/76756 [00:31<00:00, 2460.12it/s]\n",
      "100%|██████████| 8529/8529 [00:00<00:00, 12096.74it/s]\n"
     ]
    },
    {
     "name": "stdout",
     "output_type": "stream",
     "text": [
      "Epoch 553 loss: 1.46657 1.39693\n",
      "snide n omwoerseep U ulrbbShcl lenottanoiIt , ere\n",
      "seer' HYe  b:\n",
      "\n"
     ]
    },
    {
     "name": "stderr",
     "output_type": "stream",
     "text": [
      "100%|██████████| 76756/76756 [00:31<00:00, 2457.44it/s]\n",
      "100%|██████████| 8529/8529 [00:00<00:00, 12112.00it/s]\n"
     ]
    },
    {
     "name": "stdout",
     "output_type": "stream",
     "text": [
      "Epoch 554 loss: 1.46652 1.39604\n",
      "Iu A hi cs Taun i tnshi,rdudtsm.r a rt  IiAuoonee Iwe O n se .l\n",
      "\n"
     ]
    },
    {
     "name": "stderr",
     "output_type": "stream",
     "text": [
      "100%|██████████| 76756/76756 [00:31<00:00, 2456.83it/s]\n",
      "100%|██████████| 8529/8529 [00:00<00:00, 12105.07it/s]\n"
     ]
    },
    {
     "name": "stdout",
     "output_type": "stream",
     "text": [
      "Epoch 555 loss: 1.46641 1.39666\n",
      "a   ,rt dmus   a v o \n",
      "ekEe athyeohpu ' o l.a o  laTeU  u'uiefMd\n",
      "\n"
     ]
    },
    {
     "name": "stderr",
     "output_type": "stream",
     "text": [
      "100%|██████████| 76756/76756 [00:29<00:00, 2641.59it/s]\n",
      "100%|██████████| 8529/8529 [00:00<00:00, 12139.55it/s]\n"
     ]
    },
    {
     "name": "stdout",
     "output_type": "stream",
     "text": [
      "Epoch 556 loss: 1.46600 1.39573\n",
      "swhad kdroeA  d  'r F  is OtlefikoTT iiln,Pf*Gtsshgv  n o  ,d d\n",
      "\n"
     ]
    },
    {
     "name": "stderr",
     "output_type": "stream",
     "text": [
      "100%|██████████| 76756/76756 [00:29<00:00, 2577.69it/s]\n",
      "100%|██████████| 8529/8529 [00:00<00:00, 12093.67it/s]\n"
     ]
    },
    {
     "name": "stdout",
     "output_type": "stream",
     "text": [
      "Epoch 557 loss: 1.46632 1.39797\n",
      "\n",
      "\n",
      "lr  ReabtN s tvda aLwtrn p  ,.t dsi ifon EfDM\n",
      "inB  'fie wo,\n",
      " \n",
      "\n"
     ]
    },
    {
     "name": "stderr",
     "output_type": "stream",
     "text": [
      "100%|██████████| 76756/76756 [00:30<00:00, 2489.65it/s]\n",
      "100%|██████████| 8529/8529 [00:00<00:00, 12179.60it/s]\n"
     ]
    },
    {
     "name": "stdout",
     "output_type": "stream",
     "text": [
      "Epoch 558 loss: 1.46637 1.39608\n",
      "h oteCdve nao wonmrr llrrL hhythst a xio .g!touhoalmo   lk s mo\n",
      "\n"
     ]
    },
    {
     "name": "stderr",
     "output_type": "stream",
     "text": [
      "100%|██████████| 76756/76756 [00:30<00:00, 2487.46it/s]\n",
      "100%|██████████| 8529/8529 [00:00<00:00, 12183.36it/s]\n"
     ]
    },
    {
     "name": "stdout",
     "output_type": "stream",
     "text": [
      "Epoch 559 loss: 1.46613 1.39518\n",
      " aadr  EniddNxtg pUhtT irhEaEtco.l *Lni  l ctso t\n",
      "bonm\n",
      "a ot mhe\n",
      "\n"
     ]
    },
    {
     "name": "stderr",
     "output_type": "stream",
     "text": [
      "100%|██████████| 76756/76756 [00:30<00:00, 2487.33it/s]\n",
      "100%|██████████| 8529/8529 [00:00<00:00, 12184.00it/s]\n"
     ]
    },
    {
     "name": "stdout",
     "output_type": "stream",
     "text": [
      "Epoch 560 loss: 1.46635 1.39739\n",
      "Eprwoko ,a.bin,ad Nlnsfce Scrn d ouaRh oto\n",
      "i.wtaw frcrt ea vode\n",
      "\n"
     ]
    },
    {
     "name": "stderr",
     "output_type": "stream",
     "text": [
      "100%|██████████| 76756/76756 [00:30<00:00, 2489.66it/s]\n",
      "100%|██████████| 8529/8529 [00:00<00:00, 12176.31it/s]\n"
     ]
    },
    {
     "name": "stdout",
     "output_type": "stream",
     "text": [
      "Epoch 561 loss: 1.46587 1.39706\n",
      " s tyrdleu! tdn   s s!tyod epmomieiartiEdDRei re l tdsa twhrSh \n",
      "\n"
     ]
    },
    {
     "name": "stderr",
     "output_type": "stream",
     "text": [
      "100%|██████████| 76756/76756 [00:30<00:00, 2483.83it/s]\n",
      "100%|██████████| 8529/8529 [00:00<00:00, 12126.85it/s]\n"
     ]
    },
    {
     "name": "stdout",
     "output_type": "stream",
     "text": [
      "Epoch 562 loss: 1.46618 1.39601\n",
      "icS.Set dnrh  tHc. rsRUaam.W  a a, lnhtesT oaHp h wu .  npumb  \n",
      "\n"
     ]
    },
    {
     "name": "stderr",
     "output_type": "stream",
     "text": [
      "100%|██████████| 76756/76756 [00:31<00:00, 2450.51it/s]\n",
      "100%|██████████| 8529/8529 [00:00<00:00, 12004.81it/s]\n"
     ]
    },
    {
     "name": "stdout",
     "output_type": "stream",
     "text": [
      "Epoch 563 loss: 1.46625 1.39659\n",
      "Whui tPuo ynrl os  li,nahse e  s o assgenhyns oh,wtekT\n",
      "st eEtod\n",
      "\n"
     ]
    },
    {
     "name": "stderr",
     "output_type": "stream",
     "text": [
      "100%|██████████| 76756/76756 [00:31<00:00, 2444.99it/s]\n",
      "100%|██████████| 8529/8529 [00:00<00:00, 11945.64it/s]\n"
     ]
    },
    {
     "name": "stdout",
     "output_type": "stream",
     "text": [
      "Epoch 564 loss: 1.46597 1.39255\n",
      "boreq ssr A hed  n rNO moi lh\n",
      " l i  dU o\n",
      "ff tlrnpiun   go h yed\n",
      "\n"
     ]
    },
    {
     "name": "stderr",
     "output_type": "stream",
     "text": [
      "100%|██████████| 76756/76756 [00:30<00:00, 2479.48it/s]\n",
      "100%|██████████| 8529/8529 [00:00<00:00, 12189.45it/s]\n"
     ]
    },
    {
     "name": "stdout",
     "output_type": "stream",
     "text": [
      "Epoch 565 loss: 1.46615 1.39882\n",
      "hsk ml,fienoe uoab\"qvsS y om  fa\n",
      "p eewoiRhPr f Eta mhnoo  eoe o\n",
      "\n"
     ]
    },
    {
     "name": "stderr",
     "output_type": "stream",
     "text": [
      "100%|██████████| 76756/76756 [00:29<00:00, 2596.56it/s]\n",
      "100%|██████████| 8529/8529 [00:00<00:00, 12205.71it/s]\n"
     ]
    },
    {
     "name": "stdout",
     "output_type": "stream",
     "text": [
      "Epoch 566 loss: 1.46633 1.39650\n",
      "  t ws cd. w e    dtS ieaTn ium utlfeh oxI e tat -d\n",
      "R rC   e o \n",
      "\n"
     ]
    },
    {
     "name": "stderr",
     "output_type": "stream",
     "text": [
      "100%|██████████| 76756/76756 [00:31<00:00, 2469.08it/s]\n",
      "100%|██████████| 8529/8529 [00:00<00:00, 11948.53it/s]\n"
     ]
    },
    {
     "name": "stdout",
     "output_type": "stream",
     "text": [
      "Epoch 567 loss: 1.46615 1.39875\n",
      "tteA' ' h.hcli snnaba l'UoLehoLse rtnnbTitnnstdl a   Bfnn tl eh\n",
      "\n"
     ]
    },
    {
     "name": "stderr",
     "output_type": "stream",
     "text": [
      "100%|██████████| 76756/76756 [00:31<00:00, 2438.07it/s]\n",
      "100%|██████████| 8529/8529 [00:00<00:00, 11949.84it/s]\n"
     ]
    },
    {
     "name": "stdout",
     "output_type": "stream",
     "text": [
      "Epoch 568 loss: 1.46605 1.39740\n",
      " ingt etwII,r smyHN i wrpyrhus\n",
      "  T  yeelonnsasBafTthd,  -m \n",
      "rgs\n",
      "\n"
     ]
    },
    {
     "name": "stderr",
     "output_type": "stream",
     "text": [
      "100%|██████████| 76756/76756 [00:31<00:00, 2432.30it/s]\n",
      "100%|██████████| 8529/8529 [00:00<00:00, 12143.04it/s]\n"
     ]
    },
    {
     "name": "stdout",
     "output_type": "stream",
     "text": [
      "Epoch 569 loss: 1.46542 1.39469\n",
      "ee    \n",
      "at i I  rt,\n",
      " i T IeRunsw  h d  asih s YkeadauT  hs\n",
      "An, L\n",
      "\n"
     ]
    },
    {
     "name": "stderr",
     "output_type": "stream",
     "text": [
      "100%|██████████| 76756/76756 [00:30<00:00, 2476.43it/s]\n",
      "100%|██████████| 8529/8529 [00:00<00:00, 12078.53it/s]\n"
     ]
    },
    {
     "name": "stdout",
     "output_type": "stream",
     "text": [
      "Epoch 570 loss: 1.46606 1.39544\n",
      "i nnsme l\n",
      "sl\n",
      " eno.shr.nmelve rdeea o idel d'ceeatnC a tnk m s  \n",
      "\n"
     ]
    },
    {
     "name": "stderr",
     "output_type": "stream",
     "text": [
      "100%|██████████| 76756/76756 [00:30<00:00, 2486.30it/s]\n",
      "100%|██████████| 8529/8529 [00:00<00:00, 12186.62it/s]\n"
     ]
    },
    {
     "name": "stdout",
     "output_type": "stream",
     "text": [
      "Epoch 571 loss: 1.46589 1.39521\n",
      "oy -ueeri dl hh\n",
      "   ?t  \n",
      " oith]   obngcoweo i co  . etstIio y o \n",
      "\n"
     ]
    },
    {
     "name": "stderr",
     "output_type": "stream",
     "text": [
      "100%|██████████| 76756/76756 [00:30<00:00, 2483.62it/s]\n",
      "100%|██████████| 8529/8529 [00:00<00:00, 12150.76it/s]\n"
     ]
    },
    {
     "name": "stdout",
     "output_type": "stream",
     "text": [
      "Epoch 572 loss: 1.46580 1.39423\n",
      "c ona MseinhesfiwoieeGo  nAeAfnn,Ye  rdrheeo isol rZmlt u n, fo\n",
      "\n"
     ]
    },
    {
     "name": "stderr",
     "output_type": "stream",
     "text": [
      "100%|██████████| 76756/76756 [00:31<00:00, 2467.77it/s]\n",
      "100%|██████████| 8529/8529 [00:00<00:00, 12137.08it/s]\n"
     ]
    },
    {
     "name": "stdout",
     "output_type": "stream",
     "text": [
      "Epoch 573 loss: 1.46571 1.39509\n",
      ",lt O Aod.ayIs r wCasw ps,c  e- erpu  ,et ,vRIoP\n",
      "es lUtrtcR tbc\n",
      "\n"
     ]
    },
    {
     "name": "stderr",
     "output_type": "stream",
     "text": [
      "100%|██████████| 76756/76756 [00:30<00:00, 2523.57it/s]\n",
      "100%|██████████| 8529/8529 [00:00<00:00, 12195.45it/s]\n"
     ]
    },
    {
     "name": "stdout",
     "output_type": "stream",
     "text": [
      "Epoch 574 loss: 1.46573 1.39566\n",
      "rp snnh isNRABatRudnloUa\n",
      "uspeN aIih kRsrtlp \n",
      "neIaTrtbso. i   on\n",
      "\n"
     ]
    },
    {
     "name": "stderr",
     "output_type": "stream",
     "text": [
      "100%|██████████| 76756/76756 [00:28<00:00, 2673.04it/s]\n",
      "100%|██████████| 8529/8529 [00:00<00:00, 12206.16it/s]\n"
     ]
    },
    {
     "name": "stdout",
     "output_type": "stream",
     "text": [
      "Epoch 575 loss: 1.46534 1.39686\n",
      "e nAscyye . dno ; Sieoha. gon it yiooTdpiLdglyyroaaWlteeoD bsth\n",
      "\n"
     ]
    },
    {
     "name": "stderr",
     "output_type": "stream",
     "text": [
      "100%|██████████| 76756/76756 [00:28<00:00, 2672.45it/s]\n",
      "100%|██████████| 8529/8529 [00:00<00:00, 12042.60it/s]\n"
     ]
    },
    {
     "name": "stdout",
     "output_type": "stream",
     "text": [
      "Epoch 576 loss: 1.46569 1.39575\n",
      "lqrw  n\n",
      " o Amh Vu t,yc rai sb;\n",
      "nctP et, vrov \n",
      " aofsp Ti Gg ha d\n",
      "\n"
     ]
    },
    {
     "name": "stderr",
     "output_type": "stream",
     "text": [
      "100%|██████████| 76756/76756 [00:31<00:00, 2463.71it/s]\n",
      "100%|██████████| 8529/8529 [00:00<00:00, 11962.07it/s]\n"
     ]
    },
    {
     "name": "stdout",
     "output_type": "stream",
     "text": [
      "Epoch 577 loss: 1.46568 1.39371\n",
      "ohaap e h l y  oa  fnnY  O\n",
      "wsmsghHOtlo h O hatR  \n",
      "IEYe  ns.    \n",
      "\n"
     ]
    },
    {
     "name": "stderr",
     "output_type": "stream",
     "text": [
      "100%|██████████| 76756/76756 [00:31<00:00, 2432.63it/s]\n",
      "100%|██████████| 8529/8529 [00:00<00:00, 11924.47it/s]\n"
     ]
    },
    {
     "name": "stdout",
     "output_type": "stream",
     "text": [
      "Epoch 578 loss: 1.46553 1.39570\n",
      "r iln,irri as ky T e.enlo   d etneIde a\n",
      "  s ' slf ! iary,nodOo \n",
      "\n"
     ]
    },
    {
     "name": "stderr",
     "output_type": "stream",
     "text": [
      "100%|██████████| 76756/76756 [00:31<00:00, 2428.21it/s]\n",
      "100%|██████████| 8529/8529 [00:00<00:00, 11914.76it/s]\n"
     ]
    },
    {
     "name": "stdout",
     "output_type": "stream",
     "text": [
      "Epoch 579 loss: 1.46539 1.39523\n",
      "ogorVtMeKa  ey \n",
      " it.tIImr\n",
      " p rtsc raas r ng t\n",
      "hero EdWsld\n",
      "hs mo\n",
      "\n"
     ]
    },
    {
     "name": "stderr",
     "output_type": "stream",
     "text": [
      "100%|██████████| 76756/76756 [00:31<00:00, 2419.76it/s]\n",
      "100%|██████████| 8529/8529 [00:00<00:00, 11969.71it/s]\n"
     ]
    },
    {
     "name": "stdout",
     "output_type": "stream",
     "text": [
      "Epoch 580 loss: 1.46537 1.39400\n",
      "noI  mnhncoelVplTa oV it Ita!oewoneA uIn At i    htesn\n",
      "  neotC \n",
      "\n"
     ]
    },
    {
     "name": "stderr",
     "output_type": "stream",
     "text": [
      "100%|██████████| 76756/76756 [00:31<00:00, 2438.08it/s]\n",
      "100%|██████████| 8529/8529 [00:00<00:00, 11983.49it/s]\n"
     ]
    },
    {
     "name": "stdout",
     "output_type": "stream",
     "text": [
      "Epoch 581 loss: 1.46518 1.39542\n",
      "wSttn udselaca\n",
      "enoe\n",
      "g    I\n",
      "n brybohh mt yC.h ii,d.rolh i    beT\n",
      "\n"
     ]
    },
    {
     "name": "stderr",
     "output_type": "stream",
     "text": [
      "100%|██████████| 76756/76756 [00:31<00:00, 2437.40it/s]\n",
      "100%|██████████| 8529/8529 [00:00<00:00, 11975.88it/s]\n"
     ]
    },
    {
     "name": "stdout",
     "output_type": "stream",
     "text": [
      "Epoch 582 loss: 1.46556 1.39624\n",
      "   pio  o\n",
      "m Gc nesyy ehM k'nATe e FpCtgssni r Aas\n",
      " e eoo ySttwn\n",
      "\n"
     ]
    },
    {
     "name": "stderr",
     "output_type": "stream",
     "text": [
      "100%|██████████| 76756/76756 [00:31<00:00, 2437.31it/s]\n",
      "100%|██████████| 8529/8529 [00:00<00:00, 12003.25it/s]\n"
     ]
    },
    {
     "name": "stdout",
     "output_type": "stream",
     "text": [
      "Epoch 583 loss: 1.46555 1.39484\n",
      " .aod oaayitn o  f scd'e\n",
      " e n ? bB M  naxrlmas fMht   lf Is tt \n",
      "\n"
     ]
    },
    {
     "name": "stderr",
     "output_type": "stream",
     "text": [
      "100%|██████████| 76756/76756 [00:31<00:00, 2439.86it/s]\n",
      "100%|██████████| 8529/8529 [00:00<00:00, 11975.63it/s]\n"
     ]
    },
    {
     "name": "stdout",
     "output_type": "stream",
     "text": [
      "Epoch 584 loss: 1.46523 1.39541\n",
      "a wde \n",
      ".Ne tAcAEnhap.N sesteentSligsh\n",
      "m\n",
      " dn uEsvl'ty oGmilw mi \n",
      "\n"
     ]
    },
    {
     "name": "stderr",
     "output_type": "stream",
     "text": [
      "100%|██████████| 76756/76756 [00:31<00:00, 2432.73it/s]\n",
      "100%|██████████| 8529/8529 [00:00<00:00, 11937.00it/s]\n"
     ]
    },
    {
     "name": "stdout",
     "output_type": "stream",
     "text": [
      "Epoch 585 loss: 1.46548 1.39225\n",
      "hn ,iyrdn.btt ao  nnv eennr ;m\n",
      "Oet  et .na etlsef  e,E ut. nUvt\n",
      "\n"
     ]
    },
    {
     "name": "stderr",
     "output_type": "stream",
     "text": [
      "100%|██████████| 76756/76756 [00:31<00:00, 2438.36it/s]\n",
      "100%|██████████| 8529/8529 [00:00<00:00, 11990.49it/s]\n"
     ]
    },
    {
     "name": "stdout",
     "output_type": "stream",
     "text": [
      "Epoch 586 loss: 1.46537 1.39474\n",
      "o tel Rr  npy eR\n",
      "y\n",
      " aeo. a,  h eys O rinb tTAT  pwheyaa Ras,a  \n",
      "\n"
     ]
    },
    {
     "name": "stderr",
     "output_type": "stream",
     "text": [
      "100%|██████████| 76756/76756 [00:31<00:00, 2438.18it/s]\n",
      "100%|██████████| 8529/8529 [00:00<00:00, 11990.30it/s]\n"
     ]
    },
    {
     "name": "stdout",
     "output_type": "stream",
     "text": [
      "Epoch 587 loss: 1.46506 1.39408\n",
      "e l ibI  n lsersf ueBw yts,Opa Nioy mr\n",
      "n  anAT hoi rgo cihhASsr\n",
      "\n"
     ]
    },
    {
     "name": "stderr",
     "output_type": "stream",
     "text": [
      "100%|██████████| 76756/76756 [00:29<00:00, 2596.59it/s]\n",
      "100%|██████████| 8529/8529 [00:00<00:00, 12131.68it/s]\n"
     ]
    },
    {
     "name": "stdout",
     "output_type": "stream",
     "text": [
      "Epoch 588 loss: 1.46476 1.39641\n",
      "hapCtebecwbi  elt.Nk w  ,Olmbpn a eh'opeyeeeN    rSstr,lsqn  \n",
      "w\n",
      "\n"
     ]
    },
    {
     "name": "stderr",
     "output_type": "stream",
     "text": [
      "100%|██████████| 76756/76756 [00:29<00:00, 2642.48it/s]\n",
      "100%|██████████| 8529/8529 [00:00<00:00, 12114.35it/s]\n"
     ]
    },
    {
     "name": "stdout",
     "output_type": "stream",
     "text": [
      "Epoch 589 loss: 1.46530 1.39699\n",
      "oo odhadoaslgnh- ht\n",
      "y   lC c t e d tnaIc\n",
      "ese\n",
      "r ueai pNicVmt,m. \n",
      "\n"
     ]
    },
    {
     "name": "stderr",
     "output_type": "stream",
     "text": [
      " 32%|███▏      | 24575/76756 [00:09<00:19, 2646.32it/s]\n"
     ]
    },
    {
     "ename": "KeyboardInterrupt",
     "evalue": "",
     "output_type": "error",
     "traceback": [
      "\u001b[0;31m---------------------------------------------------------------------------\u001b[0m",
      "\u001b[0;31mKeyboardInterrupt\u001b[0m                         Traceback (most recent call last)",
      "\u001b[0;32m<ipython-input-23-8fe5bd0f7fd9>\u001b[0m in \u001b[0;36m<module>\u001b[0;34m\u001b[0m\n\u001b[1;32m     58\u001b[0m \u001b[0mtrain_losses\u001b[0m\u001b[0;34m,\u001b[0m \u001b[0mtest_losses\u001b[0m \u001b[0;34m=\u001b[0m \u001b[0;34m[\u001b[0m\u001b[0;34m]\u001b[0m\u001b[0;34m,\u001b[0m \u001b[0;34m[\u001b[0m\u001b[0;34m]\u001b[0m\u001b[0;34m\u001b[0m\u001b[0;34m\u001b[0m\u001b[0m\n\u001b[1;32m     59\u001b[0m \u001b[0;32mfor\u001b[0m \u001b[0mi\u001b[0m \u001b[0;32min\u001b[0m \u001b[0mrange\u001b[0m\u001b[0;34m(\u001b[0m\u001b[0;36m10000\u001b[0m\u001b[0;34m)\u001b[0m\u001b[0;34m:\u001b[0m\u001b[0;34m\u001b[0m\u001b[0;34m\u001b[0m\u001b[0m\n\u001b[0;32m---> 60\u001b[0;31m     \u001b[0mtrain_loss\u001b[0m \u001b[0;34m=\u001b[0m \u001b[0mtrain_epoch\u001b[0m\u001b[0;34m(\u001b[0m\u001b[0mtrain\u001b[0m\u001b[0;34m,\u001b[0m \u001b[0mmodel\u001b[0m\u001b[0;34m)\u001b[0m\u001b[0;34m\u001b[0m\u001b[0;34m\u001b[0m\u001b[0m\n\u001b[0m\u001b[1;32m     61\u001b[0m     \u001b[0mtest_loss\u001b[0m \u001b[0;34m=\u001b[0m \u001b[0mtest_epoch\u001b[0m\u001b[0;34m(\u001b[0m\u001b[0mtest\u001b[0m\u001b[0;34m,\u001b[0m \u001b[0mmodel\u001b[0m\u001b[0;34m)\u001b[0m\u001b[0;34m\u001b[0m\u001b[0;34m\u001b[0m\u001b[0m\n\u001b[1;32m     62\u001b[0m     \u001b[0mtrain_losses\u001b[0m\u001b[0;34m.\u001b[0m\u001b[0mappend\u001b[0m\u001b[0;34m(\u001b[0m\u001b[0mtrain_loss\u001b[0m\u001b[0;34m)\u001b[0m\u001b[0;34m\u001b[0m\u001b[0;34m\u001b[0m\u001b[0m\n",
      "\u001b[0;32m<ipython-input-23-8fe5bd0f7fd9>\u001b[0m in \u001b[0;36mtrain_epoch\u001b[0;34m(data, model)\u001b[0m\n\u001b[1;32m     31\u001b[0m         \u001b[0;31m#print(inputs.shape)\u001b[0m\u001b[0;34m\u001b[0m\u001b[0;34m\u001b[0m\u001b[0;34m\u001b[0m\u001b[0m\n\u001b[1;32m     32\u001b[0m         \u001b[0;31m#print(answers.shape)\u001b[0m\u001b[0;34m\u001b[0m\u001b[0;34m\u001b[0m\u001b[0;34m\u001b[0m\u001b[0m\n\u001b[0;32m---> 33\u001b[0;31m         \u001b[0moutputs\u001b[0m \u001b[0;34m=\u001b[0m \u001b[0mmodel\u001b[0m\u001b[0;34m(\u001b[0m\u001b[0minputs\u001b[0m\u001b[0;34m)\u001b[0m\u001b[0;34m\u001b[0m\u001b[0;34m\u001b[0m\u001b[0m\n\u001b[0m\u001b[1;32m     34\u001b[0m         \u001b[0;31m#print(outputs.shape)\u001b[0m\u001b[0;34m\u001b[0m\u001b[0;34m\u001b[0m\u001b[0;34m\u001b[0m\u001b[0m\n\u001b[1;32m     35\u001b[0m         \u001b[0moutputs\u001b[0m \u001b[0;34m=\u001b[0m \u001b[0moutputs\u001b[0m\u001b[0;34m.\u001b[0m\u001b[0mtranspose\u001b[0m\u001b[0;34m(\u001b[0m\u001b[0;36m1\u001b[0m\u001b[0;34m,\u001b[0m \u001b[0;36m2\u001b[0m\u001b[0;34m)\u001b[0m\u001b[0;34m\u001b[0m\u001b[0;34m\u001b[0m\u001b[0m\n",
      "\u001b[0;32m/usr/local/lib/python3.8/dist-packages/torch/nn/modules/module.py\u001b[0m in \u001b[0;36m_call_impl\u001b[0;34m(self, *input, **kwargs)\u001b[0m\n\u001b[1;32m   1128\u001b[0m         if not (self._backward_hooks or self._forward_hooks or self._forward_pre_hooks or _global_backward_hooks\n\u001b[1;32m   1129\u001b[0m                 or _global_forward_hooks or _global_forward_pre_hooks):\n\u001b[0;32m-> 1130\u001b[0;31m             \u001b[0;32mreturn\u001b[0m \u001b[0mforward_call\u001b[0m\u001b[0;34m(\u001b[0m\u001b[0;34m*\u001b[0m\u001b[0minput\u001b[0m\u001b[0;34m,\u001b[0m \u001b[0;34m**\u001b[0m\u001b[0mkwargs\u001b[0m\u001b[0;34m)\u001b[0m\u001b[0;34m\u001b[0m\u001b[0;34m\u001b[0m\u001b[0m\n\u001b[0m\u001b[1;32m   1131\u001b[0m         \u001b[0;31m# Do not call functions when jit is used\u001b[0m\u001b[0;34m\u001b[0m\u001b[0;34m\u001b[0m\u001b[0;34m\u001b[0m\u001b[0m\n\u001b[1;32m   1132\u001b[0m         \u001b[0mfull_backward_hooks\u001b[0m\u001b[0;34m,\u001b[0m \u001b[0mnon_full_backward_hooks\u001b[0m \u001b[0;34m=\u001b[0m \u001b[0;34m[\u001b[0m\u001b[0;34m]\u001b[0m\u001b[0;34m,\u001b[0m \u001b[0;34m[\u001b[0m\u001b[0;34m]\u001b[0m\u001b[0;34m\u001b[0m\u001b[0;34m\u001b[0m\u001b[0m\n",
      "\u001b[0;32m<ipython-input-9-ad5064b58899>\u001b[0m in \u001b[0;36mforward\u001b[0;34m(self, src)\u001b[0m\n\u001b[1;32m     19\u001b[0m         \u001b[0membedded\u001b[0m \u001b[0;34m=\u001b[0m \u001b[0mself\u001b[0m\u001b[0;34m.\u001b[0m\u001b[0mdropout\u001b[0m\u001b[0;34m(\u001b[0m\u001b[0mself\u001b[0m\u001b[0;34m.\u001b[0m\u001b[0mpositional_encoding\u001b[0m\u001b[0;34m(\u001b[0m\u001b[0mself\u001b[0m\u001b[0;34m.\u001b[0m\u001b[0membedding\u001b[0m\u001b[0;34m(\u001b[0m\u001b[0msrc\u001b[0m\u001b[0;34m)\u001b[0m\u001b[0;34m)\u001b[0m\u001b[0;34m)\u001b[0m\u001b[0;34m\u001b[0m\u001b[0;34m\u001b[0m\u001b[0m\n\u001b[1;32m     20\u001b[0m         \u001b[0;32mfor\u001b[0m \u001b[0mlayer\u001b[0m \u001b[0;32min\u001b[0m \u001b[0mself\u001b[0m\u001b[0;34m.\u001b[0m\u001b[0mlayers\u001b[0m\u001b[0;34m:\u001b[0m\u001b[0;34m\u001b[0m\u001b[0;34m\u001b[0m\u001b[0m\n\u001b[0;32m---> 21\u001b[0;31m             \u001b[0membedded\u001b[0m \u001b[0;34m=\u001b[0m \u001b[0mlayer\u001b[0m\u001b[0;34m(\u001b[0m\u001b[0membedded\u001b[0m\u001b[0;34m,\u001b[0m \u001b[0mmask\u001b[0m\u001b[0;34m)\u001b[0m\u001b[0;34m\u001b[0m\u001b[0;34m\u001b[0m\u001b[0m\n\u001b[0m\u001b[1;32m     22\u001b[0m         \u001b[0;32mreturn\u001b[0m \u001b[0mself\u001b[0m\u001b[0;34m.\u001b[0m\u001b[0mfc\u001b[0m\u001b[0;34m(\u001b[0m\u001b[0membedded\u001b[0m\u001b[0;34m)\u001b[0m\u001b[0;34m\u001b[0m\u001b[0;34m\u001b[0m\u001b[0m\n",
      "\u001b[0;32m/usr/local/lib/python3.8/dist-packages/torch/nn/modules/module.py\u001b[0m in \u001b[0;36m_call_impl\u001b[0;34m(self, *input, **kwargs)\u001b[0m\n\u001b[1;32m   1128\u001b[0m         if not (self._backward_hooks or self._forward_hooks or self._forward_pre_hooks or _global_backward_hooks\n\u001b[1;32m   1129\u001b[0m                 or _global_forward_hooks or _global_forward_pre_hooks):\n\u001b[0;32m-> 1130\u001b[0;31m             \u001b[0;32mreturn\u001b[0m \u001b[0mforward_call\u001b[0m\u001b[0;34m(\u001b[0m\u001b[0;34m*\u001b[0m\u001b[0minput\u001b[0m\u001b[0;34m,\u001b[0m \u001b[0;34m**\u001b[0m\u001b[0mkwargs\u001b[0m\u001b[0;34m)\u001b[0m\u001b[0;34m\u001b[0m\u001b[0;34m\u001b[0m\u001b[0m\n\u001b[0m\u001b[1;32m   1131\u001b[0m         \u001b[0;31m# Do not call functions when jit is used\u001b[0m\u001b[0;34m\u001b[0m\u001b[0;34m\u001b[0m\u001b[0;34m\u001b[0m\u001b[0m\n\u001b[1;32m   1132\u001b[0m         \u001b[0mfull_backward_hooks\u001b[0m\u001b[0;34m,\u001b[0m \u001b[0mnon_full_backward_hooks\u001b[0m \u001b[0;34m=\u001b[0m \u001b[0;34m[\u001b[0m\u001b[0;34m]\u001b[0m\u001b[0;34m,\u001b[0m \u001b[0;34m[\u001b[0m\u001b[0;34m]\u001b[0m\u001b[0;34m\u001b[0m\u001b[0;34m\u001b[0m\u001b[0m\n",
      "\u001b[0;32m<ipython-input-6-f952bc60657f>\u001b[0m in \u001b[0;36mforward\u001b[0;34m(self, x, mask)\u001b[0m\n\u001b[1;32m     10\u001b[0m     \u001b[0;32mdef\u001b[0m \u001b[0mforward\u001b[0m\u001b[0;34m(\u001b[0m\u001b[0mself\u001b[0m\u001b[0;34m,\u001b[0m \u001b[0mx\u001b[0m\u001b[0;34m,\u001b[0m \u001b[0mmask\u001b[0m\u001b[0;34m)\u001b[0m\u001b[0;34m:\u001b[0m\u001b[0;34m\u001b[0m\u001b[0;34m\u001b[0m\u001b[0m\n\u001b[1;32m     11\u001b[0m         \u001b[0;31m# (attention => droupout) + residual => norm\u001b[0m\u001b[0;34m\u001b[0m\u001b[0;34m\u001b[0m\u001b[0;34m\u001b[0m\u001b[0m\n\u001b[0;32m---> 12\u001b[0;31m         \u001b[0mx\u001b[0m \u001b[0;34m=\u001b[0m \u001b[0mself\u001b[0m\u001b[0;34m.\u001b[0m\u001b[0mnorm1\u001b[0m\u001b[0;34m(\u001b[0m\u001b[0mx\u001b[0m \u001b[0;34m+\u001b[0m \u001b[0mself\u001b[0m\u001b[0;34m.\u001b[0m\u001b[0mdropout\u001b[0m\u001b[0;34m(\u001b[0m\u001b[0mself\u001b[0m\u001b[0;34m.\u001b[0m\u001b[0mself_attn\u001b[0m\u001b[0;34m(\u001b[0m\u001b[0mx\u001b[0m\u001b[0;34m,\u001b[0m \u001b[0mx\u001b[0m\u001b[0;34m,\u001b[0m \u001b[0mx\u001b[0m\u001b[0;34m,\u001b[0m \u001b[0mmask\u001b[0m\u001b[0;34m)\u001b[0m\u001b[0;34m)\u001b[0m\u001b[0;34m)\u001b[0m\u001b[0;34m\u001b[0m\u001b[0;34m\u001b[0m\u001b[0m\n\u001b[0m\u001b[1;32m     13\u001b[0m         \u001b[0;31m# (MLP => dropout) + residual => norm\u001b[0m\u001b[0;34m\u001b[0m\u001b[0;34m\u001b[0m\u001b[0;34m\u001b[0m\u001b[0m\n\u001b[1;32m     14\u001b[0m         \u001b[0;32mreturn\u001b[0m \u001b[0mself\u001b[0m\u001b[0;34m.\u001b[0m\u001b[0mnorm2\u001b[0m\u001b[0;34m(\u001b[0m\u001b[0mx\u001b[0m \u001b[0;34m+\u001b[0m \u001b[0mself\u001b[0m\u001b[0;34m.\u001b[0m\u001b[0mdropout\u001b[0m\u001b[0;34m(\u001b[0m\u001b[0mself\u001b[0m\u001b[0;34m.\u001b[0m\u001b[0mfeed_forward\u001b[0m\u001b[0;34m(\u001b[0m\u001b[0mx\u001b[0m\u001b[0;34m)\u001b[0m\u001b[0;34m)\u001b[0m\u001b[0;34m)\u001b[0m\u001b[0;34m\u001b[0m\u001b[0;34m\u001b[0m\u001b[0m\n",
      "\u001b[0;31mKeyboardInterrupt\u001b[0m: "
     ]
    }
   ],
   "source": [
    "import matplotlib.pyplot as plt\n",
    "import tqdm\n",
    "\n",
    "\n",
    "def iterate_batches(data, batch_size, device):\n",
    "    x, y, max_len = [], [], 0\n",
    "    for k in tqdm.tqdm(range(len(data))):\n",
    "        item = data[k]\n",
    "        x.append([sym2idx[sym] for sym in [\"<start>\"] + list(item)])\n",
    "        y.append([sym2idx[sym] for sym in list(item) + [\"<end>\"]])\n",
    "        max_len = max(max_len, len(x[-1]))\n",
    "        if len(x) == batch_size or k + 1 == len(data):\n",
    "            for i in range(len(x)):\n",
    "                x[i] = x[i] + [sym2idx[\"<empty>\"] for _ in range(max_len - len(x[i]))]\n",
    "                y[i] = y[i] + [sym2idx[\"<empty>\"] for _ in range(max_len - len(y[i]))]\n",
    "            x = torch.tensor(x).to(device)\n",
    "            y = torch.tensor(y).to(device)\n",
    "            yield x, y\n",
    "            x, y, max_len = [], [], 0\n",
    "        \n",
    "\n",
    "def train_epoch(data, model):\n",
    "    model.train()\n",
    "    loss_function = torch.nn.CrossEntropyLoss()\n",
    "    #optimizer = torch.optim.SGD(model.parameters(), lr=0.01, momentum=0.9)\n",
    "    optimizer = torch.optim.AdamW(model.parameters())\n",
    "    total_loss, total_count = 0.0, 1e-38\n",
    "    random.shuffle(data)\n",
    "    for inputs, answers in iterate_batches(data, 64, device):\n",
    "        optimizer.zero_grad()\n",
    "        #print(inputs.shape)\n",
    "        #print(answers.shape)\n",
    "        outputs = model(inputs)\n",
    "        #print(outputs.shape)\n",
    "        outputs = outputs.transpose(1, 2)\n",
    "        #print(outputs.shape)\n",
    "        #print(\"\")\n",
    "        loss = loss_function(outputs, answers)\n",
    "        total_loss += (loss.item() * inputs.shape[0])\n",
    "        total_count += inputs.shape[0]\n",
    "        loss.backward()\n",
    "        optimizer.step()\n",
    "    return total_loss / total_count\n",
    "\n",
    "def test_epoch(data, model):\n",
    "    with torch.no_grad():\n",
    "        model.eval()\n",
    "        loss_function = torch.nn.CrossEntropyLoss()\n",
    "        total_loss, total_count = 0.0, 1e-38\n",
    "        for inputs, answers in iterate_batches(data, 64, device):\n",
    "            outputs = model(inputs)\n",
    "            outputs = outputs.transpose(1, 2)\n",
    "            loss = loss_function(outputs, answers)\n",
    "            total_loss += (loss.item() * inputs.shape[0])\n",
    "            total_count += inputs.shape[0]\n",
    "        return total_loss / total_count\n",
    "\n",
    "train_losses, test_losses = [], []\n",
    "for i in range(10000):\n",
    "    train_loss = train_epoch(train, model)\n",
    "    test_loss = test_epoch(test, model)\n",
    "    train_losses.append(train_loss)\n",
    "    test_losses.append(test_loss)\n",
    "    print(\"Epoch {} loss: {:.5f} {:.5f}\".format(i, train_loss, test_loss))\n",
    "    print(generate(model, max_seq_len))\n",
    "    print(\"\")\n",
    "plt.plot(train_losses)\n",
    "plt.plot(test_losses)\n",
    "plt.show()"
   ]
  },
  {
   "cell_type": "code",
   "execution_count": null,
   "metadata": {},
   "outputs": [],
   "source": []
  }
 ],
 "metadata": {
  "kernelspec": {
   "display_name": "Python 3",
   "language": "python",
   "name": "python3"
  },
  "language_info": {
   "codemirror_mode": {
    "name": "ipython",
    "version": 3
   },
   "file_extension": ".py",
   "mimetype": "text/x-python",
   "name": "python",
   "nbconvert_exporter": "python",
   "pygments_lexer": "ipython3",
   "version": "3.8.10"
  }
 },
 "nbformat": 4,
 "nbformat_minor": 4
}
