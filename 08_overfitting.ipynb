{
 "cells": [
  {
   "cell_type": "code",
   "execution_count": 1,
   "metadata": {},
   "outputs": [
    {
     "name": "stdout",
     "output_type": "stream",
     "text": [
      "torch.Size([100000, 27]) torch.Size([100000, 1])\n",
      "torch.Size([1000, 27]) torch.Size([1000, 1])\n"
     ]
    }
   ],
   "source": [
    "\"\"\"\n",
    " m examples consist of n=3 features\n",
    " each label will look like sum(a[i]*x[i]) + x[0]*x[5] - x[3]*x[7]  + noise\n",
    "\"\"\"\n",
    "\n",
    "import torch\n",
    "\n",
    "def generate_data(A, m, noise):\n",
    "    n = len(A)\n",
    "    X = torch.normal(0.0, 1.0, (m, n), dtype = torch.float64)\n",
    "    #print(X.shape)\n",
    "    y = torch.matmul(X, A) + X[:, 0] * X[:, 5] - X[:, 3] * X[:, 7] + torch.normal(0.0, noise, (m,))\n",
    "    # print(y.shape)\n",
    "    return X, y.unsqueeze(1)\n",
    "\n",
    "train_count, test_count, noise = 100000, 1000, 10.5\n",
    "coeffs = torch.tensor([0.1, 0.2, 0.3, 0.4, 0.5, -0.4, -0.3, -0.2, -0.1, 0.1, 0.2, 0.3, 0.4, 0.5, -0.4, -0.3, -0.2, -0.1, 0.1, 0.2, 0.3, 0.4, 0.5, -0.4, -0.3, -0.2, -0.1], dtype = torch.float64)\n",
    "X_train, y_train = generate_data(coeffs, train_count, noise)\n",
    "print(X_train.shape, y_train.shape)\n",
    "X_test, y_test = generate_data(coeffs, test_count, noise)\n",
    "print(X_test.shape, y_test.shape)"
   ]
  },
  {
   "cell_type": "code",
   "execution_count": 2,
   "metadata": {},
   "outputs": [
    {
     "data": {
      "text/plain": [
       "tensor([[-0.4179],\n",
       "        [-0.4186],\n",
       "        [-0.4168],\n",
       "        [-0.4033],\n",
       "        [-0.4167]], dtype=torch.float64, grad_fn=<AddmmBackward0>)"
      ]
     },
     "execution_count": 2,
     "metadata": {},
     "output_type": "execute_result"
    }
   ],
   "source": [
    "class MLP(torch.nn.Module):\n",
    "    def __init__(self, layer_sizes):\n",
    "        super(MLP, self).__init__()\n",
    "        layers = []\n",
    "        for i in range(len(layer_sizes) - 1):\n",
    "            layers.append(torch.nn.Linear(layer_sizes[i], layer_sizes[i + 1], dtype = torch.float64))\n",
    "            if i + 2 != len(layer_sizes):\n",
    "                layers.append(torch.nn.Sigmoid())\n",
    "        self.layers = torch.nn.Sequential(*layers)\n",
    "\n",
    "    def forward(self, x):\n",
    "        return self.layers(x)\n",
    "\n",
    "mlp = MLP([X_train.shape[1], 256, 256, 256, 1])\n",
    "mlp(X_test[[0, 1, 2, 3, 4]] - y_test[[0, 1, 2, 3, 4]])"
   ]
  },
  {
   "cell_type": "code",
   "execution_count": 3,
   "metadata": {},
   "outputs": [
    {
     "name": "stdout",
     "output_type": "stream",
     "text": [
      "Epoch 0: 0.88443 0.82475\n",
      "Epoch 1: 0.87993 0.82733\n",
      "Epoch 2: 0.87884 0.82300\n",
      "Epoch 3: 0.87787 0.82375\n",
      "Epoch 4: 0.87802 0.82079\n",
      "Epoch 5: 0.87745 0.82008\n",
      "Epoch 6: 0.87618 0.81948\n",
      "Epoch 7: 0.87485 0.81858\n",
      "Epoch 8: 0.87402 0.82030\n",
      "Epoch 9: 0.87317 0.81879\n",
      "Epoch 10: 0.87207 0.81666\n",
      "Epoch 11: 0.87186 0.81783\n",
      "Epoch 12: 0.87103 0.81609\n",
      "Epoch 13: 0.87103 0.81568\n",
      "Epoch 14: 0.87006 0.81393\n",
      "Epoch 15: 0.86949 0.81319\n",
      "Epoch 16: 0.86802 0.81365\n",
      "Epoch 17: 0.86646 0.80795\n",
      "Epoch 18: 0.86523 0.80713\n",
      "Epoch 19: 0.86401 0.80222\n",
      "Epoch 20: 0.86366 0.80325\n",
      "Epoch 21: 0.86311 0.80630\n",
      "Epoch 22: 0.86266 0.80426\n",
      "Epoch 23: 0.86239 0.80351\n",
      "Epoch 24: 0.86128 0.80571\n",
      "Epoch 25: 0.86130 0.80445\n",
      "Epoch 26: 0.86064 0.80720\n",
      "Epoch 27: 0.86033 0.80294\n",
      "Epoch 28: 0.85952 0.80516\n",
      "Epoch 29: 0.85898 0.80595\n",
      "Epoch 30: 0.85854 0.80646\n",
      "Epoch 31: 0.85802 0.80855\n",
      "Epoch 32: 0.85718 0.80412\n",
      "Epoch 33: 0.85655 0.80569\n",
      "Epoch 34: 0.85581 0.80377\n",
      "Epoch 35: 0.85545 0.80605\n",
      "Epoch 36: 0.85423 0.80599\n",
      "Epoch 37: 0.85354 0.80927\n",
      "Epoch 38: 0.85272 0.80525\n",
      "Epoch 39: 0.85165 0.80522\n",
      "Epoch 40: 0.85112 0.81307\n",
      "Epoch 41: 0.84971 0.80749\n",
      "Epoch 42: 0.84870 0.81286\n",
      "Epoch 43: 0.84757 0.80749\n",
      "Epoch 44: 0.84586 0.80534\n",
      "Epoch 45: 0.84471 0.80956\n",
      "Epoch 46: 0.84212 0.80906\n",
      "Epoch 47: 0.84036 0.81362\n",
      "Epoch 48: 0.83862 0.81128\n",
      "Epoch 49: 0.83648 0.81406\n",
      "Epoch 50: 0.83443 0.81956\n",
      "Epoch 51: 0.83166 0.82643\n",
      "Epoch 52: 0.82932 0.82610\n",
      "Epoch 53: 0.82651 0.82365\n",
      "Epoch 54: 0.82319 0.83509\n",
      "Epoch 55: 0.82056 0.83183\n",
      "Epoch 56: 0.81730 0.83407\n",
      "Epoch 57: 0.81342 0.83524\n",
      "Epoch 58: 0.81043 0.84117\n",
      "Epoch 59: 0.80616 0.84557\n",
      "Epoch 60: 0.80325 0.83866\n",
      "Epoch 61: 0.79919 0.84841\n",
      "Epoch 62: 0.79488 0.85424\n",
      "Epoch 63: 0.79137 0.85378\n",
      "Epoch 64: 0.78751 0.86186\n",
      "Epoch 65: 0.78309 0.86669\n",
      "Epoch 66: 0.77926 0.87355\n",
      "Epoch 67: 0.77541 0.86066\n",
      "Epoch 68: 0.77049 0.86379\n",
      "Epoch 69: 0.76660 0.87488\n",
      "Epoch 70: 0.76218 0.87217\n",
      "Epoch 71: 0.75869 0.89418\n",
      "Epoch 72: 0.75457 0.87536\n",
      "Epoch 73: 0.74926 0.89198\n",
      "Epoch 74: 0.74519 0.88822\n",
      "Epoch 75: 0.74093 0.90853\n",
      "Epoch 76: 0.73711 0.89446\n",
      "Epoch 77: 0.73203 0.90728\n",
      "Epoch 78: 0.72875 0.90563\n",
      "Epoch 79: 0.72439 0.92431\n",
      "Epoch 80: 0.72123 0.93560\n",
      "Epoch 81: 0.71705 0.91975\n",
      "Epoch 82: 0.71328 0.91565\n",
      "Epoch 83: 0.70942 0.92091\n",
      "Epoch 84: 0.70558 0.94186\n",
      "Epoch 85: 0.70164 0.93140\n",
      "Epoch 86: 0.69806 0.93974\n",
      "Epoch 87: 0.69344 0.96167\n",
      "Epoch 88: 0.68945 0.96565\n",
      "Epoch 89: 0.68727 0.93440\n",
      "Epoch 90: 0.68282 0.95119\n",
      "Epoch 91: 0.67900 0.97193\n",
      "Epoch 92: 0.67563 0.95088\n",
      "Epoch 93: 0.67147 0.96825\n",
      "Epoch 94: 0.66996 0.96431\n",
      "Epoch 95: 0.66362 0.98193\n",
      "Epoch 96: 0.66274 0.97596\n",
      "Epoch 97: 0.65817 0.99338\n",
      "Epoch 98: 0.65595 0.97501\n",
      "Epoch 99: 0.65068 0.97925\n"
     ]
    }
   ],
   "source": [
    "import random\n",
    "\n",
    "optimiser = torch.optim.AdamW(mlp.parameters())\n",
    "loss_function = torch.nn.MSELoss()\n",
    "train_losses, test_losses = [], []\n",
    "for epoch in range(100):\n",
    "    # train\n",
    "    idx = list(range(X_train.shape[0]))\n",
    "    random.shuffle(idx)\n",
    "    total_loss, total_count = 0.0, 1e-38\n",
    "    for start in range(0, X_train.shape[0], 128):\n",
    "        x = X_train[idx[start : start + 128]]\n",
    "        if x.shape[0] != 128:\n",
    "            # take only full batches for training\n",
    "            continue\n",
    "        y = y_train[idx[start : start + 128]]\n",
    "        #print(x.shape, y.shape)\n",
    "        optimiser.zero_grad()\n",
    "        output = mlp(x)\n",
    "        # loss = sum((output - y) ** 2)\n",
    "        loss = loss_function(output, y) / x.shape[0]\n",
    "        total_loss += loss.item()\n",
    "        total_count += 1\n",
    "        loss.backward()\n",
    "        optimiser.step()\n",
    "    train_losses.append(total_loss / total_count)\n",
    "    \n",
    "    # test\n",
    "    idx = list(range(X_test.shape[0]))\n",
    "    # no shuffling!\n",
    "    total_loss, total_count = 0.0, 1e-38\n",
    "    with torch.no_grad():\n",
    "        for start in range(0, X_test.shape[0], 128):\n",
    "            x = X_test[idx[start : start + 128]]\n",
    "            y = y_test[idx[start : start + 128]]\n",
    "            output = mlp(x)\n",
    "            # loss = sum((output - y) ** 2)\n",
    "            loss = loss_function(output, y)\n",
    "            total_loss += loss.item()\n",
    "            total_count += x.shape[0]\n",
    "        test_losses.append(total_loss / total_count)\n",
    "\n",
    "    #print epoch results\n",
    "    print(\"Epoch {}: {:.5f} {:.5f}\".format(epoch, train_losses[-1], test_losses[-1]))\n",
    "        "
   ]
  },
  {
   "cell_type": "code",
   "execution_count": 4,
   "metadata": {},
   "outputs": [
    {
     "data": {
      "image/png": "[encoded data removed]",
      "text/plain": [
       "<Figure size 640x480 with 1 Axes>"
      ]
     },
     "metadata": {},
     "output_type": "display_data"
    }
   ],
   "source": [
    "import matplotlib.pyplot as plt\n",
    "\n",
    "plt.plot(train_losses, label = \"train\")\n",
    "plt.plot(test_losses, label = \"test\")\n",
    "plt.legend()\n",
    "plt.show()"
   ]
  },
  {
   "cell_type": "code",
   "execution_count": null,
   "metadata": {},
   "outputs": [],
   "source": []
  }
 ],
 "metadata": {
  "kernelspec": {
   "display_name": "Python 3",
   "language": "python",
   "name": "python3"
  },
  "language_info": {
   "codemirror_mode": {
    "name": "ipython",
    "version": 3
   },
   "file_extension": ".py",
   "mimetype": "text/x-python",
   "name": "python",
   "nbconvert_exporter": "python",
   "pygments_lexer": "ipython3",
   "version": "3.8.10"
  }
 },
 "nbformat": 4,
 "nbformat_minor": 5
}
