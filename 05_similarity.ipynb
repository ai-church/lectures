{
 "cells": [
  {
   "cell_type": "code",
   "execution_count": 1,
   "metadata": {},
   "outputs": [],
   "source": [
    "import math\n",
    "import matplotlib.pyplot as plt\n",
    "import numpy as np"
   ]
  },
  {
   "cell_type": "code",
   "execution_count": 2,
   "metadata": {},
   "outputs": [
    {
     "name": "stdout",
     "output_type": "stream",
     "text": [
      "[1, 1]'s norm: 1.41421\n",
      "Sanity check (norm of a normalised): 1.000000\n",
      "Similarity of orthogonal: 0.000000\n",
      "Similarity of scaled: 1.000000\n",
      "Similarity of opposite: -1.000000\n"
     ]
    }
   ],
   "source": [
    "def norm(a):\n",
    "    return np.sqrt(np.sum(a * a))\n",
    "\n",
    "def similarity(a, b):\n",
    "    a = a / (norm(a) + 1e-38)\n",
    "    b = b / (norm(b) + 1e-38)\n",
    "    return np.sum(a * b)\n",
    "\n",
    "a = np.array([1., 1.])\n",
    "print(\"[1, 1]'s norm: {:.5f}\".format(norm(a)))\n",
    "a /= (norm(a) + 1e-38)\n",
    "print(\"Sanity check (norm of a normalised): {:5f}\".format(norm(a)))\n",
    "print(\"Similarity of orthogonal: {:5f}\".format(similarity(\n",
    "    np.array([0., 1.]),\n",
    "    np.array([1., 0.]),\n",
    ")))\n",
    "print(\"Similarity of scaled: {:5f}\".format(similarity(\n",
    "    np.array([2., 2.]),\n",
    "    np.array([3., 3.]),\n",
    ")))\n",
    "print(\"Similarity of opposite: {:5f}\".format(similarity(\n",
    "    np.array([2., 2.]),\n",
    "    np.array([-3., -3.]),\n",
    ")))"
   ]
  },
  {
   "cell_type": "code",
   "execution_count": 3,
   "metadata": {},
   "outputs": [
    {
     "name": "stdout",
     "output_type": "stream",
     "text": [
      "[1.99174006 0.52160609]\n",
      "[-0.36957071 -0.45614344]\n",
      "-0.8058244743712646\n",
      "\n",
      "-0.06104314818436575\n",
      "0.029607660829658385\n",
      "0.03473904841858758\n",
      "0.02042405148858875\n",
      "-0.030184194782464507\n",
      "-0.0033792681948932937\n",
      "0.03619601701965469\n",
      "0.03341232596578197\n",
      "-0.062684126627217\n",
      "0.022027563533162778\n"
     ]
    }
   ],
   "source": [
    "a = np.random.normal(0, 1, (2))\n",
    "b = np.random.normal(0, 1, (2))\n",
    "print(a)\n",
    "print(b)\n",
    "print(similarity(a, b))\n",
    "print(\"\")\n",
    "\n",
    "for _ in range(10):\n",
    "    a = np.random.normal(0, 1, (1000))\n",
    "    b = np.random.normal(0, 1, (1000))\n",
    "    print(similarity(a, b))\n"
   ]
  },
  {
   "cell_type": "code",
   "execution_count": null,
   "metadata": {},
   "outputs": [],
   "source": []
  }
 ],
 "metadata": {
  "kernelspec": {
   "display_name": "Python 3 (ipykernel)",
   "language": "python",
   "name": "python3"
  },
  "language_info": {
   "codemirror_mode": {
    "name": "ipython",
    "version": 3
   },
   "file_extension": ".py",
   "mimetype": "text/x-python",
   "name": "python",
   "nbconvert_exporter": "python",
   "pygments_lexer": "ipython3",
   "version": "3.10.12"
  }
 },
 "nbformat": 4,
 "nbformat_minor": 4
}
